{
 "cells": [
  {
   "cell_type": "code",
   "execution_count": 1,
   "metadata": {
    "collapsed": true
   },
   "outputs": [],
   "source": [
    "import os\n",
    "import re\n",
    "import numpy as np\n",
    "import numpy\n",
    "genecode_genes = set(os.listdir(\"experiment_blood\"))\n",
    "from scipy.stats import pearsonr\n",
    "from sklearn.cross_decomposition import PLSRegression\n",
    "import random\n",
    "import bisect\n",
    "import math\n",
    "import json\n",
    "import sys"
   ]
  },
  {
   "cell_type": "code",
   "execution_count": 2,
   "metadata": {
    "collapsed": true
   },
   "outputs": [],
   "source": [
    "def in_ipynb():\n",
    "    try:\n",
    "        get_ipython()\n",
    "        return True\n",
    "    except NameError:\n",
    "        return False"
   ]
  },
  {
   "cell_type": "code",
   "execution_count": 3,
   "metadata": {
    "collapsed": true
   },
   "outputs": [],
   "source": [
    "if in_ipynb():\n",
    "    from matplotlib import pyplot as plt"
   ]
  },
  {
   "cell_type": "code",
   "execution_count": 4,
   "metadata": {
    "collapsed": true
   },
   "outputs": [],
   "source": [
    "# Should be at least 10**4, preferably 10**6\n",
    "r2_simulation_size = 10**6"
   ]
  },
  {
   "cell_type": "code",
   "execution_count": 5,
   "metadata": {},
   "outputs": [
    {
     "name": "stdout",
     "output_type": "stream",
     "text": [
      "Please use like this: `predictions.py <tissue> <genes> <simulation_runs> <top_k_genes> <PLSR_dimensions>`\n",
      "tissue can be any of: blood, muscle.\n",
      "genes can be any of: TNNI1, batra, nakamori, all\n",
      "simulation runs can be 10\n",
      "top_k_genes can be 500\n",
      "PLSR_dimensions can be 2\n"
     ]
    }
   ],
   "source": [
    "print(\"Please use like this: `predictions.py <tissue> <genes> <simulation_runs> <top_k_genes> <PLSR_dimensions>`\\n\"\\\n",
    "      \"tissue can be any of: blood, muscle.\\n\"\\\n",
    "      \"genes can be any of: TNNI1, batra, nakamori, all\\n\"\\\n",
    "      \"simulation runs can be 10\\n\"\\\n",
    "      \"top_k_genes can be 500\\n\"\\\n",
    "      \"PLSR_dimensions can be 2\"\n",
    "     )\n",
    "if not in_ipynb():\n",
    "    tissue_arg = sys.argv[1]\n",
    "    print(\"tissue: {}\".format(tissue_arg))\n",
    "    gene_arg = sys.argv[2]\n",
    "    print(\"gene: {}\".format(gene_arg))\n",
    "    simulation_arg = int(sys.argv[3])\n",
    "    print(\"simulation_arg: {}\".format(simulation_arg))\n",
    "    top_genes_arg = int(sys.argv[4])\n",
    "    print(\"top_genes_arg: {}\".format(top_genes_arg))\n",
    "    PLSR_arg = int(sys.argv[5])\n",
    "    print(\"PLSR_arg: {}\".format(PLSR_arg))"
   ]
  },
  {
   "cell_type": "code",
   "execution_count": 6,
   "metadata": {
    "collapsed": true
   },
   "outputs": [],
   "source": [
    "def load_genes(filename):\n",
    "    genes = set()\n",
    "    repeated = set()\n",
    "    with open(filename) as f:\n",
    "        for line in f:\n",
    "            line = line.rstrip()\n",
    "            if line in genes:\n",
    "                repeated.add(line)\n",
    "            genes.add(line)\n",
    "    failed = genes.difference(genecode_genes)\n",
    "    if repeated:\n",
    "        print(\"These genes appear more than once: {}\".format([g for g in repeated]))\n",
    "    if failed:\n",
    "        print(\"Couldn't identify the following genes: {}\".format([g for g in failed]))\n",
    "    return genes.intersection(genecode_genes)"
   ]
  },
  {
   "cell_type": "code",
   "execution_count": 7,
   "metadata": {},
   "outputs": [
    {
     "name": "stdout",
     "output_type": "stream",
     "text": [
      "These genes appear more than once: ['LDB3', 'DMD']\n",
      "Couldn't identify the following genes: ['OHKA1', 'OPA']\n"
     ]
    }
   ],
   "source": [
    "nakamori_genes = load_genes(\"nakamori_genes.txt\")"
   ]
  },
  {
   "cell_type": "code",
   "execution_count": 8,
   "metadata": {},
   "outputs": [
    {
     "data": {
      "text/plain": [
       "37"
      ]
     },
     "execution_count": 8,
     "metadata": {},
     "output_type": "execute_result"
    }
   ],
   "source": [
    "len(nakamori_genes)"
   ]
  },
  {
   "cell_type": "code",
   "execution_count": 9,
   "metadata": {
    "scrolled": true
   },
   "outputs": [
    {
     "name": "stdout",
     "output_type": "stream",
     "text": [
      "These genes appear more than once: ['IDH3A', 'PDLIM5', 'CEBPA', 'TPM2', 'MEF2B', 'TPM3', 'PCM1', 'TTYH3', 'ASPH', 'DNAJB6', 'TPM1', 'NDUFB10', 'LDB3', 'CHRNA1', 'SNX1', 'TNNI1', 'MST150']\n",
      "Couldn't identify the following genes: ['SR140', 'DNAPTP6', 'CUGBP1', 'MST150', 'ADFP']\n"
     ]
    }
   ],
   "source": [
    "# Genes from https://www.ncbi.nlm.nih.gov/pmc/articles/PMC4224598/\n",
    "batra_genes = load_genes(\"batra_genes.txt\")"
   ]
  },
  {
   "cell_type": "code",
   "execution_count": 10,
   "metadata": {},
   "outputs": [
    {
     "data": {
      "text/plain": [
       "75"
      ]
     },
     "execution_count": 10,
     "metadata": {},
     "output_type": "execute_result"
    }
   ],
   "source": [
    "len(batra_genes)"
   ]
  },
  {
   "cell_type": "code",
   "execution_count": 11,
   "metadata": {
    "collapsed": true
   },
   "outputs": [],
   "source": [
    "class Metadata:\n",
    "    def __init__(self, ids, cels, metadata):\n",
    "        self.IDs = ids\n",
    "        self.CELs = cels\n",
    "        self.modal_allele = [int(metadata[i][\"modal_allele\"]) for i in ids]\n",
    "        self.progenitor_allele = [int(metadata[i][\"progenitor_allele\"]) for i in ids]\n",
    "        self.MIRS = [int(metadata[i][\"MIRS\"]) for i in ids]\n",
    "    def __str__(self):\n",
    "        return \"Metadata={{IDs: {}...,\\n CELs: {}...,\\n modal_allele: {}...,\\n progenitor_allele: {}...,\\n MIRS: {}...}}\".format(self.IDs[:5], self.CELs[:5], self.modal_allele[:5], self.progenitor_allele[:5], self.MIRS[:5])\n",
    "    def __repr__(self):\n",
    "        return self.__str__()\n",
    "\n",
    "def load_metadata():\n",
    "    metadata = {}\n",
    "    metadata_order = []\n",
    "    with open(\"metadata.txt\") as f:\n",
    "        for i, line in enumerate(f):\n",
    "            line = line.strip().split()\n",
    "            if i == 0:\n",
    "                names = line[1:]\n",
    "            else:\n",
    "                values = line[1:]\n",
    "                patient_id = line[0]\n",
    "                metadata_order.append(patient_id)\n",
    "                metadata[patient_id] = {k: v for k, v in zip(names, values)}\n",
    "    blood_IDs = [i for i in metadata_order]\n",
    "    muscle_IDs = [i for i in metadata_order if metadata[i][\"muscle_cel\"] != \"refused_biopsy\"]\n",
    "    blood_CELs = [metadata[i][\"blood_cel\"] for i in blood_IDs]\n",
    "    muscle_CELs = [metadata[i][\"muscle_cel\"] for i in muscle_IDs]\n",
    "        \n",
    "    blood_record = Metadata(blood_IDs, blood_CELs, metadata)\n",
    "    muscle_record = Metadata(muscle_IDs, muscle_CELs, metadata)\n",
    "    return blood_record, muscle_record"
   ]
  },
  {
   "cell_type": "code",
   "execution_count": 12,
   "metadata": {
    "collapsed": true
   },
   "outputs": [],
   "source": [
    "blood_meta, muscle_meta = load_metadata()"
   ]
  },
  {
   "cell_type": "code",
   "execution_count": 13,
   "metadata": {
    "collapsed": true
   },
   "outputs": [],
   "source": [
    "def produce_data(meta, gene_names, experiment):\n",
    "    IDs = meta.IDs\n",
    "    probe_data = []\n",
    "    probe_IDs = []\n",
    "    for gene in gene_names:\n",
    "        with open(os.path.join(experiment, gene)) as f:\n",
    "            for i, line in enumerate(f):\n",
    "                line = line.rstrip().split()\n",
    "                if i == 0:\n",
    "                    prefix = \"patient_\"\n",
    "                    our_IDs = [elem[len(prefix):] for elem in line if re.match(prefix, elem)]\n",
    "                    assert IDs == our_IDs\n",
    "                    headers = {header: i for i, header in enumerate(line)}\n",
    "                    patient_data = {header[len(prefix):]: i for i, header in enumerate(line) if re.match(prefix, header)}\n",
    "                    def write_signature(line):\n",
    "                        signature = []\n",
    "                        for elem in [\"gene_name\", \"probeset_id\", \"seq5to3plus\", \"chrom\", \"strand\", \"genocode_left\", \"genecode_right\"]:\n",
    "                            signature.append(line[headers[elem]])\n",
    "                        return \"_\".join(signature)\n",
    "                else:\n",
    "                    probe_ID = write_signature(line)\n",
    "                    rv = []\n",
    "                    for patient_id in IDs:\n",
    "                        rv.append(float(line[patient_data[patient_id]]))\n",
    "                    probe_data.append(rv)\n",
    "                    probe_IDs.append(probe_ID)\n",
    "    probe_data = numpy.array(probe_data)\n",
    "    return probe_data, probe_IDs"
   ]
  },
  {
   "cell_type": "code",
   "execution_count": 14,
   "metadata": {
    "collapsed": true
   },
   "outputs": [],
   "source": [
    "def choose_top_genes(indicies, data):\n",
    "    \"\"\"\n",
    "    Take `indicies`, which is a list of ordered pairs\n",
    "    `r2, column_index`, and a matrix of probeset data,\n",
    "    `data`, and filter all rows to contain only genes on\n",
    "    the `indicies` list.\n",
    "    \"\"\"\n",
    "    just_indices = [i[1] for i in indicies]\n",
    "    return data[just_indices, :]\n",
    "\n",
    "def order_indicies(allele, data):\n",
    "    \"\"\"\n",
    "    Return a sorted list of correlated genes, from the most to the least\n",
    "    correlated. Each entry in the list is a tuple `r2, gene_index`, where\n",
    "    `r2` denotes the correlation of gene expression and `allele`, and\n",
    "    the index of the gene in the `data` matrix respectively.\n",
    "    \n",
    "    `allele` is the list of repeat lengths, with each repeat length\n",
    "    corresponding to one column in `data`\n",
    "    \"\"\"\n",
    "    r2s = []\n",
    "    for i in range(data.shape[0]):\n",
    "        gene_r, _ = pearsonr(allele, data[i])\n",
    "        # We have to store both the gene and the gene index, to recover the indices after sorting.\n",
    "        r2s.append((gene_r ** 2, i))\n",
    "    r2s.sort()\n",
    "    # This reverses the list, assuring decreasing order.\n",
    "    r2s = r2s[::-1]\n",
    "    return r2s\n",
    "\n",
    "def choose_training_indicies(data, no_training_samples):\n",
    "    \"\"\"Return a partition of column indicies of the `data`\n",
    "    matrix into two sets: `training_indicies, testing_indicies`.\n",
    "    The training set will contain `no_training_samples` biological\n",
    "    samples.\n",
    "    \"\"\"\n",
    "    indices = list(range(data.shape[1]))\n",
    "    random.shuffle(indices)\n",
    "    training_indices = indices[:no_training_samples]\n",
    "    test_indicies = indices[no_training_samples:]\n",
    "    return training_indices, test_indicies\n",
    "\n",
    "def split_data(data, training_indices, test_indices):\n",
    "    \"\"\"Return a partition of data into `training_set, testing_set`\n",
    "    using an existing partition of column incidices into\n",
    "    `training_indicies` and `test_indicies`\n",
    "    \"\"\"\n",
    "    return data[:, training_indices], data[:, test_indices]\n",
    "\n",
    "def cv(lista):\n",
    "    return np.matrix(lista).transpose()\n",
    "def rv(lista):\n",
    "    return np.matrix(lista)"
   ]
  },
  {
   "cell_type": "code",
   "execution_count": 15,
   "metadata": {
    "collapsed": true
   },
   "outputs": [],
   "source": [
    "def filter_extremes(value, lowermost, uppermost):\n",
    "    \"\"\"If a value is lower or higher than lowermost or uppermost, return lowermost or uppermost. Otherwise, return value.\n",
    "    \"\"\"\n",
    "    if value < lowermost:\n",
    "        return lowermost\n",
    "    if value > uppermost:\n",
    "        return uppermost\n",
    "    return value"
   ]
  },
  {
   "cell_type": "code",
   "execution_count": 16,
   "metadata": {
    "collapsed": true
   },
   "outputs": [],
   "source": [
    "def simulation_step(probeset_data, metadata, training_size, no_probes, n_components):\n",
    "    \"\"\"Execute a full step of the simulation, and return a tuple consisting of two lists:\n",
    "    predicted repeat lengths, and the ground truth repeat lengths\n",
    "    \"\"\"\n",
    "    training_i, testing_i = choose_training_indicies(probeset_data, training_size)\n",
    "    training_fold, testing_fold = split_data(probeset_data, training_i, testing_i)\n",
    "    repeat_length_training = [metadata.modal_allele[i] for i in training_i]\n",
    "    repeat_length_testing = [metadata.modal_allele[i] for i in testing_i]\n",
    "    \n",
    "    top_genes = order_indicies(repeat_length_training, training_fold)[:no_probes]\n",
    "    training_set = choose_top_genes(top_genes, training_fold)\n",
    "    testing_set = choose_top_genes(top_genes, testing_fold)\n",
    "\n",
    "    plsr = PLSRegression(n_components=n_components)\n",
    "    \n",
    "    plsr.fit(training_set.transpose(), cv(repeat_length_training))\n",
    "    \n",
    "    results = plsr.predict(testing_set.transpose())\n",
    "    results = [filter_extremes(i[0], min(repeat_length_training), max(repeat_length_training)) for i in results]\n",
    "\n",
    "    return repeat_length_testing, results"
   ]
  },
  {
   "cell_type": "code",
   "execution_count": 17,
   "metadata": {},
   "outputs": [],
   "source": [
    "assert filter_extremes(0, 10, 20) == 10\n",
    "assert filter_extremes(15, 10, 20) == 15\n",
    "assert filter_extremes(25, 10, 20) == 20"
   ]
  },
  {
   "cell_type": "code",
   "execution_count": 18,
   "metadata": {},
   "outputs": [],
   "source": [
    "metadata = {\"muscle\": muscle_meta, \"blood\": blood_meta}"
   ]
  },
  {
   "cell_type": "code",
   "execution_count": 19,
   "metadata": {
    "collapsed": true
   },
   "outputs": [],
   "source": [
    "data = {\"muscle\": {}, \"blood\": {}}\n",
    "annot = {\"muscle\": {}, \"blood\": {}}"
   ]
  },
  {
   "cell_type": "code",
   "execution_count": 20,
   "metadata": {},
   "outputs": [],
   "source": [
    "def load_data(name, genes, muscle_or_blood):\n",
    "    meta = metadata[muscle_or_blood]\n",
    "    path = \"experiment_\" + muscle_or_blood\n",
    "    d, a = produce_data(meta, genes, path)\n",
    "    data[muscle_or_blood][name] = d\n",
    "    annot[muscle_or_blood][name] = a"
   ]
  },
  {
   "cell_type": "code",
   "execution_count": 21,
   "metadata": {
    "collapsed": true
   },
   "outputs": [],
   "source": [
    "gene_sets = {\"nakamori\": nakamori_genes, \"batra\": batra_genes, \"TNNI1\": [\"TNNI1\"], \"all\": genecode_genes}"
   ]
  },
  {
   "cell_type": "code",
   "execution_count": 22,
   "metadata": {},
   "outputs": [],
   "source": [
    "for name, genes in gene_sets.items():\n",
    "    for tissue in [\"blood\", \"muscle\"]:\n",
    "        load_data(name, genes, tissue)"
   ]
  },
  {
   "cell_type": "code",
   "execution_count": 23,
   "metadata": {},
   "outputs": [
    {
     "data": {
      "text/plain": [
       "{'blood': {'TNNI1': array([[ 6.69115092,  6.4444247 ,  6.64248078, ...,  6.80454457,\n",
       "           6.55574716,  6.86989191],\n",
       "         [ 6.30581892,  5.67237544,  6.09404785, ...,  6.23988077,\n",
       "           6.21940284,  6.09071349],\n",
       "         [ 6.24354023,  6.24884748,  6.2205972 , ...,  6.46642767,\n",
       "           6.51946868,  6.23192685],\n",
       "         ..., \n",
       "         [ 4.82646635,  5.22487974,  5.36700186, ...,  5.45895102,\n",
       "           4.65676284,  5.42493872],\n",
       "         [ 5.31882519,  5.15013585,  5.09224063, ...,  4.90186895,\n",
       "           5.23235179,  4.92086016],\n",
       "         [ 4.50823911,  4.40335579,  4.79826011, ...,  4.10939995,\n",
       "           4.65729022,  4.32519769]]),\n",
       "  'all': array([[ 6.63564656,  6.49659556,  6.73120617, ...,  6.60139716,\n",
       "           6.61910897,  6.47158974],\n",
       "         [ 5.95655928,  5.82676991,  6.29322118, ...,  6.1600262 ,\n",
       "           5.65608664,  5.87545978],\n",
       "         [ 6.7012907 ,  6.51799268,  7.08131389, ...,  6.43865566,\n",
       "           6.73578863,  6.7159924 ],\n",
       "         ..., \n",
       "         [ 5.22880861,  5.28428763,  5.30779182, ...,  5.06702182,\n",
       "           4.84097477,  5.04738615],\n",
       "         [ 5.58074056,  4.45235902,  5.71459622, ...,  5.30186639,\n",
       "           5.31179781,  5.03909294],\n",
       "         [ 5.55647242,  5.47158136,  5.58268907, ...,  5.64267191,\n",
       "           5.33866878,  5.16898565]]),\n",
       "  'batra': array([[ 6.23145723,  5.92408825,  6.11420664, ...,  5.89173888,\n",
       "           6.03425625,  6.28813301],\n",
       "         [ 4.24488253,  4.5900577 ,  4.71683477, ...,  4.00843008,\n",
       "           4.50744698,  4.52061583],\n",
       "         [ 5.16125649,  5.00730843,  5.36244239, ...,  4.9177233 ,\n",
       "           4.8808616 ,  4.89415325],\n",
       "         ..., \n",
       "         [ 5.68537575,  4.75991171,  5.59293177, ...,  4.7291042 ,\n",
       "           5.44324561,  5.49018755],\n",
       "         [ 5.16946311,  4.54723118,  4.96971219, ...,  5.17941744,\n",
       "           4.74571839,  4.76135035],\n",
       "         [ 5.86537925,  4.85403064,  5.15831365, ...,  4.79870662,\n",
       "           5.14772822,  5.1771129 ]]),\n",
       "  'nakamori': array([[ 5.59568203,  4.8835295 ,  5.98471444, ...,  4.99339656,\n",
       "           5.38823224,  5.71174162],\n",
       "         [ 4.67034921,  4.36719729,  5.19987939, ...,  4.97791478,\n",
       "           4.74798328,  4.7635373 ],\n",
       "         [ 5.64284566,  5.16125649,  5.62886772, ...,  5.38544143,\n",
       "           5.088725  ,  5.45795605],\n",
       "         ..., \n",
       "         [ 5.79166789,  5.53941241,  5.86396457, ...,  5.54763758,\n",
       "           5.70581188,  5.86520343],\n",
       "         [ 5.55040006,  5.98681894,  5.20676565, ...,  5.72734858,\n",
       "           5.33116896,  5.71805594],\n",
       "         [ 5.91276999,  5.78762404,  6.00398795, ...,  5.74604143,\n",
       "           5.91899472,  5.86279416]])},\n",
       " 'muscle': {'TNNI1': array([[ 8.26326727,  8.43082298,  8.34601248, ...,  8.30537526,\n",
       "           5.85740455,  6.75508078],\n",
       "         [ 7.49660262,  7.55329214,  7.72252002, ...,  7.6143575 ,\n",
       "           5.35813824,  6.35558689],\n",
       "         [ 8.23214582,  8.44672428,  8.36808339, ...,  8.35711932,\n",
       "           5.37985189,  6.74724144],\n",
       "         ..., \n",
       "         [ 5.97080311,  6.63753327,  6.17443496, ...,  6.603561  ,\n",
       "           5.04201805,  5.08793759],\n",
       "         [ 6.57308804,  7.36298423,  6.39836317, ...,  7.40784557,\n",
       "           4.8310453 ,  5.00847113],\n",
       "         [ 6.50012179,  7.02495593,  6.25744679, ...,  7.15156827,\n",
       "           4.42347723,  4.56584003]]),\n",
       "  'all': array([[ 6.13930512,  5.50805543,  5.88091448, ...,  5.5906361 ,\n",
       "           6.41248875,  5.62359377],\n",
       "         [ 5.00453324,  4.96701588,  5.17116822, ...,  5.13130238,\n",
       "           5.930038  ,  4.98325154],\n",
       "         [ 6.05741994,  5.91452136,  6.33293238, ...,  5.73726876,\n",
       "           6.4653564 ,  5.54398369],\n",
       "         ..., \n",
       "         [ 4.14243157,  4.92490328,  4.63996626, ...,  4.47258459,\n",
       "           4.78617165,  4.73545486],\n",
       "         [ 3.99542772,  4.72389505,  4.97816188, ...,  4.601354  ,\n",
       "           5.44407265,  4.23333869],\n",
       "         [ 5.11599628,  4.5526573 ,  4.22715075, ...,  4.71113602,\n",
       "           5.41519924,  4.68640036]]),\n",
       "  'batra': array([[ 5.69690665,  5.85568139,  5.57035876, ...,  5.71120027,\n",
       "           5.17737634,  5.69973202],\n",
       "         [ 4.4930067 ,  4.98074053,  5.23094772, ...,  4.71902138,\n",
       "           4.3439024 ,  4.24257013],\n",
       "         [ 5.0117739 ,  4.97793396,  5.50986248, ...,  5.58707573,\n",
       "           4.67162242,  5.0784093 ],\n",
       "         ..., \n",
       "         [ 4.85092292,  4.68545173,  5.05949417, ...,  4.53698788,\n",
       "           4.42516741,  4.99086009],\n",
       "         [ 5.06455767,  4.50565839,  4.98724593, ...,  4.31454536,\n",
       "           4.2417736 ,  4.96886524],\n",
       "         [ 4.89313076,  4.8826677 ,  4.65835145, ...,  4.3234701 ,\n",
       "           3.93780435,  5.10493036]]),\n",
       "  'nakamori': array([[ 5.38045362,  5.04875742,  4.79639697, ...,  5.02562447,\n",
       "           4.12308515,  4.62603562],\n",
       "         [ 4.03683288,  4.20251982,  4.42589407, ...,  4.40603966,\n",
       "           4.0778647 ,  4.15708482],\n",
       "         [ 5.01922158,  5.13185048,  5.12363151, ...,  4.93499632,\n",
       "           4.96339476,  5.29262265],\n",
       "         ..., \n",
       "         [ 6.01765101,  5.6767157 ,  5.21822241, ...,  5.8325325 ,\n",
       "           5.52581744,  5.48406036],\n",
       "         [ 5.43360566,  5.10228235,  5.15906197, ...,  5.59998822,\n",
       "           5.21556075,  5.27094665],\n",
       "         [ 5.88091448,  5.80193713,  5.50342384, ...,  5.55862851,\n",
       "           5.3929882 ,  5.47120717]])}}"
      ]
     },
     "execution_count": 23,
     "metadata": {},
     "output_type": "execute_result"
    }
   ],
   "source": [
    "data"
   ]
  },
  {
   "cell_type": "code",
   "execution_count": 24,
   "metadata": {
    "collapsed": true
   },
   "outputs": [],
   "source": [
    "def simulation(data, metadata, runs, no_probes, n_components):\n",
    "    sample_no, patient_no = data.shape\n",
    "    real_alleles = []\n",
    "    simulated_alleles = []\n",
    "    for i in range(runs):\n",
    "        real_allele, simulated_allele = simulation_step(data, metadata, patient_no//2, no_probes, n_components)\n",
    "        real_alleles += real_allele\n",
    "        simulated_alleles += simulated_allele\n",
    "    return real_alleles, simulated_alleles"
   ]
  },
  {
   "cell_type": "code",
   "execution_count": 25,
   "metadata": {},
   "outputs": [],
   "source": [
    "def obtain_simulation(simulation, *args, **kwargs):\n",
    "    real_alleles, simulated_alleles = simulation(*args, **kwargs)\n",
    "    def save_at(path):\n",
    "        with open(path, \"w\") as f:\n",
    "            json.dump({\"real_alleles\": real_alleles,\n",
    "                       \"predicted_alleles\": simulated_alleles,\n",
    "                      }, f)\n",
    "    return save_at"
   ]
  },
  {
   "cell_type": "code",
   "execution_count": 26,
   "metadata": {
    "collapsed": true
   },
   "outputs": [],
   "source": [
    "def analyse_simulation(path, r2_to_p):\n",
    "    with open(path, \"r\") as f:\n",
    "        result = json.load(f)\n",
    "    real_alleles = result[\"real_alleles\"]\n",
    "    simulated_alleles = result[\"predicted_alleles\"]\n",
    "    r, _ = pearsonr(real_alleles, simulated_alleles)\n",
    "    r_squared = r**2\n",
    "    p_value = r2_to_p(r_squared)\n",
    "    return real_alleles, simulated_alleles, r_squared, p_value, "
   ]
  },
  {
   "cell_type": "code",
   "execution_count": 27,
   "metadata": {
    "collapsed": true
   },
   "outputs": [],
   "source": [
    "def present_result(name, tissue, real_allele, simulated_allele, r_squared, p_value):\n",
    "    if in_ipynb():\n",
    "        plt.figure()\n",
    "        plt.scatter(real_allele, simulated_allele)\n",
    "        plt.xlabel(\"measured allele length\")\n",
    "        plt.ylabel(\"predicted allele length\")\n",
    "    print(\"In {}, {} r² is {}, which corrsponds to p-value {}\".format(name, tissue, r_squared, p_value))"
   ]
  },
  {
   "cell_type": "code",
   "execution_count": 28,
   "metadata": {
    "collapsed": true
   },
   "outputs": [],
   "source": [
    "def simulated_r2(metadata, times):\n",
    "    r2s = []\n",
    "    for i in range(times):\n",
    "        repeat_length_random = metadata.modal_allele[:]\n",
    "        random.shuffle(repeat_length_random)\n",
    "        inter_r, _ = pearsonr(metadata.modal_allele, repeat_length_random)\n",
    "        r2s.append(inter_r**2)\n",
    "    r2s.sort()\n",
    "    def check_value(r_squared):\n",
    "        p_value = 1 - bisect.bisect_right(r2s, r_squared)/float(times)\n",
    "        return p_value\n",
    "    return check_value"
   ]
  },
  {
   "cell_type": "code",
   "execution_count": 29,
   "metadata": {},
   "outputs": [],
   "source": [
    "muscle_r2_to_p = simulated_r2(muscle_meta, r2_simulation_size)"
   ]
  },
  {
   "cell_type": "code",
   "execution_count": 30,
   "metadata": {},
   "outputs": [],
   "source": [
    "blood_r2_to_p = simulated_r2(blood_meta, r2_simulation_size)"
   ]
  },
  {
   "cell_type": "code",
   "execution_count": 31,
   "metadata": {
    "collapsed": true
   },
   "outputs": [],
   "source": [
    "r2_to_p = {\"muscle\": muscle_r2_to_p, \"blood\": blood_r2_to_p}"
   ]
  },
  {
   "cell_type": "code",
   "execution_count": 32,
   "metadata": {
    "collapsed": true
   },
   "outputs": [],
   "source": [
    "base_path = \"simulation_results\"\n",
    "try:\n",
    "    os.mkdir(base_path)\n",
    "except OSError:\n",
    "    pass"
   ]
  },
  {
   "cell_type": "code",
   "execution_count": 33,
   "metadata": {
    "collapsed": true
   },
   "outputs": [],
   "source": [
    "def example_workflow(name, tissue, simulation_runs, select_top_k_genes, PLSR_dimensions):\n",
    "    path = os.path.join(base_path, \"{}_{}_{}_{}_{}\".format(name, tissue, simulation_runs, select_top_k_genes, PLSR_dimensions))\n",
    "    obtain_simulation(simulation, data[tissue][name], metadata[tissue], simulation_runs, select_top_k_genes, PLSR_dimensions)(path)\n",
    "    real_allele, simulated_allele, r2, p = analyse_simulation(path, r2_to_p[tissue])\n",
    "    present_result(name, tissue, real_allele, simulated_allele, r2, p)"
   ]
  },
  {
   "cell_type": "code",
   "execution_count": 34,
   "metadata": {},
   "outputs": [
    {
     "name": "stdout",
     "output_type": "stream",
     "text": [
      "In nakamori, muscle r² is 0.168224996788, which corrsponds to p-value 0.034378\n",
      "took 2.69893598557 seconds\n"
     ]
    },
    {
     "data": {
      "image/png": "[encoded data removed]",
      "text/plain": [
       "<matplotlib.figure.Figure at 0x7f246b1dd0d0>"
      ]
     },
     "metadata": {},
     "output_type": "display_data"
    }
   ],
   "source": [
    "import time\n",
    "start = time.time()\n",
    "if not in_ipynb():\n",
    "    example_workflow(name=gene_arg, tissue=tissue_arg, simulation_runs=simulation_arg, select_top_k_genes=top_genes_arg, PLSR_dimensions=PLSR_arg)\n",
    "else:\n",
    "    example_workflow(name=\"nakamori\", tissue=\"muscle\", simulation_runs=10, select_top_k_genes=500, PLSR_dimensions=2)\n",
    "stop = time.time()\n",
    "print(\"took {} seconds\".format(stop - start))"
   ]
  },
  {
   "cell_type": "code",
   "execution_count": null,
   "metadata": {
    "collapsed": true
   },
   "outputs": [],
   "source": []
  }
 ],
 "metadata": {
  "kernelspec": {
   "display_name": "Clinical Applications",
   "language": "python",
   "name": "venv"
  },
  "language_info": {
   "codemirror_mode": {
    "name": "ipython",
    "version": 2
   },
   "file_extension": ".py",
   "mimetype": "text/x-python",
   "name": "python",
   "nbconvert_exporter": "python",
   "pygments_lexer": "ipython2",
   "version": "2.7.12"
  }
 },
 "nbformat": 4,
 "nbformat_minor": 2
}
