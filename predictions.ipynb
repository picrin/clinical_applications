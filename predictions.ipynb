{
 "cells": [
  {
   "cell_type": "code",
   "execution_count": 1,
   "metadata": {
    "collapsed": true
   },
   "outputs": [],
   "source": [
    "import os\n",
    "import re\n",
    "import numpy as np\n",
    "import numpy\n",
    "genecode_genes = set(os.listdir(\"experiment_blood\"))\n",
    "from scipy.stats import pearsonr\n",
    "from sklearn.cross_decomposition import PLSRegression\n",
    "import random\n",
    "import bisect\n",
    "import math\n",
    "import json\n",
    "import sys\n",
    "from __future__ import print_function"
   ]
  },
  {
   "cell_type": "code",
   "execution_count": 2,
   "metadata": {
    "collapsed": true
   },
   "outputs": [],
   "source": [
    "def in_ipynb():\n",
    "    try:\n",
    "        get_ipython()\n",
    "        return True\n",
    "    except NameError:\n",
    "        return False"
   ]
  },
  {
   "cell_type": "code",
   "execution_count": 3,
   "metadata": {
    "collapsed": true
   },
   "outputs": [],
   "source": [
    "if in_ipynb():\n",
    "    from matplotlib import pyplot as plt"
   ]
  },
  {
   "cell_type": "code",
   "execution_count": 4,
   "metadata": {
    "collapsed": true
   },
   "outputs": [],
   "source": [
    "# Should be at least 10**4, preferably 10**6\n",
    "r2_simulation_size = 10**6"
   ]
  },
  {
   "cell_type": "code",
   "execution_count": 5,
   "metadata": {},
   "outputs": [
    {
     "name": "stdout",
     "output_type": "stream",
     "text": [
      "Please use like this: `predictions.py <tissue> <genes> <simulation_runs> <top_k_genes> <PLSR_dimensions>`\n",
      "tissue can be any of: blood, muscle.\n",
      "genes can be any of: TNNI1, batra, nakamori, all\n",
      "simulation runs can be 10\n",
      "top_k_genes can be 500\n",
      "PLSR_dimensions can be 2\n"
     ]
    }
   ],
   "source": [
    "print(\"Please use like this: `predictions.py <tissue> <genes> <simulation_runs> <top_k_genes> <PLSR_dimensions>`\\n\"\\\n",
    "      \"tissue can be any of: blood, muscle.\\n\"\\\n",
    "      \"genes can be any of: TNNI1, batra, nakamori, all\\n\"\\\n",
    "      \"simulation runs can be 10\\n\"\\\n",
    "      \"top_k_genes can be 500\\n\"\\\n",
    "      \"PLSR_dimensions can be 2\"\n",
    "     )\n",
    "if not in_ipynb():\n",
    "    tissue_arg = sys.argv[1]\n",
    "    print(\"tissue: {}\".format(tissue_arg))\n",
    "    gene_arg = sys.argv[2]\n",
    "    print(\"gene: {}\".format(gene_arg))\n",
    "    simulation_arg = int(sys.argv[3])\n",
    "    print(\"simulation_arg: {}\".format(simulation_arg))\n",
    "    top_genes_arg = int(sys.argv[4])\n",
    "    print(\"top_genes_arg: {}\".format(top_genes_arg))\n",
    "    PLSR_arg = int(sys.argv[5])\n",
    "    print(\"PLSR_arg: {}\".format(PLSR_arg))"
   ]
  },
  {
   "cell_type": "code",
   "execution_count": 6,
   "metadata": {
    "collapsed": true
   },
   "outputs": [],
   "source": [
    "def load_genes(filename):\n",
    "    genes = set()\n",
    "    repeated = set()\n",
    "    with open(filename) as f:\n",
    "        for line in f:\n",
    "            line = line.rstrip()\n",
    "            if line in genes:\n",
    "                repeated.add(line)\n",
    "            genes.add(line)\n",
    "    failed = genes.difference(genecode_genes)\n",
    "    if repeated:\n",
    "        print(\"These genes appear more than once: {}\".format([g for g in repeated]))\n",
    "    if failed:\n",
    "        print(\"Couldn't identify the following genes: {}\".format([g for g in failed]))\n",
    "    return genes.intersection(genecode_genes)"
   ]
  },
  {
   "cell_type": "code",
   "execution_count": 7,
   "metadata": {},
   "outputs": [
    {
     "name": "stdout",
     "output_type": "stream",
     "text": [
      "These genes appear more than once: ['LDB3', 'PHKA1', 'DMD']\n"
     ]
    }
   ],
   "source": [
    "nakamori_genes = load_genes(\"nakamori_genes.txt\")"
   ]
  },
  {
   "cell_type": "code",
   "execution_count": 8,
   "metadata": {},
   "outputs": [
    {
     "data": {
      "text/plain": [
       "{'ABLIM2',\n",
       " 'ALPK3',\n",
       " 'ANK2',\n",
       " 'ARFGAP2',\n",
       " 'ATP2A1',\n",
       " 'ATP2A2',\n",
       " 'BIN1',\n",
       " 'CACNA1S',\n",
       " 'CAMK2B',\n",
       " 'CAPN3',\n",
       " 'CAPZB',\n",
       " 'CLCN1',\n",
       " 'COPZ2',\n",
       " 'DMD',\n",
       " 'DTNA',\n",
       " 'FHOD1',\n",
       " 'GFPT1',\n",
       " 'IMPDH2',\n",
       " 'INSR',\n",
       " 'KIF13A',\n",
       " 'LDB3',\n",
       " 'MBNL1',\n",
       " 'MBNL2',\n",
       " 'MLF1',\n",
       " 'NFIX',\n",
       " 'NRAP',\n",
       " 'OPA1',\n",
       " 'PDLIM3',\n",
       " 'PHKA1',\n",
       " 'RYR1',\n",
       " 'SOS1',\n",
       " 'TBC1D15',\n",
       " 'TTN',\n",
       " 'TXNL4A',\n",
       " 'UBE2D3',\n",
       " 'USP25',\n",
       " 'VEGFA',\n",
       " 'VPS39'}"
      ]
     },
     "execution_count": 8,
     "metadata": {},
     "output_type": "execute_result"
    }
   ],
   "source": [
    "nakamori_genes"
   ]
  },
  {
   "cell_type": "code",
   "execution_count": 9,
   "metadata": {},
   "outputs": [
    {
     "data": {
      "text/plain": [
       "38"
      ]
     },
     "execution_count": 9,
     "metadata": {},
     "output_type": "execute_result"
    }
   ],
   "source": [
    "len(nakamori_genes)"
   ]
  },
  {
   "cell_type": "code",
   "execution_count": 10,
   "metadata": {},
   "outputs": [
    {
     "name": "stdout",
     "output_type": "stream",
     "text": [
      "DTNA FHOD1 RYR1 MBNL1 MBNL2 ARFGAP2 TBC1D15 GFPT1 NFIX CAPZB CAPN3 UBE2D3 USP25 VPS39 SOS1 ANK2 LDB3 BIN1 TXNL4A CACNA1S DMD OPA1 ATP2A1 IMPDH2 NRAP ABLIM2 PDLIM3 ATP2A2 VEGFA TTN MLF1 ALPK3 KIF13A CLCN1 PHKA1 COPZ2 INSR CAMK2B "
     ]
    }
   ],
   "source": [
    "for gene in nakamori_genes:\n",
    "    print(gene, end=\" \")"
   ]
  },
  {
   "cell_type": "code",
   "execution_count": 11,
   "metadata": {
    "scrolled": true
   },
   "outputs": [
    {
     "name": "stdout",
     "output_type": "stream",
     "text": [
      "These genes appear more than once: ['TPM1', 'DNAJB6', 'LDB3', 'NDUFB10', 'ASPH', 'PDLIM5', 'CHRNA1', 'PCM1', 'SNX1', 'TNNI1', 'TPM3', 'TPM2', 'TTYH3', 'SMIM3', 'MEF2B', 'IDH3A', 'CEBPA']\n"
     ]
    }
   ],
   "source": [
    "# Genes from https://www.ncbi.nlm.nih.gov/pmc/articles/PMC4224598/\n",
    "batra_genes = load_genes(\"batra_genes.txt\")"
   ]
  },
  {
   "cell_type": "code",
   "execution_count": 12,
   "metadata": {},
   "outputs": [
    {
     "data": {
      "text/plain": [
       "80"
      ]
     },
     "execution_count": 12,
     "metadata": {},
     "output_type": "execute_result"
    }
   ],
   "source": [
    "len(batra_genes)"
   ]
  },
  {
   "cell_type": "code",
   "execution_count": 13,
   "metadata": {},
   "outputs": [
    {
     "name": "stdout",
     "output_type": "stream",
     "text": [
      "ABCA1 MEF2C PDLIM5 KIF1B CHRNA1 KCNK7 MDN1 SPATS2L TPM3 ILF3 MBNL2 SLC25A36 CLDND1 DES TPM1 OSBPL1A TPM2 HDAC11 AP1G1 CELF1 FASTK LDB3 NDUFB10 NR2F1 PCMT1 PCM1 DAPK2 RTN2 RIN1 MORC3 PLIN2 BRSK2 CIRBP TJP2 TTYH3 PIK3C2B PFKFB2 PEBP4 ARHGEF7 DST KRBA1 MEF2D MGP GPS1 MTCH1 SNX1 NUP43 TMEM38B SAMD4A EZR TBL2 SMIM3 CDC42 MYH6 MEF2B IDH3A CEBPA CACNA1G ALG3 SPEG DNAJB6 SPTB AMHR2 AGL ASPH TNNI1 DVL3 ATP5E PDLIM2 BRWD1 CACNB1 LMNA COPS4 KDELR1 SETD3 LAMP2 PCBD2 TGFBI U2SURP RAB24 "
     ]
    }
   ],
   "source": [
    "for batra_gene in batra_genes:\n",
    "    print(batra_gene, end=\" \")"
   ]
  },
  {
   "cell_type": "code",
   "execution_count": 14,
   "metadata": {
    "collapsed": true
   },
   "outputs": [],
   "source": [
    "class Metadata:\n",
    "    def __init__(self, ids, cels, metadata):\n",
    "        self.IDs = ids\n",
    "        self.CELs = cels\n",
    "        self.modal_allele = [int(metadata[i][\"modal_allele\"]) for i in ids]\n",
    "        self.progenitor_allele = [int(metadata[i][\"progenitor_allele\"]) for i in ids]\n",
    "        self.MIRS = [int(metadata[i][\"MIRS\"]) for i in ids]\n",
    "    def __str__(self):\n",
    "        return \"Metadata={{IDs: {}...,\\n CELs: {}...,\\n modal_allele: {}...,\\n progenitor_allele: {}...,\\n MIRS: {}...}}\".format(self.IDs[:5], self.CELs[:5], self.modal_allele[:5], self.progenitor_allele[:5], self.MIRS[:5])\n",
    "    def __repr__(self):\n",
    "        return self.__str__()\n",
    "\n",
    "def load_metadata():\n",
    "    metadata = {}\n",
    "    metadata_order = []\n",
    "    with open(\"metadata.txt\") as f:\n",
    "        for i, line in enumerate(f):\n",
    "            line = line.strip().split()\n",
    "            if i == 0:\n",
    "                names = line[1:]\n",
    "            else:\n",
    "                values = line[1:]\n",
    "                patient_id = line[0]\n",
    "                metadata_order.append(patient_id)\n",
    "                metadata[patient_id] = {k: v for k, v in zip(names, values)}\n",
    "    blood_IDs = [i for i in metadata_order]\n",
    "    muscle_IDs = [i for i in metadata_order if metadata[i][\"muscle_cel\"] != \"refused_biopsy\"]\n",
    "    blood_CELs = [metadata[i][\"blood_cel\"] for i in blood_IDs]\n",
    "    muscle_CELs = [metadata[i][\"muscle_cel\"] for i in muscle_IDs]\n",
    "        \n",
    "    blood_record = Metadata(blood_IDs, blood_CELs, metadata)\n",
    "    muscle_record = Metadata(muscle_IDs, muscle_CELs, metadata)\n",
    "    return blood_record, muscle_record"
   ]
  },
  {
   "cell_type": "code",
   "execution_count": 15,
   "metadata": {
    "collapsed": true
   },
   "outputs": [],
   "source": [
    "blood_meta, muscle_meta = load_metadata()"
   ]
  },
  {
   "cell_type": "code",
   "execution_count": 29,
   "metadata": {
    "collapsed": true
   },
   "outputs": [],
   "source": [
    "def produce_data(meta, gene_names, experiment):\n",
    "    IDs = meta.IDs\n",
    "    probe_data = []\n",
    "    probe_IDs = []\n",
    "    for gene in gene_names:        \n",
    "        with open(os.path.join(experiment, gene)) as f:\n",
    "            for i, line in enumerate(f):\n",
    "                line = line.rstrip().split()\n",
    "                if i == 0:\n",
    "                    prefix = \"patient_\"\n",
    "                    our_IDs = [elem[len(prefix):] for elem in line if re.match(prefix, elem)]\n",
    "                    try:\n",
    "                        assert IDs == our_IDs\n",
    "                    except AssertionError:\n",
    "                        print(gene)\n",
    "                    headers = {header: i for i, header in enumerate(line)}\n",
    "                    patient_data = {header[len(prefix):]: i for i, header in enumerate(line) if re.match(prefix, header)}\n",
    "                    def write_signature(line):\n",
    "                        signature = []\n",
    "                        for elem in [\"gene_name\", \"probeset_id\", \"seq5to3plus\", \"chrom\", \"strand\", \"genocode_left\", \"genecode_right\"]:\n",
    "                            signature.append(line[headers[elem]])\n",
    "                        return \"_\".join(signature)\n",
    "                else:\n",
    "                    probe_ID = write_signature(line)\n",
    "                    rv = []\n",
    "                    for patient_id in IDs:\n",
    "                        rv.append(float(line[patient_data[patient_id]]))\n",
    "                    probe_data.append(rv)\n",
    "                    probe_IDs.append(probe_ID)\n",
    "    probe_data = numpy.array(probe_data)\n",
    "    return probe_data, probe_IDs"
   ]
  },
  {
   "cell_type": "code",
   "execution_count": 30,
   "metadata": {
    "collapsed": true
   },
   "outputs": [],
   "source": [
    "def choose_top_genes(indicies, data):\n",
    "    \"\"\"\n",
    "    Take `indicies`, which is a list of ordered pairs\n",
    "    `r2, column_index`, and a matrix of probeset data,\n",
    "    `data`, and filter all rows to contain only genes on\n",
    "    the `indicies` list.\n",
    "    \"\"\"\n",
    "    just_indices = [i[1] for i in indicies]\n",
    "    return data[just_indices, :]\n",
    "\n",
    "def order_indicies(allele, data):\n",
    "    \"\"\"\n",
    "    Return a sorted list of correlated genes, from the most to the least\n",
    "    correlated. Each entry in the list is a tuple `r2, gene_index`, where\n",
    "    `r2` denotes the correlation of gene expression and `allele`, and\n",
    "    the index of the gene in the `data` matrix respectively.\n",
    "    \n",
    "    `allele` is the list of repeat lengths, with each repeat length\n",
    "    corresponding to one column in `data`\n",
    "    \"\"\"\n",
    "    r2s = []\n",
    "    for i in range(data.shape[0]):\n",
    "        gene_r, _ = pearsonr(allele, data[i])\n",
    "        # We have to store both the gene and the gene index, to recover the indices after sorting.\n",
    "        r2s.append((gene_r ** 2, i))\n",
    "    r2s.sort()\n",
    "    # This reverses the list, assuring decreasing order.\n",
    "    r2s = r2s[::-1]\n",
    "    return r2s\n",
    "\n",
    "def choose_training_indicies(data, no_training_samples):\n",
    "    \"\"\"Return a partition of column indicies of the `data`\n",
    "    matrix into two sets: `training_indicies, testing_indicies`.\n",
    "    The training set will contain `no_training_samples` biological\n",
    "    samples.\n",
    "    \"\"\"\n",
    "    indices = list(range(data.shape[1]))\n",
    "    random.shuffle(indices)\n",
    "    training_indices = indices[:no_training_samples]\n",
    "    test_indicies = indices[no_training_samples:]\n",
    "    return training_indices, test_indicies\n",
    "\n",
    "def split_data(data, training_indices, test_indices):\n",
    "    \"\"\"Return a partition of data into `training_set, testing_set`\n",
    "    using an existing partition of column incidices into\n",
    "    `training_indicies` and `test_indicies`\n",
    "    \"\"\"\n",
    "    return data[:, training_indices], data[:, test_indices]\n",
    "\n",
    "def cv(lista):\n",
    "    return np.matrix(lista).transpose()\n",
    "def rv(lista):\n",
    "    return np.matrix(lista)"
   ]
  },
  {
   "cell_type": "code",
   "execution_count": 31,
   "metadata": {
    "collapsed": true
   },
   "outputs": [],
   "source": [
    "def filter_extremes(value, lowermost, uppermost):\n",
    "    \"\"\"If a value is lower or higher than lowermost or uppermost, return lowermost or uppermost. Otherwise, return value.\n",
    "    \"\"\"\n",
    "    if value < lowermost:\n",
    "        return lowermost\n",
    "    if value > uppermost:\n",
    "        return uppermost\n",
    "    return value"
   ]
  },
  {
   "cell_type": "code",
   "execution_count": 180,
   "metadata": {
    "collapsed": true
   },
   "outputs": [],
   "source": [
    "def simulation_step_PLSR(probeset_data, metadata, training_size, no_probes, n_components):\n",
    "    \"\"\"Execute a full step of the simulation, and return a tuple consisting of two lists:\n",
    "    predicted repeat lengths, and the ground truth repeat lengths\n",
    "    \"\"\"\n",
    "    training_i, testing_i = choose_training_indicies(probeset_data, training_size)\n",
    "    training_fold, testing_fold = split_data(probeset_data, training_i, testing_i)\n",
    "    repeat_length_training = [metadata.modal_allele[i] for i in training_i]\n",
    "    repeat_length_testing = [metadata.modal_allele[i] for i in testing_i]\n",
    "    \n",
    "    top_genes = order_indicies(repeat_length_training, training_fold)[:no_probes]\n",
    "    training_set = choose_top_genes(top_genes, training_fold)\n",
    "    testing_set = choose_top_genes(top_genes, testing_fold)\n",
    "\n",
    "    plsr = PLSRegression(n_components=n_components)\n",
    "    \n",
    "    plsr.fit(training_set.transpose(), cv(repeat_length_training))\n",
    "    \n",
    "    results = plsr.predict(testing_set.transpose())\n",
    "    results = [filter_extremes(i[0], min(repeat_length_training), max(repeat_length_training)) for i in results]\n",
    "\n",
    "    return repeat_length_testing, results"
   ]
  },
  {
   "cell_type": "code",
   "execution_count": 219,
   "metadata": {
    "collapsed": true
   },
   "outputs": [],
   "source": [
    "def simulation_step_LASSO(probeset_data, metadata, training_size, no_probes, n_components):\n",
    "    training_i, testing_i = choose_training_indicies(probeset_data, training_size)\n",
    "    training_fold, testing_fold = split_data(probeset_data, training_i, testing_i)\n",
    "    repeat_length_training = [metadata.modal_allele[i] for i in training_i]\n",
    "    repeat_length_testing = [metadata.modal_allele[i] for i in testing_i]\n",
    "    \n",
    "    top_genes = order_indicies(repeat_length_training, training_fold)[:no_probes]\n",
    "    training_set = choose_top_genes(top_genes, training_fold)\n",
    "    testing_set = choose_top_genes(top_genes, testing_fold)\n",
    "\n",
    "    lasso = sklearn.linear_model.Lasso(alpha=n_components)\n",
    "    \n",
    "    lasso.fit(training_set.transpose(), cv(repeat_length_training))\n",
    "    \n",
    "    results = list(lasso.predict(testing_set.transpose()))\n",
    "    \n",
    "    results = [filter_extremes(i, min(repeat_length_training), max(repeat_length_training)) for i in results]\n",
    "\n",
    "    return repeat_length_testing, results"
   ]
  },
  {
   "cell_type": "code",
   "execution_count": 216,
   "metadata": {
    "collapsed": true
   },
   "outputs": [],
   "source": [
    "def simulation_step_LinearRegression(probeset_data, metadata, training_size, no_probes, n_components):\n",
    "    training_i, testing_i = choose_training_indicies(probeset_data, training_size)\n",
    "    training_fold, testing_fold = split_data(probeset_data, training_i, testing_i)\n",
    "    repeat_length_training = [metadata.modal_allele[i] for i in training_i]\n",
    "    repeat_length_testing = [metadata.modal_allele[i] for i in testing_i]\n",
    "    \n",
    "    top_genes = order_indicies(repeat_length_training, training_fold)[:no_probes]\n",
    "    training_set = choose_top_genes(top_genes, training_fold)\n",
    "    testing_set = choose_top_genes(top_genes, testing_fold)\n",
    "\n",
    "    model = sklearn.linear_model.LinearRegression()\n",
    "    \n",
    "    model.fit(training_set.transpose(), cv(repeat_length_training))\n",
    "    \n",
    "    results = model.predict(testing_set.transpose())\n",
    "    results = [i for i in results.transpose()[0]]\n",
    "    \n",
    "    results = [filter_extremes(i, min(repeat_length_training), max(repeat_length_training)) for i in results]\n",
    "    return repeat_length_testing, results"
   ]
  },
  {
   "cell_type": "code",
   "execution_count": 236,
   "metadata": {
    "collapsed": true
   },
   "outputs": [],
   "source": [
    "def simulation_step_GaussianProcess(probeset_data, metadata, training_size, no_probes, n_components):\n",
    "    training_i, testing_i = choose_training_indicies(probeset_data, training_size)\n",
    "    training_fold, testing_fold = split_data(probeset_data, training_i, testing_i)\n",
    "    repeat_length_training = [metadata.modal_allele[i] for i in training_i]\n",
    "    repeat_length_testing = [metadata.modal_allele[i] for i in testing_i]\n",
    "    \n",
    "    top_genes = order_indicies(repeat_length_training, training_fold)[:no_probes]\n",
    "    training_set = choose_top_genes(top_genes, training_fold)\n",
    "    testing_set = choose_top_genes(top_genes, testing_fold)\n",
    "\n",
    "    model = sklearn.gaussian_process.GaussianProcessRegressor()\n",
    "    \n",
    "    model.fit(training_set.transpose(), cv(repeat_length_training))\n",
    "    \n",
    "    results = model.predict(testing_set.transpose())\n",
    "    results = [i for i in results.transpose()[0]]\n",
    "    #results = [i for i in results.transpose()[0]]\n",
    "    return repeat_length_testing, results"
   ]
  },
  {
   "cell_type": "code",
   "execution_count": 235,
   "metadata": {
    "collapsed": true
   },
   "outputs": [],
   "source": [
    "def simulation_step_RandomForestRegressor(probeset_data, metadata, training_size, no_probes, n_components):\n",
    "    training_i, testing_i = choose_training_indicies(probeset_data, training_size)\n",
    "    training_fold, testing_fold = split_data(probeset_data, training_i, testing_i)\n",
    "    repeat_length_training = [metadata.modal_allele[i] for i in training_i]\n",
    "    repeat_length_testing = [metadata.modal_allele[i] for i in testing_i]\n",
    "    \n",
    "    top_genes = order_indicies(repeat_length_training, training_fold)[:no_probes]\n",
    "    training_set = choose_top_genes(top_genes, training_fold)\n",
    "    testing_set = choose_top_genes(top_genes, testing_fold)\n",
    "\n",
    "    model = sklearn.ensemble.RandomForestRegressor()\n",
    "    \n",
    "    model.fit(training_set.transpose(), repeat_length_training)\n",
    "    \n",
    "    results = list(model.predict(testing_set.transpose()))\n",
    "    #results = [i for i in results.transpose()[0]]\n",
    "    #results = [i for i in results.transpose()[0]]\n",
    "    return repeat_length_testing, results"
   ]
  },
  {
   "cell_type": "code",
   "execution_count": 165,
   "metadata": {
    "collapsed": true
   },
   "outputs": [],
   "source": [
    "assert filter_extremes(0, 10, 20) == 10\n",
    "assert filter_extremes(15, 10, 20) == 15\n",
    "assert filter_extremes(25, 10, 20) == 20"
   ]
  },
  {
   "cell_type": "code",
   "execution_count": 166,
   "metadata": {
    "collapsed": true
   },
   "outputs": [],
   "source": [
    "metadata = {\"muscle\": muscle_meta, \"blood\": blood_meta}"
   ]
  },
  {
   "cell_type": "code",
   "execution_count": 167,
   "metadata": {},
   "outputs": [
    {
     "data": {
      "text/plain": [
       "{'blood': Metadata={IDs: ['111747589', '117440822', '124563003', '129523253', '141772399']...,\n",
       "  CELs: ['111747589_B.CEL', '117440822_B.CEL', '124563003_B.CEL', '129523253_B.CEL', '141772399_B.CEL']...,\n",
       "  modal_allele: [872, 297, 593, 408, 717]...,\n",
       "  progenitor_allele: [600, 227, 301, 211, 320]...,\n",
       "  MIRS: [4, 2, 4, 4, 2]...},\n",
       " 'muscle': Metadata={IDs: ['111747589', '117440822', '124563003', '129523253', '159834720']...,\n",
       "  CELs: ['111747589_M.CEL', '117440822_M.CEL', '124563003_M.CEL', '129523253_M.CEL', '159834720_MR.cel']...,\n",
       "  modal_allele: [872, 297, 593, 408, 1035]...,\n",
       "  progenitor_allele: [600, 227, 301, 211, 695]...,\n",
       "  MIRS: [4, 2, 4, 4, 4]...}}"
      ]
     },
     "execution_count": 167,
     "metadata": {},
     "output_type": "execute_result"
    }
   ],
   "source": [
    "metadata"
   ]
  },
  {
   "cell_type": "code",
   "execution_count": 101,
   "metadata": {
    "collapsed": true
   },
   "outputs": [],
   "source": [
    "def load_data(name, genes, muscle_or_blood):\n",
    "    meta = metadata[muscle_or_blood]\n",
    "    path = \"experiment_\" + muscle_or_blood\n",
    "    d, a = produce_data(meta, genes, path)\n",
    "    data[muscle_or_blood][name] = d\n",
    "    annot[muscle_or_blood][name] = a"
   ]
  },
  {
   "cell_type": "code",
   "execution_count": 102,
   "metadata": {
    "collapsed": true
   },
   "outputs": [],
   "source": [
    "gene_sets = {\"nakamori\": nakamori_genes, \"batra\": batra_genes, \"TNNI1\": [\"TNNI1\"], \"all\": genecode_genes}"
   ]
  },
  {
   "cell_type": "code",
   "execution_count": 103,
   "metadata": {},
   "outputs": [
    {
     "data": {
      "text/plain": [
       "{'TNNI1': ['TNNI1'],\n",
       " 'all': {'MAP6D1',\n",
       "  'C3orf70',\n",
       "  'LCN1',\n",
       "  'AARSD1',\n",
       "  'RABL2A',\n",
       "  'DHRS7B',\n",
       "  'MAP3K4',\n",
       "  'KLK2',\n",
       "  'ZBED6',\n",
       "  'CCDC102A',\n",
       "  'DDX4',\n",
       "  'RP11-691N7.6',\n",
       "  'IL19',\n",
       "  'MELK',\n",
       "  'ITFG1',\n",
       "  'HACD3',\n",
       "  'SDCCAG3',\n",
       "  'NUDT16',\n",
       "  'TAF1B',\n",
       "  'YWHAQ',\n",
       "  'CRIM1',\n",
       "  'CST11',\n",
       "  'ZRSR2',\n",
       "  'ZSCAN22',\n",
       "  'ZNF782',\n",
       "  'ISY1-RAB43',\n",
       "  'WDSUB1',\n",
       "  'AC135048.1',\n",
       "  'ISM1',\n",
       "  'GADL1',\n",
       "  'SPSB1',\n",
       "  'TBC1D32',\n",
       "  'SEMA3G',\n",
       "  'C19orf71',\n",
       "  'DDHD1',\n",
       "  'SNRK',\n",
       "  'PLEKHM3',\n",
       "  'TRMT5',\n",
       "  'CSE1L',\n",
       "  'ZNF2',\n",
       "  'MTHFD2L',\n",
       "  'SLC6A2',\n",
       "  'OR2V2',\n",
       "  'SI',\n",
       "  'SIRT4',\n",
       "  'AIM1L',\n",
       "  'SLA',\n",
       "  'NFE4',\n",
       "  'IQCF6',\n",
       "  'SPATA21',\n",
       "  'PSMD7',\n",
       "  'MRPL27',\n",
       "  'DHX33',\n",
       "  'MORN2',\n",
       "  'MKL2',\n",
       "  'RAB30',\n",
       "  'OPRM1',\n",
       "  'SLC9A3',\n",
       "  'PRG2',\n",
       "  'COMMD3',\n",
       "  'TUSC5',\n",
       "  'ALPK3',\n",
       "  'ADSSL1',\n",
       "  'PCMTD1',\n",
       "  'KCNE2',\n",
       "  'MYRFL',\n",
       "  'SLC27A6',\n",
       "  'SC5D',\n",
       "  'EPN2',\n",
       "  'FAM83F',\n",
       "  'OR8B2',\n",
       "  'CTSH',\n",
       "  'DBT',\n",
       "  'FAM153B',\n",
       "  'PTPN22',\n",
       "  'GANC',\n",
       "  'IL24',\n",
       "  'GNG7',\n",
       "  'TOM1',\n",
       "  'PLA2G3',\n",
       "  'ARNTL2',\n",
       "  'RMDN1',\n",
       "  'CELF3',\n",
       "  'RP11-468E2.2',\n",
       "  'DCAKD',\n",
       "  'HFE2',\n",
       "  'NUDT8',\n",
       "  'SLC19A3',\n",
       "  'MT-ND6',\n",
       "  'SPATA24',\n",
       "  'PCLAF',\n",
       "  'PSMD11',\n",
       "  'RBM15',\n",
       "  'MGAT2',\n",
       "  'COL22A1',\n",
       "  'ODF2L',\n",
       "  'ACP1',\n",
       "  'SNTA1',\n",
       "  'ABCA6',\n",
       "  'PPAN',\n",
       "  'KCNN2',\n",
       "  'ZNF296',\n",
       "  'MUC8',\n",
       "  'TBC1D9',\n",
       "  'ART5',\n",
       "  'FOXD4L4',\n",
       "  'TSPAN6',\n",
       "  'AC037459.4',\n",
       "  'SREBF2',\n",
       "  'DGKQ',\n",
       "  'RRP36',\n",
       "  'HS3ST4',\n",
       "  'COL3A1',\n",
       "  'SRP68',\n",
       "  'MOSPD2',\n",
       "  'IAPP',\n",
       "  'IGSF3',\n",
       "  'TRIM11',\n",
       "  'NSUN2',\n",
       "  'MKRN2',\n",
       "  'ZBTB16',\n",
       "  'ULK1',\n",
       "  'CCDC94',\n",
       "  'GSTT2B',\n",
       "  'MAP2',\n",
       "  'C11orf95',\n",
       "  'CKMT1B',\n",
       "  'ERICH4',\n",
       "  'CNOT9',\n",
       "  'GPA33',\n",
       "  'C1RL',\n",
       "  'DDX51',\n",
       "  'NUDT21',\n",
       "  'ATG7',\n",
       "  'RANBP17',\n",
       "  'TNFAIP2',\n",
       "  'NFATC1',\n",
       "  'RUNDC1',\n",
       "  'PCOLCE2',\n",
       "  'RSPH9',\n",
       "  'ZSCAN9',\n",
       "  'PBX4',\n",
       "  'PHF14',\n",
       "  'PRPF4B',\n",
       "  'CELA2B',\n",
       "  'KLF8',\n",
       "  'RP11-371E8.4',\n",
       "  'CHST15',\n",
       "  'ZNF430',\n",
       "  'CT47A5',\n",
       "  'SYP',\n",
       "  'ARF5',\n",
       "  'DDX1',\n",
       "  'PCDHA4',\n",
       "  'C21orf62',\n",
       "  'C8orf37',\n",
       "  'MAPK1IP1L',\n",
       "  'PRX',\n",
       "  'SCART1',\n",
       "  'ZCCHC12',\n",
       "  'VASH2',\n",
       "  'RP11-212D19.4',\n",
       "  'C16orf95',\n",
       "  'LARP7',\n",
       "  'NACA2',\n",
       "  'B3GNT5',\n",
       "  'FAM71D',\n",
       "  'PRPF4',\n",
       "  'BRD4',\n",
       "  'CBX1',\n",
       "  'PIEZO1',\n",
       "  'EPCAM',\n",
       "  'DCAF16',\n",
       "  'NDUFB8',\n",
       "  'PLK4',\n",
       "  'TRMO',\n",
       "  'PCCA',\n",
       "  'YIF1B',\n",
       "  'IL5RA',\n",
       "  'GBP1',\n",
       "  'UNKL',\n",
       "  'ADAMTSL2',\n",
       "  'ANO4',\n",
       "  'ZNF865',\n",
       "  'LRRC37A2',\n",
       "  'MAP3K10',\n",
       "  'CSRP2',\n",
       "  'RTP2',\n",
       "  'RBM14-RBM4',\n",
       "  'HERC6',\n",
       "  'HIST1H2BO',\n",
       "  'AGXT2',\n",
       "  'GGACT',\n",
       "  'HLA-DOA',\n",
       "  'GRAMD2',\n",
       "  'CTD-2006C1.10',\n",
       "  'ACSL3',\n",
       "  'GNG11',\n",
       "  'TP53I11',\n",
       "  'ALDOB',\n",
       "  'AC007040.11',\n",
       "  'BEX2',\n",
       "  'NSMAF',\n",
       "  'PIK3R3',\n",
       "  'CTNNA2',\n",
       "  'IGSF11',\n",
       "  'BDH2',\n",
       "  'SPOP',\n",
       "  'KATNAL1',\n",
       "  'HCRT',\n",
       "  'OSCAR',\n",
       "  'PGAP3',\n",
       "  'INTS2',\n",
       "  'SHMT2',\n",
       "  'RP11-295K3.1',\n",
       "  'AC015989.2',\n",
       "  'SCGB2A2',\n",
       "  'KIFC2',\n",
       "  'DEFB106A',\n",
       "  'KRT33B',\n",
       "  'TVP23A',\n",
       "  'PTPN14',\n",
       "  'RP11-350E12.6',\n",
       "  'SOX15',\n",
       "  'S1PR3',\n",
       "  'CRLF1',\n",
       "  'PTRHD1',\n",
       "  'CYBA',\n",
       "  'WDR48',\n",
       "  'PCYT1B',\n",
       "  'C11orf21',\n",
       "  'SLC23A2',\n",
       "  'KCTD3',\n",
       "  'AARD',\n",
       "  'MDH1',\n",
       "  'ACSM2A',\n",
       "  'ZNF358',\n",
       "  'CNTNAP2',\n",
       "  'HHLA1',\n",
       "  'C20orf144',\n",
       "  'FAM122A',\n",
       "  'RP5-972B16.2',\n",
       "  'TTC38',\n",
       "  'TMEM8A',\n",
       "  'LARS',\n",
       "  'OR4L1',\n",
       "  'DAPP1',\n",
       "  'ANKRD28',\n",
       "  'ADAMTSL1',\n",
       "  'FAM216B',\n",
       "  'KRT26',\n",
       "  'ANKRD66',\n",
       "  'OFD1',\n",
       "  'AHCY',\n",
       "  'EVA1A',\n",
       "  'SLC15A1',\n",
       "  'SRPX',\n",
       "  'ANO8',\n",
       "  'MAN2B2',\n",
       "  'FAM92A',\n",
       "  'OR8H1',\n",
       "  'CCDC149',\n",
       "  'CSDC2',\n",
       "  'METTL14',\n",
       "  'COMTD1',\n",
       "  'SETD9',\n",
       "  'ZSCAN16',\n",
       "  'EVL',\n",
       "  'DENND2C',\n",
       "  'ARL4A',\n",
       "  'SDF2',\n",
       "  'DBX2',\n",
       "  'PCDHB3',\n",
       "  'MCM9',\n",
       "  'ERGIC1',\n",
       "  'KLF9',\n",
       "  'CHORDC1',\n",
       "  'EPM2AIP1',\n",
       "  'PRAMEF2',\n",
       "  'DDX6',\n",
       "  'SKIV2L2',\n",
       "  'PSMD8',\n",
       "  'GSPT1',\n",
       "  'SUPT16H',\n",
       "  'IER5',\n",
       "  'RP11-343C2.11',\n",
       "  'C1orf94',\n",
       "  'LRRC17',\n",
       "  'PCMTD2',\n",
       "  'IKZF2',\n",
       "  'FEZF1',\n",
       "  'RP11-321N4.5',\n",
       "  'PFKFB4',\n",
       "  'AL158147.2',\n",
       "  'MRGPRX2',\n",
       "  'CYP4F8',\n",
       "  'ACBD6',\n",
       "  'PNPLA3',\n",
       "  'HOXB13',\n",
       "  'TWIST1',\n",
       "  'UPRT',\n",
       "  'RP11-345J4.3',\n",
       "  'FAM103A1',\n",
       "  'TTLL10',\n",
       "  'RBM33',\n",
       "  'MS4A2',\n",
       "  'GJB2',\n",
       "  'TFF2',\n",
       "  'UNC13C',\n",
       "  'RTN4R',\n",
       "  'ENY2',\n",
       "  'HOXB8',\n",
       "  'B3GNT8',\n",
       "  'PSG3',\n",
       "  'IGLL1',\n",
       "  'SENP1',\n",
       "  'FOXE1',\n",
       "  'HRC',\n",
       "  'HKR1',\n",
       "  'GBP4',\n",
       "  'TPX2',\n",
       "  'IRF2',\n",
       "  'OR4A16',\n",
       "  'CSMD2',\n",
       "  'C7orf25',\n",
       "  'CA14',\n",
       "  'UROC1',\n",
       "  'ZNF491',\n",
       "  'PRAMEF10',\n",
       "  'MTCL1',\n",
       "  'TIFA',\n",
       "  'SLC9A4',\n",
       "  'EMC4',\n",
       "  'ERP29',\n",
       "  'STAC2',\n",
       "  'EHD2',\n",
       "  'WDR60',\n",
       "  'AP4M1',\n",
       "  'ABCG1',\n",
       "  'POU6F1',\n",
       "  'AGPAT1',\n",
       "  'HSF1',\n",
       "  'GOLGA4',\n",
       "  'CCDC142',\n",
       "  'CDCP2',\n",
       "  'RTFDC1',\n",
       "  'DUSP8',\n",
       "  'AEBP2',\n",
       "  'SLC7A6OS',\n",
       "  'ADRB1',\n",
       "  'MAJIN',\n",
       "  'CRY2',\n",
       "  'SPINK8',\n",
       "  'GUCA2A',\n",
       "  'TUSC2',\n",
       "  'ATF1',\n",
       "  'INSC',\n",
       "  'SFTPA1',\n",
       "  'CSTF2T',\n",
       "  'ACTG1',\n",
       "  'CDK2AP1',\n",
       "  'ITGB4',\n",
       "  'VAV1',\n",
       "  'THBS3',\n",
       "  'MRGPRG',\n",
       "  'MPC2',\n",
       "  'NKIRAS2',\n",
       "  'AAED1',\n",
       "  'OR7A5',\n",
       "  'FAM198A',\n",
       "  'ZSCAN5C',\n",
       "  'CDPF1',\n",
       "  'MAB21L1',\n",
       "  'FAM78A',\n",
       "  'FAM229B',\n",
       "  'ZCCHC5',\n",
       "  'CYP1B1',\n",
       "  'AR',\n",
       "  'CSPG4',\n",
       "  'EP400',\n",
       "  'PPIG',\n",
       "  'TIMP1',\n",
       "  'C1R',\n",
       "  'PTPRB',\n",
       "  'MED11',\n",
       "  'PCDHGB5',\n",
       "  'SLC26A1',\n",
       "  'PHF19',\n",
       "  'RP4-583P15.15',\n",
       "  'RXRG',\n",
       "  'HIRA',\n",
       "  'GTF2H5',\n",
       "  'KRR1',\n",
       "  'SRPRA',\n",
       "  'OIT3',\n",
       "  'APBB1IP',\n",
       "  'ZNF140',\n",
       "  'CISD1',\n",
       "  'PSAP',\n",
       "  'PLEKHA2',\n",
       "  'RP11-47I22.4',\n",
       "  'RP11-249L12.1',\n",
       "  'RTKN',\n",
       "  'ERICH1',\n",
       "  'MTFR1',\n",
       "  'CCDC73',\n",
       "  'CDK5R2',\n",
       "  'HSD3B1',\n",
       "  'ZGRF1',\n",
       "  'KRTAP19-4',\n",
       "  'NPR1',\n",
       "  'COPG1',\n",
       "  'PTK2B',\n",
       "  'DMTF1',\n",
       "  'ADPRM',\n",
       "  'ZNF207',\n",
       "  'HMGN2',\n",
       "  'APOC1',\n",
       "  'DKKL1',\n",
       "  'RP11-1021N1.1',\n",
       "  'PLEKHM1',\n",
       "  'CLDN6',\n",
       "  'SYTL5',\n",
       "  'SLC2A12',\n",
       "  'SELPLG',\n",
       "  'NCKAP5L',\n",
       "  'LTN1',\n",
       "  'RPS15',\n",
       "  'HCAR1',\n",
       "  'NET1',\n",
       "  'GFRAL',\n",
       "  'PI3',\n",
       "  'TRAM1L1',\n",
       "  'DLGAP1',\n",
       "  'KRTAP10-1',\n",
       "  'TTLL13P',\n",
       "  'MRGPRD',\n",
       "  'PYCR2',\n",
       "  'GPR83',\n",
       "  'CTSB',\n",
       "  'ISL2',\n",
       "  'RGS14',\n",
       "  'EBF1',\n",
       "  'DARS2',\n",
       "  'MYO18B',\n",
       "  'VENTX',\n",
       "  'RP4-714D9.5',\n",
       "  'HOXB6',\n",
       "  'TRMT1',\n",
       "  'GOLGA6L4',\n",
       "  'CTAG2',\n",
       "  'TBP',\n",
       "  'KCND3',\n",
       "  'SH3PXD2A',\n",
       "  'MUSTN1',\n",
       "  'SLC5A6',\n",
       "  'GOLGA6C',\n",
       "  'CLEC18A',\n",
       "  'MEMO1',\n",
       "  'UFD1L',\n",
       "  'ASRGL1',\n",
       "  'PRKRIP1',\n",
       "  'RP11-111H13.1',\n",
       "  'UPK1A',\n",
       "  'MCEE',\n",
       "  'ZNF277',\n",
       "  'SLC16A11',\n",
       "  'C9orf43',\n",
       "  'DENND3',\n",
       "  'OR1E1',\n",
       "  'TMEM174',\n",
       "  'ZNF738',\n",
       "  'IKBKB',\n",
       "  'WDR93',\n",
       "  'FXYD2',\n",
       "  'ICOS',\n",
       "  'FECH',\n",
       "  'SENP3',\n",
       "  'SYT8',\n",
       "  'KRT16',\n",
       "  'ABCG2',\n",
       "  'POLR2J3',\n",
       "  'AGBL4',\n",
       "  'CRKL',\n",
       "  'MSRA',\n",
       "  'VCY1B',\n",
       "  'ANKHD1-EIF4EBP3',\n",
       "  'ATP5D',\n",
       "  'SAR1B',\n",
       "  'CXCR6',\n",
       "  'OR2A14',\n",
       "  'SEMA6B',\n",
       "  'CCDC59',\n",
       "  'GOLT1B',\n",
       "  'C1QTNF4',\n",
       "  'PRR11',\n",
       "  'BTC',\n",
       "  'GPR149',\n",
       "  'TNPO3',\n",
       "  'ZBED3',\n",
       "  'CTD-2349B8.1',\n",
       "  'BPY2B',\n",
       "  'SLC15A4',\n",
       "  'THSD4',\n",
       "  'POP4',\n",
       "  'STAT4',\n",
       "  'OR1F1',\n",
       "  'TIPRL',\n",
       "  'CCDC173',\n",
       "  'FHL1',\n",
       "  'PCSK9',\n",
       "  'LHX5',\n",
       "  'PAG1',\n",
       "  'MRPL10',\n",
       "  'GOLGA6D',\n",
       "  'SLC28A2',\n",
       "  'MAGEB6',\n",
       "  'AC009133.23',\n",
       "  'HAS1',\n",
       "  'ASTN1',\n",
       "  'CREB1',\n",
       "  'CD81',\n",
       "  'PCP4L1',\n",
       "  'LMOD1',\n",
       "  'ETAA1',\n",
       "  'DSP',\n",
       "  'PNMA6D',\n",
       "  'RP11-463C8.4',\n",
       "  'NEK8',\n",
       "  'CEACAM6',\n",
       "  'ERI3',\n",
       "  'MRPS28',\n",
       "  'RABGGTA',\n",
       "  'HNF1B',\n",
       "  'SSBP2',\n",
       "  'PRB3',\n",
       "  'ZMIZ2',\n",
       "  'UBE2E1',\n",
       "  'CXCL5',\n",
       "  'SLC10A3',\n",
       "  'OR5B21',\n",
       "  'U2AF1',\n",
       "  'VPS33B',\n",
       "  'RP11-438J1.1',\n",
       "  'MARC2',\n",
       "  'DPY19L3',\n",
       "  'ATF6',\n",
       "  'SLC25A37',\n",
       "  'TMEM115',\n",
       "  'AZIN2',\n",
       "  'CAMK2N1',\n",
       "  'LMAN1',\n",
       "  'GNG12',\n",
       "  'RP11-27I1.4',\n",
       "  'SHISA2',\n",
       "  'VSTM2A',\n",
       "  'MTMR8',\n",
       "  'TRIM64B',\n",
       "  'FSHB',\n",
       "  'MT-ATP6',\n",
       "  'RNF133',\n",
       "  'SPTLC3',\n",
       "  'BAP1',\n",
       "  'CCDC129',\n",
       "  'SLC26A4',\n",
       "  'ETFDH',\n",
       "  'FAM177B',\n",
       "  'ZBTB12',\n",
       "  'MRPL51',\n",
       "  'TFCP2',\n",
       "  'COPS8',\n",
       "  'MARCH6',\n",
       "  'GNG13',\n",
       "  'MYCT1',\n",
       "  'ADH5',\n",
       "  'CT47A6',\n",
       "  'FAM110D',\n",
       "  'PSORS1C2',\n",
       "  'GRK5',\n",
       "  'LEO1',\n",
       "  'POLR1D',\n",
       "  'ITSN1',\n",
       "  'FBXO42',\n",
       "  'KIF5C',\n",
       "  'ABCB11',\n",
       "  'MARK1',\n",
       "  'KRT9',\n",
       "  'TSPAN19',\n",
       "  'NHLRC3',\n",
       "  'PDE10A',\n",
       "  'CYGB',\n",
       "  'EIF4B',\n",
       "  'ABHD8',\n",
       "  'ZBTB39',\n",
       "  'CRHR2',\n",
       "  'ARSH',\n",
       "  'ABTB1',\n",
       "  'AC005358.1',\n",
       "  'IQSEC2',\n",
       "  'FANCD2',\n",
       "  'EIF6',\n",
       "  'VCX3B',\n",
       "  'TCN2',\n",
       "  'HERC5',\n",
       "  'AL353791.1',\n",
       "  'IL1A',\n",
       "  'KRT6B',\n",
       "  'RPL24',\n",
       "  'MTCH1',\n",
       "  'GH1',\n",
       "  'CFAP99',\n",
       "  'GLYR1',\n",
       "  'MED24',\n",
       "  'TSHB',\n",
       "  'PRKDC',\n",
       "  'TRIM47',\n",
       "  'TEAD3',\n",
       "  'KRTAP22-1',\n",
       "  'CLPX',\n",
       "  'CCDC60',\n",
       "  'PI16',\n",
       "  'KNCN',\n",
       "  'DIMT1',\n",
       "  'TAF8',\n",
       "  'C6orf222',\n",
       "  'DLX3',\n",
       "  'BLOC1S6',\n",
       "  'DAPK1',\n",
       "  'TIMM17A',\n",
       "  'TMSB10',\n",
       "  'SEC14L3',\n",
       "  'TYRO3',\n",
       "  'RP11-20I23.1',\n",
       "  'RNF212',\n",
       "  'RASL10A',\n",
       "  'TRIM38',\n",
       "  'HOXB9',\n",
       "  'SBNO2',\n",
       "  'RAB11FIP5',\n",
       "  'UNC93B1',\n",
       "  'ZKSCAN4',\n",
       "  'STARD7',\n",
       "  'OR2A2',\n",
       "  'HIST3H3',\n",
       "  'ACVR1',\n",
       "  'IHH',\n",
       "  'AKR1B15',\n",
       "  'N4BP2L1',\n",
       "  'PI4KB',\n",
       "  'PLOD1',\n",
       "  'LRRC28',\n",
       "  'TBC1D10C',\n",
       "  'SYDE1',\n",
       "  'PDCD2L',\n",
       "  'LYN',\n",
       "  'RARRES3',\n",
       "  'TSKU',\n",
       "  'ZAR1L',\n",
       "  'AKR7L',\n",
       "  'SARS',\n",
       "  'UROS',\n",
       "  'YPEL2',\n",
       "  'SLC1A6',\n",
       "  'SZRD1',\n",
       "  'PSMD5',\n",
       "  'H1FOO',\n",
       "  'GOLGA8N',\n",
       "  'STK35',\n",
       "  'PEX1',\n",
       "  'CD300LD',\n",
       "  'IL1RAPL1',\n",
       "  'SLFN13',\n",
       "  'LOR',\n",
       "  'SPATA7',\n",
       "  'SH2D3A',\n",
       "  'PDZD11',\n",
       "  'LST1',\n",
       "  'NRF1',\n",
       "  'B3GALNT1',\n",
       "  'DEF6',\n",
       "  'ACAA2',\n",
       "  'SNTB1',\n",
       "  'RXFP2',\n",
       "  'DNAJC16',\n",
       "  'IGHMBP2',\n",
       "  'ZNF33B',\n",
       "  'GLRA4',\n",
       "  'ZNF93',\n",
       "  'PFKFB3',\n",
       "  'RGS7',\n",
       "  'CACNG7',\n",
       "  'CDR2L',\n",
       "  'TP53TG3C',\n",
       "  'AC006372.1',\n",
       "  'PLP2',\n",
       "  'ZBTB25',\n",
       "  'ANKRD13C',\n",
       "  'CLIC2',\n",
       "  'TAGLN2',\n",
       "  'SEC16A',\n",
       "  'TMEM215',\n",
       "  'ERC2',\n",
       "  'DIRC3',\n",
       "  'PIGP',\n",
       "  'PPIL6',\n",
       "  'CARD9',\n",
       "  'LEP',\n",
       "  'ERVK3-1',\n",
       "  'RBMY1F',\n",
       "  'RNF26',\n",
       "  'COX8C',\n",
       "  'TMEM242',\n",
       "  'PPAT',\n",
       "  'RIPPLY3',\n",
       "  'TRIM49C',\n",
       "  'XAGE3',\n",
       "  'DOT1L',\n",
       "  'FAM193A',\n",
       "  'BAK1',\n",
       "  'PLLP',\n",
       "  'SRXN1',\n",
       "  'ZNF648',\n",
       "  'TFDP3',\n",
       "  'KIR3DL3',\n",
       "  'PROSER3',\n",
       "  'ZNF717',\n",
       "  'MBD3L5',\n",
       "  'AC068533.7',\n",
       "  'SIDT1',\n",
       "  'GPR183',\n",
       "  'LIX1',\n",
       "  'CTDSPL',\n",
       "  'DNAJC5',\n",
       "  'SCARF2',\n",
       "  'PROSC',\n",
       "  'JPH4',\n",
       "  'MAN1B1',\n",
       "  'ARHGEF3',\n",
       "  'KLK4',\n",
       "  'CYCS',\n",
       "  'GMDS',\n",
       "  'HMGXB3',\n",
       "  'CHCHD7',\n",
       "  'KIRREL3',\n",
       "  'RP13-996F3.4',\n",
       "  'KRTAP4-16',\n",
       "  'ZDHHC12',\n",
       "  'ACSBG2',\n",
       "  'GTF3C2',\n",
       "  'AEBP1',\n",
       "  'NDUFV2',\n",
       "  'GLP1R',\n",
       "  'UBTD1',\n",
       "  'FAM105A',\n",
       "  'NVL',\n",
       "  'UNK',\n",
       "  'SRD5A2',\n",
       "  'ELL',\n",
       "  'HIST1H3J',\n",
       "  'AARS',\n",
       "  'C2CD5',\n",
       "  'AVIL',\n",
       "  'TTPA',\n",
       "  'SERP2',\n",
       "  'PSMC5',\n",
       "  'PLSCR4',\n",
       "  'C17orf53',\n",
       "  'TMEM200A',\n",
       "  'KHDRBS1',\n",
       "  'BLOC1S2',\n",
       "  'CMC2',\n",
       "  'SIX4',\n",
       "  'EFR3A',\n",
       "  'SHBG',\n",
       "  'LIMD2',\n",
       "  'PUS10',\n",
       "  'WIPF2',\n",
       "  'DDX24',\n",
       "  'KRT28',\n",
       "  'LINC00521',\n",
       "  'DSG3',\n",
       "  'HERC1',\n",
       "  'HBD',\n",
       "  'ANKRD30BL',\n",
       "  'ISG20',\n",
       "  'KRTAP20-4',\n",
       "  'DGCR14',\n",
       "  'TMEM200C',\n",
       "  'P3H2',\n",
       "  'FAM83G',\n",
       "  'RAPGEF4',\n",
       "  'AC022498.1',\n",
       "  'XPA',\n",
       "  'DUSP3',\n",
       "  'RP1-139D8.6',\n",
       "  'VPREB3',\n",
       "  'PDPR',\n",
       "  'PHKG2',\n",
       "  'HOXA10',\n",
       "  'TMEM200B',\n",
       "  'GRID2',\n",
       "  'NF2',\n",
       "  'PLEKHB1',\n",
       "  'KLHL25',\n",
       "  'C19orf54',\n",
       "  'ATAD2',\n",
       "  'TPTE2',\n",
       "  'PTGIS',\n",
       "  'EDA2R',\n",
       "  'ABHD16B',\n",
       "  'PADI4',\n",
       "  'CAPN13',\n",
       "  'SPATA13',\n",
       "  'LMNTD1',\n",
       "  'RHO',\n",
       "  'CRACR2B',\n",
       "  'ZRSR1',\n",
       "  'PLGLB1',\n",
       "  'CTD-2192J16.22',\n",
       "  'NUTM2D',\n",
       "  'TGM6',\n",
       "  'TMEM86A',\n",
       "  'CCDC166',\n",
       "  'OPN1SW',\n",
       "  'RBMY1B',\n",
       "  'MGME1',\n",
       "  'ZNF665',\n",
       "  'FASTKD5',\n",
       "  'SOST',\n",
       "  'ANAPC11',\n",
       "  'CC2D2B',\n",
       "  'DPM1',\n",
       "  'IFNA10',\n",
       "  'PPP1R11',\n",
       "  'PRICKLE3',\n",
       "  'FAM196B',\n",
       "  'POGLUT1',\n",
       "  'NRIP3',\n",
       "  'TLL2',\n",
       "  'SYT4',\n",
       "  'SLC43A1',\n",
       "  'DEFB107B',\n",
       "  'RND1',\n",
       "  'GRIN2A',\n",
       "  'BEAN1',\n",
       "  'PSTPIP2',\n",
       "  'RAP1B',\n",
       "  'DUXB',\n",
       "  'ISY1',\n",
       "  'CETP',\n",
       "  'PEPD',\n",
       "  'TTBK2',\n",
       "  'SYT9',\n",
       "  'CHN1',\n",
       "  'TMCO1',\n",
       "  'TICRR',\n",
       "  'MSANTD2',\n",
       "  'COX18',\n",
       "  'NPHP3-ACAD11',\n",
       "  'C15orf59',\n",
       "  'HEY1',\n",
       "  'PPWD1',\n",
       "  'PIP5K1C',\n",
       "  'ADAD2',\n",
       "  'RPS6KA5',\n",
       "  'PTPA',\n",
       "  'ZBTB9',\n",
       "  'DHX29',\n",
       "  'H2BFWT',\n",
       "  'OR13H1',\n",
       "  'FAM19A2',\n",
       "  'ASAP2',\n",
       "  'RBM6',\n",
       "  'TRIOBP',\n",
       "  'LYL1',\n",
       "  'GXYLT1',\n",
       "  'FGF4',\n",
       "  'IL10RA',\n",
       "  'PIGY',\n",
       "  'DDAH1',\n",
       "  'ARNTL',\n",
       "  'SMCO3',\n",
       "  'L2HGDH',\n",
       "  'TMEM255A',\n",
       "  'SAXO2',\n",
       "  'PLAGL1',\n",
       "  'MRPS10',\n",
       "  'RP11-666A8.13',\n",
       "  'SLC15A5',\n",
       "  'CD2',\n",
       "  'ACSL1',\n",
       "  'CLEC18C',\n",
       "  'CTNND1',\n",
       "  'TRAPPC13',\n",
       "  'TIMM8B',\n",
       "  'AC002310.11',\n",
       "  'HBB',\n",
       "  'ITM2B',\n",
       "  'ATXN2',\n",
       "  'KIF7',\n",
       "  'SULT1A2',\n",
       "  'GFOD2',\n",
       "  'XIRP1',\n",
       "  'TLCD1',\n",
       "  'IL10RB',\n",
       "  'OR52E5',\n",
       "  'PCDHGA12',\n",
       "  'RUBCNL',\n",
       "  'RNF166',\n",
       "  'CCDC88C',\n",
       "  'CCDC78',\n",
       "  'LYAR',\n",
       "  'CHD3',\n",
       "  'FTHL17',\n",
       "  'DYSF',\n",
       "  'SOSTDC1',\n",
       "  'ZNF790',\n",
       "  'ZNF701',\n",
       "  'COL6A2',\n",
       "  'WFS1',\n",
       "  'C11orf49',\n",
       "  'HOXA7',\n",
       "  'PPFIBP2',\n",
       "  'BCAM',\n",
       "  'SSC5D',\n",
       "  'AGAP9',\n",
       "  'STK32A',\n",
       "  'TIMD4',\n",
       "  'SPDYE3',\n",
       "  'NSUN7',\n",
       "  'KLK3',\n",
       "  'PIWIL3',\n",
       "  'EEPD1',\n",
       "  'PPT1',\n",
       "  'CTD-2140B24.4',\n",
       "  'LTBR',\n",
       "  'ZBTB47',\n",
       "  'RP11-302B13.5',\n",
       "  'CCDC77',\n",
       "  'ACTL7A',\n",
       "  'MIER2',\n",
       "  'CHSY1',\n",
       "  'S1PR5',\n",
       "  'FLRT3',\n",
       "  'RXFP1',\n",
       "  'CEBPD',\n",
       "  'WNT11',\n",
       "  'MAP3K19',\n",
       "  'HIF1AN',\n",
       "  'CTU2',\n",
       "  'SSR3',\n",
       "  'TRIAP1',\n",
       "  'C11orf98',\n",
       "  'OR4D11',\n",
       "  'ATP5G3',\n",
       "  'ADCY9',\n",
       "  'IFT20',\n",
       "  'F2',\n",
       "  'RDH12',\n",
       "  'CTDSP1',\n",
       "  'ARHGAP11A',\n",
       "  'MPP4',\n",
       "  'CCDC87',\n",
       "  'ZC3H11B',\n",
       "  'XRCC5',\n",
       "  'FYB',\n",
       "  'VWF',\n",
       "  'KLF5',\n",
       "  'PPP2R2A',\n",
       "  'THRB',\n",
       "  'NLRP9',\n",
       "  'FAM171B',\n",
       "  'DAZ1',\n",
       "  'STK36',\n",
       "  'IFNA6',\n",
       "  'ZNF354B',\n",
       "  'FKBP15',\n",
       "  'BCL10',\n",
       "  'ARMC1',\n",
       "  'NFX1',\n",
       "  'ZNF146',\n",
       "  'PLA2G15',\n",
       "  'ITGA6',\n",
       "  'KRTAP3-1',\n",
       "  'C1orf134',\n",
       "  'SPTY2D1-AS1',\n",
       "  'MMD',\n",
       "  'MYOG',\n",
       "  'HELZ',\n",
       "  'TG',\n",
       "  'RAP2C',\n",
       "  'PRTN3',\n",
       "  'RNF220',\n",
       "  'CLEC4A',\n",
       "  'SCML4',\n",
       "  'ELAVL1',\n",
       "  'SP1',\n",
       "  'FOXK1',\n",
       "  'SKIL',\n",
       "  'DZIP1L',\n",
       "  ...},\n",
       " 'batra': {'ABCA1',\n",
       "  'AGL',\n",
       "  'ALG3',\n",
       "  'AMHR2',\n",
       "  'AP1G1',\n",
       "  'ARHGEF7',\n",
       "  'ASPH',\n",
       "  'ATP5E',\n",
       "  'BRSK2',\n",
       "  'BRWD1',\n",
       "  'CACNA1G',\n",
       "  'CACNB1',\n",
       "  'CDC42',\n",
       "  'CEBPA',\n",
       "  'CELF1',\n",
       "  'CHRNA1',\n",
       "  'CIRBP',\n",
       "  'CLDND1',\n",
       "  'COPS4',\n",
       "  'DAPK2',\n",
       "  'DES',\n",
       "  'DNAJB6',\n",
       "  'DST',\n",
       "  'DVL3',\n",
       "  'EZR',\n",
       "  'FASTK',\n",
       "  'GPS1',\n",
       "  'HDAC11',\n",
       "  'IDH3A',\n",
       "  'ILF3',\n",
       "  'KCNK7',\n",
       "  'KDELR1',\n",
       "  'KIF1B',\n",
       "  'KRBA1',\n",
       "  'LAMP2',\n",
       "  'LDB3',\n",
       "  'LMNA',\n",
       "  'MBNL2',\n",
       "  'MDN1',\n",
       "  'MEF2B',\n",
       "  'MEF2C',\n",
       "  'MEF2D',\n",
       "  'MGP',\n",
       "  'MORC3',\n",
       "  'MTCH1',\n",
       "  'MYH6',\n",
       "  'NDUFB10',\n",
       "  'NR2F1',\n",
       "  'NUP43',\n",
       "  'OSBPL1A',\n",
       "  'PCBD2',\n",
       "  'PCM1',\n",
       "  'PCMT1',\n",
       "  'PDLIM2',\n",
       "  'PDLIM5',\n",
       "  'PEBP4',\n",
       "  'PFKFB2',\n",
       "  'PIK3C2B',\n",
       "  'PLIN2',\n",
       "  'RAB24',\n",
       "  'RIN1',\n",
       "  'RTN2',\n",
       "  'SAMD4A',\n",
       "  'SETD3',\n",
       "  'SLC25A36',\n",
       "  'SMIM3',\n",
       "  'SNX1',\n",
       "  'SPATS2L',\n",
       "  'SPEG',\n",
       "  'SPTB',\n",
       "  'TBL2',\n",
       "  'TGFBI',\n",
       "  'TJP2',\n",
       "  'TMEM38B',\n",
       "  'TNNI1',\n",
       "  'TPM1',\n",
       "  'TPM2',\n",
       "  'TPM3',\n",
       "  'TTYH3',\n",
       "  'U2SURP'},\n",
       " 'nakamori': {'ABLIM2',\n",
       "  'ALPK3',\n",
       "  'ANK2',\n",
       "  'ARFGAP2',\n",
       "  'ATP2A1',\n",
       "  'ATP2A2',\n",
       "  'BIN1',\n",
       "  'CACNA1S',\n",
       "  'CAMK2B',\n",
       "  'CAPN3',\n",
       "  'CAPZB',\n",
       "  'CLCN1',\n",
       "  'COPZ2',\n",
       "  'DMD',\n",
       "  'DTNA',\n",
       "  'FHOD1',\n",
       "  'GFPT1',\n",
       "  'IMPDH2',\n",
       "  'INSR',\n",
       "  'KIF13A',\n",
       "  'LDB3',\n",
       "  'MBNL1',\n",
       "  'MBNL2',\n",
       "  'MLF1',\n",
       "  'NFIX',\n",
       "  'NRAP',\n",
       "  'OPA1',\n",
       "  'PDLIM3',\n",
       "  'PHKA1',\n",
       "  'RYR1',\n",
       "  'SOS1',\n",
       "  'TBC1D15',\n",
       "  'TTN',\n",
       "  'TXNL4A',\n",
       "  'UBE2D3',\n",
       "  'USP25',\n",
       "  'VEGFA',\n",
       "  'VPS39'}}"
      ]
     },
     "execution_count": 103,
     "metadata": {},
     "output_type": "execute_result"
    }
   ],
   "source": [
    "gene_sets"
   ]
  },
  {
   "cell_type": "code",
   "execution_count": 104,
   "metadata": {
    "collapsed": true
   },
   "outputs": [],
   "source": [
    "data = {\"muscle\": {}, \"blood\": {}}\n",
    "annot = {\"muscle\": {}, \"blood\": {}}"
   ]
  },
  {
   "cell_type": "code",
   "execution_count": 105,
   "metadata": {
    "collapsed": true
   },
   "outputs": [],
   "source": [
    "for name, genes in gene_sets.items():\n",
    "    for tissue in [\"blood\", \"muscle\"]:\n",
    "        load_data(name, genes, tissue)"
   ]
  },
  {
   "cell_type": "code",
   "execution_count": 106,
   "metadata": {
    "collapsed": true
   },
   "outputs": [],
   "source": [
    "#simulation_step[key for key in ]"
   ]
  },
  {
   "cell_type": "code",
   "execution_count": 107,
   "metadata": {},
   "outputs": [
    {
     "data": {
      "text/plain": [
       "{'blood': Metadata={IDs: ['111747589', '117440822', '124563003', '129523253', '141772399']...,\n",
       "  CELs: ['111747589_B.CEL', '117440822_B.CEL', '124563003_B.CEL', '129523253_B.CEL', '141772399_B.CEL']...,\n",
       "  modal_allele: [872, 297, 593, 408, 717]...,\n",
       "  progenitor_allele: [600, 227, 301, 211, 320]...,\n",
       "  MIRS: [4, 2, 4, 4, 2]...},\n",
       " 'muscle': Metadata={IDs: ['111747589', '117440822', '124563003', '129523253', '159834720']...,\n",
       "  CELs: ['111747589_M.CEL', '117440822_M.CEL', '124563003_M.CEL', '129523253_M.CEL', '159834720_MR.cel']...,\n",
       "  modal_allele: [872, 297, 593, 408, 1035]...,\n",
       "  progenitor_allele: [600, 227, 301, 211, 695]...,\n",
       "  MIRS: [4, 2, 4, 4, 4]...}}"
      ]
     },
     "execution_count": 107,
     "metadata": {},
     "output_type": "execute_result"
    }
   ],
   "source": [
    "metadata"
   ]
  },
  {
   "cell_type": "code",
   "execution_count": 108,
   "metadata": {
    "collapsed": true
   },
   "outputs": [],
   "source": [
    "training_size = int(len(metadata[\"muscle\"].modal_allele)*0.7)"
   ]
  },
  {
   "cell_type": "code",
   "execution_count": 109,
   "metadata": {
    "collapsed": true
   },
   "outputs": [],
   "source": [
    "testing_size = len(metadata[\"muscle\"].modal_allele) - training_size"
   ]
  },
  {
   "cell_type": "code",
   "execution_count": 110,
   "metadata": {},
   "outputs": [
    {
     "data": {
      "text/plain": [
       "18"
      ]
     },
     "execution_count": 110,
     "metadata": {},
     "output_type": "execute_result"
    }
   ],
   "source": [
    "training_size"
   ]
  },
  {
   "cell_type": "code",
   "execution_count": 111,
   "metadata": {},
   "outputs": [
    {
     "data": {
      "text/plain": [
       "9"
      ]
     },
     "execution_count": 111,
     "metadata": {},
     "output_type": "execute_result"
    }
   ],
   "source": [
    "testing_size"
   ]
  },
  {
   "cell_type": "code",
   "execution_count": 112,
   "metadata": {},
   "outputs": [
    {
     "data": {
      "text/plain": [
       "35"
      ]
     },
     "execution_count": 112,
     "metadata": {},
     "output_type": "execute_result"
    }
   ],
   "source": [
    "len(metadata[\"blood\"].modal_allele)"
   ]
  },
  {
   "cell_type": "code",
   "execution_count": 113,
   "metadata": {},
   "outputs": [
    {
     "data": {
      "text/plain": [
       "([993, 1261, 12, 1035, 593, 240, 83, 872, 697],\n",
       " [904.27779771174369,\n",
       "  897.63451356839983,\n",
       "  86.646465296808913,\n",
       "  838.13424360054159,\n",
       "  692.23608105960375,\n",
       "  287.23047026248423,\n",
       "  302.89661371057144,\n",
       "  544.90468482333699,\n",
       "  786.54036445342524])"
      ]
     },
     "execution_count": 113,
     "metadata": {},
     "output_type": "execute_result"
    }
   ],
   "source": [
    "simulation_step(data[\"muscle\"][\"TNNI1\"], metadata[\"muscle\"], training_size, 500, 2)"
   ]
  },
  {
   "cell_type": "code",
   "execution_count": 184,
   "metadata": {
    "collapsed": true
   },
   "outputs": [],
   "source": [
    "import sklearn.linear_model\n",
    "import sklearn.gaussian_process\n",
    "import sklearn.ensemble"
   ]
  },
  {
   "cell_type": "code",
   "execution_count": 129,
   "metadata": {},
   "outputs": [
    {
     "data": {
      "text/plain": [
       "([1035, 240, 345, 604, 866, 1111, 1000, 654, 12],\n",
       " [1180.4416652848959,\n",
       "  167.52638354817918,\n",
       "  116.2032159471828,\n",
       "  999.51459728417967,\n",
       "  1792.9460223145875,\n",
       "  545.27462705945163,\n",
       "  776.7729427635104,\n",
       "  1008.3131748388751,\n",
       "  -295.91493371530578])"
      ]
     },
     "execution_count": 129,
     "metadata": {},
     "output_type": "execute_result"
    }
   ],
   "source": [
    "simulation_step_LASSO(data[\"muscle\"][\"TNNI1\"], metadata[\"muscle\"], training_size, 500, 10**(-6))"
   ]
  },
  {
   "cell_type": "code",
   "execution_count": 168,
   "metadata": {},
   "outputs": [
    {
     "data": {
      "text/plain": [
       "([290, 697, 604, 866, 83, 240, 12, 654, 593],\n",
       " [842.56837658773838,\n",
       "  808.5509536507102,\n",
       "  1316.8245857102697,\n",
       "  1216.4766388870867,\n",
       "  331.81784653598788,\n",
       "  148.67596763589563,\n",
       "  -511.71247240208004,\n",
       "  1322.893079515416,\n",
       "  762.44125427740209])"
      ]
     },
     "execution_count": 168,
     "metadata": {},
     "output_type": "execute_result"
    }
   ],
   "source": [
    "simulation_step_LinearRegression(data[\"muscle\"][\"TNNI1\"], metadata[\"muscle\"], training_size, 500, None)"
   ]
  },
  {
   "cell_type": "code",
   "execution_count": 251,
   "metadata": {},
   "outputs": [
    {
     "data": {
      "text/plain": [
       "([297, 11, 12, 261, 1111, 240, 12, 604, 593],\n",
       " [1.3005021664136844e-09,\n",
       "  8.8085848924430758e-07,\n",
       "  2.6617723899309759e-07,\n",
       "  0.00011427458219940634,\n",
       "  2.3963825972422162e-07,\n",
       "  6.3064133225817739e-07,\n",
       "  2.733622151710565e-09,\n",
       "  1.2819875768275893e-06,\n",
       "  2.7697837395631482e-07])"
      ]
     },
     "execution_count": 251,
     "metadata": {},
     "output_type": "execute_result"
    }
   ],
   "source": [
    "simulation_step_GaussianProcess(data[\"muscle\"][\"nakamori\"], metadata[\"muscle\"], training_size, 500, None)"
   ]
  },
  {
   "cell_type": "code",
   "execution_count": 248,
   "metadata": {},
   "outputs": [
    {
     "data": {
      "text/plain": [
       "([561, 11, 1000, 345, 290, 999, 240, 83, 12],\n",
       " [487.30000000000001,\n",
       "  296.80000000000001,\n",
       "  764.29999999999995,\n",
       "  387.80000000000001,\n",
       "  589.39999999999998,\n",
       "  486.10000000000002,\n",
       "  379.39999999999998,\n",
       "  404.19999999999999,\n",
       "  241.59999999999999])"
      ]
     },
     "execution_count": 248,
     "metadata": {},
     "output_type": "execute_result"
    }
   ],
   "source": [
    "simulation_step_RandomForestRegressor(data[\"muscle\"][\"nakamori\"], metadata[\"muscle\"], training_size, 500, None)"
   ]
  },
  {
   "cell_type": "code",
   "execution_count": 116,
   "metadata": {
    "collapsed": true
   },
   "outputs": [],
   "source": [
    "def simulation(simulation_step, data, metadata, runs, no_probes, n_components):\n",
    "    sample_no, patient_no = data.shape\n",
    "    real_alleles = []\n",
    "    simulated_alleles = []\n",
    "    for i in range(runs):\n",
    "        real_allele, simulated_allele = simulation_step(data, metadata, patient_no//2, no_probes, n_components)\n",
    "        real_alleles += real_allele\n",
    "        simulated_alleles += simulated_allele\n",
    "    return real_alleles, simulated_alleles"
   ]
  },
  {
   "cell_type": "code",
   "execution_count": 118,
   "metadata": {
    "collapsed": true
   },
   "outputs": [],
   "source": [
    "def obtain_simulation(simulation, *args, **kwargs):\n",
    "    real_alleles, simulated_alleles = simulation(*args, **kwargs)\n",
    "    def save_at(path):\n",
    "        with open(path, \"w\") as f:\n",
    "            json.dump({\"real_alleles\": real_alleles,\n",
    "                       \"predicted_alleles\": simulated_alleles,\n",
    "                      }, f)\n",
    "    return save_at"
   ]
  },
  {
   "cell_type": "code",
   "execution_count": 95,
   "metadata": {
    "collapsed": true
   },
   "outputs": [],
   "source": [
    "def analyse_simulation(path, r2_to_p):\n",
    "    with open(path, \"r\") as f:\n",
    "        result = json.load(f)\n",
    "    real_alleles = result[\"real_alleles\"]\n",
    "    simulated_alleles = result[\"predicted_alleles\"]\n",
    "    r, _ = pearsonr(real_alleles, simulated_alleles)\n",
    "    r_squared = r**2\n",
    "    p_value = r2_to_p(r_squared)\n",
    "    return real_alleles, simulated_alleles, r_squared, p_value, "
   ]
  },
  {
   "cell_type": "code",
   "execution_count": 206,
   "metadata": {},
   "outputs": [
    {
     "data": {
      "text/plain": [
       "True"
      ]
     },
     "execution_count": 206,
     "metadata": {},
     "output_type": "execute_result"
    }
   ],
   "source": [
    "in_ipynb()"
   ]
  },
  {
   "cell_type": "code",
   "execution_count": 210,
   "metadata": {
    "collapsed": true
   },
   "outputs": [],
   "source": [
    "if in_ipynb():\n",
    "    %matplotlib inline"
   ]
  },
  {
   "cell_type": "code",
   "execution_count": 211,
   "metadata": {
    "collapsed": true
   },
   "outputs": [],
   "source": [
    "def present_result(name, tissue, model_name, real_allele, simulated_allele, r_squared, p_value):\n",
    "    if in_ipynb():\n",
    "        plt.figure()\n",
    "        plt.scatter(real_allele, simulated_allele)\n",
    "        plt.xlabel(\"measured allele length\")\n",
    "        plt.ylabel(\"predicted allele length\")\n",
    "    print(\"In {}, {}, using {} r² is {}, which corrsponds to p-value {}\".format(name, tissue, model_name, r_squared, p_value))"
   ]
  },
  {
   "cell_type": "code",
   "execution_count": 123,
   "metadata": {
    "collapsed": true
   },
   "outputs": [],
   "source": [
    "def simulated_r2(metadata, times):\n",
    "    r2s = []\n",
    "    for i in range(times):\n",
    "        repeat_length_random = metadata.modal_allele[:]\n",
    "        random.shuffle(repeat_length_random)\n",
    "        inter_r, _ = pearsonr(metadata.modal_allele, repeat_length_random)\n",
    "        r2s.append(inter_r**2)\n",
    "    r2s.sort()\n",
    "    def check_value(r_squared):\n",
    "        p_value = 1 - bisect.bisect_right(r2s, r_squared)/float(times)\n",
    "        return p_value\n",
    "    return check_value"
   ]
  },
  {
   "cell_type": "code",
   "execution_count": 124,
   "metadata": {
    "collapsed": true
   },
   "outputs": [],
   "source": [
    "muscle_r2_to_p = simulated_r2(muscle_meta, r2_simulation_size)"
   ]
  },
  {
   "cell_type": "code",
   "execution_count": 125,
   "metadata": {
    "collapsed": true
   },
   "outputs": [],
   "source": [
    "blood_r2_to_p = simulated_r2(blood_meta, r2_simulation_size)"
   ]
  },
  {
   "cell_type": "code",
   "execution_count": 126,
   "metadata": {
    "collapsed": true
   },
   "outputs": [],
   "source": [
    "r2_to_p = {\"muscle\": muscle_r2_to_p, \"blood\": blood_r2_to_p}"
   ]
  },
  {
   "cell_type": "code",
   "execution_count": 89,
   "metadata": {
    "collapsed": true
   },
   "outputs": [],
   "source": [
    "base_path = \"simulation_results\"\n",
    "try:\n",
    "    os.mkdir(base_path)\n",
    "except OSError:\n",
    "    pass"
   ]
  },
  {
   "cell_type": "code",
   "execution_count": 130,
   "metadata": {},
   "outputs": [
    {
     "data": {
      "text/plain": [
       "['__annotations__',\n",
       " '__call__',\n",
       " '__class__',\n",
       " '__closure__',\n",
       " '__code__',\n",
       " '__defaults__',\n",
       " '__delattr__',\n",
       " '__dict__',\n",
       " '__dir__',\n",
       " '__doc__',\n",
       " '__eq__',\n",
       " '__format__',\n",
       " '__ge__',\n",
       " '__get__',\n",
       " '__getattribute__',\n",
       " '__globals__',\n",
       " '__gt__',\n",
       " '__hash__',\n",
       " '__init__',\n",
       " '__init_subclass__',\n",
       " '__kwdefaults__',\n",
       " '__le__',\n",
       " '__lt__',\n",
       " '__module__',\n",
       " '__name__',\n",
       " '__ne__',\n",
       " '__new__',\n",
       " '__qualname__',\n",
       " '__reduce__',\n",
       " '__reduce_ex__',\n",
       " '__repr__',\n",
       " '__setattr__',\n",
       " '__sizeof__',\n",
       " '__str__',\n",
       " '__subclasshook__']"
      ]
     },
     "execution_count": 130,
     "metadata": {},
     "output_type": "execute_result"
    }
   ],
   "source": [
    "dir(simulation_step)"
   ]
  },
  {
   "cell_type": "code",
   "execution_count": 241,
   "metadata": {
    "collapsed": true
   },
   "outputs": [],
   "source": [
    "def example_workflow(name, tissue, simulation_step, simulation_runs, select_top_k_genes, PLSR_dimensions):\n",
    "    #print()\n",
    "    path = os.path.join(base_path, \"{}_{}_{}_{}_{}_{}\".format(name, tissue, simulation_runs, select_top_k_genes, PLSR_dimensions, simulation_step.__name__))\n",
    "    obtain_simulation(simulation, simulation_step, data[tissue][name], metadata[tissue], simulation_runs, select_top_k_genes, PLSR_dimensions)(path)\n",
    "    real_allele, simulated_allele, r2, p = analyse_simulation(path, r2_to_p[tissue])\n",
    "    print(real_allele, simulated_allele)\n",
    "    present_result(name, tissue, simulation_step.__name__, real_allele, simulated_allele, r2, p)"
   ]
  },
  {
   "cell_type": "code",
   "execution_count": 223,
   "metadata": {},
   "outputs": [
    {
     "name": "stderr",
     "output_type": "stream",
     "text": [
      "/home/picrin/anaconda3/lib/python3.6/site-packages/sklearn/linear_model/coordinate_descent.py:491: ConvergenceWarning: Objective did not converge. You might want to increase the number of iterations. Fitting data with very small alpha may cause precision problems.\n",
      "  ConvergenceWarning)\n"
     ]
    },
    {
     "name": "stdout",
     "output_type": "stream",
     "text": [
      "In nakamori, muscle, using simulation_step_LASSO r² is 0.1575471111900755, which corrsponds to p-value 0.04126300000000005\n"
     ]
    },
    {
     "data": {
      "image/png": "[encoded data removed]",
      "text/plain": [
       "<matplotlib.figure.Figure at 0x7fb597b72860>"
      ]
     },
     "metadata": {},
     "output_type": "display_data"
    }
   ],
   "source": [
    "example_workflow(name=\"nakamori\", simulation_step=simulation_step_LASSO, tissue=\"muscle\", simulation_runs=50, select_top_k_genes=500, PLSR_dimensions=1)"
   ]
  },
  {
   "cell_type": "code",
   "execution_count": 224,
   "metadata": {},
   "outputs": [
    {
     "name": "stdout",
     "output_type": "stream",
     "text": [
      "In nakamori, muscle, using simulation_step_LinearRegression r² is 0.18180459862372564, which corrsponds to p-value 0.027614000000000027\n"
     ]
    },
    {
     "data": {
      "image/png": "[encoded data removed]",
      "text/plain": [
       "<matplotlib.figure.Figure at 0x7fb5eb3eb5c0>"
      ]
     },
     "metadata": {},
     "output_type": "display_data"
    }
   ],
   "source": [
    "example_workflow(name=\"nakamori\", simulation_step=simulation_step_LinearRegression, tissue=\"muscle\", simulation_runs=50, select_top_k_genes=500, PLSR_dimensions=None)"
   ]
  },
  {
   "cell_type": "code",
   "execution_count": 242,
   "metadata": {},
   "outputs": [
    {
     "name": "stdout",
     "output_type": "stream",
     "text": [
      "[1035, 186, 604, 1000, 345, 1111, 12, 83, 408, 77, 240, 654, 561, 12, 12, 408, 1111, 866, 740, 77, 345, 290, 872, 1261, 12, 1000, 993, 561, 697, 345, 12, 740, 290, 604, 240, 12, 1000, 83, 11, 999, 261, 866, 1261, 999, 11, 993, 345, 83, 1035, 77, 290, 1111, 12, 186, 593, 12, 11, 83, 290, 297, 872, 408, 593, 12, 1035, 993, 1111, 240, 561, 654, 999, 83, 1035, 240, 297, 77, 993, 186, 261, 345, 12, 290, 866, 604, 12, 77, 12, 604, 999, 12, 345, 83, 1261, 697, 872, 11, 1035, 1000, 261, 697, 11, 1111, 12, 654, 872, 1000, 297, 604, 77, 593, 740, 240, 593, 866, 604, 83, 999, 1035, 1000, 77, 1111, 561, 290, 740, 345, 12, 561, 654, 12, 408, 1261, 77, 345, 697, 297, 11, 593, 290, 1000, 240, 654, 408, 593, 1261, 12, 604, 872, 186, 993, 83, 1035, 561, 740, 11, 604, 12, 83, 290, 1035, 1111, 12, 297, 561, 872, 1261, 993, 408, 11, 11, 186, 993, 1111, 240, 77, 654, 12, 604, 12, 872, 290, 866, 740, 697, 1000, 77, 561, 999, 1035, 654, 186, 740, 11, 240, 345, 83, 12, 345, 1000, 12, 604, 83, 11, 408, 872, 1035, 240, 866, 12, 593, 654, 83, 866, 604, 872, 593, 654, 240, 12, 12, 999, 697, 11, 12, 1111, 561, 12, 12, 83, 999, 1111, 1000, 11, 261, 1261, 77, 345, 872, 866, 83, 12, 345, 1111, 872, 999, 1000, 1261, 12, 593, 993, 697, 654, 740, 12, 604, 290, 999, 77, 297, 345, 561, 11, 993, 408, 1000, 1035, 261, 561, 999, 866, 604, 654, 345, 1035, 697, 11, 408, 740, 12, 297, 12, 297, 11, 561, 740, 999, 697, 1000, 993, 12, 604, 290, 593, 83, 12, 408, 654, 83, 186, 561, 1000, 12, 12, 999, 297, 1035, 866, 604, 872, 261, 12, 1261, 12, 290, 1000, 593, 866, 999, 297, 1035, 83, 654, 872, 593, 290, 1111, 697, 12, 1035, 604, 261, 866, 561, 993, 872, 654, 240, 12, 561, 240, 12, 1261, 186, 261, 654, 1111, 866, 345, 297, 604, 872, 561, 12, 345, 872, 866, 408, 999, 12, 77, 593, 1261, 186, 604, 12, 866, 240, 83, 261, 1000, 77, 872, 1035, 561, 740, 12, 290, 999, 697, 593, 408, 186, 1261, 654, 697, 561, 261, 77, 290, 12, 11, 866, 999, 872, 1261, 240, 740, 1111, 77, 186, 12, 345, 604, 12, 697, 11, 408, 593, 604, 654, 872, 240, 261, 561, 740, 1000, 999, 12, 993, 12, 83, 604, 697, 1000, 12, 1261, 1111, 11, 740, 240, 77, 290, 561, 654, 993, 1261, 740, 186, 872, 1111, 408, 593, 83, 240, 561, 866, 604, 297, 12, 408, 993, 1035, 345, 1111, 561, 604, 697, 77, 240, 872, 290, 261, 12, 297, 11, 872, 1035, 186, 1000, 1111, 12, 561, 12, 83, 999, 697, 12, 12, 561, 186, 408, 1111, 1035, 740, 345, 593, 290, 11, 866, 1000, 993, 872, 593, 1111, 697, 345, 11, 1261, 12, 1035, 740, 993, 290, 77, 12, 12, 290, 654, 11, 872, 993, 345, 240, 866, 1261, 12, 697, 77, 561, 12, 186, 697, 408, 240, 872, 654, 999, 1111, 297, 604, 345, 1000, 1035, 240, 77, 186, 408, 561, 261, 1261, 345, 872, 999, 866, 1035, 654, 993, 408, 290, 604, 83, 654, 1261, 740, 12, 593, 12, 1000, 345, 1111, 240, 83, 604, 1000, 866, 12, 740, 297, 1035, 261, 240, 290, 345, 697, 999, 1261, 290, 240, 872, 604, 83, 561, 12, 297, 1111, 1000, 740, 12, 345, 604, 345, 12, 654, 297, 1111, 83, 1000, 290, 697, 593, 1261, 12, 77, 872, 12, 866, 186, 11, 408, 697, 12, 261, 297, 1261, 83, 240, 999, 408, 83, 740, 12, 654, 12, 261, 993, 186, 1111, 297, 999, 11, 290, 872, 11, 866, 1111, 345, 993, 261, 654, 12, 83, 604, 593, 740, 186, 604, 593, 1261, 345, 1111, 240, 866, 186, 290, 12, 697, 77, 1000, 993, 654, 261, 297, 408, 83, 12, 604, 345, 186, 740, 1035, 1261, 593, 866, 740, 408, 12, 240, 290, 593, 1111, 12, 872, 345, 11, 1261, 1000, 866, 872, 240, 604, 1035, 1000, 866, 12, 561, 993, 999, 261, 11, 1111, 77] [1.4082664486188109e-09, 3.060124888030758e-05, 8.037457721499971e-07, 7.057604245909392e-05, 1.612791578379216e-09, 1.1190626542535385e-07, 3.7437812924831276e-08, 3.484673588811908e-07, 3.0107941627111846e-08, 9.735345486012522e-06, 3.531668166320726e-08, 1.1349519968649674e-05, 6.315151771423909e-06, 2.609413703867513e-08, 7.934537968977169e-07, 1.7405966965345084e-12, 5.3271329800088365e-11, 2.371911801112387e-08, 2.0579397751721606e-09, 1.070333428703124e-06, 1.5793083454814852e-06, 1.3990052558794305e-05, 4.386150925076538e-19, 3.362078687921186e-07, 6.696745441945148e-06, 3.053981964574764e-05, 7.648755695535668e-08, 2.5925800211766184e-05, 2.855619407621462e-09, 6.72943574949157e-10, 8.145627697401251e-06, 6.361677699562943e-08, 1.2544586603420422e-05, 3.1003260286671055e-08, 4.960018052219281e-07, 3.2550197391607443e-06, 0.000603059040558835, 8.143942964138431e-07, 1.1627345181682505e-05, 0.00035146045365264225, 0.002963510353466307, 1.8072772302107473e-09, 2.4683574141253868e-05, 8.265557592710948e-05, 5.383584213726982e-06, 5.877212711379396e-10, 6.292509813025696e-07, 5.370629998340064e-07, 3.938051279514552e-07, 2.0238900587773687e-06, 4.660344490259625e-05, 2.3666732712919755e-06, 8.521992381183229e-07, 0.0005497372885101107, 1.9055498939014232e-05, 7.943149259387978e-08, 4.714063886982654e-10, 9.573019208604113e-09, 1.255070780994596e-06, 4.499732489825489e-11, 7.89844959532253e-15, 4.327544381347147e-12, 1.064877313089746e-07, 4.080348467342081e-13, 4.3101076533064124e-10, 7.570117452129748e-11, 4.844685058257762e-11, 1.8574168896275936e-12, 2.2659305033268975e-06, 5.409013731405981e-08, 0.000806789389931223, 6.545995237163903e-08, 0.0, 3.734697465443015e-08, 3.4169030264868594e-09, 4.711900537551424e-07, 0.0, 0.004304288479410263, 0.0021370839045266503, 1.51148846761492e-08, 3.647421602961189e-08, 0.00013064715519699716, 0.0, 1.0711605456132522e-06, 7.811451657033084e-08, 3.75203930972184e-05, 9.411935760605547e-06, 4.969941380941062e-06, 2.2364208041108715e-06, 2.6018961863034022e-08, 3.604534324394451e-08, 7.332870471889924e-07, 5.772637368516328e-10, 6.042207460004938e-10, 1.7945031787300024e-09, 8.373651208423884e-05, 4.766989046381267e-08, 0.05747111582003419, 6.085768353975765e-05, 3.6352538130653694e-07, 2.0859706054870312e-06, 2.714489997327865e-07, 2.8432635254245865e-07, 7.572981725323425e-07, 3.773870858861461e-17, 1.8880696048035658e-06, 1.782716925452543e-08, 5.010960618739479e-06, 2.919290965197506e-06, 8.549797948133234e-06, 4.657597247822073e-05, 9.65659234228145e-08, 9.885195763427237e-05, 4.56748980742872e-10, 1.6948080723989459e-06, 4.533847291476013e-07, 9.932183939367591e-07, 1.556431599517729e-10, 0.001355952318766845, 1.189886935121523e-06, 1.7058849414298052e-06, 6.065592569815195e-05, 0.00015746632848369146, 4.0931855671742676e-07, 7.161127366100751e-09, 5.566415257557567e-07, 5.476886870809318e-05, 2.5151327111038967e-05, 2.9937850066310565e-09, 4.744571356304495e-13, 9.643747676641608e-11, 2.5329785619469256e-07, 7.719396045612709e-07, 2.9565124330106734e-15, 5.074982200717502e-08, 3.2314203925154496e-06, 1.6823909672707777e-06, 9.463038921846557e-05, 2.2041869414422306e-05, 2.1799670085162102e-07, 2.740949912655455e-06, 8.304984670665572e-14, 3.434538457352572e-06, 1.4842620508652045e-09, 2.9683510472817634e-10, 4.1632333649895176e-08, 7.04979652152489e-15, 6.345610302042216e-08, 4.189556538399874e-12, 4.433386757919058e-08, 1.6053184595834361e-09, 7.234438859877684e-08, 1.2604010414275498e-07, 2.369163026428618e-11, 1.8422774796105227e-08, 1.5226326581661993e-08, 3.9912429065948425e-08, 6.432954607809206e-05, 3.868048486253087e-08, 7.384712710105097e-10, 2.096555819049366e-09, 5.307461679295138e-10, 6.46027647392104e-06, 1.8106358563599676e-12, 1.4520868027043825e-08, 3.666053614766139e-08, 9.590298415516687e-10, 4.781492781327214e-08, 5.988940452985188e-07, 7.020023447502342e-05, 2.9184929569788907e-10, 3.1488790055979633e-10, 1.4536750441537979e-08, 4.0091607931277625e-09, 3.7071857809013544e-06, 7.791620873999506e-11, 1.941562021406045e-08, 1.1868202418879106e-08, 7.833568169703887e-14, 2.245252578777932e-07, 5.663194492988076e-10, 1.1503415744413897e-09, 8.848563123352571e-10, 5.1649767658067e-05, 5.674043135016311e-07, 3.0343248196395775e-06, 5.056778188867819e-07, 7.668823011561408e-10, 0.0001438399769033571, 3.076841348595123e-06, 2.7874109524572036e-07, 2.126054832887912e-08, 3.256599416687425e-07, 1.7034153108399357e-08, 9.346645162444834e-07, 2.087882231100612e-07, 1.4753490361050336e-07, 6.729369107825109e-06, 1.9460513956854733e-05, 8.961958461758077e-06, 4.483893477026681e-06, 3.920076152024321e-06, 1.681521249642768e-11, 1.479672430977385e-11, 7.744653822318526e-11, 1.0586898762082044e-07, 4.9410121939174185e-12, 3.086869769105788e-07, 4.672530948396015e-06, 0.00015014481304771317, 9.695233871474898e-09, 2.1610324903663483e-08, 8.475819668030145e-07, 1.7086135490657306e-11, 2.5638151020706436e-05, 0.00017106078110353033, 1.4333982758134457e-07, 1.9950530610450928e-08, 5.604559414999007e-07, 0.0016383979906770948, 1.6336726636392196e-08, 1.5177321181540554e-05, 5.074535821468381e-05, 8.461887847162009e-10, 2.549895737427648e-05, 5.516329218844978e-07, 4.987531891400458e-09, 5.6950943827986e-05, 0.000187506910616217, 5.913225172828261e-08, 0.00324702821031027, 0.00010434219477319864, 0.001416562414283582, 1.962379020495924e-06, 0.00042907754286687275, 1.2612271942128193e-05, 3.771644475779447e-13, 1.26026857071528e-07, 0.0005529124154263, 0.0054679579013214765, 0.00016091792211805032, 0.0008209417266295531, 5.054490087498996e-37, 0.030709175815774523, 2.2526713087097045e-05, 4.9375500632939165e-05, 4.090545268130709e-06, 0.026160408424752656, 3.104339118216401e-07, 3.161669073383344e-08, 0.021232527050942127, 0.0034149639303990504, 1.182690273169893e-09, 1.4658491402531504e-08, 1.1677918252813405e-06, 4.524101274374165e-07, 4.458238968867364e-09, 6.104857938584949e-08, 3.7807364394327436e-10, 5.722850623215173e-07, 3.784457988988634e-09, 4.951443814776271e-10, 3.6939111921567115e-10, 0.00010079117389630573, 1.4223865192948852e-08, 5.794152313211785e-05, 1.32858064491912e-06, 6.9322059922517585e-06, 5.642597002249002e-11, 9.115774402621461e-08, 3.776533113098762e-05, 6.722777824197498e-09, 1.9504386504186933e-09, 1.6486440180005567e-11, 3.329074020176972e-08, 1.1264546163365813e-09, 1.8805229798304984e-08, 4.3317806524502343e-07, 9.124821519406122e-09, 1.6422047615389717e-06, 3.244088069960686e-08, 6.600722542755053e-07, 6.410431048006932e-05, 1.036893315340136e-07, 1.7949502066114553e-07, 2.557325097750066e-09, 0.0015151177807779946, 4.1889717800470266e-10, 2.1217013718226455e-05, 1.0453824870974637e-07, 1.5223080098522676e-06, 9.193408484285435e-06, 6.15796445992665e-08, 2.971148968295356e-08, 1.5142896419705242e-10, 7.72758353607677e-05, 5.363729560222164e-07, 0.0003425168446290415, 3.6791196200176766e-05, 0.0001390094535033992, 4.5274498901010904e-05, 2.2973622254176066e-06, 1.485932464001107e-05, 1.7871095559403057e-07, 5.505380977310062e-10, 2.378578990604877e-11, 2.6846294609618703e-08, 1.3251703144650938e-10, 0.0013701103880647107, 3.6245264218421054e-08, 2.81057431433262e-07, 4.956078586938182e-09, 5.687000109475657e-05, 2.599151148074578e-06, 8.209938555882105e-07, 3.393166850953381e-14, 0.00011966059301288504, 4.1687990808217537e-07, 1.2454146935773975e-12, 1.257521904438663e-06, 2.5362288077894275e-06, 2.4763693941809645e-12, 7.149687642634756e-08, 1.1453356048950113e-06, 3.1213540567728144e-08, 4.021788965586873e-10, 3.4238950762990034e-07, 0.0, 9.331402321735921e-07, 2.1679743183613926e-06, 0.0, 8.420655142580264e-06, 0.0, 6.296387180065127e-18, 7.476891896578769e-08, 6.701793314946408e-10, 6.404149586019234e-06, 8.482647063557911e-06, 1.3657392219091942e-07, 1.580844331653531e-07, 5.9763808987789e-07, 6.847720238781281e-08, 0.0011145113057799334, 1.595194219052165e-05, 2.9828051118585173e-07, 8.565870962356771e-08, 5.212748698022187e-06, 3.593784062748703e-09, 1.4000399124159053e-06, 1.680381914961762e-12, 4.0237953173725226e-05, 1.68970565115547e-08, 1.4657690804967675e-07, 1.8143348977437765e-10, 2.9230162046219818e-08, 3.0833804038564023e-09, 5.099676841551044e-07, 1.0254252448778375e-07, 2.800231630115149e-06, 1.871969080999772e-06, 1.2773984509704092e-10, 8.330776784716315e-08, 6.165852632512896e-06, 2.9251265543005618e-08, 6.542043415786245e-12, 1.6433280368175465e-11, 1.4154515888989258e-09, 1.4500367594965927e-06, 0.0012768509199045707, 4.798740823863387e-08, 4.720597640582024e-09, 2.0090061229942048e-10, 1.3291384828494103e-06, 2.2626438728792324e-08, 4.8466796143207496e-09, 1.3496808414802256e-05, 3.5265240450302534e-05, 8.49925020531408e-09, 1.9049058677529183e-08, 6.519792361252227e-08, 2.3094961265075285e-08, 9.91877519449849e-09, 1.3145050011766847e-05, 1.921270869861769e-09, 7.785804642568106e-09, 1.7429424725563566e-07, 2.725973575069048e-07, 1.8086700261637876e-06, 2.1367553515777327e-06, 1.1376273099819858e-08, 6.798966778342812e-09, 3.978839398521813e-06, 2.7562350326538563e-13, 1.1933928931918882e-05, 5.026817771004671e-08, 4.762676576904228e-06, 5.296068666249751e-06, 6.085562602226076e-08, 0.0009801025163728944, 6.112928987040605e-08, 3.813453359369357e-08, 2.4179503024569166e-05, 3.56904270211228e-07, 2.64543251225643e-08, 8.654729756572312e-06, 5.420315890133662e-06, 2.918336421417656e-06, 1.3390017866674578e-09, 2.419565060096989e-08, 1.8303404262310095e-17, 7.004883990304484e-11, 4.896227683911872e-08, 3.0709935954765073e-06, 1.6864850097605936e-05, 3.655579605657914e-07, 6.598415613534774e-07, 1.034298666732107e-10, 1.2621155489605022e-08, 0.0003018548508268993, 9.6827230140229e-11, 9.23575580730683e-05, 6.434867200446985e-08, 8.447493969141372e-05, 4.598465141553872e-06, 3.921300555797366e-05, 1.5999190698671244e-05, 0.00024829393066029613, 5.413455951090822e-07, 6.469346329798659e-05, 2.0214142194697077e-05, 6.697159640130056e-05, 0.000984604781200393, 0.004270038389527904, 1.5334274215784687e-09, 5.981418026795564e-05, 8.585879970195e-05, 0.0001911303046294562, 8.389868513293501e-16, 3.92758825219248e-05, 4.4936598790698135e-05, 0.00045837072379178995, 1.7363986707467217e-05, 1.2987621358008495e-06, 0.0001004082619228752, 8.446296509081232e-08, 1.3678696204243101e-06, 3.0980881362063106e-09, 2.143807356477385e-06, 1.7861730699031556e-09, 1.3265315762525178e-09, 1.0667412278758397e-08, 3.3854062190377064e-09, 1.137996286633338e-09, 3.6736369087216356e-06, 1.4690766191360718e-08, 4.350579926713302e-09, 2.5014895251303683e-09, 9.195709784837589e-10, 1.2225320864975951e-11, 5.060651151113443e-07, 1.9334414309313912e-05, 2.931465705794772e-09, 1.6140241948251734e-07, 6.644513460058946e-10, 9.956161949298122e-14, 1.2887194504199567e-08, 1.1886767960274359e-06, 0.0016474020782083223, 1.9929953678096786e-09, 8.37789237131821e-05, 1.259664876396386e-06, 1.0586372485629308e-09, 2.9774858629186268e-06, 3.213221575447884e-06, 5.276387291418603e-10, 8.207752900325345e-08, 4.2791296291818154e-08, 6.204692834317119e-07, 1.007057233434576e-06, 4.8482066532779414e-08, 5.115215343784342e-10, 0.0, 1.0717970858542507e-06, 1.057623584724579e-08, 2.2799131444009543e-05, 3.1268368378250182e-09, 5.034833096015049e-08, 0.0, 0.0013283464004630826, 0.0, 1.339945844341016e-13, 1.551197537176079e-05, 9.836968390636201e-08, 2.9881123028175823e-07, 7.1430927754739464e-09, 7.031514945896205e-07, 1.7523155076629154e-07, 1.601392224948621e-09, 5.189260906239531e-06, 1.2648533248273297e-08, 5.7982651062266545e-08, 9.473340679576082e-07, 7.857715246497725e-09, 1.3806835893608265e-07, 2.5514573904276122e-09, 1.5909767050584505e-06, 1.8201103677313964e-05, 9.266355077147117e-06, 1.0011516442243976e-09, 6.583307207270672e-10, 5.372763715754919e-07, 9.157769301631175e-08, 5.578769583238906e-10, 4.874804127236209e-10, 2.5951294899411992e-08, 5.027561125944511e-10, 2.0542214423319113e-08, 5.421280182317302e-05, 1.6514713578261942e-06, 0.0004276880693541658, 7.726550167007805e-08, 7.284990322529923e-13, 1.7861780293408905e-07, 4.2579082157203544e-12, 2.9665195503393413e-05, 8.710843669672954e-05, 2.52736461710381e-12, 2.3766180030720664e-08, 1.2078395925788536e-08, 5.627855989502144e-08, 2.4529208858433154e-05, 2.700461705928762e-08, 1.2445982675783277e-08, 2.9403950492606407e-08, 6.249004336547587e-07, 5.601982362819182e-09, 7.983759518964569e-08, 1.887550969557842e-05, 2.2988004359882896e-07, 4.3977925299937905e-08, 2.3393893798206595e-16, 2.3755729947497265e-06, 0.0, 0.0, 1.5783046600766408e-06, 0.0, 5.261121277104299e-07, 1.091529144806773e-05, 4.02917017324026e-05, 0.0007066559746208358, 0.0009228952966079032, 2.667986127318631e-05, 1.5964346007217168e-06, 9.358850089508313e-05, 0.0006160080364664631, 9.213128866810845e-05, 7.116955994736042e-06, 1.344349508777705e-05, 3.9014722877735314e-05, 1.3635419294321798e-05, 5.848028616717442e-08, 2.3040722979098405e-08, 0.0007253550083497644, 8.958820174479664e-10, 4.814169134385014e-07, 1.0279069468590968e-07, 2.1228148447588158e-08, 5.497091620719588e-10, 0.0004201571862407942, 2.4927031659226205e-07, 6.4772567381133866e-06, 1.0353531064573154e-08, 5.342296262244568e-09, 0.0002875107609212743, 3.740898023537342e-05, 0.00016329994054789865, 1.2601538900803766e-05, 1.4637184532083473e-18, 2.9764788625877883e-05, 0.0003120565485711361, 0.0009803404753665817, 3.6428694696119976e-05, 3.442033808853779e-07, 7.706765372100628e-07, 0.00014549865132147262, 1.296152933123484e-05, 6.958996039011371e-06, 3.3270340960282965e-06, 2.69972664567962e-05, 1.478168703616329e-05, 0.00016189014995862574, 0.0005447829189645245, 4.7301441974315397e-08, 3.5928695576355796e-06, 0.00017291404949086283, 3.386154403370429e-06, 0.0008191519525042128, 1.382046611971517e-07, 0.0004146856116737522, 7.103885186417368e-07, 3.925207648180509e-06, 2.879770333486659e-05, 2.073855781962974e-10, 1.193665486380812e-09, 1.7212869865260976e-09, 1.1438063784975124e-06, 8.906489246178538e-08, 1.732540086484156e-11, 3.3508282818361104e-14, 3.468941032565562e-07, 4.026095505457525e-05, 2.252223882116551e-09, 1.3482250440259086e-11, 1.0013504933277544e-09, 2.4183085293454044e-09, 2.7862842746867386e-05, 4.450035988716636e-08, 3.51196374849458e-08, 4.933957219197959e-09, 4.7187168724320315e-07, 5.518205895803363e-06, 9.268727246265944e-08, 6.860454798580766e-05, 1.1859240102046998e-09, 1.3215274879785364e-05, 1.0036584980720773e-08, 1.0044260937553107e-10, 7.729021382040032e-06, 4.5781588696443784e-08, 3.8130009364598084e-08, 1.9101809967342318e-14, 2.0256793204206394e-06, 1.2766973049859589e-09, 7.221454516320181e-08, 9.429274403806638e-09, 9.49181666789784e-11, 2.975525602874424e-05, 4.098279888197712e-05, 3.2683750809434083e-07, 3.851491126304164e-09, 1.182533766102078e-07, 4.8960836969004e-08, 1.7537215825413872e-07, 0.00044988830388951583, 9.582589559298137e-06, 0.00022477867323741126, 1.9134909387473455e-08, 6.7846131038516484e-06, 1.2776981288721263e-06, 1.3481998108129997e-05, 1.542343494030521e-08, 2.907651844587358e-06, 0.00017497037622452719, 4.916418228185169e-07, 1.746396883730456e-08, 8.863402577262318e-07, 1.293957709988107e-05, 6.5290431422398305e-09, 1.2536992553023197e-06, 4.367996690790771e-06, 1.8159270899609496e-09, 1.2102969346468415e-05, 3.8786010434209236e-08, 9.942235131543997e-08, 5.005953135932565e-08, 7.694330959613987e-09, 0.00015869515173148977, 4.0271698254488275e-07, 1.553430012788243e-08, 2.9153807738740513e-06, 2.3202133843678074e-07, 5.153942882648557e-10, 2.5276408627177456e-06, 1.2007282469998314e-10, 4.595487109919058e-06, 4.181381866231986e-06, 4.17624203365008e-05, 0.0012939662474737474, 3.857732566704344e-10, 9.67293344342406e-07, 6.7508094011021474e-15, 1.0984437477736821e-06, 4.951642814886507e-05, 2.0555530230424223e-05, 0.0006966093077230449, 1.6478002903004412e-07, 2.390690106545232e-11, 1.2113505525329784e-07, 6.47866649762864e-07, 0.0, 5.988460120785353e-05, 0.0, 3.8911894767500435e-08, 6.943466695010418e-05, 0.0, 4.8343283537195615e-05, 0.0007141103245465465, 3.7584892074861965e-06, 2.860962811806922e-07, 8.749899624944701e-06]\n",
      "In nakamori, muscle, using simulation_step_GaussianProcess r² is 0.003672296862471181, which corrsponds to p-value 0.762908\n"
     ]
    },
    {
     "data": {
      "image/png": "[encoded data removed]",
      "text/plain": [
       "<matplotlib.figure.Figure at 0x7fb5ad1d8f60>"
      ]
     },
     "metadata": {},
     "output_type": "display_data"
    }
   ],
   "source": [
    "example_workflow(name=\"nakamori\", simulation_step=simulation_step_GaussianProcess, tissue=\"muscle\", simulation_runs=50, select_top_k_genes=500, PLSR_dimensions=None)"
   ]
  },
  {
   "cell_type": "code",
   "execution_count": 229,
   "metadata": {},
   "outputs": [
    {
     "name": "stdout",
     "output_type": "stream",
     "text": [
      "In nakamori, muscle, using simulation_step_PLSR r² is 0.1650698141497103, which corrsponds to p-value 0.03649100000000005\n"
     ]
    },
    {
     "data": {
      "image/png": "[encoded data removed]",
      "text/plain": [
       "<matplotlib.figure.Figure at 0x7fb5ec4616a0>"
      ]
     },
     "metadata": {},
     "output_type": "display_data"
    }
   ],
   "source": [
    "example_workflow(name=\"nakamori\", simulation_step=simulation_step_PLSR, tissue=\"muscle\", simulation_runs=50, select_top_k_genes=500, PLSR_dimensions=2)"
   ]
  },
  {
   "cell_type": "code",
   "execution_count": 230,
   "metadata": {},
   "outputs": [
    {
     "name": "stdout",
     "output_type": "stream",
     "text": [
      "In nakamori, muscle, using simulation_step_RandomForestRegressor r² is 0.08836142770440113, which corrsponds to p-value 0.132015\n"
     ]
    },
    {
     "data": {
      "image/png": "[encoded data removed]",
      "text/plain": [
       "<matplotlib.figure.Figure at 0x7fb5ab2fddd8>"
      ]
     },
     "metadata": {},
     "output_type": "display_data"
    }
   ],
   "source": [
    "example_workflow(name=\"nakamori\", simulation_step=simulation_step_RandomForestRegressor, tissue=\"muscle\", simulation_runs=50, select_top_k_genes=500, PLSR_dimensions=None)"
   ]
  },
  {
   "cell_type": "code",
   "execution_count": null,
   "metadata": {
    "collapsed": true
   },
   "outputs": [],
   "source": []
  }
 ],
 "metadata": {
  "kernelspec": {
   "display_name": "Python 3",
   "language": "python",
   "name": "python3"
  },
  "language_info": {
   "codemirror_mode": {
    "name": "ipython",
    "version": 3
   },
   "file_extension": ".py",
   "mimetype": "text/x-python",
   "name": "python",
   "nbconvert_exporter": "python",
   "pygments_lexer": "ipython3",
   "version": "3.6.2"
  }
 },
 "nbformat": 4,
 "nbformat_minor": 2
}
