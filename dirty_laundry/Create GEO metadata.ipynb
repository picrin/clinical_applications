{
 "cells": [
  {
   "cell_type": "code",
   "execution_count": 16,
   "metadata": {
    "collapsed": true
   },
   "outputs": [],
   "source": [
    "import os"
   ]
  },
  {
   "cell_type": "code",
   "execution_count": 3,
   "metadata": {},
   "outputs": [
    {
     "data": {
      "text/plain": [
       "['plos_latex_template.pdf',\n",
       " 'intensities.zip',\n",
       " 'dirty_laundry',\n",
       " 'metadata.txt',\n",
       " 'intensities',\n",
       " 'quantile_normalise.ipynb',\n",
       " 'requirements.txt',\n",
       " 'prepare_predictions_just_one_gene.ipynb',\n",
       " '.ipynb_checkpoints',\n",
       " 'reproducablity_instructions',\n",
       " 'L1Penalise',\n",
       " 'predictions.ipynb',\n",
       " 'present_results.ipynb',\n",
       " 'verify_genecode.ipynb',\n",
       " 'venv',\n",
       " 'CEL',\n",
       " '.~lock.GA_affy_Exon_Matrix_DMBDI.xls#',\n",
       " 'lives_on_the_mac.pem',\n",
       " 'intervaltrees.ipynb',\n",
       " 'unpack_CEL_files.ipynb',\n",
       " 'simulation_results',\n",
       " 'reannotate_probeset_level.ipynb',\n",
       " 'qn',\n",
       " 'README.md',\n",
       " 'writeup.txt',\n",
       " 'merge_annotation_experiment.ipynb',\n",
       " 'batra_genes.txt',\n",
       " '.git',\n",
       " 'experiment_muscle',\n",
       " 'plos-latex-template.zip',\n",
       " 'GA_affy_Exon_Matrix_DMBDI.xls',\n",
       " 'parse_csv_annotations.ipynb',\n",
       " 'probesets',\n",
       " 'nakamori_genes.txt',\n",
       " 'experiment_blood',\n",
       " 'plos2015.bst',\n",
       " 'annotations',\n",
       " '.gitignore',\n",
       " 'plos_latex_template.tex',\n",
       " 'parse_chip_data.ipynb']"
      ]
     },
     "execution_count": 3,
     "metadata": {},
     "output_type": "execute_result"
    }
   ],
   "source": [
    "os.listdir(\"..\")"
   ]
  },
  {
   "cell_type": "code",
   "execution_count": 14,
   "metadata": {
    "scrolled": true
   },
   "outputs": [],
   "source": [
    "patients = {}\n",
    "with open(\"../metadata.txt\") as f:\n",
    "    for i, line in enumerate(f):\n",
    "        line = line.rstrip(\"\\n\").split(\"\\t\")\n",
    "        if i == 0:\n",
    "            metadata = {j : line[j] for j in range(len(line))}\n",
    "        if i != 0:\n",
    "            patient = {}\n",
    "            for j, value in enumerate(line):\n",
    "                patient[metadata[j]] = value\n",
    "            patients[patient['patient_id']] = patient\n",
    "            #print(patient)"
   ]
  },
  {
   "cell_type": "code",
   "execution_count": 31,
   "metadata": {
    "scrolled": true
   },
   "outputs": [
    {
     "name": "stdout",
     "output_type": "stream",
     "text": [
      "111747589;muscle_affected_872;111747589_M.CEL;quadriceps;human;872;affected;600;4;total RNA;;;Affymetrix GeneChip™ Human Exon 1.0 ST microarray\n",
      "111747589;blood_affected_872;111747589_B.CEL;blood;human;872;affected;600;4;total RNA;;;Affymetrix GeneChip™ Human Exon 1.0 ST microarray\n",
      "117440822;muscle_affected_297;117440822_M.CEL;quadriceps;human;297;affected;227;2;total RNA;;;Affymetrix GeneChip™ Human Exon 1.0 ST microarray\n",
      "117440822;blood_affected_297;117440822_B.CEL;blood;human;297;affected;227;2;total RNA;;;Affymetrix GeneChip™ Human Exon 1.0 ST microarray\n",
      "124563003;muscle_affected_593;124563003_M.CEL;quadriceps;human;593;affected;301;4;total RNA;;;Affymetrix GeneChip™ Human Exon 1.0 ST microarray\n",
      "124563003;blood_affected_593;124563003_B.CEL;blood;human;593;affected;301;4;total RNA;;;Affymetrix GeneChip™ Human Exon 1.0 ST microarray\n",
      "129523253;muscle_affected_408;129523253_M.CEL;quadriceps;human;408;affected;211;4;total RNA;;;Affymetrix GeneChip™ Human Exon 1.0 ST microarray\n",
      "129523253;blood_affected_408;129523253_B.CEL;blood;human;408;affected;211;4;total RNA;;;Affymetrix GeneChip™ Human Exon 1.0 ST microarray\n",
      "141772399;muscle_affected_717;refused_biopsy;quadriceps;human;717;affected;320;2;total RNA;;;Affymetrix GeneChip™ Human Exon 1.0 ST microarray\n",
      "141772399;blood_affected_717;141772399_B.CEL;blood;human;717;affected;320;2;total RNA;;;Affymetrix GeneChip™ Human Exon 1.0 ST microarray\n",
      "159834720;muscle_affected_1035;159834720_MR.cel;quadriceps;human;1035;affected;695;4;total RNA;;;Affymetrix GeneChip™ Human Exon 1.0 ST microarray\n",
      "159834720;blood_affected_1035;159834720_B.CEL;blood;human;1035;affected;695;4;total RNA;;;Affymetrix GeneChip™ Human Exon 1.0 ST microarray\n",
      "204472077;muscle_affected_373;refused_biopsy;quadriceps;human;373;affected;243;2;total RNA;;;Affymetrix GeneChip™ Human Exon 1.0 ST microarray\n",
      "204472077;blood_affected_373;204472077_B.CEL;blood;human;373;affected;243;2;total RNA;;;Affymetrix GeneChip™ Human Exon 1.0 ST microarray\n",
      "213653686;muscle_affected_118;refused_biopsy;quadriceps;human;118;affected;105;3;total RNA;;;Affymetrix GeneChip™ Human Exon 1.0 ST microarray\n",
      "213653686;blood_affected_118;213653686_B.CEL;blood;human;118;affected;105;3;total RNA;;;Affymetrix GeneChip™ Human Exon 1.0 ST microarray\n",
      "229213757;muscle_affected_280;refused_biopsy;quadriceps;human;280;affected;161;3;total RNA;;;Affymetrix GeneChip™ Human Exon 1.0 ST microarray\n",
      "229213757;blood_affected_280;229213757_B.CEL;blood;human;280;affected;161;3;total RNA;;;Affymetrix GeneChip™ Human Exon 1.0 ST microarray\n",
      "230974357;muscle_affected_993;230974357_MR.cel;quadriceps;human;993;affected;565;4;total RNA;;;Affymetrix GeneChip™ Human Exon 1.0 ST microarray\n",
      "230974357;blood_affected_993;230974357_B.CEL;blood;human;993;affected;565;4;total RNA;;;Affymetrix GeneChip™ Human Exon 1.0 ST microarray\n",
      "270148799;muscle_affected_740;270148799_M.CEL;quadriceps;human;740;affected;506;3;total RNA;;;Affymetrix GeneChip™ Human Exon 1.0 ST microarray\n",
      "270148799;blood_affected_740;270148799_B.CEL;blood;human;740;affected;506;3;total RNA;;;Affymetrix GeneChip™ Human Exon 1.0 ST microarray\n",
      "315805040;muscle_affected_1111;315805040_M.CEL;quadriceps;human;1111;affected;627;4;total RNA;;;Affymetrix GeneChip™ Human Exon 1.0 ST microarray\n",
      "315805040;blood_affected_1111;315805040_B.CEL;blood;human;1111;affected;627;4;total RNA;;;Affymetrix GeneChip™ Human Exon 1.0 ST microarray\n",
      "321962190;muscle_affected_290;321962190_M.CEL;quadriceps;human;290;affected;186;3;total RNA;;;Affymetrix GeneChip™ Human Exon 1.0 ST microarray\n",
      "321962190;blood_affected_290;321962190_B.CEL;blood;human;290;affected;186;3;total RNA;;;Affymetrix GeneChip™ Human Exon 1.0 ST microarray\n",
      "328687703;muscle_affected_654;328687703_M.CEL;quadriceps;human;654;affected;318;5;total RNA;;;Affymetrix GeneChip™ Human Exon 1.0 ST microarray\n",
      "328687703;blood_affected_654;328687703_B.CEL;blood;human;654;affected;318;5;total RNA;;;Affymetrix GeneChip™ Human Exon 1.0 ST microarray\n",
      "360448352;muscle_unaffected_11;360448352_M.CEL;quadriceps;human;11;unaffected;11;1;total RNA;;;Affymetrix GeneChip™ Human Exon 1.0 ST microarray\n",
      "360448352;blood_unaffected_11;360448352_B.CEL;blood;human;11;unaffected;11;1;total RNA;;;Affymetrix GeneChip™ Human Exon 1.0 ST microarray\n",
      "377666471;muscle_affected_261;377666471_M.CEL;quadriceps;human;261;affected;155;3;total RNA;;;Affymetrix GeneChip™ Human Exon 1.0 ST microarray\n",
      "377666471;blood_affected_261;377666471_B.CEL;blood;human;261;affected;155;3;total RNA;;;Affymetrix GeneChip™ Human Exon 1.0 ST microarray\n",
      "387939296;muscle_unaffected_12;387939296_M.CEL;quadriceps;human;12;unaffected;12;1;total RNA;;;Affymetrix GeneChip™ Human Exon 1.0 ST microarray\n",
      "387939296;blood_unaffected_12;387939296_B.CEL;blood;human;12;unaffected;12;1;total RNA;;;Affymetrix GeneChip™ Human Exon 1.0 ST microarray\n",
      "406335477;muscle_affected_571;refused_biopsy;quadriceps;human;571;affected;297;4;total RNA;;;Affymetrix GeneChip™ Human Exon 1.0 ST microarray\n",
      "406335477;blood_affected_571;406335477_B.CEL;blood;human;571;affected;297;4;total RNA;;;Affymetrix GeneChip™ Human Exon 1.0 ST microarray\n",
      "420299717;muscle_affected_186;420299717_M.CEL;quadriceps;human;186;affected;158;2;total RNA;;;Affymetrix GeneChip™ Human Exon 1.0 ST microarray\n",
      "420299717;blood_affected_186;420299717_B.CEL;blood;human;186;affected;158;2;total RNA;;;Affymetrix GeneChip™ Human Exon 1.0 ST microarray\n",
      "427374914;muscle_affected_1261;427374914_M.CEL;quadriceps;human;1261;affected;703;4;total RNA;;;Affymetrix GeneChip™ Human Exon 1.0 ST microarray\n",
      "427374914;blood_affected_1261;427374914_B.CEL;blood;human;1261;affected;703;4;total RNA;;;Affymetrix GeneChip™ Human Exon 1.0 ST microarray\n",
      "449599671;muscle_affected_1000;449599671_M.CEL;quadriceps;human;1000;affected;453;4;total RNA;;;Affymetrix GeneChip™ Human Exon 1.0 ST microarray\n",
      "449599671;blood_affected_1000;449599671_B.CEL;blood;human;1000;affected;453;4;total RNA;;;Affymetrix GeneChip™ Human Exon 1.0 ST microarray\n",
      "473208969;muscle_affected_345;473208969_M.CEL;quadriceps;human;345;affected;243;3;total RNA;;;Affymetrix GeneChip™ Human Exon 1.0 ST microarray\n",
      "473208969;blood_affected_345;473208969_B.CEL;blood;human;345;affected;243;3;total RNA;;;Affymetrix GeneChip™ Human Exon 1.0 ST microarray\n",
      "523950865;muscle_affected_465;refused_biopsy;quadriceps;human;465;affected;358;4;total RNA;;;Affymetrix GeneChip™ Human Exon 1.0 ST microarray\n",
      "523950865;blood_affected_465;523950865_B.CEL;blood;human;465;affected;358;4;total RNA;;;Affymetrix GeneChip™ Human Exon 1.0 ST microarray\n",
      "549452228;muscle_affected_604;549452228_M.CEL;quadriceps;human;604;affected;439;3;total RNA;;;Affymetrix GeneChip™ Human Exon 1.0 ST microarray\n",
      "549452228;blood_affected_604;549452228_B.CEL;blood;human;604;affected;439;3;total RNA;;;Affymetrix GeneChip™ Human Exon 1.0 ST microarray\n",
      "551644041;muscle_affected_223;refused_biopsy;quadriceps;human;223;affected;159;4;total RNA;;;Affymetrix GeneChip™ Human Exon 1.0 ST microarray\n",
      "551644041;blood_affected_223;551644041_B.CEL;blood;human;223;affected;159;4;total RNA;;;Affymetrix GeneChip™ Human Exon 1.0 ST microarray\n",
      "572448109;muscle_unaffected_12;572448109_M.CEL;quadriceps;human;12;unaffected;12;1;total RNA;;;Affymetrix GeneChip™ Human Exon 1.0 ST microarray\n",
      "572448109;blood_unaffected_12;572448109_B.CEL;blood;human;12;unaffected;12;1;total RNA;;;Affymetrix GeneChip™ Human Exon 1.0 ST microarray\n",
      "575039926;muscle_affected_83;575039926_M.CEL;quadriceps;human;83;affected;80;1;total RNA;;;Affymetrix GeneChip™ Human Exon 1.0 ST microarray\n",
      "575039926;blood_affected_83;575039926_B.CEL;blood;human;83;affected;80;1;total RNA;;;Affymetrix GeneChip™ Human Exon 1.0 ST microarray\n",
      "597785396;muscle_unaffected_12;597785396_MR.cel;quadriceps;human;12;unaffected;12;1;total RNA;;;Affymetrix GeneChip™ Human Exon 1.0 ST microarray\n",
      "597785396;blood_unaffected_12;597785396_B.CEL;blood;human;12;unaffected;12;1;total RNA;;;Affymetrix GeneChip™ Human Exon 1.0 ST microarray\n",
      "661252781;muscle_affected_999;661252781_M.CEL;quadriceps;human;999;affected;745;4;total RNA;;;Affymetrix GeneChip™ Human Exon 1.0 ST microarray\n",
      "661252781;blood_affected_999;661252781_B.CEL;blood;human;999;affected;745;4;total RNA;;;Affymetrix GeneChip™ Human Exon 1.0 ST microarray\n",
      "736551759;muscle_unaffected_13;refused_biopsy;quadriceps;human;13;unaffected;13;1;total RNA;;;Affymetrix GeneChip™ Human Exon 1.0 ST microarray\n",
      "736551759;blood_unaffected_13;736551759_B.CEL;blood;human;13;unaffected;13;1;total RNA;;;Affymetrix GeneChip™ Human Exon 1.0 ST microarray\n",
      "819054051;muscle_affected_561;819054051_M.CEL;quadriceps;human;561;affected;411;4;total RNA;;;Affymetrix GeneChip™ Human Exon 1.0 ST microarray\n",
      "819054051;blood_affected_561;819054051_B.CEL;blood;human;561;affected;411;4;total RNA;;;Affymetrix GeneChip™ Human Exon 1.0 ST microarray\n",
      "830225708;muscle_affected_77;830225708_M.CEL;quadriceps;human;77;affected;77;1;total RNA;;;Affymetrix GeneChip™ Human Exon 1.0 ST microarray\n",
      "830225708;blood_affected_77;830225708_B.CEL;blood;human;77;affected;77;1;total RNA;;;Affymetrix GeneChip™ Human Exon 1.0 ST microarray\n",
      "873750289;muscle_affected_240;873750289_M.CEL;quadriceps;human;240;affected;199;1;total RNA;;;Affymetrix GeneChip™ Human Exon 1.0 ST microarray\n",
      "873750289;blood_affected_240;873750289_B.CEL;blood;human;240;affected;199;1;total RNA;;;Affymetrix GeneChip™ Human Exon 1.0 ST microarray\n",
      "881676366;muscle_affected_866;881676366_MR.cel;quadriceps;human;866;affected;341;4;total RNA;;;Affymetrix GeneChip™ Human Exon 1.0 ST microarray\n",
      "881676366;blood_affected_866;881676366_B.CEL;blood;human;866;affected;341;4;total RNA;;;Affymetrix GeneChip™ Human Exon 1.0 ST microarray\n",
      "896445336;muscle_affected_697;896445336_M.CEL;quadriceps;human;697;affected;397;4;total RNA;;;Affymetrix GeneChip™ Human Exon 1.0 ST microarray\n",
      "896445336;blood_affected_697;896445336_B.CEL;blood;human;697;affected;397;4;total RNA;;;Affymetrix GeneChip™ Human Exon 1.0 ST microarray\n"
     ]
    }
   ],
   "source": [
    "for patient_id, patient in patients.items():\n",
    "    if patient[\"case_control\"] == \"case\":\n",
    "        status = \"affected\"\n",
    "    else:\n",
    "        status = \"unaffected\"\n",
    "    \n",
    "    for tissue in [\"muscle\", \"blood\"]:\n",
    "        tissue_type = tissue\n",
    "        if tissue_type == \"muscle\":\n",
    "            tissue_type = \"quadriceps\"\n",
    "        print(patient_id, tissue + \"_\" + status + \"_\" + patient[\"modal_allele\"], patient[tissue + \"_cel\"], tissue_type, \"human\", patient[\"modal_allele\"], status, patient[\"progenitor_allele\"], patient[\"MIRS\"], \"total RNA\", \"\", \"\", \"Affymetrix GeneChip™ Human Exon 1.0 ST microarray\", sep=\";\")"
   ]
  },
  {
   "cell_type": "code",
   "execution_count": null,
   "metadata": {
    "collapsed": true
   },
   "outputs": [],
   "source": [
    "111747589\tMuscle_DM1_170\t111747589.CEL\tquadriceps\thuman\tmodal_allele\tprogenitor_allele\tMuscular Impairment Rating Scale\ttotal RNA\t\t\tAffymetrix GeneChip™ Human Exon 1.0 ST microarray"
   ]
  },
  {
   "cell_type": "code",
   "execution_count": 7,
   "metadata": {},
   "outputs": [
    {
     "data": {
      "text/plain": [
       "{'MIRS': 6,\n",
       " 'blood_cel': 1,\n",
       " 'case_control': 5,\n",
       " 'modal_allele': 3,\n",
       " 'muscle_cel': 2,\n",
       " 'patient_id': 0,\n",
       " 'progenitor_allele': 4}"
      ]
     },
     "execution_count": 7,
     "metadata": {},
     "output_type": "execute_result"
    }
   ],
   "source": [
    "metadata"
   ]
  },
  {
   "cell_type": "code",
   "execution_count": null,
   "metadata": {
    "collapsed": true
   },
   "outputs": [],
   "source": []
  }
 ],
 "metadata": {
  "kernelspec": {
   "display_name": "Python 3",
   "language": "python",
   "name": "python3"
  },
  "language_info": {
   "codemirror_mode": {
    "name": "ipython",
    "version": 3
   },
   "file_extension": ".py",
   "mimetype": "text/x-python",
   "name": "python",
   "nbconvert_exporter": "python",
   "pygments_lexer": "ipython3",
   "version": "3.6.2"
  }
 },
 "nbformat": 4,
 "nbformat_minor": 2
}
