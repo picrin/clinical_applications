{
 "cells": [
  {
   "cell_type": "code",
   "execution_count": 1,
   "metadata": {},
   "outputs": [],
   "source": [
    "def unquote(s):\n",
    "    if len(s) >= 2 and s[0] == '\"' and s[-1] == '\"':\n",
    "        return s[1:-1]\n",
    "    return s"
   ]
  },
  {
   "cell_type": "code",
   "execution_count": 2,
   "metadata": {},
   "outputs": [],
   "source": [
    "genome_metadata = \"annotations/HuEx-1_0-st-v2.na36.hg19.probeset.csv\"\n",
    "chip_metadata = \"probesets/probeset_coord_seq.csv\"\n",
    "result = \"probesets/all_meta.csv\""
   ]
  },
  {
   "cell_type": "code",
   "execution_count": 3,
   "metadata": {},
   "outputs": [],
   "source": [
    "def read_genome_metadata(metadata_path):\n",
    "    probeset_csv = {}\n",
    "    headers = None\n",
    "    with open(metadata_path) as f:\n",
    "        for line in f:\n",
    "            if line and line[0] == \"#\":\n",
    "                continue\n",
    "            line = line.rstrip().split(\",\")\n",
    "            line = [unquote(i) for i in line]\n",
    "            if headers is None:\n",
    "                headers = {k: i for i, k in enumerate(line)}\n",
    "            else:\n",
    "                probeset = headers[\"probeset_id\"]\n",
    "                chromosome = headers[\"seqname\"]\n",
    "                strand = headers[\"strand\"]\n",
    "                start = headers[\"start\"]\n",
    "                stop = headers[\"stop\"]\n",
    "                probeset_csv[line[probeset]] = [line[i] for i in [chromosome, strand, start, stop]]\n",
    "    return probeset_csv"
   ]
  },
  {
   "cell_type": "code",
   "execution_count": 4,
   "metadata": {},
   "outputs": [],
   "source": [
    "probeset_csv = read_genome_metadata(genome_metadata)"
   ]
  },
  {
   "cell_type": "code",
   "execution_count": 5,
   "metadata": {},
   "outputs": [],
   "source": [
    "def read_chip_metadata(chip_path):\n",
    "    probeset_chip = {}\n",
    "    with open(chip_path) as f:\n",
    "        for line in f:\n",
    "            probeset_id, x, y, seq = line.rstrip().split(\"\\t\")\n",
    "            probesets = probeset_chip.setdefault(probeset_id, [])\n",
    "            probesets.append([seq, x, y])\n",
    "    return probeset_chip"
   ]
  },
  {
   "cell_type": "code",
   "execution_count": 6,
   "metadata": {},
   "outputs": [],
   "source": [
    "probeset_chip = read_chip_metadata(chip_metadata)"
   ]
  },
  {
   "cell_type": "code",
   "execution_count": 7,
   "metadata": {},
   "outputs": [],
   "source": [
    "def write_all_metadata(path):\n",
    "    with open(path, \"w\") as f:\n",
    "        print(\"probeset\", \"seq\", \"x\", \"y\", \"strand\", \"chromosome\", \"left_pos\", \"right_pos\", file=f, sep=\"\\t\")\n",
    "        for probeset in probeset_chip:\n",
    "            for probe in probeset_chip[probeset]:\n",
    "                seq, x, y = probe\n",
    "                try:\n",
    "                    chromosome, strand, left, right = probeset_csv[probeset]\n",
    "                except KeyError:\n",
    "                    # These are non-genomic probes\n",
    "                    pass\n",
    "                print(probeset, seq, x, y, strand, chromosome, left, right, file=f, sep=\"\\t\")\n",
    "\n"
   ]
  },
  {
   "cell_type": "code",
   "execution_count": 8,
   "metadata": {},
   "outputs": [],
   "source": [
    "write_all_metadata(result)"
   ]
  }
 ],
 "metadata": {
  "kernelspec": {
   "display_name": "Python 3",
   "language": "python",
   "name": "python3"
  },
  "language_info": {
   "codemirror_mode": {
    "name": "ipython",
    "version": 3
   },
   "file_extension": ".py",
   "mimetype": "text/x-python",
   "name": "python",
   "nbconvert_exporter": "python",
   "pygments_lexer": "ipython3",
   "version": "3.6.7"
  }
 },
 "nbformat": 4,
 "nbformat_minor": 2
}
