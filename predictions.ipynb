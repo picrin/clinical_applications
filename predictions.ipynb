{
 "cells": [
  {
   "cell_type": "code",
   "execution_count": 3,
   "metadata": {},
   "outputs": [],
   "source": [
    "import os\n",
    "import re\n",
    "import numpy as np\n",
    "import numpy\n",
    "genecode_genes = set(os.listdir(\"experiment_blood\"))\n",
    "from scipy.stats import pearsonr\n",
    "from sklearn.cross_decomposition import PLSRegression\n",
    "import random\n",
    "import bisect\n",
    "import math\n",
    "import json\n",
    "import sys\n",
    "from __future__ import print_function"
   ]
  },
  {
   "cell_type": "code",
   "execution_count": 4,
   "metadata": {
    "collapsed": true
   },
   "outputs": [],
   "source": [
    "def in_ipynb():\n",
    "    try:\n",
    "        get_ipython()\n",
    "        return True\n",
    "    except NameError:\n",
    "        return False"
   ]
  },
  {
   "cell_type": "code",
   "execution_count": 5,
   "metadata": {
    "collapsed": true
   },
   "outputs": [],
   "source": [
    "if in_ipynb():\n",
    "    from matplotlib import pyplot as plt"
   ]
  },
  {
   "cell_type": "code",
   "execution_count": 6,
   "metadata": {
    "collapsed": true
   },
   "outputs": [],
   "source": [
    "# Should be at least 10**4, preferably 10**6\n",
    "r2_simulation_size = 10**6"
   ]
  },
  {
   "cell_type": "code",
   "execution_count": 7,
   "metadata": {},
   "outputs": [
    {
     "name": "stdout",
     "output_type": "stream",
     "text": [
      "Please use like this: `predictions.py <tissue> <genes> <simulation_runs> <top_k_genes> <PLSR_dimensions>`\n",
      "tissue can be any of: blood, muscle.\n",
      "genes can be any of: TNNI1, batra, nakamori, all\n",
      "simulation runs can be 10\n",
      "top_k_genes can be 500\n",
      "PLSR_dimensions can be 2\n"
     ]
    }
   ],
   "source": [
    "print(\"Please use like this: `predictions.py <tissue> <genes> <simulation_runs> <top_k_genes> <PLSR_dimensions>`\\n\"\\\n",
    "      \"tissue can be any of: blood, muscle.\\n\"\\\n",
    "      \"genes can be any of: TNNI1, batra, nakamori, all\\n\"\\\n",
    "      \"simulation runs can be 10\\n\"\\\n",
    "      \"top_k_genes can be 500\\n\"\\\n",
    "      \"PLSR_dimensions can be 2\"\n",
    "     )\n",
    "if not in_ipynb():\n",
    "    tissue_arg = sys.argv[1]\n",
    "    print(\"tissue: {}\".format(tissue_arg))\n",
    "    gene_arg = sys.argv[2]\n",
    "    print(\"gene: {}\".format(gene_arg))\n",
    "    simulation_arg = int(sys.argv[3])\n",
    "    print(\"simulation_arg: {}\".format(simulation_arg))\n",
    "    top_genes_arg = int(sys.argv[4])\n",
    "    print(\"top_genes_arg: {}\".format(top_genes_arg))\n",
    "    PLSR_arg = int(sys.argv[5])\n",
    "    print(\"PLSR_arg: {}\".format(PLSR_arg))"
   ]
  },
  {
   "cell_type": "code",
   "execution_count": 8,
   "metadata": {
    "collapsed": true
   },
   "outputs": [],
   "source": [
    "def load_genes(filename):\n",
    "    genes = set()\n",
    "    repeated = set()\n",
    "    with open(filename) as f:\n",
    "        for line in f:\n",
    "            line = line.rstrip()\n",
    "            if line in genes:\n",
    "                repeated.add(line)\n",
    "            genes.add(line)\n",
    "    failed = genes.difference(genecode_genes)\n",
    "    if repeated:\n",
    "        print(\"These genes appear more than once: {}\".format([g for g in repeated]))\n",
    "    if failed:\n",
    "        print(\"Couldn't identify the following genes: {}\".format([g for g in failed]))\n",
    "    return genes.intersection(genecode_genes)"
   ]
  },
  {
   "cell_type": "code",
   "execution_count": 9,
   "metadata": {},
   "outputs": [
    {
     "name": "stdout",
     "output_type": "stream",
     "text": [
      "These genes appear more than once: ['DMD', 'LDB3']\n",
      "Couldn't identify the following genes: ['OPA', 'OHKA1']\n"
     ]
    }
   ],
   "source": [
    "nakamori_genes = load_genes(\"nakamori_genes.txt\")"
   ]
  },
  {
   "cell_type": "code",
   "execution_count": 10,
   "metadata": {},
   "outputs": [
    {
     "data": {
      "text/plain": [
       "37"
      ]
     },
     "execution_count": 10,
     "metadata": {},
     "output_type": "execute_result"
    }
   ],
   "source": [
    "len(nakamori_genes)"
   ]
  },
  {
   "cell_type": "code",
   "execution_count": 11,
   "metadata": {},
   "outputs": [
    {
     "name": "stdout",
     "output_type": "stream",
     "text": [
      "CAPN3 DMD ALPK3 CLCN1 VPS39 TBC1D15 DTNA NFIX USP25 MBNL2 ATP2A1 INSR KIF13A GFPT1 BIN1 IMPDH2 LDB3 ABLIM2 ATP2A2 VEGFA CAMK2B ARFGAP2 RYR1 PDLIM3 TXNL4A CACNA1S FHOD1 SOS1 NRAP TTN UBE2D3 ANK2 CAPZB PHKA1 COPZ2 MLF1 MBNL1 "
     ]
    }
   ],
   "source": [
    "for gene in nakamori_genes:\n",
    "    print(gene, end=\" \")"
   ]
  },
  {
   "cell_type": "code",
   "execution_count": 12,
   "metadata": {
    "scrolled": true
   },
   "outputs": [
    {
     "name": "stdout",
     "output_type": "stream",
     "text": [
      "These genes appear more than once: ['TNNI1', 'CEBPA', 'IDH3A', 'SNX1', 'TPM2', 'LDB3', 'PCM1', 'NDUFB10', 'DNAJB6', 'PDLIM5', 'MEF2B', 'ASPH', 'TPM3', 'TTYH3', 'MST150', 'CHRNA1', 'TPM1']\n",
      "Couldn't identify the following genes: ['DNAPTP6', 'CUGBP1', 'SR140', 'ADFP', 'MST150']\n"
     ]
    }
   ],
   "source": [
    "# Genes from https://www.ncbi.nlm.nih.gov/pmc/articles/PMC4224598/\n",
    "batra_genes = load_genes(\"batra_genes.txt\")"
   ]
  },
  {
   "cell_type": "code",
   "execution_count": 13,
   "metadata": {},
   "outputs": [
    {
     "data": {
      "text/plain": [
       "75"
      ]
     },
     "execution_count": 13,
     "metadata": {},
     "output_type": "execute_result"
    }
   ],
   "source": [
    "len(batra_genes)"
   ]
  },
  {
   "cell_type": "code",
   "execution_count": 14,
   "metadata": {},
   "outputs": [
    {
     "name": "stdout",
     "output_type": "stream",
     "text": [
      "SPTB MDN1 AP1G1 GPS1 TNNI1 KRBA1 LAMP2 SLC25A36 CDC42 PCM1 NDUFB10 DES DNAJB6 MEF2D SPEG ASPH RIN1 ILF3 KDELR1 PFKFB2 DST BRSK2 CACNA1G MEF2C ATP5E CEBPA SETD3 TPM2 PDLIM2 ALG3 MBNL2 KCNK7 SAMD4A RAB24 MEF2B TPM3 TTYH3 DVL3 MGP MORC3 KIF1B AGL TBL2 AMHR2 TGFBI TMEM38B NR2F1 CLDND1 HDAC11 LDB3 COPS4 NUP43 DAPK2 CACNB1 PCMT1 PIK3C2B CHRNA1 MYH6 LMNA OSBPL1A PCBD2 IDH3A SNX1 TJP2 EZR PDLIM5 CIRBP FASTK MTCH1 RTN2 BRWD1 ABCA1 ARHGEF7 PEBP4 TPM1 "
     ]
    }
   ],
   "source": [
    "for batra_gene in batra_genes:\n",
    "    print(batra_gene, end=\" \")"
   ]
  },
  {
   "cell_type": "code",
   "execution_count": 15,
   "metadata": {
    "collapsed": true
   },
   "outputs": [],
   "source": [
    "class Metadata:\n",
    "    def __init__(self, ids, cels, metadata):\n",
    "        self.IDs = ids\n",
    "        self.CELs = cels\n",
    "        self.modal_allele = [int(metadata[i][\"modal_allele\"]) for i in ids]\n",
    "        self.progenitor_allele = [int(metadata[i][\"progenitor_allele\"]) for i in ids]\n",
    "        self.MIRS = [int(metadata[i][\"MIRS\"]) for i in ids]\n",
    "    def __str__(self):\n",
    "        return \"Metadata={{IDs: {}...,\\n CELs: {}...,\\n modal_allele: {}...,\\n progenitor_allele: {}...,\\n MIRS: {}...}}\".format(self.IDs[:5], self.CELs[:5], self.modal_allele[:5], self.progenitor_allele[:5], self.MIRS[:5])\n",
    "    def __repr__(self):\n",
    "        return self.__str__()\n",
    "\n",
    "def load_metadata():\n",
    "    metadata = {}\n",
    "    metadata_order = []\n",
    "    with open(\"metadata.txt\") as f:\n",
    "        for i, line in enumerate(f):\n",
    "            line = line.strip().split()\n",
    "            if i == 0:\n",
    "                names = line[1:]\n",
    "            else:\n",
    "                values = line[1:]\n",
    "                patient_id = line[0]\n",
    "                metadata_order.append(patient_id)\n",
    "                metadata[patient_id] = {k: v for k, v in zip(names, values)}\n",
    "    blood_IDs = [i for i in metadata_order]\n",
    "    muscle_IDs = [i for i in metadata_order if metadata[i][\"muscle_cel\"] != \"refused_biopsy\"]\n",
    "    blood_CELs = [metadata[i][\"blood_cel\"] for i in blood_IDs]\n",
    "    muscle_CELs = [metadata[i][\"muscle_cel\"] for i in muscle_IDs]\n",
    "        \n",
    "    blood_record = Metadata(blood_IDs, blood_CELs, metadata)\n",
    "    muscle_record = Metadata(muscle_IDs, muscle_CELs, metadata)\n",
    "    return blood_record, muscle_record"
   ]
  },
  {
   "cell_type": "code",
   "execution_count": 16,
   "metadata": {
    "collapsed": true
   },
   "outputs": [],
   "source": [
    "blood_meta, muscle_meta = load_metadata()"
   ]
  },
  {
   "cell_type": "code",
   "execution_count": 17,
   "metadata": {
    "collapsed": true
   },
   "outputs": [],
   "source": [
    "def produce_data(meta, gene_names, experiment):\n",
    "    IDs = meta.IDs\n",
    "    probe_data = []\n",
    "    probe_IDs = []\n",
    "    for gene in gene_names:\n",
    "        with open(os.path.join(experiment, gene)) as f:\n",
    "            for i, line in enumerate(f):\n",
    "                line = line.rstrip().split()\n",
    "                if i == 0:\n",
    "                    prefix = \"patient_\"\n",
    "                    our_IDs = [elem[len(prefix):] for elem in line if re.match(prefix, elem)]\n",
    "                    assert IDs == our_IDs\n",
    "                    headers = {header: i for i, header in enumerate(line)}\n",
    "                    patient_data = {header[len(prefix):]: i for i, header in enumerate(line) if re.match(prefix, header)}\n",
    "                    def write_signature(line):\n",
    "                        signature = []\n",
    "                        for elem in [\"gene_name\", \"probeset_id\", \"seq5to3plus\", \"chrom\", \"strand\", \"genocode_left\", \"genecode_right\"]:\n",
    "                            signature.append(line[headers[elem]])\n",
    "                        return \"_\".join(signature)\n",
    "                else:\n",
    "                    probe_ID = write_signature(line)\n",
    "                    rv = []\n",
    "                    for patient_id in IDs:\n",
    "                        rv.append(float(line[patient_data[patient_id]]))\n",
    "                    probe_data.append(rv)\n",
    "                    probe_IDs.append(probe_ID)\n",
    "    probe_data = numpy.array(probe_data)\n",
    "    return probe_data, probe_IDs"
   ]
  },
  {
   "cell_type": "code",
   "execution_count": 18,
   "metadata": {
    "collapsed": true
   },
   "outputs": [],
   "source": [
    "def choose_top_genes(indicies, data):\n",
    "    \"\"\"\n",
    "    Take `indicies`, which is a list of ordered pairs\n",
    "    `r2, column_index`, and a matrix of probeset data,\n",
    "    `data`, and filter all rows to contain only genes on\n",
    "    the `indicies` list.\n",
    "    \"\"\"\n",
    "    just_indices = [i[1] for i in indicies]\n",
    "    return data[just_indices, :]\n",
    "\n",
    "def order_indicies(allele, data):\n",
    "    \"\"\"\n",
    "    Return a sorted list of correlated genes, from the most to the least\n",
    "    correlated. Each entry in the list is a tuple `r2, gene_index`, where\n",
    "    `r2` denotes the correlation of gene expression and `allele`, and\n",
    "    the index of the gene in the `data` matrix respectively.\n",
    "    \n",
    "    `allele` is the list of repeat lengths, with each repeat length\n",
    "    corresponding to one column in `data`\n",
    "    \"\"\"\n",
    "    r2s = []\n",
    "    for i in range(data.shape[0]):\n",
    "        gene_r, _ = pearsonr(allele, data[i])\n",
    "        # We have to store both the gene and the gene index, to recover the indices after sorting.\n",
    "        r2s.append((gene_r ** 2, i))\n",
    "    r2s.sort()\n",
    "    # This reverses the list, assuring decreasing order.\n",
    "    r2s = r2s[::-1]\n",
    "    return r2s\n",
    "\n",
    "def choose_training_indicies(data, no_training_samples):\n",
    "    \"\"\"Return a partition of column indicies of the `data`\n",
    "    matrix into two sets: `training_indicies, testing_indicies`.\n",
    "    The training set will contain `no_training_samples` biological\n",
    "    samples.\n",
    "    \"\"\"\n",
    "    indices = list(range(data.shape[1]))\n",
    "    random.shuffle(indices)\n",
    "    training_indices = indices[:no_training_samples]\n",
    "    test_indicies = indices[no_training_samples:]\n",
    "    return training_indices, test_indicies\n",
    "\n",
    "def split_data(data, training_indices, test_indices):\n",
    "    \"\"\"Return a partition of data into `training_set, testing_set`\n",
    "    using an existing partition of column incidices into\n",
    "    `training_indicies` and `test_indicies`\n",
    "    \"\"\"\n",
    "    return data[:, training_indices], data[:, test_indices]\n",
    "\n",
    "def cv(lista):\n",
    "    return np.matrix(lista).transpose()\n",
    "def rv(lista):\n",
    "    return np.matrix(lista)"
   ]
  },
  {
   "cell_type": "code",
   "execution_count": 19,
   "metadata": {
    "collapsed": true
   },
   "outputs": [],
   "source": [
    "def filter_extremes(value, lowermost, uppermost):\n",
    "    \"\"\"If a value is lower or higher than lowermost or uppermost, return lowermost or uppermost. Otherwise, return value.\n",
    "    \"\"\"\n",
    "    if value < lowermost:\n",
    "        return lowermost\n",
    "    if value > uppermost:\n",
    "        return uppermost\n",
    "    return value"
   ]
  },
  {
   "cell_type": "code",
   "execution_count": 20,
   "metadata": {
    "collapsed": true
   },
   "outputs": [],
   "source": [
    "def simulation_step(probeset_data, metadata, training_size, no_probes, n_components):\n",
    "    \"\"\"Execute a full step of the simulation, and return a tuple consisting of two lists:\n",
    "    predicted repeat lengths, and the ground truth repeat lengths\n",
    "    \"\"\"\n",
    "    training_i, testing_i = choose_training_indicies(probeset_data, training_size)\n",
    "    training_fold, testing_fold = split_data(probeset_data, training_i, testing_i)\n",
    "    repeat_length_training = [metadata.modal_allele[i] for i in training_i]\n",
    "    repeat_length_testing = [metadata.modal_allele[i] for i in testing_i]\n",
    "    \n",
    "    top_genes = order_indicies(repeat_length_training, training_fold)[:no_probes]\n",
    "    training_set = choose_top_genes(top_genes, training_fold)\n",
    "    testing_set = choose_top_genes(top_genes, testing_fold)\n",
    "\n",
    "    plsr = PLSRegression(n_components=n_components)\n",
    "    \n",
    "    plsr.fit(training_set.transpose(), cv(repeat_length_training))\n",
    "    \n",
    "    results = plsr.predict(testing_set.transpose())\n",
    "    results = [filter_extremes(i[0], min(repeat_length_training), max(repeat_length_training)) for i in results]\n",
    "\n",
    "    return repeat_length_testing, results"
   ]
  },
  {
   "cell_type": "code",
   "execution_count": 21,
   "metadata": {
    "collapsed": true
   },
   "outputs": [],
   "source": [
    "assert filter_extremes(0, 10, 20) == 10\n",
    "assert filter_extremes(15, 10, 20) == 15\n",
    "assert filter_extremes(25, 10, 20) == 20"
   ]
  },
  {
   "cell_type": "code",
   "execution_count": 22,
   "metadata": {
    "collapsed": true
   },
   "outputs": [],
   "source": [
    "metadata = {\"muscle\": muscle_meta, \"blood\": blood_meta}"
   ]
  },
  {
   "cell_type": "code",
   "execution_count": 23,
   "metadata": {
    "collapsed": true
   },
   "outputs": [],
   "source": [
    "data = {\"muscle\": {}, \"blood\": {}}\n",
    "annot = {\"muscle\": {}, \"blood\": {}}"
   ]
  },
  {
   "cell_type": "code",
   "execution_count": 24,
   "metadata": {
    "collapsed": true
   },
   "outputs": [],
   "source": [
    "def load_data(name, genes, muscle_or_blood):\n",
    "    meta = metadata[muscle_or_blood]\n",
    "    path = \"experiment_\" + muscle_or_blood\n",
    "    d, a = produce_data(meta, genes, path)\n",
    "    data[muscle_or_blood][name] = d\n",
    "    annot[muscle_or_blood][name] = a"
   ]
  },
  {
   "cell_type": "code",
   "execution_count": 25,
   "metadata": {
    "collapsed": true
   },
   "outputs": [],
   "source": [
    "gene_sets = {\"nakamori\": nakamori_genes, \"batra\": batra_genes, \"TNNI1\": [\"TNNI1\"], \"all\": genecode_genes}"
   ]
  },
  {
   "cell_type": "code",
   "execution_count": 26,
   "metadata": {
    "collapsed": true
   },
   "outputs": [],
   "source": [
    "for name, genes in gene_sets.items():\n",
    "    for tissue in [\"blood\", \"muscle\"]:\n",
    "        load_data(name, genes, tissue)"
   ]
  },
  {
   "cell_type": "code",
   "execution_count": 27,
   "metadata": {},
   "outputs": [
    {
     "data": {
      "text/plain": [
       "{'blood': {'TNNI1': array([[6.69115092, 6.4444247 , 6.64248078, ..., 6.80454457, 6.55574716,\n",
       "          6.86989191],\n",
       "         [6.30581892, 5.67237544, 6.09404785, ..., 6.23988077, 6.21940284,\n",
       "          6.09071349],\n",
       "         [6.24354023, 6.24884748, 6.2205972 , ..., 6.46642767, 6.51946868,\n",
       "          6.23192685],\n",
       "         ...,\n",
       "         [4.82646635, 5.22487974, 5.36700186, ..., 5.45895102, 4.65676284,\n",
       "          5.42493872],\n",
       "         [5.31882519, 5.15013585, 5.09224063, ..., 4.90186895, 5.23235179,\n",
       "          4.92086016],\n",
       "         [4.50823911, 4.40335579, 4.79826011, ..., 4.10939995, 4.65729022,\n",
       "          4.32519769]]),\n",
       "  'all': array([[3.63486798, 3.6231591 , 3.70987072, ..., 3.73409837, 3.71761667,\n",
       "          3.78107152],\n",
       "         [5.01691034, 4.78684   , 5.20899118, ..., 5.3420667 , 4.80904565,\n",
       "          4.97624542],\n",
       "         [4.33864819, 4.92507272, 4.815622  , ..., 4.54285857, 4.60074592,\n",
       "          5.07515576],\n",
       "         ...,\n",
       "         [4.77283865, 5.17042926, 4.46207894, ..., 4.96971219, 4.8647961 ,\n",
       "          4.88793182],\n",
       "         [5.9461439 , 5.85378453, 5.65065562, ..., 5.69486478, 5.60210302,\n",
       "          6.09436675],\n",
       "         [6.19793266, 6.58519587, 6.19397334, ..., 6.53953634, 6.18087875,\n",
       "          6.38093705]]),\n",
       "  'batra': array([[5.54093697, 5.25474819, 5.34975351, ..., 5.25144144, 4.86990898,\n",
       "          5.23492303],\n",
       "         [6.6188683 , 6.05214505, 6.18914144, ..., 5.88777014, 5.85567682,\n",
       "          6.3611455 ],\n",
       "         [5.07290799, 4.61319626, 5.04028671, ..., 4.59088165, 4.90077801,\n",
       "          4.56966911],\n",
       "         ...,\n",
       "         [4.55702674, 4.34987863, 4.34270315, ..., 4.1681672 , 4.30757883,\n",
       "          4.78018032],\n",
       "         [5.70039461, 5.76325256, 5.57634469, ..., 5.27845828, 5.64855408,\n",
       "          5.43293066],\n",
       "         [5.12559936, 5.73304413, 5.50029498, ..., 5.49419491, 5.46142148,\n",
       "          5.42108585]]),\n",
       "  'nakamori': array([[5.62525459, 5.60799263, 5.64960495, ..., 5.27391474, 5.49914959,\n",
       "          5.61909559],\n",
       "         [6.52627739, 6.47587552, 6.41867551, ..., 6.73790053, 6.76077919,\n",
       "          6.70219155],\n",
       "         [6.04770907, 6.04985373, 6.45574791, ..., 6.5022671 , 6.51834063,\n",
       "          6.53326745],\n",
       "         ...,\n",
       "         [8.19827526, 8.21760571, 8.49911139, ..., 8.04289466, 8.17349719,\n",
       "          8.20849997],\n",
       "         [8.47495474, 8.65207089, 8.78870255, ..., 8.71601292, 8.79335026,\n",
       "          8.41480131],\n",
       "         [5.91111713, 6.00398795, 6.17376882, ..., 5.83201852, 6.0927247 ,\n",
       "          5.65384539]])},\n",
       " 'muscle': {'TNNI1': array([[8.26326727, 8.43082298, 8.34601248, ..., 8.30537526, 5.85740455,\n",
       "          6.75508078],\n",
       "         [7.49660262, 7.55329214, 7.72252002, ..., 7.6143575 , 5.35813824,\n",
       "          6.35558689],\n",
       "         [8.23214582, 8.44672428, 8.36808339, ..., 8.35711932, 5.37985189,\n",
       "          6.74724144],\n",
       "         ...,\n",
       "         [5.97080311, 6.63753327, 6.17443496, ..., 6.603561  , 5.04201805,\n",
       "          5.08793759],\n",
       "         [6.57308804, 7.36298423, 6.39836317, ..., 7.40784557, 4.8310453 ,\n",
       "          5.00847113],\n",
       "         [6.50012179, 7.02495593, 6.25744679, ..., 7.15156827, 4.42347723,\n",
       "          4.56584003]]),\n",
       "  'all': array([[3.75959611, 3.95460375, 3.78419941, ..., 3.64235559, 3.80119069,\n",
       "          3.75959611],\n",
       "         [5.46127783, 4.91042732, 4.79183169, ..., 5.01773841, 4.48172918,\n",
       "          5.25347263],\n",
       "         [4.38882951, 4.18145178, 4.09173705, ..., 4.60168032, 3.80804975,\n",
       "          4.49262683],\n",
       "         ...,\n",
       "         [4.11251396, 4.24357916, 4.25408601, ..., 4.37108631, 4.53226887,\n",
       "          4.34908482],\n",
       "         [4.77545821, 5.42349332, 5.32008414, ..., 5.53096725, 4.93152944,\n",
       "          5.05198861],\n",
       "         [5.5002377 , 5.5935571 , 5.53614987, ..., 5.79235261, 5.93429153,\n",
       "          5.5449547 ]]),\n",
       "  'batra': array([[5.34933747, 5.70490536, 5.90316466, ..., 5.64170423, 4.85627468,\n",
       "          5.46406692],\n",
       "         [6.28302122, 6.81087124, 6.8471986 , ..., 6.7318365 , 5.30783581,\n",
       "          6.62303379],\n",
       "         [4.84921246, 5.09896912, 5.24011217, ..., 4.95525114, 4.10553873,\n",
       "          5.10637652],\n",
       "         ...,\n",
       "         [4.02111312, 4.57436652, 4.90623307, ..., 4.87762799, 4.51889228,\n",
       "          4.61225449],\n",
       "         [5.30181658, 5.35677817, 5.36355851, ..., 5.17367307, 5.22994859,\n",
       "          5.72131629],\n",
       "         [4.92653137, 5.40111952, 5.35602957, ..., 5.48641139, 5.4671188 ,\n",
       "          5.23613867]]),\n",
       "  'nakamori': array([[8.11478658, 8.73973099, 8.44157357, ..., 8.38572821, 5.48370131,\n",
       "          8.61738829],\n",
       "         [9.17331023, 9.17501808, 9.15775655, ..., 8.95100066, 6.23284944,\n",
       "          9.26423279],\n",
       "         [8.83058897, 9.14257231, 8.87057496, ..., 8.97193416, 6.44598783,\n",
       "          9.05177211],\n",
       "         ...,\n",
       "         [7.70249507, 7.85302612, 7.82166101, ..., 8.06867966, 7.8499575 ,\n",
       "          7.94702675],\n",
       "         [8.5251786 , 8.97143341, 8.87980073, ..., 8.91684038, 8.39241285,\n",
       "          8.90571568],\n",
       "         [6.83382969, 6.8619502 , 6.71317877, ..., 7.19868539, 6.31659057,\n",
       "          6.58369245]])}}"
      ]
     },
     "execution_count": 27,
     "metadata": {},
     "output_type": "execute_result"
    }
   ],
   "source": [
    "data"
   ]
  },
  {
   "cell_type": "code",
   "execution_count": 28,
   "metadata": {
    "collapsed": true
   },
   "outputs": [],
   "source": [
    "def simulation(data, metadata, runs, no_probes, n_components):\n",
    "    sample_no, patient_no = data.shape\n",
    "    real_alleles = []\n",
    "    simulated_alleles = []\n",
    "    for i in range(runs):\n",
    "        real_allele, simulated_allele = simulation_step(data, metadata, patient_no//2, no_probes, n_components)\n",
    "        real_alleles += real_allele\n",
    "        simulated_alleles += simulated_allele\n",
    "    return real_alleles, simulated_alleles"
   ]
  },
  {
   "cell_type": "code",
   "execution_count": 29,
   "metadata": {
    "collapsed": true
   },
   "outputs": [],
   "source": [
    "def obtain_simulation(simulation, *args, **kwargs):\n",
    "    real_alleles, simulated_alleles = simulation(*args, **kwargs)\n",
    "    def save_at(path):\n",
    "        with open(path, \"w\") as f:\n",
    "            json.dump({\"real_alleles\": real_alleles,\n",
    "                       \"predicted_alleles\": simulated_alleles,\n",
    "                      }, f)\n",
    "    return save_at"
   ]
  },
  {
   "cell_type": "code",
   "execution_count": 30,
   "metadata": {
    "collapsed": true
   },
   "outputs": [],
   "source": [
    "def analyse_simulation(path, r2_to_p):\n",
    "    with open(path, \"r\") as f:\n",
    "        result = json.load(f)\n",
    "    real_alleles = result[\"real_alleles\"]\n",
    "    simulated_alleles = result[\"predicted_alleles\"]\n",
    "    r, _ = pearsonr(real_alleles, simulated_alleles)\n",
    "    r_squared = r**2\n",
    "    p_value = r2_to_p(r_squared)\n",
    "    return real_alleles, simulated_alleles, r_squared, p_value, "
   ]
  },
  {
   "cell_type": "code",
   "execution_count": 31,
   "metadata": {
    "collapsed": true
   },
   "outputs": [],
   "source": [
    "def present_result(name, tissue, real_allele, simulated_allele, r_squared, p_value):\n",
    "    if in_ipynb():\n",
    "        plt.figure()\n",
    "        plt.scatter(real_allele, simulated_allele)\n",
    "        plt.xlabel(\"measured allele length\")\n",
    "        plt.ylabel(\"predicted allele length\")\n",
    "    print(\"In {}, {} r² is {}, which corrsponds to p-value {}\".format(name, tissue, r_squared, p_value))"
   ]
  },
  {
   "cell_type": "code",
   "execution_count": 32,
   "metadata": {
    "collapsed": true
   },
   "outputs": [],
   "source": [
    "def simulated_r2(metadata, times):\n",
    "    r2s = []\n",
    "    for i in range(times):\n",
    "        repeat_length_random = metadata.modal_allele[:]\n",
    "        random.shuffle(repeat_length_random)\n",
    "        inter_r, _ = pearsonr(metadata.modal_allele, repeat_length_random)\n",
    "        r2s.append(inter_r**2)\n",
    "    r2s.sort()\n",
    "    def check_value(r_squared):\n",
    "        p_value = 1 - bisect.bisect_right(r2s, r_squared)/float(times)\n",
    "        return p_value\n",
    "    return check_value"
   ]
  },
  {
   "cell_type": "code",
   "execution_count": 33,
   "metadata": {
    "collapsed": true
   },
   "outputs": [],
   "source": [
    "muscle_r2_to_p = simulated_r2(muscle_meta, r2_simulation_size)"
   ]
  },
  {
   "cell_type": "code",
   "execution_count": 34,
   "metadata": {
    "collapsed": true
   },
   "outputs": [],
   "source": [
    "blood_r2_to_p = simulated_r2(blood_meta, r2_simulation_size)"
   ]
  },
  {
   "cell_type": "code",
   "execution_count": 35,
   "metadata": {
    "collapsed": true
   },
   "outputs": [],
   "source": [
    "r2_to_p = {\"muscle\": muscle_r2_to_p, \"blood\": blood_r2_to_p}"
   ]
  },
  {
   "cell_type": "code",
   "execution_count": 36,
   "metadata": {
    "collapsed": true
   },
   "outputs": [],
   "source": [
    "base_path = \"simulation_results\"\n",
    "try:\n",
    "    os.mkdir(base_path)\n",
    "except OSError:\n",
    "    pass"
   ]
  },
  {
   "cell_type": "code",
   "execution_count": 37,
   "metadata": {
    "collapsed": true
   },
   "outputs": [],
   "source": [
    "def example_workflow(name, tissue, simulation_runs, select_top_k_genes, PLSR_dimensions):\n",
    "    path = os.path.join(base_path, \"{}_{}_{}_{}_{}\".format(name, tissue, simulation_runs, select_top_k_genes, PLSR_dimensions))\n",
    "    obtain_simulation(simulation, data[tissue][name], metadata[tissue], simulation_runs, select_top_k_genes, PLSR_dimensions)(path)\n",
    "    real_allele, simulated_allele, r2, p = analyse_simulation(path, r2_to_p[tissue])\n",
    "    present_result(name, tissue, real_allele, simulated_allele, r2, p)"
   ]
  },
  {
   "cell_type": "code",
   "execution_count": 38,
   "metadata": {},
   "outputs": [
    {
     "name": "stdout",
     "output_type": "stream",
     "text": [
      "In nakamori, muscle r² is 0.1793197075787561, which corrsponds to p-value 0.02852100000000002\n",
      "took 14.364564418792725 seconds\n"
     ]
    },
    {
     "data": {
      "image/png": "[encoded data removed]",
      "text/plain": [
       "<Figure size 432x288 with 1 Axes>"
      ]
     },
     "metadata": {},
     "output_type": "display_data"
    }
   ],
   "source": [
    "import time\n",
    "start = time.time()\n",
    "if not in_ipynb():\n",
    "    example_workflow(name=gene_arg, tissue=tissue_arg, simulation_runs=simulation_arg, select_top_k_genes=top_genes_arg, PLSR_dimensions=PLSR_arg)\n",
    "else:\n",
    "    example_workflow(name=\"nakamori\", tissue=\"muscle\", simulation_runs=50, select_top_k_genes=500, PLSR_dimensions=2)\n",
    "stop = time.time()\n",
    "print(\"took {} seconds\".format(stop - start))"
   ]
  }
 ],
 "metadata": {
  "kernelspec": {
   "display_name": "Python 3 Clinical Applicatoins",
   "language": "python",
   "name": "clinical_applications"
  },
  "language_info": {
   "codemirror_mode": {
    "name": "ipython",
    "version": 3
   },
   "file_extension": ".py",
   "mimetype": "text/x-python",
   "name": "python",
   "nbconvert_exporter": "python",
   "pygments_lexer": "ipython3",
   "version": "3.5.2"
  }
 },
 "nbformat": 4,
 "nbformat_minor": 2
}
