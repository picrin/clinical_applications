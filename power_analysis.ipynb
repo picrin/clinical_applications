{
 "cells": [
  {
   "cell_type": "code",
   "execution_count": 156,
   "metadata": {
    "collapsed": true
   },
   "outputs": [],
   "source": [
    "import numpy\n",
    "import collections\n",
    "import json\n",
    "import random\n",
    "import math"
   ]
  },
  {
   "cell_type": "code",
   "execution_count": 157,
   "metadata": {
    "collapsed": true
   },
   "outputs": [],
   "source": [
    "# copied over from predictions.ipynb\n",
    "class Metadata:\n",
    "    def __init__(self, ids, cels, metadata):\n",
    "        self.IDs = ids\n",
    "        self.CELs = cels\n",
    "        self.modal_allele = [int(metadata[i][\"modal_allele\"]) for i in ids]\n",
    "        self.progenitor_allele = [int(metadata[i][\"progenitor_allele\"]) for i in ids]\n",
    "        self.MIRS = [int(metadata[i][\"MIRS\"]) for i in ids]\n",
    "    def __str__(self):\n",
    "        return \"Metadata={{IDs: {}...,\\n CELs: {}...,\\n modal_allele: {}...,\\n progenitor_allele: {}...,\\n MIRS: {}...}}\".format(self.IDs[:5], self.CELs[:5], self.modal_allele[:5], self.progenitor_allele[:5], self.MIRS[:5])\n",
    "    def __repr__(self):\n",
    "        return self.__str__()\n",
    "\n",
    "def load_metadata():\n",
    "    metadata = {}\n",
    "    metadata_order = []\n",
    "    with open(\"metadata.txt\") as f:\n",
    "        for i, line in enumerate(f):\n",
    "            line = line.strip().split()\n",
    "            if i == 0:\n",
    "                names = line[1:]\n",
    "            else:\n",
    "                values = line[1:]\n",
    "                patient_id = line[0]\n",
    "                metadata_order.append(patient_id)\n",
    "                metadata[patient_id] = {k: v for k, v in zip(names, values)}\n",
    "    blood_IDs = [i for i in metadata_order]\n",
    "    muscle_IDs = [i for i in metadata_order if metadata[i][\"muscle_cel\"] != \"refused_biopsy\"]\n",
    "    blood_CELs = [metadata[i][\"blood_cel\"] for i in blood_IDs]\n",
    "    muscle_CELs = [metadata[i][\"muscle_cel\"] for i in muscle_IDs]\n",
    "        \n",
    "    blood_record = Metadata(blood_IDs, blood_CELs, metadata)\n",
    "    muscle_record = Metadata(muscle_IDs, muscle_CELs, metadata)\n",
    "    return blood_record, muscle_record"
   ]
  },
  {
   "cell_type": "code",
   "execution_count": 158,
   "metadata": {
    "collapsed": true
   },
   "outputs": [],
   "source": [
    "_, muscle = load_metadata()"
   ]
  },
  {
   "cell_type": "code",
   "execution_count": 159,
   "metadata": {
    "collapsed": true
   },
   "outputs": [],
   "source": [
    "# pick up participants with unique MAL"
   ]
  },
  {
   "cell_type": "code",
   "execution_count": 160,
   "metadata": {
    "collapsed": true
   },
   "outputs": [],
   "source": [
    "def MAL_to_ID_ifunique(blood):\n",
    "    reverse_blood = {j: i for i, j in zip(blood.IDs, blood.modal_allele)}\n",
    "    counter_blood = collections.defaultdict(int)\n",
    "    for ma, ids in zip(blood.modal_allele, blood.IDs):\n",
    "        counter_blood[ma] += 1\n",
    "    good_mal = [i for i, j in counter_blood.items() if j == 1]\n",
    "    good_IDs = {i: reverse_blood[i] for i in good_mal}\n",
    "    return good_IDs"
   ]
  },
  {
   "cell_type": "code",
   "execution_count": 161,
   "metadata": {},
   "outputs": [
    {
     "data": {
      "text/plain": [
       "{11: '360448352',\n",
       " 77: '830225708',\n",
       " 83: '575039926',\n",
       " 186: '420299717',\n",
       " 240: '873750289',\n",
       " 261: '377666471',\n",
       " 290: '321962190',\n",
       " 297: '117440822',\n",
       " 345: '473208969',\n",
       " 408: '129523253',\n",
       " 561: '819054051',\n",
       " 593: '124563003',\n",
       " 604: '549452228',\n",
       " 654: '328687703',\n",
       " 697: '896445336',\n",
       " 740: '270148799',\n",
       " 866: '881676366',\n",
       " 872: '111747589',\n",
       " 993: '230974357',\n",
       " 999: '661252781',\n",
       " 1000: '449599671',\n",
       " 1035: '159834720',\n",
       " 1111: '315805040',\n",
       " 1261: '427374914'}"
      ]
     },
     "execution_count": 161,
     "metadata": {},
     "output_type": "execute_result"
    }
   ],
   "source": [
    "pick_up_unique_MAL(muscle)"
   ]
  },
  {
   "cell_type": "code",
   "execution_count": 162,
   "metadata": {
    "collapsed": true
   },
   "outputs": [],
   "source": [
    "with open(\"simulation_results/nakamori_muscle_10000_500_2\") as f:\n",
    "    simulation_result = json.load(f)"
   ]
  },
  {
   "cell_type": "code",
   "execution_count": 163,
   "metadata": {},
   "outputs": [
    {
     "data": {
      "text/plain": [
       "['real_alleles', 'predicted_alleles']"
      ]
     },
     "execution_count": 163,
     "metadata": {},
     "output_type": "execute_result"
    }
   ],
   "source": [
    "[key for key in simulation_result]"
   ]
  },
  {
   "cell_type": "code",
   "execution_count": 164,
   "metadata": {
    "collapsed": true
   },
   "outputs": [],
   "source": [
    "average_mal = sum(muscle.modal_allele)/len(muscle.modal_allele)"
   ]
  },
  {
   "cell_type": "code",
   "execution_count": 178,
   "metadata": {
    "collapsed": true
   },
   "outputs": [],
   "source": [
    "prediction_difference = [predicted - real for predicted, real in zip(simulation_result[\"predicted_alleles\"], simulation_result[\"real_alleles\"])]"
   ]
  },
  {
   "cell_type": "code",
   "execution_count": 179,
   "metadata": {
    "collapsed": true
   },
   "outputs": [],
   "source": [
    "prediction_difference_small_effect = [predicted - real - 0.1 * real for predicted, real in zip(simulation_result[\"predicted_alleles\"], simulation_result[\"real_alleles\"])]"
   ]
  },
  {
   "cell_type": "code",
   "execution_count": 180,
   "metadata": {
    "collapsed": true
   },
   "outputs": [],
   "source": [
    "prediction_difference_medium_effect = [predicted - real - 0.2 * real for predicted, real in zip(simulation_result[\"predicted_alleles\"], simulation_result[\"real_alleles\"])]"
   ]
  },
  {
   "cell_type": "code",
   "execution_count": 181,
   "metadata": {
    "collapsed": true
   },
   "outputs": [],
   "source": [
    "prediction_difference_large_effect = [predicted - real - 0.5 * real for predicted, real in zip(simulation_result[\"predicted_alleles\"], simulation_result[\"real_alleles\"])]"
   ]
  },
  {
   "cell_type": "code",
   "execution_count": 183,
   "metadata": {
    "collapsed": true
   },
   "outputs": [],
   "source": [
    "import matplotlib.pyplot as plt"
   ]
  },
  {
   "cell_type": "code",
   "execution_count": 184,
   "metadata": {},
   "outputs": [
    {
     "data": {
      "text/plain": [
       "(array([2.0000e+01, 1.3290e+03, 2.6300e+02, 1.3280e+03, 1.4380e+03,\n",
       "        2.4170e+03, 3.4560e+03, 4.2450e+03, 4.8410e+03, 5.3360e+03,\n",
       "        4.8350e+03, 4.8880e+03, 6.6320e+03, 9.3290e+03, 1.3118e+04,\n",
       "        1.4668e+04, 1.3031e+04, 1.0925e+04, 1.0395e+04, 8.1590e+03,\n",
       "        6.0110e+03, 4.1340e+03, 3.4610e+03, 2.7920e+03, 1.8140e+03,\n",
       "        8.6900e+02, 2.1500e+02, 3.8000e+01, 1.1000e+01, 2.0000e+00]),\n",
       " array([-1100.        , -1027.72501842,  -955.45003683,  -883.17505525,\n",
       "         -810.90007366,  -738.62509208,  -666.35011049,  -594.07512891,\n",
       "         -521.80014732,  -449.52516574,  -377.25018415,  -304.97520257,\n",
       "         -232.70022099,  -160.4252394 ,   -88.15025782,   -15.87527623,\n",
       "           56.39970535,   128.67468694,   200.94966852,   273.22465011,\n",
       "          345.49963169,   417.77461328,   490.04959486,   562.32457644,\n",
       "          634.59955803,   706.87453961,   779.1495212 ,   851.42450278,\n",
       "          923.69948437,   995.97446595,  1068.24944754]),\n",
       " <a list of 30 Patch objects>)"
      ]
     },
     "execution_count": 184,
     "metadata": {},
     "output_type": "execute_result"
    },
    {
     "data": {
      "image/png": "[encoded data removed]",
      "text/plain": [
       "<Figure size 432x288 with 1 Axes>"
      ]
     },
     "metadata": {},
     "output_type": "display_data"
    }
   ],
   "source": [
    "plt.hist(prediction_difference, bins=30)"
   ]
  },
  {
   "cell_type": "code",
   "execution_count": 185,
   "metadata": {},
   "outputs": [
    {
     "data": {
      "text/plain": [
       "(array([2.5000e+01, 1.3520e+03, 3.4200e+02, 1.5110e+03, 1.7730e+03,\n",
       "        2.7190e+03, 3.5730e+03, 4.3330e+03, 4.9530e+03, 5.3650e+03,\n",
       "        4.5850e+03, 4.7850e+03, 6.6860e+03, 8.8790e+03, 1.2195e+04,\n",
       "        1.3888e+04, 1.2026e+04, 1.0443e+04, 1.0256e+04, 8.6020e+03,\n",
       "        6.6190e+03, 4.5620e+03, 3.7640e+03, 3.1180e+03, 2.1460e+03,\n",
       "        1.1290e+03, 3.1000e+02, 4.8000e+01, 1.1000e+01, 2.0000e+00]),\n",
       " array([-1211.1       , -1135.16168508, -1059.22337016,  -983.28505525,\n",
       "         -907.34674033,  -831.40842541,  -755.47011049,  -679.53179557,\n",
       "         -603.59348066,  -527.65516574,  -451.71685082,  -375.7785359 ,\n",
       "         -299.84022099,  -223.90190607,  -147.96359115,   -72.02527623,\n",
       "            3.91303869,    79.8513536 ,   155.78966852,   231.72798344,\n",
       "          307.66629836,   383.60461328,   459.54292819,   535.48124311,\n",
       "          611.41955803,   687.35787295,   763.29618786,   839.23450278,\n",
       "          915.1728177 ,   991.11113262,  1067.04944754]),\n",
       " <a list of 30 Patch objects>)"
      ]
     },
     "execution_count": 185,
     "metadata": {},
     "output_type": "execute_result"
    },
    {
     "data": {
      "image/png": "[encoded data removed]",
      "text/plain": [
       "<Figure size 432x288 with 1 Axes>"
      ]
     },
     "metadata": {},
     "output_type": "display_data"
    }
   ],
   "source": [
    "plt.hist(prediction_difference_small_effect, bins=30)"
   ]
  },
  {
   "cell_type": "code",
   "execution_count": 186,
   "metadata": {},
   "outputs": [
    {
     "data": {
      "text/plain": [
       "(array([4.7000e+01, 7.7100e+02, 1.2900e+03, 1.5740e+03, 3.4870e+03,\n",
       "        3.4550e+03, 3.3750e+03, 3.7960e+03, 5.4350e+03, 5.2790e+03,\n",
       "        4.5210e+03, 5.7090e+03, 6.9540e+03, 6.7050e+03, 8.0760e+03,\n",
       "        1.1056e+04, 1.0469e+04, 8.4150e+03, 8.3160e+03, 9.1750e+03,\n",
       "        8.7440e+03, 6.7620e+03, 5.2590e+03, 4.2160e+03, 3.4640e+03,\n",
       "        2.4270e+03, 1.0370e+03, 1.6200e+02, 2.2000e+01, 2.0000e+00]),\n",
       " array([-1685.9227673 , -1594.31702681, -1502.71128631, -1411.10554582,\n",
       "        -1319.49980532, -1227.89406483, -1136.28832434, -1044.68258384,\n",
       "         -953.07684335,  -861.47110285,  -769.86536236,  -678.25962186,\n",
       "         -586.65388137,  -495.04814087,  -403.44240038,  -311.83665988,\n",
       "         -220.23091939,  -128.62517889,   -37.0194384 ,    54.5863021 ,\n",
       "          146.19204259,   237.79778308,   329.40352358,   421.00926407,\n",
       "          512.61500457,   604.22074506,   695.82648556,   787.43222605,\n",
       "          879.03796655,   970.64370704,  1062.24944754]),\n",
       " <a list of 30 Patch objects>)"
      ]
     },
     "execution_count": 186,
     "metadata": {},
     "output_type": "execute_result"
    },
    {
     "data": {
      "image/png": "[encoded data removed]",
      "text/plain": [
       "<Figure size 432x288 with 1 Axes>"
      ]
     },
     "metadata": {},
     "output_type": "display_data"
    }
   ],
   "source": [
    "plt.hist(prediction_difference_large_effect, bins=30)"
   ]
  },
  {
   "cell_type": "code",
   "execution_count": 187,
   "metadata": {
    "collapsed": true
   },
   "outputs": [],
   "source": [
    "def simulate_rejection_region(patient_no, simulation_size):\n",
    "    treatment_effects = []\n",
    "    for i in range(simulation_size):\n",
    "        treatment_effect = 0\n",
    "        for i in range(patient_no):\n",
    "            random_index = random.randint(0, len(prediction_difference) - 1)\n",
    "            treatment_effect += prediction_difference[random_index]\n",
    "        treatment_effects.append(treatment_effect/patient_no)\n",
    "    treatment_effects.sort()\n",
    "    return treatment_effects[math.floor(simulation_size * 0.05)]"
   ]
  },
  {
   "cell_type": "code",
   "execution_count": 205,
   "metadata": {
    "collapsed": true
   },
   "outputs": [],
   "source": [
    "def simulate_power(dataset, patient_no, simulation_size, rejection_region):\n",
    "    treatment_effects = []\n",
    "    for i in range(simulation_size):\n",
    "        treatment_effect = 0\n",
    "        for i in range(patient_no):\n",
    "            random_index = random.randint(0, len(dataset) - 1)\n",
    "            treatment_effect += dataset[random_index]\n",
    "        treatment_effects.append(treatment_effect/patient_no)\n",
    "    counter = 0\n",
    "    for treatment_effect in treatment_effects:\n",
    "        if treatment_effect < rejection_region:\n",
    "            counter += 1\n",
    "    #print(treatment_effects)\n",
    "    return counter/len(treatment_effects)"
   ]
  },
  {
   "cell_type": "code",
   "execution_count": 209,
   "metadata": {},
   "outputs": [
    {
     "name": "stdout",
     "output_type": "stream",
     "text": [
      "for study with 10 participants, we have power 0.1387, 0.2663, 0.6696 to detect 10%, 20% and 50% MAL difference. Rejection region is -207.32959668665862\n",
      "for study with 20 participants, we have power 0.1817, 0.3814, 0.8638 to detect 10%, 20% and 50% MAL difference. Rejection region is -151.25786699424748\n",
      "for study with 30 participants, we have power 0.2153, 0.4782, 0.9545 to detect 10%, 20% and 50% MAL difference. Rejection region is -127.8098501536078\n",
      "for study with 40 participants, we have power 0.2544, 0.572, 0.9824 to detect 10%, 20% and 50% MAL difference. Rejection region is -112.44192262998351\n",
      "for study with 50 participants, we have power 0.2959, 0.6533, 0.9931 to detect 10%, 20% and 50% MAL difference. Rejection region is -101.99368866748941\n",
      "for study with 60 participants, we have power 0.3219, 0.7136, 0.9984 to detect 10%, 20% and 50% MAL difference. Rejection region is -94.42363792821146\n",
      "for study with 70 participants, we have power 0.3461, 0.7591, 0.9995 to detect 10%, 20% and 50% MAL difference. Rejection region is -90.25081507879601\n",
      "for study with 80 participants, we have power 0.371, 0.8035, 0.9996 to detect 10%, 20% and 50% MAL difference. Rejection region is -85.40893508241949\n",
      "for study with 90 participants, we have power 0.4217, 0.8467, 0.9997 to detect 10%, 20% and 50% MAL difference. Rejection region is -80.32902779463994\n",
      "for study with 100 participants, we have power 0.4461, 0.8748, 1.0 to detect 10%, 20% and 50% MAL difference. Rejection region is -77.1339415799508\n"
     ]
    }
   ],
   "source": [
    "for patient_no in [10, 20, 30, 40, 50, 60, 70, 80, 90, 100]:\n",
    "    rejection_region = simulate_rejection_region(patient_no, 10000)\n",
    "    power_small = simulate_power(prediction_difference_small_effect, patient_no, 10000, rejection_region)\n",
    "    power_medium = simulate_power(prediction_difference_medium_effect, patient_no, 10000, rejection_region)\n",
    "    power_large = simulate_power(prediction_difference_large_effect, patient_no, 10000, rejection_region)\n",
    "    print(\"for study with {} participants, we have power {}, {}, {} to detect 10%, 20% and 50% MAL difference. Rejection region is {}\".format(patient_no, power_small, power_medium, power_large, rejection_region))"
   ]
  },
  {
   "cell_type": "code",
   "execution_count": null,
   "metadata": {
    "collapsed": true
   },
   "outputs": [],
   "source": []
  }
 ],
 "metadata": {
  "kernelspec": {
   "display_name": "Python 3 Clinical Applicatoins",
   "language": "python",
   "name": "clinical_applications"
  },
  "language_info": {
   "codemirror_mode": {
    "name": "ipython",
    "version": 3
   },
   "file_extension": ".py",
   "mimetype": "text/x-python",
   "name": "python",
   "nbconvert_exporter": "python",
   "pygments_lexer": "ipython3",
   "version": "3.5.2"
  }
 },
 "nbformat": 4,
 "nbformat_minor": 2
}
