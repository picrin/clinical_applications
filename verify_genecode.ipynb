{
 "cells": [
  {
   "cell_type": "code",
   "execution_count": 1,
   "metadata": {
    "collapsed": true
   },
   "outputs": [],
   "source": [
    "from Bio import SeqIO, SeqRecord\n",
    "from Bio.Seq import Seq\n",
    "all_chromosomes = {record.name: record for record in SeqIO.parse(\"annotations/GRCh37.primary_assembly.genome.fa\", \"fasta\")}"
   ]
  },
  {
   "cell_type": "code",
   "execution_count": 2,
   "metadata": {
    "collapsed": true
   },
   "outputs": [],
   "source": [
    "\n",
    "import re\n",
    "\n",
    "allowed_chromosomes = \"^chr[0-9]?[0-9]?[XYM]?$\"\n"
   ]
  },
  {
   "cell_type": "code",
   "execution_count": 7,
   "metadata": {
    "collapsed": true
   },
   "outputs": [],
   "source": [
    "headers = None\n",
    "i = 0\n",
    "misaligned_count = 0\n",
    "with open(\"probesets/all_meta.csv\") as f:\n",
    "    for line in f:\n",
    "        line = [i.strip() for i in line.split()]\n",
    "        if not headers:\n",
    "            headers = {key: value for value, key in enumerate(line)}\n",
    "        else:\n",
    "            seq, left_pos, right_pos, chrom, strand = [line[i] for i in [headers[key] for key in [\"seq\", \"left_pos\", \"right_pos\", \"chromosome\", \"strand\"]]]\n",
    "            try : \n",
    "                left_pos = int(left_pos)\n",
    "                right_pos = int(right_pos)\n",
    "            except:\n",
    "                continue\n",
    "            if re.match(allowed_chromosomes, chrom) and strand in [\"+\", \"-\"]:\n",
    "                # Affymetrix keeps their probe sequences in 3' -> 5'!\n",
    "                seq = Seq(seq[::-1])\n",
    "                \n",
    "                if strand == \"+\":\n",
    "                    seq = seq.reverse_complement()\n",
    "                # This is really subtle.\n",
    "                # First, genomic coordinates are index-1 based.\n",
    "                # So, to convert left, right to python take left-1, right-1.\n",
    "                # Now, python slices are left-inclusive right-exclusive\n",
    "                # Genomic coordinates are left,right-inclusive.\n",
    "                # So add 1 to right-1.\n",
    "                # You end up with left-1, right.\n",
    "                in_genecode = seq in all_chromosomes[chrom][left_pos-1:right_pos]\n",
    "                \n",
    "                #TODO remove that shit\n",
    "                #in_genecode = seq in all_chromosomes[chrom][left_pos-10:right_pos+10]\n",
    "\n",
    "                if not in_genecode:\n",
    "                    misaligned_count += 1\n",
    "                i += 1\n",
    "            #if i == 100000:\n",
    "                #break"
   ]
  },
  {
   "cell_type": "code",
   "execution_count": 4,
   "metadata": {},
   "outputs": [
    {
     "data": {
      "text/plain": [
       "60006"
      ]
     },
     "execution_count": 4,
     "metadata": {},
     "output_type": "execute_result"
    }
   ],
   "source": [
    "misaligned_count"
   ]
  },
  {
   "cell_type": "code",
   "execution_count": 6,
   "metadata": {},
   "outputs": [
    {
     "data": {
      "text/plain": [
       "0.01112250848284506"
      ]
     },
     "execution_count": 6,
     "metadata": {},
     "output_type": "execute_result"
    }
   ],
   "source": [
    "misaligned_count / i"
   ]
  },
  {
   "cell_type": "code",
   "execution_count": 8,
   "metadata": {
    "collapsed": true
   },
   "outputs": [],
   "source": [
    "headers = None\n",
    "i = 0\n",
    "misaligned_count = 0\n",
    "with open(\"probesets/all_meta.csv\") as f:\n",
    "    for line in f:\n",
    "        line = [i.strip() for i in line.split()]\n",
    "        if not headers:\n",
    "            headers = {key: value for value, key in enumerate(line)}\n",
    "        else:\n",
    "            seq, left_pos, right_pos, chrom, strand = [line[i] for i in [headers[key] for key in [\"seq\", \"left_pos\", \"right_pos\", \"chromosome\", \"strand\"]]]\n",
    "            try : \n",
    "                left_pos = int(left_pos)\n",
    "                right_pos = int(right_pos)\n",
    "            except:\n",
    "                continue\n",
    "            if re.match(allowed_chromosomes, chrom) and strand in [\"+\", \"-\"]:\n",
    "                # Affymetrix keeps their probe sequences in 3' -> 5'!\n",
    "                seq = Seq(seq[::-1])\n",
    "                \n",
    "                if strand == \"+\":\n",
    "                    seq = seq.reverse_complement()\n",
    "                # This is really subtle.\n",
    "                # First, genomic coordinates are index-1 based.\n",
    "                # So, to convert left, right to python take left-1, right-1.\n",
    "                # Now, python slices are left-inclusive right-exclusive\n",
    "                # Genomic coordinates are left,right-inclusive.\n",
    "                # So add 1 to right-1.\n",
    "                # You end up with left-1, right.\n",
    "                in_genecode = seq in all_chromosomes[chrom][left_pos-1000:right_pos+1000]\n",
    "                \n",
    "                #TODO remove that shit\n",
    "                #in_genecode = seq in all_chromosomes[chrom][left_pos-10:right_pos+10]\n",
    "\n",
    "                if not in_genecode:\n",
    "                    misaligned_count += 1\n",
    "                i += 1\n",
    "            #if i == 100000:\n",
    "                #break"
   ]
  },
  {
   "cell_type": "code",
   "execution_count": 9,
   "metadata": {},
   "outputs": [
    {
     "data": {
      "text/plain": [
       "59889"
      ]
     },
     "execution_count": 9,
     "metadata": {},
     "output_type": "execute_result"
    }
   ],
   "source": [
    "misaligned_count"
   ]
  },
  {
   "cell_type": "code",
   "execution_count": 10,
   "metadata": {},
   "outputs": [
    {
     "data": {
      "text/plain": [
       "0.0111008217599758"
      ]
     },
     "execution_count": 10,
     "metadata": {},
     "output_type": "execute_result"
    }
   ],
   "source": [
    "misaligned_count / i"
   ]
  },
  {
   "cell_type": "code",
   "execution_count": 11,
   "metadata": {},
   "outputs": [
    {
     "data": {
      "text/plain": [
       "5395006"
      ]
     },
     "execution_count": 11,
     "metadata": {},
     "output_type": "execute_result"
    }
   ],
   "source": [
    "i"
   ]
  },
  {
   "cell_type": "code",
   "execution_count": null,
   "metadata": {
    "collapsed": true
   },
   "outputs": [],
   "source": []
  }
 ],
 "metadata": {
  "kernelspec": {
   "display_name": "Python 3 Clinical Applicatoins",
   "language": "python",
   "name": "clinical_applications"
  },
  "language_info": {
   "codemirror_mode": {
    "name": "ipython",
    "version": 3
   },
   "file_extension": ".py",
   "mimetype": "text/x-python",
   "name": "python",
   "nbconvert_exporter": "python",
   "pygments_lexer": "ipython3",
   "version": "3.5.2"
  }
 },
 "nbformat": 4,
 "nbformat_minor": 2
}
