{
 "cells": [
  {
   "cell_type": "code",
   "execution_count": 67,
   "metadata": {
    "collapsed": true
   },
   "outputs": [],
   "source": [
    "import os"
   ]
  },
  {
   "cell_type": "code",
   "execution_count": 1,
   "metadata": {
    "collapsed": true
   },
   "outputs": [],
   "source": [
    "# copied from quantile_normalise\n",
    "def load_intensity_data(paths):\n",
    "    intensities = []\n",
    "    for path in paths:\n",
    "        with open(path) as f:\n",
    "            intensity = numpy.loadtxt(f)\n",
    "            intensities.append(intensity)\n",
    "    return intensities"
   ]
  },
  {
   "cell_type": "code",
   "execution_count": 2,
   "metadata": {
    "collapsed": true
   },
   "outputs": [],
   "source": [
    "# copied from quantile_normalise\n",
    "def load_metadata():\n",
    "    metadata = {}\n",
    "    with open(\"metadata.txt\") as f:\n",
    "        for i, line in enumerate(f):\n",
    "            line = line.strip().split()\n",
    "            if i == 0:\n",
    "                names = line[1:]\n",
    "            else:\n",
    "                values = line[1:]\n",
    "                metadata[line[0]] = {k: v for k, v in zip(names, values)}\n",
    "    return metadata"
   ]
  },
  {
   "cell_type": "code",
   "execution_count": 3,
   "metadata": {
    "collapsed": true
   },
   "outputs": [],
   "source": [
    "metadata = load_metadata()\n",
    "blood_IDs = [i for i in metadata]\n",
    "blood_CELs = [metadata[i][\"blood_cel\"] for i in blood_IDs]\n",
    "\n",
    "muscle_IDs = [i for i in blood_IDs if metadata[i][\"muscle_cel\"] != \"refused_biopsy\"]\n",
    "muscle_CELs = [metadata[i][\"muscle_cel\"] for i in muscle_IDs]"
   ]
  },
  {
   "cell_type": "code",
   "execution_count": 4,
   "metadata": {},
   "outputs": [
    {
     "data": {
      "text/plain": [
       "27"
      ]
     },
     "execution_count": 4,
     "metadata": {},
     "output_type": "execute_result"
    }
   ],
   "source": [
    "len(muscle_IDs)"
   ]
  },
  {
   "cell_type": "code",
   "execution_count": 5,
   "metadata": {},
   "outputs": [
    {
     "data": {
      "text/plain": [
       "35"
      ]
     },
     "execution_count": 5,
     "metadata": {},
     "output_type": "execute_result"
    }
   ],
   "source": [
    "len(blood_IDs)"
   ]
  },
  {
   "cell_type": "code",
   "execution_count": 6,
   "metadata": {
    "collapsed": true
   },
   "outputs": [],
   "source": [
    "import os.path\n",
    "import numpy"
   ]
  },
  {
   "cell_type": "code",
   "execution_count": 7,
   "metadata": {},
   "outputs": [],
   "source": [
    "blood_intensity = load_intensity_data([os.path.join(\"qn\", i + \".txt\") for i in blood_CELs])"
   ]
  },
  {
   "cell_type": "markdown",
   "metadata": {},
   "source": [
    "P2RX6   3937918 TGCCTCAGACGGAGCTCAGCACCTG       chr22   +       21380784        21380808        1366    1033\n"
   ]
  },
  {
   "cell_type": "code",
   "execution_count": 11,
   "metadata": {},
   "outputs": [
    {
     "name": "stdout",
     "output_type": "stream",
     "text": [
      "5.56157604992 111747589\n"
     ]
    }
   ],
   "source": [
    "print(blood_intensity[0][y][x], blood_IDs[0])"
   ]
  },
  {
   "cell_type": "code",
   "execution_count": 39,
   "metadata": {
    "collapsed": true
   },
   "outputs": [],
   "source": [
    "target = \"experiment_dump\"\n",
    "import os\n",
    "try:\n",
    "    os.mkdir(target)\n",
    "except FileExistsError:\n",
    "    pass"
   ]
  },
  {
   "cell_type": "markdown",
   "metadata": {},
   "source": [
    "# here we produce a dump of the entire experiment, blood data"
   ]
  },
  {
   "cell_type": "markdown",
   "metadata": {},
   "source": [
    "gene_names = set()\n",
    "headers = {}\n",
    "with open(os.path.join(target, \"blood\"), \"w\") as f_out:\n",
    "    with open(\"probesets/annotated_probesets.csv\", \"r\") as f:\n",
    "        for i, line in enumerate(f):\n",
    "            line = line.rstrip().split()\n",
    "            if not headers:\n",
    "                headers_keys = line\n",
    "                headers = {key: value for value, key in enumerate(headers_keys)}\n",
    "                for header in headers_keys:\n",
    "                    print(header, end=\"\\t\", file=f_out)\n",
    "                for patient_id in blood_IDs:\n",
    "                    print(\"patient_\" + patient_id, end=\"\\t\", file=f_out)\n",
    "                print(file=f_out)\n",
    "                continue\n",
    "            for header in headers:\n",
    "                gene_names.add(line[headers[\"gene_name\"]])\n",
    "                x = int(line[headers[\"x\"]])\n",
    "                y = int(line[headers[\"y\"]])\n",
    "                for header in headers_keys:\n",
    "                    print(line[headers[header]], end=\"\\t\", file=f_out)\n",
    "                for j, patient_id in enumerate(blood_IDs):\n",
    "                    print(blood_intensity[j][y][x], end=\"\\t\", file=f_out)\n",
    "                print(file=f_out)"
   ]
  },
  {
   "cell_type": "code",
   "execution_count": 65,
   "metadata": {
    "collapsed": true
   },
   "outputs": [],
   "source": []
  },
  {
   "cell_type": "code",
   "execution_count": 68,
   "metadata": {},
   "outputs": [],
   "source": [
    "target=\"experiment\"\n",
    "\n",
    "gene_names = set()\n",
    "with open(\"probesets/annotated_probesets.csv\", \"r\") as f:\n",
    "    for i, line in enumerate(f):\n",
    "        if i != 0:\n",
    "            gene_names.add(line.split()[0])\n",
    "\n",
    "for gene_name in gene_names:\n",
    "    open(os.path.join(target, gene_name), 'w').close()\n",
    "\n",
    "headers = {}\n",
    "with open(\"probesets/annotated_probesets.csv\", \"r\") as f:\n",
    "    for i, line in enumerate(f):\n",
    "        line = line.rstrip().split()\n",
    "        if not headers:\n",
    "            headers_keys = line\n",
    "            headers = {key: value for value, key in enumerate(headers_keys)}\n",
    "            continue\n",
    "        gene_name = line[headers[\"gene_name\"]]\n",
    "        x = int(line[headers[\"x\"]])\n",
    "        y = int(line[headers[\"y\"]])\n",
    "        gene_path = os.path.join(target, gene_name)\n",
    "        #print(gene_path)\n",
    "        with open(gene_path, \"a\") as f_out:\n",
    "            if os.stat(gene_path).st_size == 0:\n",
    "                for header in headers_keys:\n",
    "                    print(header, end=\"\\t\", file=f_out)\n",
    "                for patient_id in blood_IDs:\n",
    "                    print(\"patient_\" + patient_id, end=\"\\t\", file=f_out)\n",
    "                print(file=f_out)            \n",
    "            for header in headers_keys:\n",
    "                print(line[headers[header]], end=\"\\t\", file=f_out)\n",
    "            for j, patient_id in enumerate(blood_IDs):\n",
    "                print(blood_intensity[j][y][x], end=\"\\t\", file=f_out)\n",
    "            print(file=f_out)"
   ]
  }
 ],
 "metadata": {
  "kernelspec": {
   "display_name": "Python 3",
   "language": "python",
   "name": "python3"
  },
  "language_info": {
   "codemirror_mode": {
    "name": "ipython",
    "version": 3
   },
   "file_extension": ".py",
   "mimetype": "text/x-python",
   "name": "python",
   "nbconvert_exporter": "python",
   "pygments_lexer": "ipython3",
   "version": "3.6.2"
  }
 },
 "nbformat": 4,
 "nbformat_minor": 2
}
