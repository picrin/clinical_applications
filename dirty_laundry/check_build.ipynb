{
 "cells": [
  {
   "cell_type": "code",
   "execution_count": 132,
   "metadata": {},
   "outputs": [],
   "source": [
    "result = []\n",
    "with open(\"dirty_laundry/hs_ref_GRCh37_chr22.fa\") as f:\n",
    "    for i, line in enumerate(f):\n",
    "        if i == 0:\n",
    "            continue\n",
    "        #if i == 1000:\n",
    "        #    break\n",
    "        result.append(line.rstrip())\n",
    "genome19 = \"\".join(result)"
   ]
  },
  {
   "cell_type": "code",
   "execution_count": 133,
   "metadata": {
    "collapsed": true
   },
   "outputs": [],
   "source": [
    "result = []\n",
    "with open(\"dirty_laundry/hs_ref_GRCh37.p5_chr22.fa\") as f:\n",
    "    for i, line in enumerate(f):\n",
    "        if i == 0:\n",
    "            continue\n",
    "        #if i == 1000:\n",
    "        #    break\n",
    "        result.append(line.rstrip())\n",
    "genome22b = \"\".join(result)"
   ]
  },
  {
   "cell_type": "code",
   "execution_count": 140,
   "metadata": {
    "collapsed": true
   },
   "outputs": [],
   "source": [
    "result = []\n",
    "with open(\"dirty_laundry/hs_ref_GRCh37.p5_chr19.fa\") as f:\n",
    "    for i, line in enumerate(f):\n",
    "        if i == 0:\n",
    "            continue\n",
    "        #if i == 1000:\n",
    "        #    break\n",
    "        result.append(line.rstrip())\n",
    "genome19 = \"\".join(result)"
   ]
  },
  {
   "cell_type": "code",
   "execution_count": null,
   "metadata": {
    "collapsed": true
   },
   "outputs": [],
   "source": []
  },
  {
   "cell_type": "code",
   "execution_count": 137,
   "metadata": {},
   "outputs": [
    {
     "data": {
      "text/plain": [
       "['muscle',\n",
       " 'hs_ref_GRCh37.p5_chr22.fa',\n",
       " '.ipynb_checkpoints',\n",
       " 'muscle_metadata_files',\n",
       " 'hs_ref_GRCh37.p5_chr19.fa',\n",
       " 'blood_metadata',\n",
       " 'hs_ref_GRCh37_chr22.fa',\n",
       " 'hs_ref_GRCh37.p2_chr22.fa',\n",
       " 'blood',\n",
       " 'dirty_laundry.ipynb']"
      ]
     },
     "execution_count": 137,
     "metadata": {},
     "output_type": "execute_result"
    }
   ],
   "source": [
    "os.listdir(\"dirty_laundry\")"
   ]
  },
  {
   "cell_type": "code",
   "execution_count": 138,
   "metadata": {},
   "outputs": [],
   "source": [
    "def slice_genome(genome, left, right):\n",
    "    return genome[left - 1: right]"
   ]
  },
  {
   "cell_type": "code",
   "execution_count": 165,
   "metadata": {},
   "outputs": [],
   "source": [
    "probeset = slice_genome(genome19, 7293920, 7294302)"
   ]
  },
  {
   "cell_type": "code",
   "execution_count": 154,
   "metadata": {},
   "outputs": [
    {
     "data": {
      "text/plain": [
       "7234277"
      ]
     },
     "execution_count": 154,
     "metadata": {},
     "output_type": "execute_result"
    }
   ],
   "source": [
    "genome19.find(\"CGGTCAGTCGATCAGGCAGCCAGGC\"[::-1])"
   ]
  },
  {
   "cell_type": "code",
   "execution_count": null,
   "metadata": {
    "collapsed": true
   },
   "outputs": [],
   "source": []
  },
  {
   "cell_type": "code",
   "execution_count": 168,
   "metadata": {},
   "outputs": [
    {
     "name": "stdout",
     "output_type": "stream",
     "text": [
      "\n"
     ]
    }
   ],
   "source": [
    "from Bio import Entrez, SeqIO\n",
    "Entrez.email = \"adam@kurkiewicz.pl\"     # Always tell NCBI who you are\n",
    "handle = Entrez.efetch(db=\"nucleotide\", \n",
    "                       id=\"37552371\", \n",
    "                       rettype=\"fasta\", \n",
    "                       strand=1, \n",
    "                       seq_start=7293920, \n",
    "                       seq_stop=7294302)\n",
    "record = SeqIO.read(handle, \"fasta\")\n",
    "handle.close()\n",
    "print(record.seq)pppoooooooopoopooo"
   ]
  },
  {
   "cell_type": "code",
   "execution_count": 148,
   "metadata": {},
   "outputs": [
    {
     "data": {
      "text/plain": [
       "'GTGACAGACGAAGACTCTATCACAAAAAAAGAAAAGACAAAAGAAACAGTTAAAATGTTTCTTACAACGCTAAATATACATTTGTCATAGCACCCAGAAATTCTATTCCTATGTATTTTACCAAGATAAATGAAAGCATATTCACATTGAAGTCTTGACATAAATGTTTGTAGTGATATTATTCATAATTGCCAAGAAAATATACAATTTGGCCGGGTGCAGTGGCTCACGCCTGTAATCCCAGCACTTTGGGAGGCCAAGGTGGGAGGACCACGAGGTCAAGAGATTGAGACCATCCTGGCCAACATGGTGAAAACCTGTCTTTAAAAATACAAAAATTAACTGGGCGTGGTGGCACGCACTTGTAGTCCCAGCTACTCGGG'"
      ]
     },
     "execution_count": 148,
     "metadata": {},
     "output_type": "execute_result"
    }
   ],
   "source": [
    "probeset"
   ]
  },
  {
   "cell_type": "code",
   "execution_count": 149,
   "metadata": {},
   "outputs": [
    {
     "data": {
      "text/plain": [
       "'CACTGTCTGCTTCTGAGATAGTGTTTTTTTCTTTTCTGTTTTCTTTGTCAATTTTACAAAGAATGTTGCGATTTATATGTAAACAGTATCGTGGGTCTTTAAGATAAGGATACATAAAATGGTTCTATTTACTTTCGTATAAGTGTAACTTCAGAACTGTATTTACAAACATCACTATAATAAGTATTAACGGTTCTTTTATATGTTAAACCGGCCCACGTCACCGAGTGCGGACATTAGGGTCGTGAAACCCTCCGGTTCCACCCTCCTGGTGCTCCAGTTCTCTAACTCTGGTAGGACCGGTTGTACCACTTTTGGACAGAAATTTTTATGTTTTTAATTGACCCGCACCACCGTGCGTGAACATCAGGGTCGATGAGCCC'"
      ]
     },
     "execution_count": 149,
     "metadata": {},
     "output_type": "execute_result"
    }
   ],
   "source": [
    "rev(probeset)"
   ]
  },
  {
   "cell_type": "code",
   "execution_count": 150,
   "metadata": {},
   "outputs": [
    {
     "data": {
      "text/plain": [
       "'GGGCTCATCGACCCTGATGTTCACGCACGGTGGTGCGGGTCAATTAAAAACATAAAAATTTCTGTCCAAAAGTGGTACAACCGGTCCTACCAGAGTTAGAGAACTGGAGCACCAGGAGGGTGGAACCGGAGGGTTTCACGACCCTAATGTCCGCACTCGGTGACGTGGGCCGGTTTAACATATAAAAGAACCGTTAATACTTATTATAGTGATGTTTGTAAATACAGTTCTGAAGTTACACTTATACGAAAGTAAATAGAACCATTTTATGTATCCTTATCTTAAAGACCCACGATACTGTTTACATATAAATCGCAACATTCTTTGTAAAATTGACAAAGAAAACAGAAAAGAAAAAAACACTATCTCAGAAGCAGACAGTG'"
      ]
     },
     "execution_count": 150,
     "metadata": {},
     "output_type": "execute_result"
    }
   ],
   "source": [
    "probeset[::-1]"
   ]
  },
  {
   "cell_type": "code",
   "execution_count": 151,
   "metadata": {},
   "outputs": [
    {
     "data": {
      "text/plain": [
       "'CCCGAGTAGCTGGGACTACAAGTGCGTGCCACCACGCCCAGTTAATTTTTGTATTTTTAAAGACAGGTTTTCACCATGTTGGCCAGGATGGTCTCAATCTCTTGACCTCGTGGTCCTCCCACCTTGGCCTCCCAAAGTGCTGGGATTACAGGCGTGAGCCACTGCACCCGGCCAAATTGTATATTTTCTTGGCAATTATGAATAATATCACTACAAACATTTATGTCAAGACTTCAATGTGAATATGCTTTCATTTATCTTGGTAAAATACATAGGAATAGAATTTCTGGGTGCTATGACAAATGTATATTTAGCGTTGTAAGAAACATTTTAACTGTTTCTTTTGTCTTTTCTTTTTTTGTGATAGAGTCTTCGTCTGTCAC'"
      ]
     },
     "execution_count": 151,
     "metadata": {},
     "output_type": "execute_result"
    }
   ],
   "source": [
    "rev(probeset[::-1])"
   ]
  },
  {
   "cell_type": "code",
   "execution_count": 139,
   "metadata": {
    "collapsed": true
   },
   "outputs": [],
   "source": [
    "def rev(seq):\n",
    "    result = []\n",
    "    for i in seq:\n",
    "        if i == \"A\":\n",
    "            result.append(\"T\")\n",
    "        if i == \"C\":\n",
    "            result.append(\"G\")\n",
    "        if i == \"T\":\n",
    "            result.append(\"A\")\n",
    "        if i == \"G\":\n",
    "            result.append(\"C\")\n",
    "    return \"\".join(result)"
   ]
  },
  {
   "cell_type": "code",
   "execution_count": 62,
   "metadata": {},
   "outputs": [
    {
     "data": {
      "text/plain": [
       "'TGCCTCAGACGGAGCTCAGCACCTG'"
      ]
     },
     "execution_count": 62,
     "metadata": {},
     "output_type": "execute_result"
    }
   ],
   "source": [
    "rev(\"ACGGAGTCTGCCTCGAGTCGTGGAC\")\n"
   ]
  },
  {
   "cell_type": "code",
   "execution_count": 63,
   "metadata": {
    "collapsed": true
   },
   "outputs": [],
   "source": [
    "# 3937918 ACGGAGTCTGCCTCGAGTCGTGGAC       1366    1033    +       chr22   21380721        21380905\n",
    "# 3960883 ACTAATATTCGCTGACGTCTGGAAG       1540    1565    -       chr22   39178677        39178712"
   ]
  },
  {
   "cell_type": "code",
   "execution_count": 86,
   "metadata": {},
   "outputs": [],
   "source": [
    "CCT8L2 = slice_genome(genome22, len(genome22) - 17073700, len(genome22) - 17071641 )"
   ]
  },
  {
   "cell_type": "code",
   "execution_count": 122,
   "metadata": {},
   "outputs": [
    {
     "data": {
      "text/plain": [
       "-184"
      ]
     },
     "execution_count": 122,
     "metadata": {},
     "output_type": "execute_result"
    }
   ],
   "source": [
    "21380721 - 21380905"
   ]
  },
  {
   "cell_type": "code",
   "execution_count": 65,
   "metadata": {},
   "outputs": [
    {
     "data": {
      "text/plain": [
       "'CTTTCTAGTCCTGCTGATCT'"
      ]
     },
     "execution_count": 65,
     "metadata": {},
     "output_type": "execute_result"
    }
   ],
   "source": [
    "rev\"ctttctagtcctgctgatct\".upper()"
   ]
  },
  {
   "cell_type": "code",
   "execution_count": 128,
   "metadata": {
    "collapsed": true
   },
   "outputs": [],
   "source": [
    "INSR=[7293803, 7293942]"
   ]
  },
  {
   "cell_type": "code",
   "execution_count": 130,
   "metadata": {},
   "outputs": [
    {
     "data": {
      "text/plain": [
       "139"
      ]
     },
     "execution_count": 130,
     "metadata": {},
     "output_type": "execute_result"
    }
   ],
   "source": [
    "INSR[1] - INSR[0]"
   ]
  },
  {
   "cell_type": "code",
   "execution_count": 129,
   "metadata": {},
   "outputs": [],
   "source": [
    "INSR_genecode_GRCh37 = [7293803, 7293942]\n",
    "7113153 7113360\n",
    "7293920\",\"7294302"
   ]
  },
  {
   "cell_type": "code",
   "execution_count": 87,
   "metadata": {},
   "outputs": [
    {
     "data": {
      "text/plain": [
       "'AATATCAGCAAGTCATCCCATATTTAATGACTGACAAACAAGAACTGCTGAGGATAGAGAATCAGGTCCCGGTTTTGGATTAGAGGCAGTATAGAATTATGGCAAGATCTTGGGCTTTGGAAAGGTCAGGCATACTCTGTTGCTGTGATATTCTTGGTGTGACCTTAAGCAGGCCGCGTATCCTGTCTGGGGCTCAGTGTTCTCATCTGTAAAACAAGAATGCAAACACCTAATTGAAGGGTGATGTGGGGTTAACTGAGATGAGTGATACAGCCCTGTTGGAAGCTGGGGAGTAAATCTCATCTTCCCAACTTAATGTGCCGATTATTCACCAGACTGCCAAGAGCACTCCTAAAGCCCTCACAAGTCTCTGTTCCTGCTGCCATTGCCCTTCTTCCTCCACTCATCATCTTTTGTCTGGATGGAAAGGGTCACCTACTAAATGTCCTCCCATCTCCAACATGCAAATTTAATAATACCCTTCATCTGTGTAGATTCTTTCTTTGACATACAATTATCTCCAGAGTGAAATTCACACGTCTTTGTGGGGTATGTGGGCTCCTCCCCATTTACTCTTTGCTTGCTCTTTCCCCTCTTCCCCTGTCTCACCCCTGCCCCATCTGCCTCTCCTGTTGGAGAAACACCATGTCCTCTCTAAAATGCCTTTTTCCCACTCCTCACAGCCGCCTACGTTTTTTTTCCTGTTCAAAGTTTTAGCTTAGGCCATGTGAAATGGAACTGTCAATTTTTCTAAACTTTCTTCATCTGGAAAATAGGCTAAAAATTTTACTTGATGGCCGGGCGCAGTGGCTCACGCCTGTAATCCCAACACTTTGGGAGGCTGAGGCGGGCAGATCACAGGTCAGGAGATCGAGAACATCCCCGCTAACACGGTGAAACCCCGTCTCTACTAAAAAATAAAAAAAAAAATTAGCCGGGTGCGGTGGTGGGCGCCTGTAGTCCCAGCTACTCGGGAAGCTGAGGCAGGAGAATGGTGGGAACCCGGGAGGCGGAGCTTGCAGTAAGCCGAGATTGTGCCACTGCACTCCAGCCTGGGCGACAGAGCGAGACTCCATCTCAAAAAAAAATTTTTTTTATTTGATAAGGTGGTCATGAAACTCAGTTTAATTAATATACAGTATTTAGCATAGTGTCAGATATATAGTAAGTGCTCAGTAGATGGTTACTACTACTATACTACTTTTATTGTTATTATTAGCACACAAAGAAAGTAGAGCTTAACCTCTGGATCAGGGACCAAGGACATTTTCCCAGAAGAGAGGATGCTTTCACTGAGCCTCAAGGTACAATAGTCTTTCTCTAACGGGGAGACAGAGAGGAGGAAGGGCATTCCAGTTAGCAGAGTGGGACATGCAAAGTCTCAAAGGTGAGAAAGGACATGGTATGTTTGGGAAGTGGAGAGAAGATGAATATGCTTGGGTTAGGATGGAACAGGAAGAGGAGGGCGGTGGGCCTGGGTGGAAGGGGTCCCCGTCACCCTGCCTCCTTCCATTCCCCAGATGTCTCCCCTTTCCCCTCCCTCAGCCTGCTATGCCCTCCAGCCCATCTCACCCAACATTGCCTGTCACTGCCTGTCAAGGCCCATCCCATTCTAAAGTCTAGGTCCAATATTACTTGTTCCAGGAAGACTTTTTAAATTTCACGAGGGCAAGGACCACATCCGTTTTGCTCACTGTTGTATTCCAAGCATCTAGCATAGTGCTTGGCATGGACTAGGTACTCATTTCTTTTTCTTTTTTTAATAAATGAATAACAGCAAACCCTATAGTTACTATCCAATGTCTGCTCCCATTTTCTCCTTGCCAACAGAATGTTCCTGTAGTGGAGGGTAGCAATTTTCCCAGCCTCAGGCAACAGATCATGATTAGTCTAGTACAGTGCTGTCCAATAGAAATATAATGAGAGCCAAGAATGTGAGGCACGTACGAAATTTAAAATTTTCTAGTAGCCACATTGAAAAAGTAGGTAGGAACAGGTGAAACTGATTTTTATTTATTTATTTTTTTCAGACAGAGTCTCACTCTGTCACCCAGGCTGGA'"
      ]
     },
     "execution_count": 87,
     "metadata": {},
     "output_type": "execute_result"
    }
   ],
   "source": [
    "CCT8L2"
   ]
  },
  {
   "cell_type": "code",
   "execution_count": 70,
   "metadata": {},
   "outputs": [
    {
     "data": {
      "text/plain": [
       "False"
      ]
     },
     "execution_count": 70,
     "metadata": {},
     "output_type": "execute_result"
    }
   ],
   "source": [
    "\"ggaccac\".upper() in CCT8L2"
   ]
  },
  {
   "cell_type": "code",
   "execution_count": 101,
   "metadata": {},
   "outputs": [
    {
     "data": {
      "text/plain": [
       "872747"
      ]
     },
     "execution_count": 101,
     "metadata": {},
     "output_type": "execute_result"
    }
   ],
   "source": [
    "genome22a.find(x)"
   ]
  },
  {
   "cell_type": "code",
   "execution_count": 100,
   "metadata": {},
   "outputs": [
    {
     "data": {
      "text/plain": [
       "872740"
      ]
     },
     "execution_count": 100,
     "metadata": {},
     "output_type": "execute_result"
    }
   ],
   "source": [
    "genome22b.find(x)"
   ]
  },
  {
   "cell_type": "code",
   "execution_count": 115,
   "metadata": {},
   "outputs": [
    {
     "data": {
      "text/plain": [
       "872750"
      ]
     },
     "execution_count": 115,
     "metadata": {},
     "output_type": "execute_result"
    }
   ],
   "source": [
    "genome22b.find(x)"
   ]
  },
  {
   "cell_type": "code",
   "execution_count": 106,
   "metadata": {},
   "outputs": [
    {
     "data": {
      "text/plain": [
       "871785"
      ]
     },
     "execution_count": 106,
     "metadata": {},
     "output_type": "execute_result"
    }
   ],
   "source": [
    "genome22.find(\"TACAAACGGAAATAAGGCACAAACC\"[::-1])"
   ]
  },
  {
   "cell_type": "code",
   "execution_count": 109,
   "metadata": {},
   "outputs": [
    {
     "data": {
      "text/plain": [
       "34894888"
      ]
     },
     "execution_count": 109,
     "metadata": {},
     "output_type": "execute_result"
    }
   ],
   "source": [
    "len(genome22a)"
   ]
  },
  {
   "cell_type": "code",
   "execution_count": 110,
   "metadata": {},
   "outputs": [
    {
     "data": {
      "text/plain": [
       "35150512"
      ]
     },
     "execution_count": 110,
     "metadata": {},
     "output_type": "execute_result"
    }
   ],
   "source": [
    "len(genome22b)"
   ]
  },
  {
   "cell_type": "code",
   "execution_count": 117,
   "metadata": {},
   "outputs": [
    {
     "data": {
      "text/plain": [
       "35150562"
      ]
     },
     "execution_count": 117,
     "metadata": {},
     "output_type": "execute_result"
    }
   ],
   "source": [
    "len(genome22b)"
   ]
  },
  {
   "cell_type": "code",
   "execution_count": null,
   "metadata": {
    "collapsed": true
   },
   "outputs": [],
   "source": [
    "17071678\n",
    "871785"
   ]
  },
  {
   "cell_type": "code",
   "execution_count": 131,
   "metadata": {},
   "outputs": [
    {
     "data": {
      "text/plain": [
       "(17071678, 17071710)"
      ]
     },
     "execution_count": 131,
     "metadata": {},
     "output_type": "execute_result"
    }
   ],
   "source": [
    "17071678, 17071710"
   ]
  },
  {
   "cell_type": "code",
   "execution_count": 108,
   "metadata": {},
   "outputs": [
    {
     "data": {
      "text/plain": [
       "-1"
      ]
     },
     "execution_count": 108,
     "metadata": {},
     "output_type": "execute_result"
    }
   ],
   "source": [
    "genome22.find(rev(\"TACAAACGGAAATAAGGCACAAACC\"))"
   ]
  },
  {
   "cell_type": "code",
   "execution_count": 85,
   "metadata": {},
   "outputs": [
    {
     "data": {
      "text/plain": [
       "18078871"
      ]
     },
     "execution_count": 85,
     "metadata": {},
     "output_type": "execute_result"
    }
   ],
   "source": [
    "len(genome22) - 17071641"
   ]
  },
  {
   "cell_type": "code",
   "execution_count": 79,
   "metadata": {},
   "outputs": [],
   "source": [
    "x = rev(\"aacggcccgtctttctagtcctgctgatct\".upper())[::-1]"
   ]
  },
  {
   "cell_type": "code",
   "execution_count": null,
   "metadata": {
    "collapsed": true
   },
   "outputs": [],
   "source": [
    "gttgagaggc cccaagaccc agttccttta cagaatcaac cctggggtgg ctttaggact\n",
    "       61 gggctctttg gagctcatcc ttggacccac agtggagtgc tggtccgtgc tgatgtcttc\n",
    "      121 agataccaat caatgggcat ttggctcctt gcttccactg acctcttgag tactttcaac\n",
    "      181 gatcggtgtc aggagtgccc cagctgctgt ttctagagca tctctgcaac ccacggtggc\n",
    "      241 ctctcctctc tctgcgggcc atggacagca cagtcccttc agccctggag ctgccccagc\n",
    "      301 ggctggcact gaacccaagg gagagcccga ggagtccaga agaggaggag ccccacctgc\n",
    "      361 tgagcagctt ggctgcagtc cagaccctgg ccagtgtcat ccggccttgc tatggccccc\n",
    "      421 acggccggca gaagttcctg gtgaccatga aaggagaaac agtgtgcacg gggtgtgcca\n",
    "      481 ctgccatcct cagggccctg gagctggagc acccagcagc atggctcctc cgggaagcag\n",
    "      541 gacaaaccca ggcagagaat agtggggacg gcacagcctt cgtggttctg ctgacggaag\n",
    "      601 ccttgctgga acaggcagag cagctgctga aggctggcct gcctcgcccg cagctccggg\n",
    "      661 aggcctacgc cacggccact gcagaggtcc tggccacact gccctccctg gccatccaat\n",
    "      721 ctctggggcc tttggaagat ccatcctggg ccctccattc tgtgatgaat acccacaccc\n",
    "      781 tgtcccccat ggaccacttg accaagctgg tggcccacgc ctgctgggct atcaaggaac\n",
    "      841 tagacggcag cttcaagcct gagcgtgttg gggtgtgcgc gctgcccggg gggacactgg\n",
    "      901 aggattcctg cctcctcccg gggttagcaa tatctgggaa gctctgtggg caaatggcca\n",
    "      961 cagtgttaag tggtgccagg gtggctctct ttgcttgccc ctttggtcct gcccatccaa\n",
    "     1021 atgcaccagc aacggcccgt ctttctagtc ctgctgatct agctcaattt agtaaaggaa\n",
    "     1081 gcgatcaatt actagaaaag caagtaggcc agctagcagc tgcaggaatt aatgtggcag\n",
    "     1141 tggtgttggg ggaggtcgac gaggagaccc tcacactggc ggacaagtat ggcatcgtgg\n",
    "     1201 tgattcaagc taggtcttgg atggagatca tttacctgag tgaggtgttg gacacacctc\n",
    "     1261 tgctgcctcg tctgctccct ccccagaggc caggcaagtg ccagagggtt tacaggcagg\n",
    "     1321 agctgggaga tggtttggct gtggtatttg aatgggaatg tacaggcaca cctgccctca\n",
    "     1381 ctgtggttct caggggagcc accacccagg ggctgcggag tgcagagcag gccgtctacc\n",
    "     1441 acggcattga tgcctatttc cagctatgtc aagatcccag actgattcca ggagctgggg\n",
    "     1501 ccacagaaat ggctttggca aaaatgcttt ctgataaagg aagcagattg gaagggccca\n",
    "     1561 gtgggcctgc attcctagca tttgcctggg ccctgaagta tcttcctaaa actttggcag\n",
    "     1621 agaatgcagg cttagctgtc tcagacgtga tggcagaaat gagtggagtg caccaaggtg\n",
    "     1681 ggaacctcct aatgggtgtg ggaactgaag ggataataaa tgtggcccag gaaggggtgt\n",
    "     1741 gggacaccct aatagtcaaa gcccaaggat ttcgagcagt ggctgaggtg gtgctacagc\n",
    "     1801 tcgtgactgt agatgaaatc gtagtggcca agaaaagtcc cacacatcag gagatctgga\n",
    "     1861 atcctgactc taagaagaca aagaaacacc cacctcctgt ggaaacaaaa aaaatccttg\n",
    "     1921 gattgaataa ctagtgatac cctcaataaa acagggattg ccaagaaggg aacaatcacc\n",
    "     1981 ccaaaaatga atgtttgcct ttattccgtg tttggtactt gattcacttt ctttaaataa\n",
    "     2041 aaacatgaag gaaaaaaaaa aaaaa"
   ]
  },
  {
   "cell_type": "code",
   "execution_count": 33,
   "metadata": {},
   "outputs": [
    {
     "data": {
      "text/plain": [
       "False"
      ]
     },
     "execution_count": 33,
     "metadata": {},
     "output_type": "execute_result"
    }
   ],
   "source": [
    "rev(\"GAGTCTGCCTCGAGTCGTG\")[::-1] in slice_genome(genome22, 21380721, 21380905)"
   ]
  },
  {
   "cell_type": "code",
   "execution_count": 38,
   "metadata": {},
   "outputs": [
    {
     "data": {
      "text/plain": [
       "False"
      ]
     },
     "execution_count": 38,
     "metadata": {},
     "output_type": "execute_result"
    }
   ],
   "source": [
    "rev(\"AGTCTGCCTCGAGTCGT\") in slice_genome(genome22, 21380721, 21380905)"
   ]
  },
  {
   "cell_type": "code",
   "execution_count": 3,
   "metadata": {},
   "outputs": [
    {
     "data": {
      "text/plain": [
       "['muscle',\n",
       " 'hs_ref_GRCh37.p5_chr22.fa',\n",
       " '.ipynb_checkpoints',\n",
       " 'muscle_metadata_files',\n",
       " 'blood_metadata',\n",
       " 'blood',\n",
       " 'dirty_laundry.ipynb']"
      ]
     },
     "execution_count": 3,
     "metadata": {},
     "output_type": "execute_result"
    }
   ],
   "source": [
    "import os \n",
    "os.listdir(\"dirty_laundry/hs_ref_GRCh37.p5_chr22.fa\")"
   ]
  },
  {
   "cell_type": "code",
   "execution_count": 209,
   "metadata": {},
   "outputs": [],
   "source": [
    "k = 2001\n",
    "rec = [0] * k"
   ]
  },
  {
   "cell_type": "code",
   "execution_count": 210,
   "metadata": {
    "collapsed": true
   },
   "outputs": [],
   "source": [
    "rec[0] = 1"
   ]
  },
  {
   "cell_type": "code",
   "execution_count": 211,
   "metadata": {},
   "outputs": [],
   "source": [
    "for i in range(0, k - 1):\n",
    "    rec[i + 1] = rec[i] * int((2 * (i + 1) + 2)/ (i + 1))"
   ]
  },
  {
   "cell_type": "code",
   "execution_count": 218,
   "metadata": {},
   "outputs": [
    {
     "data": {
      "text/plain": [
       "172219604291138178634924980176652297603347655313304280071646410523864939208855547078498922947475940487766894695848119416017067844129458299713889703424997977808694983717968420001033168722360067307143390485095229367172423195469582545920975539060699530956357494837243598213416944408434967474304246332955499022016253363476687758403569227211871088351402164750643504075059938745783012198354421937641901824975809898493094627190532669787606063239779774877311334150853137880832436675384508058740122935824945874133070638375589023292523179629148081763372913675823937763153293201234264156226948180643277276723544064"
      ]
     },
     "execution_count": 218,
     "metadata": {},
     "output_type": "execute_result"
    }
   ],
   "source": [
    "rec[1999]"
   ]
  },
  {
   "cell_type": "code",
   "execution_count": 219,
   "metadata": {},
   "outputs": [
    {
     "data": {
      "text/plain": [
       "7168641028618626685678752299853151887739346152416290657982281838055878094568612147142517667688686022803296991714677970691710449011888701725590658905065540826286928697260435482543005648068237801659843628942088922408552115511421373473960606813401617976058380722600264775633480311001105521117914253609272646791426546254717127943548569082694134052627115107745535857124369950293217882756502813154344163464618087024775063856805922379909102382355833129268084284029261864289650176612880147945057617203713372010789065322383893094551277352063288903400397531756171409391255829501376245502946718019276416643617521664"
      ]
     },
     "execution_count": 219,
     "metadata": {},
     "output_type": "execute_result"
    }
   ],
   "source": [
    "2**1995 * 1998"
   ]
  },
  {
   "cell_type": "code",
   "execution_count": null,
   "metadata": {
    "collapsed": true
   },
   "outputs": [],
   "source": []
  }
 ],
 "metadata": {
  "kernelspec": {
   "display_name": "Python 3 Clinical Applicatoins",
   "language": "python",
   "name": "clinical_applications"
  },
  "language_info": {
   "codemirror_mode": {
    "name": "ipython",
    "version": 3
   },
   "file_extension": ".py",
   "mimetype": "text/x-python",
   "name": "python",
   "nbconvert_exporter": "python",
   "pygments_lexer": "ipython3",
   "version": "3.5.2"
  }
 },
 "nbformat": 4,
 "nbformat_minor": 2
}
