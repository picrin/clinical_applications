{
 "cells": [
  {
   "cell_type": "code",
   "execution_count": 1,
   "metadata": {
    "collapsed": true
   },
   "outputs": [],
   "source": [
    "from Bio.Affy import CelFile"
   ]
  },
  {
   "cell_type": "markdown",
   "metadata": {},
   "source": [
    "# Unpacking microarray data from CEL files.\n",
    "\n",
    "Data is stuck in a binary format known as Affymetrix v4 CEL format. We have developed a python parser for that format, and contributed it to Biopython. Our submission was peer-reviewed by the project maintainer Peter Cock.\n",
    "\n",
    "If you use `Bio.Affy.Celfile.read` in any of your work please cite `https://doi.org/doi:our_paper_doi` TODO fill this doi number.\n",
    "\n",
    "In this notebook we're writing the CEL files into 2d arrays to facilitate further processing."
   ]
  },
  {
   "cell_type": "code",
   "execution_count": 2,
   "metadata": {
    "collapsed": true
   },
   "outputs": [],
   "source": [
    "CEL_prefix = \"CEL\""
   ]
  },
  {
   "cell_type": "code",
   "execution_count": 3,
   "metadata": {
    "collapsed": true
   },
   "outputs": [],
   "source": [
    "target_prefix = \"intensities\""
   ]
  },
  {
   "cell_type": "code",
   "execution_count": 4,
   "metadata": {
    "collapsed": true
   },
   "outputs": [],
   "source": [
    "def serialise_to_numpy(CEL_path, target_path):\n",
    "    \"\"\"\n",
    "    Example usage: CEL_path = \"CEL/111747589_B.CEL\" target_prefix = \"intensities\"\n",
    "    \"\"\"\n",
    "    with open(CEL_path, \"rb\") as handle:\n",
    "        c = CelFile.read(handle)\n",
    "        with open(target_path, \"w\") as f:\n",
    "            for row in c.intensities:\n",
    "                for element in row:\n",
    "                    print(str(int(element)), end=\" \", file=f)\n",
    "                print(file=f)"
   ]
  },
  {
   "cell_type": "code",
   "execution_count": 5,
   "metadata": {
    "collapsed": true
   },
   "outputs": [],
   "source": [
    "import os\n",
    "try:\n",
    "    os.mkdir(target_prefix)\n",
    "except FileExistsError:\n",
    "    pass"
   ]
  },
  {
   "cell_type": "code",
   "execution_count": 6,
   "metadata": {},
   "outputs": [
    {
     "name": "stdout",
     "output_type": "stream",
     "text": [
      "converting CEL/406335477_M.CEL into intensities/406335477_M.CEL.txt\n",
      "converting CEL/597785396_M.CEL into intensities/597785396_M.CEL.txt\n",
      "converting CEL/129523253_B.CEL into intensities/129523253_B.CEL.txt\n",
      "converting CEL/736551759_B.CEL into intensities/736551759_B.CEL.txt\n",
      "converting CEL/159834720_B.CEL into intensities/159834720_B.CEL.txt\n",
      "converting CEL/427374914_B.CEL into intensities/427374914_B.CEL.txt\n",
      "converting CEL/159834720_MR.cel into intensities/159834720_MR.cel.txt\n",
      "converting CEL/572448109_M.CEL into intensities/572448109_M.CEL.txt\n",
      "converting CEL/111747589_M.CEL into intensities/111747589_M.CEL.txt\n",
      "converting CEL/661252781_B.CEL into intensities/661252781_B.CEL.txt\n",
      "converting CEL/387939296_B.CEL into intensities/387939296_B.CEL.txt\n",
      "converting CEL/117440822_B.CEL into intensities/117440822_B.CEL.txt\n",
      "converting CEL/270148799_M.CEL into intensities/270148799_M.CEL.txt\n",
      "converting CEL/230974357_B.CEL into intensities/230974357_B.CEL.txt\n",
      "converting CEL/270148799_B.CEL into intensities/270148799_B.CEL.txt\n",
      "converting CEL/549452228_M.CEL into intensities/549452228_M.CEL.txt\n",
      "converting CEL/881676366_B.CEL into intensities/881676366_B.CEL.txt\n",
      "converting CEL/387939296_MR.cel into intensities/387939296_MR.cel.txt\n",
      "converting CEL/360448352_B.CEL into intensities/360448352_B.CEL.txt\n",
      "converting CEL/551644041_B.CEL into intensities/551644041_B.CEL.txt\n",
      "converting CEL/124563003_B.CEL into intensities/124563003_B.CEL.txt\n",
      "converting CEL/159834720_M.CEL into intensities/159834720_M.CEL.txt\n",
      "converting CEL/881676366_M.CEL into intensities/881676366_M.CEL.txt\n",
      "converting CEL/328687703_M.CEL into intensities/328687703_M.CEL.txt\n",
      "converting CEL/597785396_B.CEL into intensities/597785396_B.CEL.txt\n",
      "converting CEL/830225708_M.CEL into intensities/830225708_M.CEL.txt\n",
      "converting CEL/328687703_B.CEL into intensities/328687703_B.CEL.txt\n",
      "converting CEL/117440822_M.CEL into intensities/117440822_M.CEL.txt\n",
      "converting CEL/549452228_B.CEL into intensities/549452228_B.CEL.txt\n",
      "converting CEL/204472077_B.CEL into intensities/204472077_B.CEL.txt\n",
      "converting CEL/321962190_B.CEL into intensities/321962190_B.CEL.txt\n",
      "converting CEL/661252781_M.CEL into intensities/661252781_M.CEL.txt\n",
      "converting CEL/449599671_B.CEL into intensities/449599671_B.CEL.txt\n",
      "converting CEL/204472077_M.CEL into intensities/204472077_M.CEL.txt\n",
      "converting CEL/321962190_M.CEL into intensities/321962190_M.CEL.txt\n",
      "converting CEL/419550533_M.CEL into intensities/419550533_M.CEL.txt\n",
      "converting CEL/575039926_M.CEL into intensities/575039926_M.CEL.txt\n",
      "converting CEL/406335477_B.CEL into intensities/406335477_B.CEL.txt\n",
      "converting CEL/124563003_M.CEL into intensities/124563003_M.CEL.txt\n",
      "converting CEL/427374914_M.CEL into intensities/427374914_M.CEL.txt\n",
      "converting CEL/420299717_M.CEL into intensities/420299717_M.CEL.txt\n",
      "converting CEL/111747589_B.CEL into intensities/111747589_B.CEL.txt\n",
      "converting CEL/419550533_MR.cel into intensities/419550533_MR.cel.txt\n",
      "converting CEL/572448109_MR.cel into intensities/572448109_MR.cel.txt\n",
      "converting CEL/360448352_M.CEL into intensities/360448352_M.CEL.txt\n",
      "converting CEL/597785396_MR.cel into intensities/597785396_MR.cel.txt\n",
      "converting CEL/315805040_M.CEL into intensities/315805040_M.CEL.txt\n",
      "converting CEL/819054051_B.CEL into intensities/819054051_B.CEL.txt\n",
      "converting CEL/230974357_M.CEL into intensities/230974357_M.CEL.txt\n",
      "converting CEL/387939296_M.CEL into intensities/387939296_M.CEL.txt\n",
      "converting CEL/129523253_M.CEL into intensities/129523253_M.CEL.txt\n",
      "converting CEL/111747589_MR.cel into intensities/111747589_MR.cel.txt\n",
      "converting CEL/575039926_B.CEL into intensities/575039926_B.CEL.txt\n",
      "converting CEL/315805040_B.CEL into intensities/315805040_B.CEL.txt\n",
      "converting CEL/141772399_B.CEL into intensities/141772399_B.CEL.txt\n",
      "converting CEL/229213757_B.CEL into intensities/229213757_B.CEL.txt\n",
      "converting CEL/873750289_B.CEL into intensities/873750289_B.CEL.txt\n",
      "converting CEL/572448109_B.CEL into intensities/572448109_B.CEL.txt\n",
      "converting CEL/873750289_M.CEL into intensities/873750289_M.CEL.txt\n",
      "converting CEL/523950865_B.CEL into intensities/523950865_B.CEL.txt\n",
      "converting CEL/881676366_MR.cel into intensities/881676366_MR.cel.txt\n",
      "converting CEL/377666471_MR.cel into intensities/377666471_MR.cel.txt\n",
      "converting CEL/830225708_B.CEL into intensities/830225708_B.CEL.txt\n",
      "converting CEL/896445336_M.CEL into intensities/896445336_M.CEL.txt\n",
      "converting CEL/473208969_M.CEL into intensities/473208969_M.CEL.txt\n",
      "converting CEL/377666471_M.CEL into intensities/377666471_M.CEL.txt\n",
      "converting CEL/473208969_B.CEL into intensities/473208969_B.CEL.txt\n",
      "converting CEL/360448352_MR.cel into intensities/360448352_MR.cel.txt\n",
      "converting CEL/819054051_M.CEL into intensities/819054051_M.CEL.txt\n",
      "converting CEL/896445336_B.CEL into intensities/896445336_B.CEL.txt\n",
      "converting CEL/213653686_B.CEL into intensities/213653686_B.CEL.txt\n",
      "converting CEL/377666471_B.CEL into intensities/377666471_B.CEL.txt\n",
      "converting CEL/449599671_M.CEL into intensities/449599671_M.CEL.txt\n",
      "converting CEL/420299717_B.CEL into intensities/420299717_B.CEL.txt\n",
      "converting CEL/230974357_MR.cel into intensities/230974357_MR.cel.txt\n",
      "converting CEL/117440822_MR.cel into intensities/117440822_MR.cel.txt\n"
     ]
    }
   ],
   "source": [
    "for suffix in os.listdir(CEL_prefix):\n",
    "    CEL_path = os.path.join(CEL_prefix, suffix)\n",
    "    target_suffix = suffix + \".txt\"\n",
    "    target_path = os.path.join(target_prefix, target_suffix)\n",
    "    print(\"converting\", CEL_path, \"into\", target_path)\n",
    "    serialise_to_numpy(CEL_path, target_path)"
   ]
  },
  {
   "cell_type": "code",
   "execution_count": 2,
   "metadata": {
    "collapsed": true
   },
   "outputs": [],
   "source": [
    "import os.path"
   ]
  },
  {
   "cell_type": "code",
   "execution_count": 8,
   "metadata": {},
   "outputs": [
    {
     "data": {
      "text/plain": [
       "'cookies'"
      ]
     },
     "execution_count": 8,
     "metadata": {},
     "output_type": "execute_result"
    }
   ],
   "source": [
    "os.path.split(\"/adam/like/cookies\")[1]"
   ]
  },
  {
   "cell_type": "code",
   "execution_count": null,
   "metadata": {
    "collapsed": true
   },
   "outputs": [],
   "source": []
  }
 ],
 "metadata": {
  "kernelspec": {
   "display_name": "Python 3",
   "language": "python",
   "name": "python3"
  },
  "language_info": {
   "codemirror_mode": {
    "name": "ipython",
    "version": 3
   },
   "file_extension": ".py",
   "mimetype": "text/x-python",
   "name": "python",
   "nbconvert_exporter": "python",
   "pygments_lexer": "ipython3",
   "version": "3.6.2"
  }
 },
 "nbformat": 4,
 "nbformat_minor": 2
}
