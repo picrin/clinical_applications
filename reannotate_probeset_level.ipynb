{
 "cells": [
  {
   "cell_type": "code",
   "execution_count": 1,
   "metadata": {
    "collapsed": true
   },
   "outputs": [],
   "source": [
    "from Bio import SeqIO, SeqRecord\n",
    "from Bio.Seq import Seq"
   ]
  },
  {
   "cell_type": "code",
   "execution_count": 2,
   "metadata": {
    "collapsed": true
   },
   "outputs": [],
   "source": [
    "import re\n",
    "allowed_chromosomes = \"^chr[0-9]?[0-9]?[XYM]?$\""
   ]
  },
  {
   "cell_type": "code",
   "execution_count": 3,
   "metadata": {
    "collapsed": true
   },
   "outputs": [],
   "source": [
    "def load_genecode_chromosomes(filename):\n",
    "    return {record.name: record for record in SeqIO.parse(\"annotations/GRCh37.primary_assembly.genome.fa\", \"fasta\")}"
   ]
  },
  {
   "cell_type": "code",
   "execution_count": 4,
   "metadata": {},
   "outputs": [],
   "source": [
    "all_chromosomes = load_genecode_chromosomes(\"annotations/GRCh37.primary_assembly.genome.fa\")"
   ]
  },
  {
   "cell_type": "code",
   "execution_count": 5,
   "metadata": {
    "collapsed": true
   },
   "outputs": [],
   "source": [
    "# This is really subtle.\n",
    "# First, genomic coordinates are index 1 based.\n",
    "# So, to convert left, right to python take left-1, right-1.\n",
    "# Now, python slices are left-inclusive right-exclusive\n",
    "# Genomic coordinates are left,right-inclusive.\n",
    "# So add 1 to right-1.\n",
    "# You end up with left-1, right.\n",
    "\n",
    "def genome_to_python(left, right):\n",
    "    return left - 1, right\n",
    "\n",
    "def python_to_genome(left, right):\n",
    "    return left + 1, right"
   ]
  },
  {
   "cell_type": "code",
   "execution_count": 6,
   "metadata": {},
   "outputs": [],
   "source": [
    "large_seqG = None\n",
    "small_seqG = None\n",
    "def find_coords_in_window(large_seq, small_seq, window_left, window_right):\n",
    "    python_left, python_right = genome_to_python(window_left, window_right)\n",
    "    offset = large_seq[python_left:python_right].find(small_seq)\n",
    "    if offset == -1:\n",
    "        #print(large_seq[python_left:python_right], small_seq)\n",
    "        raise IndexError(\"small_seq not in large_seq\")\n",
    "    genome_coord_left = window_left + offset\n",
    "    genome_coord_right = genome_coord_left + len(small_seq) - 1\n",
    "    return genome_coord_left, genome_coord_right"
   ]
  },
  {
   "cell_type": "code",
   "execution_count": 7,
   "metadata": {},
   "outputs": [],
   "source": [
    "small_seq = Seq(\"CACAGCCACACTGCCGTCTACGGCC\")\n",
    "large_seq = Seq(\"ATTCGCACACAGCCACACTGCCGTCTACGGCCACCGCTC\")\n",
    "left, right = genome_to_python(*find_coords_in_window(large_seq, small_seq, 2, 37))\n",
    "assert(large_seq[left:right] == small_seq)"
   ]
  },
  {
   "cell_type": "code",
   "execution_count": 8,
   "metadata": {
    "collapsed": true
   },
   "outputs": [],
   "source": [
    "filename_in = \"probesets/all_meta.csv\""
   ]
  },
  {
   "cell_type": "code",
   "execution_count": 9,
   "metadata": {
    "collapsed": true
   },
   "outputs": [],
   "source": [
    "def probe_into_plus(seq, strand):\n",
    "    if strand == \"+\":\n",
    "        return seq.reverse_complement()\n",
    "    return seq"
   ]
  },
  {
   "cell_type": "code",
   "execution_count": 10,
   "metadata": {},
   "outputs": [],
   "source": [
    "count_mismatch = 0\n",
    "def compute_probe_coord(seq, left_pos, right_pos, chrom, strand, headers, genecode_assembly):\n",
    "    global count_mismatch\n",
    "    if re.match(allowed_chromosomes, chrom) and strand in [\"+\", \"-\"]:\n",
    "        # Affymetrix keeps their probe sequences in 3' -> 5'!\n",
    "        seq = Seq(seq[::-1])\n",
    "\n",
    "        seq = probe_into_plus(seq, strand)\n",
    "                    \n",
    "        large_sequence = genecode_assembly[chrom].seq\n",
    "        python_left_pos, python_right_pos = genome_to_python(left_pos, right_pos)\n",
    "                    \n",
    "        in_genecode = seq in large_sequence[python_left_pos:python_right_pos]\n",
    "        if in_genecode:\n",
    "            left, right = find_coords_in_window(large_sequence, seq, left_pos, right_pos)\n",
    "            left_python, right_python = genome_to_python(left, right)\n",
    "            assert genecode_assembly[chrom][left_python:right_python].seq == seq\n",
    "            return seq, left_python, right_python\n",
    "        else:\n",
    "            count_mismatch += 1\n",
    "    return None"
   ]
  },
  {
   "cell_type": "code",
   "execution_count": 11,
   "metadata": {},
   "outputs": [],
   "source": [
    "def probe_level_coords(filename_in, genecode_assembly, filename_out):\n",
    "    headers = None\n",
    "    with open(filename_out, \"w\") as f_out:\n",
    "        print(\"seq5to3plus\", \"chrom\", \"genocode_left\", \"genecode_right\", \"strand\", \"x\", \"y\", sep=\"\\t\", file=f_out)\n",
    "        with open(filename_in) as f:\n",
    "            for i, line in enumerate(f):\n",
    "                line = [i.strip() for i in line.split()]\n",
    "                if not headers:\n",
    "                    headers = {key: value for value, key in enumerate(line)}\n",
    "                else:\n",
    "                    seq, left_pos, right_pos, chrom, strand, x, y = [line[i] for i in [headers[key] for key in [\"seq\", \"left_pos\", \"right_pos\", \"chromosome\", \"strand\", \"x\", \"y\"]]]\n",
    "                    try:\n",
    "                        left_pos = int(left_pos)\n",
    "                        right_pos = int(right_pos)\n",
    "                    except:\n",
    "                        continue\n",
    "                    result = compute_probe_coord(seq, left_pos, right_pos, chrom, strand, headers, genecode_assembly)\n",
    "                    if result is not None:\n",
    "                        seq, probe_left, probe_right = result\n",
    "                        print(seq, chrom, probe_left, probe_right, strand, x, y, sep=\"\\t\", file=f_out)"
   ]
  },
  {
   "cell_type": "code",
   "execution_count": 12,
   "metadata": {},
   "outputs": [],
   "source": [
    "probe_level_coords(filename_in, all_chromosomes, \"probesets/probesets_correct_coords.csv\")"
   ]
  },
  {
   "cell_type": "code",
   "execution_count": 14,
   "metadata": {},
   "outputs": [
    {
     "name": "stdout",
     "output_type": "stream",
     "text": [
      "60006\n"
     ]
    }
   ],
   "source": [
    "print(count_mismatch)"
   ]
  },
  {
   "cell_type": "code",
   "execution_count": null,
   "metadata": {
    "collapsed": true
   },
   "outputs": [],
   "source": []
  }
 ],
 "metadata": {
  "kernelspec": {
   "display_name": "Python 3 Clinical Applicatoins",
   "language": "python",
   "name": "clinical_applications"
  },
  "language_info": {
   "codemirror_mode": {
    "name": "ipython",
    "version": 3
   },
   "file_extension": ".py",
   "mimetype": "text/x-python",
   "name": "python",
   "nbconvert_exporter": "python",
   "pygments_lexer": "ipython3",
   "version": "3.5.2"
  }
 },
 "nbformat": 4,
 "nbformat_minor": 2
}
