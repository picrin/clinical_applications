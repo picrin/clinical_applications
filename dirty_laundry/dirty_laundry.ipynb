{
 "cells": [
  {
   "cell_type": "code",
   "execution_count": 52,
   "metadata": {},
   "outputs": [],
   "source": [
    "import json\n",
    "convert_shit = '{\"189598HUEX1A11\": \"129523253_B.CEL\", \"189724HUEX1A11\": \"736551759_B.CEL\", \"189604HUEX1A11\": \"159834720_B.CEL\", \"190235HUEX1A11\": \"427374914_B.CEL\", \"190259HUEX1A11\": \"661252781_B.CEL\", \"189730HUEX1A11\": \"387939296_B.CEL\", \"189694HUEX1A11\": \"117440822_B.CEL\", \"190223HUEX1A11\": \"230974357_B.CEL\", \"189610HUEX1A11\": \"270148799_B.CEL\", \"189658HUEX1A11\": \"881676366_B.CEL\", \"189670HUEX1A11\": \"360448352_B.CEL\", \"189718HUEX1A11\": \"551644041_B.CEL\", \"189682HUEX1A11\": \"124563003_B.CEL\", \"189652HUEX1A11\": \"597785396_B.CEL\", \"189628HUEX1A11\": \"328687703_B.CEL\", \"190247HUEX1A11\": \"549452228_B.CEL\", \"190217HUEX1A11\": \"204472077_B.CEL\", \"189622HUEX1A11\": \"321962190_B.CEL\", \"189640HUEX1A11\": \"449599671_B.CEL\", \"189634HUEX1A11\": \"406335477_B.CEL\", \"189676HUEX1A11\": \"111747589_B.CEL\", \"190265HUEX1A11\": \"819054051_B.CEL\", \"190253HUEX1A11\": \"575039926_B.CEL\", \"189616HUEX1A11\": \"315805040_B.CEL\", \"189688HUEX1A11\": \"141772399_B.CEL\", \"189706HUEX1A11\": \"229213757_B.CEL\", \"189586HUEX1A11\": \"873750289_B.CEL\", \"189646HUEX1A11\": \"572448109_B.CEL\", \"189712HUEX1A11\": \"523950865_B.CEL\", \"189592HUEX1A11\": \"830225708_B.CEL\", \"190241HUEX1A11\": \"473208969_B.CEL\", \"190271HUEX1A11\": \"896445336_B.CEL\", \"189700HUEX1A11\": \"213653686_B.CEL\", \"189664HUEX1A11\": \"377666471_B.CEL\", \"190229HUEX1A11\": \"420299717_B.CEL\"}'\n",
    "id_to_huex = json.loads(convert_shit)"
   ]
  },
  {
   "cell_type": "code",
   "execution_count": 53,
   "metadata": {
    "collapsed": true
   },
   "outputs": [],
   "source": [
    "ids = []\n",
    "everything = {}\n",
    "headers = []\n",
    "with open(\"blood\") as f:\n",
    "    for line in f:\n",
    "        line = line.rstrip().split(\"\\t\")\n",
    "        header = line[0]\n",
    "        data = line[1:]\n",
    "        if header == \"IDs\":\n",
    "            ids = data\n",
    "        elif ids:\n",
    "            headers.append(header)\n",
    "            for id, value in zip(ids, data):\n",
    "                stored = everything.get(header, {})\n",
    "                stored[id] = value\n",
    "                everything[header] = stored\n",
    "#print(everything)"
   ]
  },
  {
   "cell_type": "code",
   "execution_count": 54,
   "metadata": {},
   "outputs": [
    {
     "data": {
      "text/plain": [
       "['ModalAllele', 'EstProgAllele', 'BloodOrMuscle', 'CaseOrControl']"
      ]
     },
     "execution_count": 54,
     "metadata": {},
     "output_type": "execute_result"
    }
   ],
   "source": [
    "headers"
   ]
  },
  {
   "cell_type": "markdown",
   "metadata": {
    "scrolled": false
   },
   "source": [
    "# from __future__ import print_function\n",
    "ids_copy = ids[:]\n",
    "import random\n",
    "random.shuffle(ids_copy)\n",
    "print(\"Filename\", end= \"\\t\")\n",
    "for header in headers[:-1]:\n",
    "    print(header, end= \"\\t\")\n",
    "print(headers[-1])\n",
    "for id in ids_copy:\n",
    "    print(id_to_huex[id], end=\"\\t\")\n",
    "    for header in headers[:-1]:\n",
    "        print(everything[header][id], end=\"\\t\")\n",
    "    print(everything[headers[-1]][id])\n",
    "        #if id in everything:\n",
    "        #    print(everything[id][header])"
   ]
  },
  {
   "cell_type": "code",
   "execution_count": 55,
   "metadata": {},
   "outputs": [
    {
     "name": "stdout",
     "output_type": "stream",
     "text": [
      "{'ModalAllele': {'189676HUEX1A11': '872', '189694HUEX1A11': '297', '189682HUEX1A11': '593', '189598HUEX1A11': '408', '189688HUEX1A11': '717', '189604HUEX1A11': '1035', '190217HUEX1A11': '373', '189700HUEX1A11': '118', '189706HUEX1A11': '280', '190223HUEX1A11': '993', '189610HUEX1A11': '740', '189616HUEX1A11': '1111', '189622HUEX1A11': '290', '189628HUEX1A11': '654', '189670HUEX1A11': '11', '189664HUEX1A11': '261', '189730HUEX1A11': '12', '189634HUEX1A11': '571', '190229HUEX1A11': '186', '190235HUEX1A11': '1261', '189640HUEX1A11': '1000', '190241HUEX1A11': '345', '189712HUEX1A11': '465', '190247HUEX1A11': '604', '189718HUEX1A11': '223', '189646HUEX1A11': '12', '190253HUEX1A11': '83', '189652HUEX1A11': '12', '190259HUEX1A11': '999', '189724HUEX1A11': '13', '190265HUEX1A11': '561', '189592HUEX1A11': '77', '189586HUEX1A11': '240', '189658HUEX1A11': '866', '190271HUEX1A11': '697'}, 'EstProgAllele': {'189676HUEX1A11': '600', '189694HUEX1A11': '227', '189682HUEX1A11': '301', '189598HUEX1A11': '211', '189688HUEX1A11': '320', '189604HUEX1A11': '695', '190217HUEX1A11': '243', '189700HUEX1A11': '105', '189706HUEX1A11': '161', '190223HUEX1A11': '565', '189610HUEX1A11': '506', '189616HUEX1A11': '627', '189622HUEX1A11': '186', '189628HUEX1A11': '318', '189670HUEX1A11': '11', '189664HUEX1A11': '155', '189730HUEX1A11': '12', '189634HUEX1A11': '297', '190229HUEX1A11': '158', '190235HUEX1A11': '703', '189640HUEX1A11': '453', '190241HUEX1A11': '243', '189712HUEX1A11': '358', '190247HUEX1A11': '439', '189718HUEX1A11': '159', '189646HUEX1A11': '12', '190253HUEX1A11': '80', '189652HUEX1A11': '12', '190259HUEX1A11': '745', '189724HUEX1A11': '13', '190265HUEX1A11': '411', '189592HUEX1A11': '77', '189586HUEX1A11': '199', '189658HUEX1A11': '341', '190271HUEX1A11': '397'}, 'BloodOrMuscle': {'189676HUEX1A11': 'blood', '189694HUEX1A11': 'blood', '189682HUEX1A11': 'blood', '189598HUEX1A11': 'blood', '189688HUEX1A11': 'blood', '189604HUEX1A11': 'blood', '190217HUEX1A11': 'blood', '189700HUEX1A11': 'blood', '189706HUEX1A11': 'blood', '190223HUEX1A11': 'blood', '189610HUEX1A11': 'blood', '189616HUEX1A11': 'blood', '189622HUEX1A11': 'blood', '189628HUEX1A11': 'blood', '189670HUEX1A11': 'blood', '189664HUEX1A11': 'blood', '189730HUEX1A11': 'blood', '189634HUEX1A11': 'blood', '190229HUEX1A11': 'blood', '190235HUEX1A11': 'blood', '189640HUEX1A11': 'blood', '190241HUEX1A11': 'blood', '189712HUEX1A11': 'blood', '190247HUEX1A11': 'blood', '189718HUEX1A11': 'blood', '189646HUEX1A11': 'blood', '190253HUEX1A11': 'blood', '189652HUEX1A11': 'blood', '190259HUEX1A11': 'blood', '189724HUEX1A11': 'blood', '190265HUEX1A11': 'blood', '189592HUEX1A11': 'blood', '189586HUEX1A11': 'blood', '189658HUEX1A11': 'blood', '190271HUEX1A11': 'blood'}, 'CaseOrControl': {'189676HUEX1A11': 'case', '189694HUEX1A11': 'case', '189682HUEX1A11': 'case', '189598HUEX1A11': 'case', '189688HUEX1A11': 'case', '189604HUEX1A11': 'case', '190217HUEX1A11': 'case', '189700HUEX1A11': 'case', '189706HUEX1A11': 'case', '190223HUEX1A11': 'case', '189610HUEX1A11': 'case', '189616HUEX1A11': 'case', '189622HUEX1A11': 'case', '189628HUEX1A11': 'case', '189670HUEX1A11': 'control', '189664HUEX1A11': 'case', '189730HUEX1A11': 'control', '189634HUEX1A11': 'case', '190229HUEX1A11': 'case', '190235HUEX1A11': 'case', '189640HUEX1A11': 'case', '190241HUEX1A11': 'case', '189712HUEX1A11': 'case', '190247HUEX1A11': 'case', '189718HUEX1A11': 'case', '189646HUEX1A11': 'control', '190253HUEX1A11': 'case', '189652HUEX1A11': 'control', '190259HUEX1A11': 'case', '189724HUEX1A11': 'control', '190265HUEX1A11': 'case', '189592HUEX1A11': 'case', '189586HUEX1A11': 'case', '189658HUEX1A11': 'case', '190271HUEX1A11': 'case'}}\n"
     ]
    }
   ],
   "source": [
    "print(everything)"
   ]
  },
  {
   "cell_type": "code",
   "execution_count": 56,
   "metadata": {
    "collapsed": true
   },
   "outputs": [],
   "source": [
    "muscle_outliers = [\"159834720_M\", \"230974357_M\", \"881676366_M\", \"597785396_M\"]"
   ]
  },
  {
   "cell_type": "code",
   "execution_count": 57,
   "metadata": {
    "collapsed": true
   },
   "outputs": [],
   "source": [
    "\n",
    "def processCELFile(basePath, lastPath):\n",
    "    relPath = os.path.join(basePath, lastPath)\n",
    "    result = \"\"\n",
    "    with open(relPath, \"rb\") as f:\n",
    "        lines = f.readlines()\n",
    "        for i, line in enumerate(lines[0:20]):\n",
    "            try:\n",
    "                result = re.search(b\"(\\d)*HUEX1A11\", line).group()\n",
    "                \n",
    "            except AttributeError:\n",
    "                pass\n",
    "    return result.decode(\"utf-8\")"
   ]
  },
  {
   "cell_type": "code",
   "execution_count": 58,
   "metadata": {
    "collapsed": true
   },
   "outputs": [],
   "source": [
    "import os"
   ]
  },
  {
   "cell_type": "code",
   "execution_count": 59,
   "metadata": {},
   "outputs": [
    {
     "data": {
      "text/plain": [
       "['hello.ipynb',\n",
       " 'todo.txt',\n",
       " 'muscle',\n",
       " 'CEL_muscle_rerun',\n",
       " '.ipynb_checkpoints',\n",
       " 'CEL',\n",
       " 'muscle_metadata_files',\n",
       " 'blood_metadata',\n",
       " 'blood',\n",
       " 'CEL_muscle',\n",
       " 'CEL_blood',\n",
       " '.~lock.muscle_metadata_files#']"
      ]
     },
     "execution_count": 59,
     "metadata": {},
     "output_type": "execute_result"
    }
   ],
   "source": [
    "os.listdir()"
   ]
  },
  {
   "cell_type": "code",
   "execution_count": 60,
   "metadata": {},
   "outputs": [],
   "source": [
    "everything_muscle = {\"IDs\": [], \"ModalAllele\": []}\n",
    "with open(\"muscle_metadata_files\") as f:\n",
    "    for line in f:\n",
    "        line = line.split()\n",
    "        header = line[0]\n",
    "        everything_muscle[header] = line[1:]"
   ]
  },
  {
   "cell_type": "code",
   "execution_count": 61,
   "metadata": {
    "collapsed": true
   },
   "outputs": [],
   "source": [
    "def processCELFile(basePath, lastPath):\n",
    "    relPath = os.path.join(basePath, lastPath)\n",
    "    result = \"\"\n",
    "    with open(relPath, \"rb\") as f:\n",
    "        lines = f.readlines()\n",
    "        for i, line in enumerate(lines[0:20]):\n",
    "            try:\n",
    "                result = re.search(b\"(\\d)*HUEX1A11\", line).group()\n",
    "                \n",
    "            except AttributeError:\n",
    "                pass\n",
    "    return result.decode(\"utf-8\")"
   ]
  },
  {
   "cell_type": "code",
   "execution_count": 62,
   "metadata": {
    "collapsed": true
   },
   "outputs": [],
   "source": [
    "BloodMuscle = \"\"\"189586HUEX1A11\t189737HUEX1A11\n",
    "189592HUEX1A11\t189738HUEX1A11\n",
    "189598HUEX1A11\t189739HUEX1A11\n",
    "189604HUEX1A11\t189740HUEX1A11\n",
    "189610HUEX1A11\t189741HUEX1A11\n",
    "189616HUEX1A11\t189742HUEX1A11\n",
    "189622HUEX1A11\t189743HUEX1A11\n",
    "189628HUEX1A11\t189744HUEX1A11\n",
    "189634HUEX1A11\t189745HUEX1A11\n",
    "189640HUEX1A11\t189746HUEX1A11\n",
    "189646HUEX1A11\t189747HUEX1A11\n",
    "189652HUEX1A11\t189748HUEX1A11\n",
    "189658HUEX1A11\t189819HUEX1A11 \n",
    "189664HUEX1A11\t189820HUEX1A11\n",
    "189670HUEX1A11\t189822HUEX1A11\n",
    "189676HUEX1A11\t189823HUEX1A11\n",
    "189682HUEX1A11\t189750HUEX1A11\n",
    "189688HUEX1A11\t\n",
    "189694HUEX1A11\t189749HUEX1A11\n",
    "189700HUEX1A11\t\n",
    "189706HUEX1A11\t\n",
    "189712HUEX1A11\t\n",
    "189718HUEX1A11\t\n",
    "189724HUEX1A11\t\n",
    "189730HUEX1A11\t189751HUEX1A11\n",
    "190217HUEX1A11\t190278HUEX1A21\n",
    "190223HUEX1A11\t190279HUEX1A11\n",
    "190229HUEX1A11\t190280HUEX1A11\n",
    "190235HUEX1A11\t190281HUEX1A11\n",
    "190241HUEX1A11\t190282HUEX1A11\n",
    "190247HUEX1A11\t190283HUEX1A11\n",
    "190253HUEX1A11\t190284HUEX1A11\n",
    "190259HUEX1A11\t190285HUEX1A11\n",
    "190265HUEX1A11\t190286HUEX1A11\n",
    "190271HUEX1A11\t190287HUEX1A11\"\"\""
   ]
  },
  {
   "cell_type": "code",
   "execution_count": 63,
   "metadata": {},
   "outputs": [],
   "source": [
    "muscle_blood_dict = {}\n",
    "for line in BloodMuscle.split(\"\\n\"):\n",
    "    if len(line.split()) == 2:\n",
    "        blood, muscle = line.split()\n",
    "        muscle_blood_dict[muscle] = blood"
   ]
  },
  {
   "cell_type": "code",
   "execution_count": 64,
   "metadata": {},
   "outputs": [
    {
     "name": "stdout",
     "output_type": "stream",
     "text": [
      "{'189737HUEX1A11': '189586HUEX1A11', '189738HUEX1A11': '189592HUEX1A11', '189739HUEX1A11': '189598HUEX1A11', '189740HUEX1A11': '189604HUEX1A11', '189741HUEX1A11': '189610HUEX1A11', '189742HUEX1A11': '189616HUEX1A11', '189743HUEX1A11': '189622HUEX1A11', '189744HUEX1A11': '189628HUEX1A11', '189745HUEX1A11': '189634HUEX1A11', '189746HUEX1A11': '189640HUEX1A11', '189747HUEX1A11': '189646HUEX1A11', '189748HUEX1A11': '189652HUEX1A11', '189819HUEX1A11': '189658HUEX1A11', '189820HUEX1A11': '189664HUEX1A11', '189822HUEX1A11': '189670HUEX1A11', '189823HUEX1A11': '189676HUEX1A11', '189750HUEX1A11': '189682HUEX1A11', '189749HUEX1A11': '189694HUEX1A11', '189751HUEX1A11': '189730HUEX1A11', '190278HUEX1A21': '190217HUEX1A11', '190279HUEX1A11': '190223HUEX1A11', '190280HUEX1A11': '190229HUEX1A11', '190281HUEX1A11': '190235HUEX1A11', '190282HUEX1A11': '190241HUEX1A11', '190283HUEX1A11': '190247HUEX1A11', '190284HUEX1A11': '190253HUEX1A11', '190285HUEX1A11': '190259HUEX1A11', '190286HUEX1A11': '190265HUEX1A11', '190287HUEX1A11': '190271HUEX1A11'}\n"
     ]
    }
   ],
   "source": [
    "print(muscle_blood_dict)"
   ]
  },
  {
   "cell_type": "code",
   "execution_count": 65,
   "metadata": {},
   "outputs": [
    {
     "data": {
      "text/plain": [
       "['ModalAllele', 'EstProgAllele', 'BloodOrMuscle', 'CaseOrControl']"
      ]
     },
     "execution_count": 65,
     "metadata": {},
     "output_type": "execute_result"
    }
   ],
   "source": [
    "headers"
   ]
  },
  {
   "cell_type": "code",
   "execution_count": 88,
   "metadata": {},
   "outputs": [
    {
     "name": "stdout",
     "output_type": "stream",
     "text": [
      "873750289_M.CEL 240 199 blood case \n",
      "830225708_M.CEL 77 77 blood case \n",
      "129523253_M.CEL 408 211 blood case \n",
      "159834720_M.CEL 1035 695 blood case \n",
      "270148799_M.CEL 740 506 blood case \n",
      "315805040_M.CEL 1111 627 blood case \n",
      "321962190_M.CEL 290 186 blood case \n",
      "328687703_M.CEL 654 318 blood case \n",
      "449599671_M.CEL 1000 453 blood case \n",
      "572448109_M.CEL 12 12 blood control \n",
      "597785396_M.CEL 12 12 blood control \n",
      "117440822_M.CEL 297 227 blood case \n",
      "124563003_M.CEL 593 301 blood case \n",
      "387939296_M.CEL 12 12 blood control \n",
      "881676366_M.CEL 866 341 blood case \n",
      "377666471_M.CEL 261 155 blood case \n",
      "360448352_M.CEL 11 11 blood control \n",
      "111747589_M.CEL 872 600 blood case \n",
      "230974357_M.CEL 993 565 blood case \n",
      "420299717_M.CEL 186 158 blood case \n",
      "427374914_M.CEL 1261 703 blood case \n",
      "473208969_M.CEL 345 243 blood case \n",
      "549452228_M.CEL 604 439 blood case \n",
      "575039926_M.CEL 83 80 blood case \n",
      "661252781_M.CEL 999 745 blood case \n",
      "819054051_M.CEL 561 411 blood case \n",
      "896445336_M.CEL 697 397 blood case \n"
     ]
    }
   ],
   "source": [
    "\n",
    "import re\n",
    "for celfile in everything_muscle[\"IDs\"]:\n",
    "    musclehuex = processCELFile(\"CEL\", celfile)\n",
    "    if musclehuex in muscle_blood_dict:\n",
    "        bloodhuex = muscle_blood_dict[musclehuex]\n",
    "        print(celfile, end = \" \")\n",
    "        for header in headers:\n",
    "            if header != \"blood\":\n",
    "                print(everything[header][bloodhuex], end = \" \")\n",
    "        print()"
   ]
  },
  {
   "cell_type": "code",
   "execution_count": 87,
   "metadata": {},
   "outputs": [
    {
     "data": {
      "text/plain": [
       "{'111747589_M.CEL': ['872', '600', 'case'],\n",
       " '117440822_M.CEL': ['297', '227', 'case'],\n",
       " '124563003_M.CEL': ['593', '301', 'case'],\n",
       " '129523253_M.CEL': ['408', '211', 'case'],\n",
       " '159834720_M.CEL': ['1035', '695', 'case'],\n",
       " '230974357_M.CEL': ['993', '565', 'case'],\n",
       " '270148799_M.CEL': ['740', '506', 'case'],\n",
       " '315805040_M.CEL': ['1111', '627', 'case'],\n",
       " '321962190_M.CEL': ['290', '186', 'case'],\n",
       " '328687703_M.CEL': ['654', '318', 'case'],\n",
       " '360448352_M.CEL': ['11', '11', 'control'],\n",
       " '377666471_M.CEL': ['261', '155', 'case'],\n",
       " '387939296_M.CEL': ['12', '12', 'control'],\n",
       " '420299717_M.CEL': ['186', '158', 'case'],\n",
       " '427374914_M.CEL': ['1261', '703', 'case'],\n",
       " '449599671_M.CEL': ['1000', '453', 'case'],\n",
       " '473208969_M.CEL': ['345', '243', 'case'],\n",
       " '549452228_M.CEL': ['604', '439', 'case'],\n",
       " '572448109_M.CEL': ['12', '12', 'control'],\n",
       " '575039926_M.CEL': ['83', '80', 'case'],\n",
       " '597785396_M.CEL': ['12', '12', 'control'],\n",
       " '661252781_M.CEL': ['999', '745', 'case'],\n",
       " '819054051_M.CEL': ['561', '411', 'case'],\n",
       " '830225708_M.CEL': ['77', '77', 'case'],\n",
       " '873750289_M.CEL': ['240', '199', 'case'],\n",
       " '881676366_M.CEL': ['866', '341', 'case'],\n",
       " '896445336_M.CEL': ['697', '397', 'case']}"
      ]
     },
     "execution_count": 87,
     "metadata": {},
     "output_type": "execute_result"
    }
   ],
   "source": [
    "muscle_shit"
   ]
  },
  {
   "cell_type": "code",
   "execution_count": 69,
   "metadata": {},
   "outputs": [
    {
     "data": {
      "text/plain": [
       "{'BloodOrMuscle': {'189586HUEX1A11': 'blood',\n",
       "  '189592HUEX1A11': 'blood',\n",
       "  '189598HUEX1A11': 'blood',\n",
       "  '189604HUEX1A11': 'blood',\n",
       "  '189610HUEX1A11': 'blood',\n",
       "  '189616HUEX1A11': 'blood',\n",
       "  '189622HUEX1A11': 'blood',\n",
       "  '189628HUEX1A11': 'blood',\n",
       "  '189634HUEX1A11': 'blood',\n",
       "  '189640HUEX1A11': 'blood',\n",
       "  '189646HUEX1A11': 'blood',\n",
       "  '189652HUEX1A11': 'blood',\n",
       "  '189658HUEX1A11': 'blood',\n",
       "  '189664HUEX1A11': 'blood',\n",
       "  '189670HUEX1A11': 'blood',\n",
       "  '189676HUEX1A11': 'blood',\n",
       "  '189682HUEX1A11': 'blood',\n",
       "  '189688HUEX1A11': 'blood',\n",
       "  '189694HUEX1A11': 'blood',\n",
       "  '189700HUEX1A11': 'blood',\n",
       "  '189706HUEX1A11': 'blood',\n",
       "  '189712HUEX1A11': 'blood',\n",
       "  '189718HUEX1A11': 'blood',\n",
       "  '189724HUEX1A11': 'blood',\n",
       "  '189730HUEX1A11': 'blood',\n",
       "  '190217HUEX1A11': 'blood',\n",
       "  '190223HUEX1A11': 'blood',\n",
       "  '190229HUEX1A11': 'blood',\n",
       "  '190235HUEX1A11': 'blood',\n",
       "  '190241HUEX1A11': 'blood',\n",
       "  '190247HUEX1A11': 'blood',\n",
       "  '190253HUEX1A11': 'blood',\n",
       "  '190259HUEX1A11': 'blood',\n",
       "  '190265HUEX1A11': 'blood',\n",
       "  '190271HUEX1A11': 'blood'},\n",
       " 'CaseOrControl': {'189586HUEX1A11': 'case',\n",
       "  '189592HUEX1A11': 'case',\n",
       "  '189598HUEX1A11': 'case',\n",
       "  '189604HUEX1A11': 'case',\n",
       "  '189610HUEX1A11': 'case',\n",
       "  '189616HUEX1A11': 'case',\n",
       "  '189622HUEX1A11': 'case',\n",
       "  '189628HUEX1A11': 'case',\n",
       "  '189634HUEX1A11': 'case',\n",
       "  '189640HUEX1A11': 'case',\n",
       "  '189646HUEX1A11': 'control',\n",
       "  '189652HUEX1A11': 'control',\n",
       "  '189658HUEX1A11': 'case',\n",
       "  '189664HUEX1A11': 'case',\n",
       "  '189670HUEX1A11': 'control',\n",
       "  '189676HUEX1A11': 'case',\n",
       "  '189682HUEX1A11': 'case',\n",
       "  '189688HUEX1A11': 'case',\n",
       "  '189694HUEX1A11': 'case',\n",
       "  '189700HUEX1A11': 'case',\n",
       "  '189706HUEX1A11': 'case',\n",
       "  '189712HUEX1A11': 'case',\n",
       "  '189718HUEX1A11': 'case',\n",
       "  '189724HUEX1A11': 'control',\n",
       "  '189730HUEX1A11': 'control',\n",
       "  '190217HUEX1A11': 'case',\n",
       "  '190223HUEX1A11': 'case',\n",
       "  '190229HUEX1A11': 'case',\n",
       "  '190235HUEX1A11': 'case',\n",
       "  '190241HUEX1A11': 'case',\n",
       "  '190247HUEX1A11': 'case',\n",
       "  '190253HUEX1A11': 'case',\n",
       "  '190259HUEX1A11': 'case',\n",
       "  '190265HUEX1A11': 'case',\n",
       "  '190271HUEX1A11': 'case'},\n",
       " 'EstProgAllele': {'189586HUEX1A11': '199',\n",
       "  '189592HUEX1A11': '77',\n",
       "  '189598HUEX1A11': '211',\n",
       "  '189604HUEX1A11': '695',\n",
       "  '189610HUEX1A11': '506',\n",
       "  '189616HUEX1A11': '627',\n",
       "  '189622HUEX1A11': '186',\n",
       "  '189628HUEX1A11': '318',\n",
       "  '189634HUEX1A11': '297',\n",
       "  '189640HUEX1A11': '453',\n",
       "  '189646HUEX1A11': '12',\n",
       "  '189652HUEX1A11': '12',\n",
       "  '189658HUEX1A11': '341',\n",
       "  '189664HUEX1A11': '155',\n",
       "  '189670HUEX1A11': '11',\n",
       "  '189676HUEX1A11': '600',\n",
       "  '189682HUEX1A11': '301',\n",
       "  '189688HUEX1A11': '320',\n",
       "  '189694HUEX1A11': '227',\n",
       "  '189700HUEX1A11': '105',\n",
       "  '189706HUEX1A11': '161',\n",
       "  '189712HUEX1A11': '358',\n",
       "  '189718HUEX1A11': '159',\n",
       "  '189724HUEX1A11': '13',\n",
       "  '189730HUEX1A11': '12',\n",
       "  '190217HUEX1A11': '243',\n",
       "  '190223HUEX1A11': '565',\n",
       "  '190229HUEX1A11': '158',\n",
       "  '190235HUEX1A11': '703',\n",
       "  '190241HUEX1A11': '243',\n",
       "  '190247HUEX1A11': '439',\n",
       "  '190253HUEX1A11': '80',\n",
       "  '190259HUEX1A11': '745',\n",
       "  '190265HUEX1A11': '411',\n",
       "  '190271HUEX1A11': '397'},\n",
       " 'ModalAllele': {'189586HUEX1A11': '240',\n",
       "  '189592HUEX1A11': '77',\n",
       "  '189598HUEX1A11': '408',\n",
       "  '189604HUEX1A11': '1035',\n",
       "  '189610HUEX1A11': '740',\n",
       "  '189616HUEX1A11': '1111',\n",
       "  '189622HUEX1A11': '290',\n",
       "  '189628HUEX1A11': '654',\n",
       "  '189634HUEX1A11': '571',\n",
       "  '189640HUEX1A11': '1000',\n",
       "  '189646HUEX1A11': '12',\n",
       "  '189652HUEX1A11': '12',\n",
       "  '189658HUEX1A11': '866',\n",
       "  '189664HUEX1A11': '261',\n",
       "  '189670HUEX1A11': '11',\n",
       "  '189676HUEX1A11': '872',\n",
       "  '189682HUEX1A11': '593',\n",
       "  '189688HUEX1A11': '717',\n",
       "  '189694HUEX1A11': '297',\n",
       "  '189700HUEX1A11': '118',\n",
       "  '189706HUEX1A11': '280',\n",
       "  '189712HUEX1A11': '465',\n",
       "  '189718HUEX1A11': '223',\n",
       "  '189724HUEX1A11': '13',\n",
       "  '189730HUEX1A11': '12',\n",
       "  '190217HUEX1A11': '373',\n",
       "  '190223HUEX1A11': '993',\n",
       "  '190229HUEX1A11': '186',\n",
       "  '190235HUEX1A11': '1261',\n",
       "  '190241HUEX1A11': '345',\n",
       "  '190247HUEX1A11': '604',\n",
       "  '190253HUEX1A11': '83',\n",
       "  '190259HUEX1A11': '999',\n",
       "  '190265HUEX1A11': '561',\n",
       "  '190271HUEX1A11': '697'}}"
      ]
     },
     "execution_count": 69,
     "metadata": {},
     "output_type": "execute_result"
    }
   ],
   "source": [
    "everything"
   ]
  },
  {
   "cell_type": "code",
   "execution_count": 101,
   "metadata": {
    "collapsed": true
   },
   "outputs": [],
   "source": [
    "Blood=\"\"\"873750289_B.CEL 240     199     blood   case\n",
    "736551759_B.CEL 13      13      blood   control\n",
    "551644041_B.CEL 223     159     blood   case\n",
    "896445336_B.CEL 697     397     blood   case\n",
    "427374914_B.CEL 1261    703     blood   case\n",
    "360448352_B.CEL 11      11      blood   control\n",
    "230974357_B.CEL 993     565     blood   case\n",
    "387939296_B.CEL 12      12      blood   control\n",
    "819054051_B.CEL 561     411     blood   case\n",
    "141772399_B.CEL 717     320     blood   case\n",
    "204472077_B.CEL 373     243     blood   case\n",
    "473208969_B.CEL 345     243     blood   case\n",
    "830225708_B.CEL 77      77      blood   case\n",
    "575039926_B.CEL 83      80      blood   case\n",
    "117440822_B.CEL 297     227     blood   case\n",
    "321962190_B.CEL 290     186     blood   case\n",
    "549452228_B.CEL 604     439     blood   case\n",
    "881676366_B.CEL 866     341     blood   case\n",
    "572448109_B.CEL 12      12      blood   control\n",
    "129523253_B.CEL 408     211     blood   case\n",
    "229213757_B.CEL 280     161     blood   case\n",
    "420299717_B.CEL 186     158     blood   case\n",
    "328687703_B.CEL 654     318     blood   case\n",
    "661252781_B.CEL 999     745     blood   case\n",
    "315805040_B.CEL 1111    627     blood   case\n",
    "377666471_B.CEL 261     155     blood   case\n",
    "159834720_B.CEL 1035    695     blood   case\n",
    "406335477_B.CEL 571     297     blood   case\n",
    "213653686_B.CEL 118     105     blood   case\n",
    "597785396_B.CEL 12      12      blood   control\n",
    "449599671_B.CEL 1000    453     blood   case\n",
    "523950865_B.CEL 465     358     blood   case\n",
    "111747589_B.CEL 872     600     blood   case\n",
    "124563003_B.CEL 593     301     blood   case\n",
    "270148799_B.CEL 740     506     blood   case\"\"\""
   ]
  },
  {
   "cell_type": "code",
   "execution_count": 102,
   "metadata": {},
   "outputs": [
    {
     "data": {
      "text/plain": [
       "'Filename        ModalAllele     EstProgAllele   BloodOrMuscle   CaseOrControl'"
      ]
     },
     "execution_count": 102,
     "metadata": {},
     "output_type": "execute_result"
    }
   ],
   "source": [
    "\"Filename        ModalAllele     EstProgAllele   BloodOrMuscle   CaseOrControl\""
   ]
  },
  {
   "cell_type": "code",
   "execution_count": null,
   "metadata": {
    "collapsed": true
   },
   "outputs": [],
   "source": []
  },
  {
   "cell_type": "code",
   "execution_count": 106,
   "metadata": {
    "collapsed": true
   },
   "outputs": [],
   "source": [
    "blood_correct = {}"
   ]
  },
  {
   "cell_type": "code",
   "execution_count": 107,
   "metadata": {
    "collapsed": true
   },
   "outputs": [],
   "source": [
    "muscle_correct = {}"
   ]
  },
  {
   "cell_type": "code",
   "execution_count": 108,
   "metadata": {},
   "outputs": [],
   "source": [
    "for line in Blood.split(\"\\n\"):\n",
    "    line = line.split()\n",
    "    blood_correct[line[0]] = line[1:]"
   ]
  },
  {
   "cell_type": "code",
   "execution_count": 109,
   "metadata": {},
   "outputs": [
    {
     "data": {
      "text/plain": [
       "{'111747589_B.CEL': ['872', '600', 'blood', 'case'],\n",
       " '117440822_B.CEL': ['297', '227', 'blood', 'case'],\n",
       " '124563003_B.CEL': ['593', '301', 'blood', 'case'],\n",
       " '129523253_B.CEL': ['408', '211', 'blood', 'case'],\n",
       " '141772399_B.CEL': ['717', '320', 'blood', 'case'],\n",
       " '159834720_B.CEL': ['1035', '695', 'blood', 'case'],\n",
       " '204472077_B.CEL': ['373', '243', 'blood', 'case'],\n",
       " '213653686_B.CEL': ['118', '105', 'blood', 'case'],\n",
       " '229213757_B.CEL': ['280', '161', 'blood', 'case'],\n",
       " '230974357_B.CEL': ['993', '565', 'blood', 'case'],\n",
       " '270148799_B.CEL': ['740', '506', 'blood', 'case'],\n",
       " '315805040_B.CEL': ['1111', '627', 'blood', 'case'],\n",
       " '321962190_B.CEL': ['290', '186', 'blood', 'case'],\n",
       " '328687703_B.CEL': ['654', '318', 'blood', 'case'],\n",
       " '360448352_B.CEL': ['11', '11', 'blood', 'control'],\n",
       " '377666471_B.CEL': ['261', '155', 'blood', 'case'],\n",
       " '387939296_B.CEL': ['12', '12', 'blood', 'control'],\n",
       " '406335477_B.CEL': ['571', '297', 'blood', 'case'],\n",
       " '420299717_B.CEL': ['186', '158', 'blood', 'case'],\n",
       " '427374914_B.CEL': ['1261', '703', 'blood', 'case'],\n",
       " '449599671_B.CEL': ['1000', '453', 'blood', 'case'],\n",
       " '473208969_B.CEL': ['345', '243', 'blood', 'case'],\n",
       " '523950865_B.CEL': ['465', '358', 'blood', 'case'],\n",
       " '549452228_B.CEL': ['604', '439', 'blood', 'case'],\n",
       " '551644041_B.CEL': ['223', '159', 'blood', 'case'],\n",
       " '572448109_B.CEL': ['12', '12', 'blood', 'control'],\n",
       " '575039926_B.CEL': ['83', '80', 'blood', 'case'],\n",
       " '597785396_B.CEL': ['12', '12', 'blood', 'control'],\n",
       " '661252781_B.CEL': ['999', '745', 'blood', 'case'],\n",
       " '736551759_B.CEL': ['13', '13', 'blood', 'control'],\n",
       " '819054051_B.CEL': ['561', '411', 'blood', 'case'],\n",
       " '830225708_B.CEL': ['77', '77', 'blood', 'case'],\n",
       " '873750289_B.CEL': ['240', '199', 'blood', 'case'],\n",
       " '881676366_B.CEL': ['866', '341', 'blood', 'case'],\n",
       " '896445336_B.CEL': ['697', '397', 'blood', 'case']}"
      ]
     },
     "execution_count": 109,
     "metadata": {},
     "output_type": "execute_result"
    }
   ],
   "source": [
    "blood_correct"
   ]
  },
  {
   "cell_type": "code",
   "execution_count": 104,
   "metadata": {
    "collapsed": true
   },
   "outputs": [],
   "source": [
    "Muscle=\"\"\"873750289_M.CEL 240 199 blood case \n",
    "830225708_M.CEL 77 77 blood case \n",
    "129523253_M.CEL 408 211 blood case \n",
    "159834720_M.CEL 1035 695 blood case \n",
    "270148799_M.CEL 740 506 blood case \n",
    "315805040_M.CEL 1111 627 blood case \n",
    "321962190_M.CEL 290 186 blood case \n",
    "328687703_M.CEL 654 318 blood case \n",
    "449599671_M.CEL 1000 453 blood case \n",
    "572448109_M.CEL 12 12 blood control \n",
    "597785396_M.CEL 12 12 blood control \n",
    "117440822_M.CEL 297 227 blood case \n",
    "124563003_M.CEL 593 301 blood case \n",
    "387939296_M.CEL 12 12 blood control \n",
    "881676366_M.CEL 866 341 blood case \n",
    "377666471_M.CEL 261 155 blood case \n",
    "360448352_M.CEL 11 11 blood control \n",
    "111747589_M.CEL 872 600 blood case \n",
    "230974357_M.CEL 993 565 blood case \n",
    "420299717_M.CEL 186 158 blood case \n",
    "427374914_M.CEL 1261 703 blood case \n",
    "473208969_M.CEL 345 243 blood case \n",
    "549452228_M.CEL 604 439 blood case \n",
    "575039926_M.CEL 83 80 blood case \n",
    "661252781_M.CEL 999 745 blood case \n",
    "819054051_M.CEL 561 411 blood case \n",
    "896445336_M.CEL 697 397 blood case\"\"\""
   ]
  },
  {
   "cell_type": "code",
   "execution_count": 110,
   "metadata": {},
   "outputs": [],
   "source": [
    "for line in Muscle.split(\"\\n\"):\n",
    "    line = line.split()\n",
    "    muscle_correct[line[0]] = line[1:]"
   ]
  },
  {
   "cell_type": "code",
   "execution_count": 111,
   "metadata": {},
   "outputs": [
    {
     "data": {
      "text/plain": [
       "{'111747589_M.CEL': ['872', '600', 'blood', 'case'],\n",
       " '117440822_M.CEL': ['297', '227', 'blood', 'case'],\n",
       " '124563003_M.CEL': ['593', '301', 'blood', 'case'],\n",
       " '129523253_M.CEL': ['408', '211', 'blood', 'case'],\n",
       " '159834720_M.CEL': ['1035', '695', 'blood', 'case'],\n",
       " '230974357_M.CEL': ['993', '565', 'blood', 'case'],\n",
       " '270148799_M.CEL': ['740', '506', 'blood', 'case'],\n",
       " '315805040_M.CEL': ['1111', '627', 'blood', 'case'],\n",
       " '321962190_M.CEL': ['290', '186', 'blood', 'case'],\n",
       " '328687703_M.CEL': ['654', '318', 'blood', 'case'],\n",
       " '360448352_M.CEL': ['11', '11', 'blood', 'control'],\n",
       " '377666471_M.CEL': ['261', '155', 'blood', 'case'],\n",
       " '387939296_M.CEL': ['12', '12', 'blood', 'control'],\n",
       " '420299717_M.CEL': ['186', '158', 'blood', 'case'],\n",
       " '427374914_M.CEL': ['1261', '703', 'blood', 'case'],\n",
       " '449599671_M.CEL': ['1000', '453', 'blood', 'case'],\n",
       " '473208969_M.CEL': ['345', '243', 'blood', 'case'],\n",
       " '549452228_M.CEL': ['604', '439', 'blood', 'case'],\n",
       " '572448109_M.CEL': ['12', '12', 'blood', 'control'],\n",
       " '575039926_M.CEL': ['83', '80', 'blood', 'case'],\n",
       " '597785396_M.CEL': ['12', '12', 'blood', 'control'],\n",
       " '661252781_M.CEL': ['999', '745', 'blood', 'case'],\n",
       " '819054051_M.CEL': ['561', '411', 'blood', 'case'],\n",
       " '830225708_M.CEL': ['77', '77', 'blood', 'case'],\n",
       " '873750289_M.CEL': ['240', '199', 'blood', 'case'],\n",
       " '881676366_M.CEL': ['866', '341', 'blood', 'case'],\n",
       " '896445336_M.CEL': ['697', '397', 'blood', 'case']}"
      ]
     },
     "execution_count": 111,
     "metadata": {},
     "output_type": "execute_result"
    }
   ],
   "source": [
    "muscle_correct"
   ]
  },
  {
   "cell_type": "code",
   "execution_count": 118,
   "metadata": {},
   "outputs": [
    {
     "name": "stdout",
     "output_type": "stream",
     "text": [
      "240\n",
      "240\n",
      "77\n",
      "77\n",
      "408\n",
      "408\n",
      "1035\n",
      "1035\n",
      "740\n",
      "740\n",
      "1111\n",
      "1111\n",
      "290\n",
      "290\n",
      "654\n",
      "654\n",
      "1000\n",
      "1000\n",
      "12\n",
      "12\n",
      "12\n",
      "12\n",
      "297\n",
      "297\n",
      "593\n",
      "593\n",
      "12\n",
      "12\n",
      "866\n",
      "866\n",
      "261\n",
      "261\n",
      "11\n",
      "11\n",
      "872\n",
      "872\n",
      "993\n",
      "993\n",
      "186\n",
      "186\n",
      "1261\n",
      "1261\n",
      "345\n",
      "345\n",
      "604\n",
      "604\n",
      "83\n",
      "83\n",
      "999\n",
      "999\n",
      "561\n",
      "561\n",
      "697\n",
      "697\n"
     ]
    }
   ],
   "source": [
    "for muscle in muscle_correct:\n",
    "    patient_id = muscle.split(\"_\")[0]\n",
    "    print(muscle_correct[muscle][0])\n",
    "    header = patient_id + \"_B.CEL\"\n",
    "    print(blood_correct[header][0])"
   ]
  },
  {
   "cell_type": "code",
   "execution_count": 143,
   "metadata": {},
   "outputs": [
    {
     "data": {
      "text/plain": [
       "['159834720_M', '230974357_M', '881676366_M', '597785396_M']"
      ]
     },
     "execution_count": 143,
     "metadata": {},
     "output_type": "execute_result"
    }
   ],
   "source": [
    "muscle_outliers"
   ]
  },
  {
   "cell_type": "code",
   "execution_count": 170,
   "metadata": {},
   "outputs": [],
   "source": [
    "patient_correct = {}\n",
    "for blood in blood_correct:\n",
    "    patient_id = blood.split(\"_\")[0]\n",
    "    data = [blood]\n",
    "    muscle = patient_id + \"_M.CEL\"\n",
    "    if muscle.split(\".\")[0] in muscle_outliers:\n",
    "        data.append(patient_id + \"_MR.cel\")\n",
    "    elif muscle in muscle_correct:\n",
    "        data.append(muscle)\n",
    "    else:\n",
    "        data.append(\"refused_biopsy\")\n",
    "    data.extend(blood_correct[blood][:2] + blood_correct[blood][-1:])\n",
    "    patient_correct[patient_id] = data"
   ]
  },
  {
   "cell_type": "code",
   "execution_count": 173,
   "metadata": {},
   "outputs": [
    {
     "name": "stdout",
     "output_type": "stream",
     "text": [
      "patient_id\tblood_cel\tmuscle_cel\tmodal_allele\tprogenitor_allele\tcase_control\n",
      "873750289\t873750289_B.CEL\t873750289_M.CEL\t240\t199\tcase\n",
      "736551759\t736551759_B.CEL\trefused_biopsy\t13\t13\tcontrol\n",
      "551644041\t551644041_B.CEL\trefused_biopsy\t223\t159\tcase\n",
      "896445336\t896445336_B.CEL\t896445336_M.CEL\t697\t397\tcase\n",
      "427374914\t427374914_B.CEL\t427374914_M.CEL\t1261\t703\tcase\n",
      "360448352\t360448352_B.CEL\t360448352_M.CEL\t11\t11\tcontrol\n",
      "230974357\t230974357_B.CEL\t230974357_MR.cel\t993\t565\tcase\n",
      "387939296\t387939296_B.CEL\t387939296_M.CEL\t12\t12\tcontrol\n",
      "819054051\t819054051_B.CEL\t819054051_M.CEL\t561\t411\tcase\n",
      "141772399\t141772399_B.CEL\trefused_biopsy\t717\t320\tcase\n",
      "204472077\t204472077_B.CEL\trefused_biopsy\t373\t243\tcase\n",
      "473208969\t473208969_B.CEL\t473208969_M.CEL\t345\t243\tcase\n",
      "830225708\t830225708_B.CEL\t830225708_M.CEL\t77\t77\tcase\n",
      "575039926\t575039926_B.CEL\t575039926_M.CEL\t83\t80\tcase\n",
      "117440822\t117440822_B.CEL\t117440822_M.CEL\t297\t227\tcase\n",
      "321962190\t321962190_B.CEL\t321962190_M.CEL\t290\t186\tcase\n",
      "549452228\t549452228_B.CEL\t549452228_M.CEL\t604\t439\tcase\n",
      "881676366\t881676366_B.CEL\t881676366_MR.cel\t866\t341\tcase\n",
      "572448109\t572448109_B.CEL\t572448109_M.CEL\t12\t12\tcontrol\n",
      "129523253\t129523253_B.CEL\t129523253_M.CEL\t408\t211\tcase\n",
      "229213757\t229213757_B.CEL\trefused_biopsy\t280\t161\tcase\n",
      "420299717\t420299717_B.CEL\t420299717_M.CEL\t186\t158\tcase\n",
      "328687703\t328687703_B.CEL\t328687703_M.CEL\t654\t318\tcase\n",
      "661252781\t661252781_B.CEL\t661252781_M.CEL\t999\t745\tcase\n",
      "315805040\t315805040_B.CEL\t315805040_M.CEL\t1111\t627\tcase\n",
      "377666471\t377666471_B.CEL\t377666471_M.CEL\t261\t155\tcase\n",
      "159834720\t159834720_B.CEL\t159834720_MR.cel\t1035\t695\tcase\n",
      "406335477\t406335477_B.CEL\trefused_biopsy\t571\t297\tcase\n",
      "213653686\t213653686_B.CEL\trefused_biopsy\t118\t105\tcase\n",
      "597785396\t597785396_B.CEL\t597785396_MR.cel\t12\t12\tcontrol\n",
      "449599671\t449599671_B.CEL\t449599671_M.CEL\t1000\t453\tcase\n",
      "523950865\t523950865_B.CEL\trefused_biopsy\t465\t358\tcase\n",
      "111747589\t111747589_B.CEL\t111747589_M.CEL\t872\t600\tcase\n",
      "124563003\t124563003_B.CEL\t124563003_M.CEL\t593\t301\tcase\n",
      "270148799\t270148799_B.CEL\t270148799_M.CEL\t740\t506\tcase\n"
     ]
    }
   ],
   "source": [
    "print(\"\\t\".join([\"patient_id\", \"blood_cel\", \"muscle_cel\", \"modal_allele\", \"progenitor_allele\", \"case_control\"]))\n",
    "for patient_id in patient_correct:\n",
    "    print(patient_id, end = \"\\t\")\n",
    "    print(\"\\t\".join(patient_correct[patient_id]))"
   ]
  },
  {
   "cell_type": "code",
   "execution_count": null,
   "metadata": {
    "collapsed": true
   },
   "outputs": [],
   "source": []
  }
 ],
 "metadata": {
  "kernelspec": {
   "display_name": "Python 3",
   "language": "python",
   "name": "python3"
  },
  "language_info": {
   "codemirror_mode": {
    "name": "ipython",
    "version": 3
   },
   "file_extension": ".py",
   "mimetype": "text/x-python",
   "name": "python",
   "nbconvert_exporter": "python",
   "pygments_lexer": "ipython3",
   "version": "3.6.2"
  }
 },
 "nbformat": 4,
 "nbformat_minor": 2
}
