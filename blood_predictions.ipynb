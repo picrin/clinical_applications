{
 "cells": [
  {
   "cell_type": "markdown",
   "metadata": {},
   "source": [
    "# Table of Contents\n",
    "* [1. Python dependencies](#1.-Python-dependencies)\n",
    "\t* [1.1 Picking up metadata for the samples belonging to the discovery set](#1.1-Picking-up-metadata-for-the-samples-belonging-to-the-discovery-set)\n",
    "\t* [1.2 Loading the expression data](#1.2-Loading-the-expression-data)\n",
    "* [2. Implementing statistical model to predict the repeat length](#2.-Implementing-statistical-model-to-predict-the-repeat-length)\n",
    "\t* [2.1 Computing Pearson's correlation coefficient between any gene and repeat length](#2.1-Computing-Pearson's-correlation-coefficient-between-any-gene-and-repeat-length)\n",
    "\t* [2.2 Slicing and dicing a numpy array](#2.2-Slicing-and-dicing-a-numpy-array)\n",
    "\t\t* [2.2.1 That's how we can choose given samples from our array](#2.2.1-That's-how-we-can-choose-given-samples-from-our-array)\n",
    "\t\t* [2.2.2 That's how we can choose given genes from our array](#2.2.2-That's-how-we-can-choose-given-genes-from-our-array)\n",
    "\t* [2.3 Choosing top n genes and the training set from `probeset_data`](#2.3-Choosing-top-n-genes-and-the-training-set-from-probeset_data)\n",
    "\t\t* [2.3.1 Choosing the training set](#2.3.1-Choosing-the-training-set)\n",
    "\t\t\t* [2.3.1.1 Testing for off-by-one errors](#2.3.1.1-Testing-for-off-by-one-errors)\n",
    "\t\t* [2.3.2 Choosing top genes](#2.3.2-Choosing-top-genes)\n",
    "\t\t* [2.3.3 Splitting our data into training and testing indices](#2.3.3-Splitting-our-data-into-training-and-testing-indices)\n",
    "\t\t* [2.3.4 Rearranging repeat length](#2.3.4-Rearranging-repeat-length)\n",
    "\t\t* [2.3.5 Choosing top 500 genes](#2.3.5-Choosing-top-500-genes)\n",
    "\t\t* [2.3.6 Testing that labels are correctly assigned (not permuted)](#2.3.6-Testing-that-labels-are-correctly-assigned-%28not-permuted%29)\n",
    "\t\t* [2.3.7 Utility functions to change lists into row or column vectors](#2.3.7-Utility-functions-to-change-lists-into-row-or-column-vectors)\n",
    "\t\t* [2.3.8 Fitting the model](#2.3.8-Fitting-the-model)\n",
    "\t\t* [2.3.9 Carrying out predictions on the testing set and comparing them with the ground truth.](#2.3.9-Carrying-out-predictions-on-the-testing-set-and-comparing-them-with-the-ground-truth.)\n",
    "\t* [2.4 Viewing top correlating genes](#2.4-Viewing-top-correlating-genes)\n",
    "\t* [2.5 Combining defined utility functions into a single `simulation_step` function](#2.5-Combining-defined-utility-functions-into-a-single-simulation_step-function)\n",
    "* [3. Running the simulation 5000 times to produce the scatter plot of predictions vs ground through](#3.-Running-the-simulation-5000-times-to-produce-the-scatter-plot-of-predictions-vs-ground-through)\n",
    "\t* [3.1 Running a simulation to compute the probability that a random predictor would achieve the same $r^2$ or better (estimating the p-value of null hypothesis that our predictor behaves like a random predictor).](#3.1-Running-a-simulation-to-compute-the-probability-that-a-random-predictor-would-achieve-the-same-$r^2$-or-better-%28estimating-the-p-value-of-null-hypothesis-that-our-predictor-behaves-like-a-random-predictor%29.)\n"
   ]
  },
  {
   "cell_type": "markdown",
   "metadata": {},
   "source": [
    "# 1. Python dependencies"
   ]
  },
  {
   "cell_type": "markdown",
   "metadata": {},
   "source": [
    "All of the python dependencies used in this replication study are standard python packages. You can download them either manually or using pip. Please ensure that your python version is 3.6, and `pip` is installing packages for the correct python distribution. Depending on your system and your particular setup, your `pip` executable may be actually named `pip3`, and its location may vary.\n",
    "\n",
    "The safest option is to install an isolated python 3.6 environment using virtualenv, which on most systems can be accomplished using the following, or similar shell commands:\n",
    "\n",
    "`pip install -r requirements.txt`\n",
    "\n",
    "If you'd rather not install the dependencies on your machine, a docker container with the pipeline is provided. \n",
    "This container should work out-of-the-box on any platform supporting docker, which includes most modern linux, macOS and Windows distributions:\n",
    "\n",
    "`todo give link to a docker container`"
   ]
  },
  {
   "cell_type": "code",
   "execution_count": 1,
   "metadata": {
    "collapsed": true
   },
   "outputs": [],
   "source": [
    "\n",
    "import os\n",
    "import gzip\n",
    "import numpy as np\n",
    "from scipy.stats import pearsonr\n",
    "from sklearn.cross_decomposition import PLSRegression\n",
    "from matplotlib import pyplot as plt\n",
    "import random\n",
    "import bisect\n",
    "import math\n",
    "import json\n",
    "%matplotlib inline"
   ]
  },
  {
   "cell_type": "markdown",
   "metadata": {},
   "source": [
    "As we can see, the discovery set contains exactly 107 samples, which corresponds with data description given in the original study."
   ]
  },
  {
   "cell_type": "markdown",
   "metadata": {},
   "source": [
    "## 1.1 Picking up metadata for the samples belonging to the discovery set"
   ]
  },
  {
   "cell_type": "markdown",
   "metadata": {
    "collapsed": true
   },
   "source": [
    "## 1.2 Loading the expression data"
   ]
  },
  {
   "cell_type": "code",
   "execution_count": 124,
   "metadata": {
    "collapsed": true
   },
   "outputs": [],
   "source": [
    "experiment_data_path = os.path.join(\"blood_predictions\", \"blood_data\")\n",
    "probeset_IDs_path = os.path.join(\"blood_predictions\", \"blood_ids\")\n",
    "repeat_length_path = os.path.join(\"blood_predictions\", \"blood_rt\")"
   ]
  },
  {
   "cell_type": "code",
   "execution_count": 125,
   "metadata": {},
   "outputs": [],
   "source": [
    "with open(probeset_IDs_path) as f:\n",
    "    probeset_IDs = json.load(f)\n",
    "\n",
    "with open(repeat_length_path) as f:\n",
    "    repeat_length = json.load(f)\n",
    "\n",
    "with open(experiment_data_path) as f:\n",
    "    probeset_data = np.loadtxt(experiment_data_path)\n"
   ]
  },
  {
   "cell_type": "code",
   "execution_count": 126,
   "metadata": {},
   "outputs": [
    {
     "data": {
      "text/plain": [
       "(6687, 35)"
      ]
     },
     "execution_count": 126,
     "metadata": {},
     "output_type": "execute_result"
    }
   ],
   "source": [
    "probeset_data.shape"
   ]
  },
  {
   "cell_type": "code",
   "execution_count": 127,
   "metadata": {
    "collapsed": true
   },
   "outputs": [],
   "source": [
    "assert(probeset_data.shape[1] == len(repeat_length))"
   ]
  },
  {
   "cell_type": "markdown",
   "metadata": {},
   "source": [
    "Additionaly, the number of rows in the array should be equal to the number of probeset IDs"
   ]
  },
  {
   "cell_type": "code",
   "execution_count": 128,
   "metadata": {
    "collapsed": true
   },
   "outputs": [],
   "source": [
    "assert(probeset_data.shape[0] == len(probeset_IDs))"
   ]
  },
  {
   "cell_type": "markdown",
   "metadata": {},
   "source": [
    "The expression data, and other relevant features are now loaded."
   ]
  },
  {
   "cell_type": "code",
   "execution_count": 129,
   "metadata": {},
   "outputs": [
    {
     "name": "stdout",
     "output_type": "stream",
     "text": [
      "[872, 297, 593, 408, 717, 1035, 373, 118, 280, 993, 740, 1111, 290, 654, 11, 261, 12, 571, 186, 1261, 1000, 345, 465, 604, 223, 12, 83, 12, 999, 13, 561, 77, 240, 866, 697]\n"
     ]
    }
   ],
   "source": [
    "print(repeat_length)"
   ]
  },
  {
   "cell_type": "code",
   "execution_count": 130,
   "metadata": {},
   "outputs": [
    {
     "data": {
      "text/plain": [
       "array([[ 6.62527391,  6.54323474,  6.92312717, ...,  6.92252483,\n",
       "         6.04437681,  6.51807009],\n",
       "       [ 6.15447433,  6.06506798,  6.151056  , ...,  6.43976672,\n",
       "         6.3336855 ,  6.16143317],\n",
       "       [ 5.98443097,  6.15447433,  6.11740139, ...,  6.46908061,\n",
       "         6.07109121,  6.17739869],\n",
       "       ..., \n",
       "       [ 6.65063572,  6.49264168,  6.36715622, ...,  6.76578887,\n",
       "         6.74227056,  6.61094115],\n",
       "       [ 6.65267506,  6.5624323 ,  6.56685962, ...,  6.6854473 ,\n",
       "         6.62319263,  6.40445258],\n",
       "       [ 7.29536015,  6.95661391,  7.08079324, ...,  7.06268826,\n",
       "         7.1331871 ,  7.17993743]])"
      ]
     },
     "execution_count": 130,
     "metadata": {},
     "output_type": "execute_result"
    }
   ],
   "source": [
    "probeset_data"
   ]
  },
  {
   "cell_type": "code",
   "execution_count": 131,
   "metadata": {},
   "outputs": [
    {
     "data": {
      "text/plain": [
       "['VEGFA_2908182_GTGCATTGGAGCCTTGCCTTGCTGC_chr6_+_43739005_43739029',\n",
       " 'VEGFA_2908182_CTTTCTGCTGTCTTGGGTGCATTGG_chr6_+_43738989_43739013',\n",
       " 'VEGFA_2908182_ACTTTCTGCTGTCTTGGGTGCATTG_chr6_+_43738988_43739012',\n",
       " 'VEGFA_2908182_CCTTGCTGCTCTACCTCCACCATGC_chr6_+_43739021_43739045',\n",
       " 'VEGFA_2908203_AGGACCTATGTCCTCACACCATTGA_chr6_+_43753337_43753361',\n",
       " 'VEGFA_2908203_TGCTGCTAAATCACCGAGCCCGGAA_chr6_+_43752575_43752599',\n",
       " 'VEGFA_2908203_CCCTTCCTGGGGTGCAGCCTAAAAG_chr6_+_43753314_43753338',\n",
       " 'VEGFA_2908203_CAGCACGGTCCCTCTTGGAATTGGA_chr6_+_43752531_43752555',\n",
       " 'VEGFA_2908194_CAAAGAAAGATAGAGCAAGACAAGA_chr6_+_43746628_43746652',\n",
       " 'VEGFA_2908194_ACCAAAGAAAGATAGAGCAAGACAA_chr6_+_43746626_43746650']"
      ]
     },
     "execution_count": 131,
     "metadata": {},
     "output_type": "execute_result"
    }
   ],
   "source": [
    "probeset_IDs[:10]"
   ]
  },
  {
   "cell_type": "markdown",
   "metadata": {},
   "source": [
    "# 2. Implementing statistical model to predict the repeat length"
   ]
  },
  {
   "cell_type": "markdown",
   "metadata": {},
   "source": [
    "The original study describes the following approach to predict the repeat length from probeset data (mRNA profiles):\n",
    "1. Split data randomly into training and testing set.\n",
    "2. Select 500 best probesets using Pearson's $r^2$. Selection is to be done using only the training set.\n",
    "3. Fit Partial Least Squares Regression (PLSR) model on the 500 selected probesets, again using only the training set data.\n",
    "4. Predict repeat length on the testing set. Record both the actual and the predicted repeat length for each biological sample in the testing set.\n",
    "5. Repeat steps 1-4 10 thousand times.\n",
    "6. Compute $r^2$ of predicted repeat lengths vs actual repeat lengths.\n",
    "\n",
    "What follows is our implementation of this procedure, split into functions, with each function accompanied by example usage, which build up into a single pass of the simulation (steps 1-5)."
   ]
  },
  {
   "cell_type": "markdown",
   "metadata": {},
   "source": [
    "## 2.1 Computing Pearson's correlation coefficient between any gene and repeat length"
   ]
  },
  {
   "cell_type": "markdown",
   "metadata": {},
   "source": [
    "Pearson's correlation is used in the original study to select the most highly correlated probesets."
   ]
  },
  {
   "cell_type": "code",
   "execution_count": 132,
   "metadata": {},
   "outputs": [
    {
     "data": {
      "text/plain": [
       "(-0.11519625829876298, 0.50992221317307407)"
      ]
     },
     "execution_count": 132,
     "metadata": {},
     "output_type": "execute_result"
    }
   ],
   "source": [
    "r, p_value = pearsonr(repeat_length, probeset_data[0])\n",
    "r, p_value"
   ]
  },
  {
   "cell_type": "markdown",
   "metadata": {},
   "source": [
    "## 2.2 Slicing and dicing a numpy array"
   ]
  },
  {
   "cell_type": "markdown",
   "metadata": {},
   "source": [
    "In the original study, only top $n$ correlated genes are used to carry out the predictions."
   ]
  },
  {
   "cell_type": "markdown",
   "metadata": {},
   "source": [
    "### 2.2.1 That's how we can choose three samples from our array"
   ]
  },
  {
   "cell_type": "code",
   "execution_count": 133,
   "metadata": {},
   "outputs": [
    {
     "data": {
      "text/plain": [
       "array([[ 6.62527391,  6.97107882,  6.73872141],\n",
       "       [ 6.15447433,  6.15919174,  5.88624994],\n",
       "       [ 5.98443097,  6.00334957,  6.14954585],\n",
       "       ..., \n",
       "       [ 6.65063572,  6.73437301,  6.63472777],\n",
       "       [ 6.65267506,  6.26578568,  6.59781028],\n",
       "       [ 7.29536015,  7.00589256,  7.17759915]])"
      ]
     },
     "execution_count": 133,
     "metadata": {},
     "output_type": "execute_result"
    }
   ],
   "source": [
    "probeset_data[:, [0, 7, 10]]"
   ]
  },
  {
   "cell_type": "code",
   "execution_count": 134,
   "metadata": {},
   "outputs": [
    {
     "data": {
      "text/plain": [
       "(6687, 3)"
      ]
     },
     "execution_count": 134,
     "metadata": {},
     "output_type": "execute_result"
    }
   ],
   "source": [
    "probeset_data[:, [0, 7, 10]].shape"
   ]
  },
  {
   "cell_type": "markdown",
   "metadata": {},
   "source": [
    "### 2.2.2 That's how we can choose three genes from our array"
   ]
  },
  {
   "cell_type": "code",
   "execution_count": 135,
   "metadata": {},
   "outputs": [
    {
     "data": {
      "text/plain": [
       "(3, 35)"
      ]
     },
     "execution_count": 135,
     "metadata": {},
     "output_type": "execute_result"
    }
   ],
   "source": [
    "probeset_data[[0, 7, 1120], :].shape"
   ]
  },
  {
   "cell_type": "markdown",
   "metadata": {},
   "source": [
    "## 2.3 Choosing top n genes and the training set from `probeset_data`"
   ]
  },
  {
   "cell_type": "markdown",
   "metadata": {},
   "source": [
    "We can use array slicing & dicing with the `random` module to choose the training set for cross-validation and feature selection."
   ]
  },
  {
   "cell_type": "markdown",
   "metadata": {},
   "source": [
    "### 2.3.1 Choosing the training set"
   ]
  },
  {
   "cell_type": "markdown",
   "metadata": {},
   "source": [
    "For any pass of the simulation we're going to split our data into a training set and a testing set."
   ]
  },
  {
   "cell_type": "code",
   "execution_count": 136,
   "metadata": {
    "collapsed": true
   },
   "outputs": [],
   "source": [
    "def choose_training_indicies(data, no_training_samples):\n",
    "    \"\"\"Return a partition of column indicies of the `data`\n",
    "    matrix into two sets: `training_indicies, testing_indicies`.\n",
    "    The training set will contain `no_training_samples` biological\n",
    "    samples.\n",
    "    \"\"\"\n",
    "    indices = list(range(data.shape[1]))\n",
    "    random.shuffle(indices)\n",
    "    training_indices = indices[:no_training_samples]\n",
    "    test_indicies = indices[no_training_samples:]\n",
    "    return training_indices, test_indicies"
   ]
  },
  {
   "cell_type": "markdown",
   "metadata": {},
   "source": [
    "#### 2.3.1.1 Testing for off-by-one errors"
   ]
  },
  {
   "cell_type": "code",
   "execution_count": 137,
   "metadata": {},
   "outputs": [
    {
     "data": {
      "text/plain": [
       "13"
      ]
     },
     "execution_count": 137,
     "metadata": {},
     "output_type": "execute_result"
    }
   ],
   "source": [
    "27//2"
   ]
  },
  {
   "cell_type": "code",
   "execution_count": 138,
   "metadata": {},
   "outputs": [],
   "source": [
    "a, b = choose_training_indicies(probeset_data, 17)\n",
    "assert(sorted(a + b) == list(range(35)))"
   ]
  },
  {
   "cell_type": "code",
   "execution_count": 139,
   "metadata": {
    "collapsed": true
   },
   "outputs": [],
   "source": [
    "def split_data(data, training_indices, test_indices):\n",
    "    \"\"\"Return a partition of data into `training_set, testing_set`\n",
    "    using an existing partition of column incidices into\n",
    "    `training_indicies` and `test_indicies`\n",
    "    \"\"\"\n",
    "    return data[:, training_indices], data[:, test_indices]"
   ]
  },
  {
   "cell_type": "code",
   "execution_count": 140,
   "metadata": {
    "collapsed": true
   },
   "outputs": [],
   "source": [
    "example_training, example_testing = split_data(probeset_data, a, b)"
   ]
  },
  {
   "cell_type": "code",
   "execution_count": 141,
   "metadata": {},
   "outputs": [
    {
     "data": {
      "text/plain": [
       "(6687, 17)"
      ]
     },
     "execution_count": 141,
     "metadata": {},
     "output_type": "execute_result"
    }
   ],
   "source": [
    "example_training.shape"
   ]
  },
  {
   "cell_type": "code",
   "execution_count": 142,
   "metadata": {},
   "outputs": [
    {
     "data": {
      "text/plain": [
       "(6687, 18)"
      ]
     },
     "execution_count": 142,
     "metadata": {},
     "output_type": "execute_result"
    }
   ],
   "source": [
    "example_testing.shape"
   ]
  },
  {
   "cell_type": "markdown",
   "metadata": {},
   "source": [
    "### 2.3.2 Choosing top genes"
   ]
  },
  {
   "cell_type": "code",
   "execution_count": 143,
   "metadata": {
    "collapsed": true
   },
   "outputs": [],
   "source": [
    "def order_indicies(allele, data):\n",
    "    \"\"\"\n",
    "    Return a sorted list of correlated genes, from the most to the least\n",
    "    correlated. Each entry in the list is a tuple `r2, gene_index`, where\n",
    "    `r2` denotes the correlation of gene expression and `allele`, and\n",
    "    the index of the gene in the `data` matrix respectively.\n",
    "    \n",
    "    `allele` is the list of repeat lengths, with each repeat length\n",
    "    corresponding to one column in `data`\n",
    "    \"\"\"\n",
    "    r2s = []\n",
    "    for i in range(data.shape[0]):\n",
    "        gene_r, _ = pearsonr(allele, data[i])\n",
    "        # We have to store both the gene and the gene index, to recover the indices after sorting.\n",
    "        r2s.append((gene_r ** 2, i))\n",
    "    r2s.sort()\n",
    "    # This reverses the list, assuring decreasing order.\n",
    "    r2s = r2s[::-1]\n",
    "    return r2s"
   ]
  },
  {
   "cell_type": "code",
   "execution_count": 144,
   "metadata": {
    "collapsed": true
   },
   "outputs": [],
   "source": [
    "top_10 = order_indicies(repeat_length, probeset_data)[:10]"
   ]
  },
  {
   "cell_type": "code",
   "execution_count": 145,
   "metadata": {},
   "outputs": [
    {
     "data": {
      "text/plain": [
       "[(0.41862417330719792, 1527),\n",
       " (0.36592300298481728, 674),\n",
       " (0.34534938866347609, 702),\n",
       " (0.33007948219125915, 701),\n",
       " (0.32857319518018968, 1320),\n",
       " (0.32579481913308223, 3095),\n",
       " (0.31433569062209604, 1582),\n",
       " (0.30717177560001646, 2139),\n",
       " (0.27921673744179981, 1719),\n",
       " (0.27916307234462734, 6441)]"
      ]
     },
     "execution_count": 145,
     "metadata": {},
     "output_type": "execute_result"
    }
   ],
   "source": [
    "top_10"
   ]
  },
  {
   "cell_type": "code",
   "execution_count": 146,
   "metadata": {
    "collapsed": true
   },
   "outputs": [],
   "source": [
    "def choose_top_genes(indicies, data):\n",
    "    \"\"\"\n",
    "    Take `indicies`, which is a list of ordered pairs\n",
    "    `r2, column_index`, and a matrix of probeset data,\n",
    "    `data`, and filter all rows to contain only genes on\n",
    "    the `indicies` list.\n",
    "    \"\"\"\n",
    "    just_indices = [i[1] for i in indicies]\n",
    "    return data[just_indices, :]"
   ]
  },
  {
   "cell_type": "code",
   "execution_count": 147,
   "metadata": {},
   "outputs": [
    {
     "data": {
      "text/plain": [
       "(10, 35)"
      ]
     },
     "execution_count": 147,
     "metadata": {},
     "output_type": "execute_result"
    }
   ],
   "source": [
    "choose_top_genes(top_10, probeset_data).shape"
   ]
  },
  {
   "cell_type": "markdown",
   "metadata": {},
   "source": [
    "### 2.3.3 Splitting our data into training and testing indices"
   ]
  },
  {
   "cell_type": "markdown",
   "metadata": {},
   "source": [
    "For the sake of this example, we will split our data into 70 biological samples in the training set and 37 biological samples in the testing set"
   ]
  },
  {
   "cell_type": "code",
   "execution_count": 148,
   "metadata": {
    "collapsed": true
   },
   "outputs": [],
   "source": [
    "training_i, testing_i = choose_training_indicies(probeset_data, 70)\n",
    "training_fold, testing_fold = split_data(probeset_data, training_i, testing_i)"
   ]
  },
  {
   "cell_type": "code",
   "execution_count": 149,
   "metadata": {},
   "outputs": [
    {
     "data": {
      "text/plain": [
       "(6687, 35)"
      ]
     },
     "execution_count": 149,
     "metadata": {},
     "output_type": "execute_result"
    }
   ],
   "source": [
    "training_fold.shape"
   ]
  },
  {
   "cell_type": "code",
   "execution_count": 150,
   "metadata": {},
   "outputs": [
    {
     "data": {
      "text/plain": [
       "(6687, 0)"
      ]
     },
     "execution_count": 150,
     "metadata": {},
     "output_type": "execute_result"
    }
   ],
   "source": [
    "testing_fold.shape"
   ]
  },
  {
   "cell_type": "markdown",
   "metadata": {},
   "source": [
    "### 2.3.4 Rearranging repeat length"
   ]
  },
  {
   "cell_type": "markdown",
   "metadata": {},
   "source": [
    "We have to do this to reintroduce 1-1 correspondence between a value of repeat length and a position in traing or testing set."
   ]
  },
  {
   "cell_type": "code",
   "execution_count": 151,
   "metadata": {
    "collapsed": true
   },
   "outputs": [],
   "source": [
    "repeat_length_training = [repeat_length[i] for i in training_i]\n",
    "repeat_length_testing = [repeat_length[i] for i in testing_i]"
   ]
  },
  {
   "cell_type": "markdown",
   "metadata": {},
   "source": [
    "### 2.3.5 Choosing top 500 genes"
   ]
  },
  {
   "cell_type": "markdown",
   "metadata": {
    "collapsed": true
   },
   "source": [
    "To avoid double-dipping we choose top genes on the training fold."
   ]
  },
  {
   "cell_type": "code",
   "execution_count": 152,
   "metadata": {
    "collapsed": true
   },
   "outputs": [],
   "source": [
    "top_500 = order_indicies(repeat_length_training, training_fold)[:500]"
   ]
  },
  {
   "cell_type": "markdown",
   "metadata": {
    "collapsed": true
   },
   "source": [
    "After filtering top genes from the training fold we change the name to `training_set`"
   ]
  },
  {
   "cell_type": "code",
   "execution_count": 153,
   "metadata": {
    "collapsed": true
   },
   "outputs": [],
   "source": [
    "training_set = choose_top_genes(top_500, training_fold)"
   ]
  },
  {
   "cell_type": "code",
   "execution_count": 154,
   "metadata": {
    "collapsed": true
   },
   "outputs": [],
   "source": [
    "testing_set = choose_top_genes(top_500, testing_fold)"
   ]
  },
  {
   "cell_type": "code",
   "execution_count": 155,
   "metadata": {},
   "outputs": [
    {
     "data": {
      "text/plain": [
       "(500, 35)"
      ]
     },
     "execution_count": 155,
     "metadata": {},
     "output_type": "execute_result"
    }
   ],
   "source": [
    "training_set.shape"
   ]
  },
  {
   "cell_type": "code",
   "execution_count": 156,
   "metadata": {},
   "outputs": [
    {
     "data": {
      "text/plain": [
       "(500, 0)"
      ]
     },
     "execution_count": 156,
     "metadata": {},
     "output_type": "execute_result"
    }
   ],
   "source": [
    "testing_set.shape"
   ]
  },
  {
   "cell_type": "markdown",
   "metadata": {},
   "source": [
    "This achieves steps 1-2 of our pipeline."
   ]
  },
  {
   "cell_type": "markdown",
   "metadata": {},
   "source": [
    "### 2.3.6 Testing that labels are correctly assigned (not permuted)"
   ]
  },
  {
   "cell_type": "code",
   "execution_count": 157,
   "metadata": {
    "collapsed": true
   },
   "outputs": [],
   "source": [
    "repeat_length_first_row = list(zip(training_fold[0], repeat_length_training)) + list(zip(testing_fold[0], repeat_length_testing))"
   ]
  },
  {
   "cell_type": "code",
   "execution_count": 158,
   "metadata": {
    "collapsed": true
   },
   "outputs": [],
   "source": [
    "repeat_length_first_row.sort()"
   ]
  },
  {
   "cell_type": "code",
   "execution_count": 159,
   "metadata": {
    "collapsed": true
   },
   "outputs": [],
   "source": [
    "allele_first_row_actual = list(zip(probeset_data[0], repeat_length))\n",
    "allele_first_row_actual.sort()"
   ]
  },
  {
   "cell_type": "code",
   "execution_count": 160,
   "metadata": {},
   "outputs": [
    {
     "data": {
      "text/plain": [
       "True"
      ]
     },
     "execution_count": 160,
     "metadata": {},
     "output_type": "execute_result"
    }
   ],
   "source": [
    "[i[1] for i in repeat_length_first_row] == [i[1] for i in repeat_length_first_row]"
   ]
  },
  {
   "cell_type": "markdown",
   "metadata": {},
   "source": [
    "### 2.3.7 Utility functions to change lists into row or column vectors"
   ]
  },
  {
   "cell_type": "code",
   "execution_count": 161,
   "metadata": {
    "collapsed": true
   },
   "outputs": [],
   "source": [
    "def cv(lista):\n",
    "    return np.matrix(lista).transpose()\n",
    "def rv(lista):\n",
    "    return np.matrix(lista)"
   ]
  },
  {
   "cell_type": "markdown",
   "metadata": {},
   "source": [
    "### 2.3.8 Fitting the model"
   ]
  },
  {
   "cell_type": "markdown",
   "metadata": {},
   "source": [
    "We can finally fit our model using the `training_set` and `repeat_length_training`."
   ]
  },
  {
   "cell_type": "code",
   "execution_count": 162,
   "metadata": {},
   "outputs": [
    {
     "data": {
      "text/plain": [
       "PLSRegression(copy=True, max_iter=500, n_components=10, scale=False,\n",
       "       tol=1e-06)"
      ]
     },
     "execution_count": 162,
     "metadata": {},
     "output_type": "execute_result"
    }
   ],
   "source": [
    "plsr = PLSRegression(n_components=10, scale=False)\n",
    "# we have to transpose the training set, as scikitlearn treats our \n",
    "plsr.fit(training_set.transpose(), cv(repeat_length_training))"
   ]
  },
  {
   "cell_type": "markdown",
   "metadata": {
    "collapsed": true
   },
   "source": [
    "### 2.3.9 Carrying out predictions on the testing set and comparing them with the ground truth."
   ]
  },
  {
   "cell_type": "markdown",
   "metadata": {},
   "source": [
    "Our ground truth is known values of the repeat length."
   ]
  },
  {
   "cell_type": "code",
   "execution_count": 163,
   "metadata": {},
   "outputs": [
    {
     "ename": "ValueError",
     "evalue": "Found array with 0 sample(s) (shape=(0, 500)) while a minimum of 1 is required.",
     "output_type": "error",
     "traceback": [
      "\u001b[0;31m---------------------------------------------------------------------------\u001b[0m",
      "\u001b[0;31mValueError\u001b[0m                                Traceback (most recent call last)",
      "\u001b[0;32m<ipython-input-163-7c764d7db18c>\u001b[0m in \u001b[0;36m<module>\u001b[0;34m()\u001b[0m\n\u001b[0;32m----> 1\u001b[0;31m \u001b[0mresults\u001b[0m \u001b[0;34m=\u001b[0m \u001b[0mplsr\u001b[0m\u001b[0;34m.\u001b[0m\u001b[0mpredict\u001b[0m\u001b[0;34m(\u001b[0m\u001b[0mtesting_set\u001b[0m\u001b[0;34m.\u001b[0m\u001b[0mtranspose\u001b[0m\u001b[0;34m(\u001b[0m\u001b[0;34m)\u001b[0m\u001b[0;34m)\u001b[0m\u001b[0;34m\u001b[0m\u001b[0m\n\u001b[0m\u001b[1;32m      2\u001b[0m \u001b[0mresults\u001b[0m \u001b[0;34m=\u001b[0m \u001b[0;34m[\u001b[0m\u001b[0mi\u001b[0m\u001b[0;34m[\u001b[0m\u001b[0;36m0\u001b[0m\u001b[0;34m]\u001b[0m \u001b[0;32mfor\u001b[0m \u001b[0mi\u001b[0m \u001b[0;32min\u001b[0m \u001b[0mresults\u001b[0m\u001b[0;34m]\u001b[0m\u001b[0;34m\u001b[0m\u001b[0m\n",
      "\u001b[0;32m~/anaconda3/lib/python3.6/site-packages/sklearn/cross_decomposition/pls_.py\u001b[0m in \u001b[0;36mpredict\u001b[0;34m(self, X, copy)\u001b[0m\n\u001b[1;32m    426\u001b[0m         \"\"\"\n\u001b[1;32m    427\u001b[0m         \u001b[0mcheck_is_fitted\u001b[0m\u001b[0;34m(\u001b[0m\u001b[0mself\u001b[0m\u001b[0;34m,\u001b[0m \u001b[0;34m'x_mean_'\u001b[0m\u001b[0;34m)\u001b[0m\u001b[0;34m\u001b[0m\u001b[0m\n\u001b[0;32m--> 428\u001b[0;31m         \u001b[0mX\u001b[0m \u001b[0;34m=\u001b[0m \u001b[0mcheck_array\u001b[0m\u001b[0;34m(\u001b[0m\u001b[0mX\u001b[0m\u001b[0;34m,\u001b[0m \u001b[0mcopy\u001b[0m\u001b[0;34m=\u001b[0m\u001b[0mcopy\u001b[0m\u001b[0;34m,\u001b[0m \u001b[0mdtype\u001b[0m\u001b[0;34m=\u001b[0m\u001b[0mFLOAT_DTYPES\u001b[0m\u001b[0;34m)\u001b[0m\u001b[0;34m\u001b[0m\u001b[0m\n\u001b[0m\u001b[1;32m    429\u001b[0m         \u001b[0;31m# Normalize\u001b[0m\u001b[0;34m\u001b[0m\u001b[0;34m\u001b[0m\u001b[0m\n\u001b[1;32m    430\u001b[0m         \u001b[0mX\u001b[0m \u001b[0;34m-=\u001b[0m \u001b[0mself\u001b[0m\u001b[0;34m.\u001b[0m\u001b[0mx_mean_\u001b[0m\u001b[0;34m\u001b[0m\u001b[0m\n",
      "\u001b[0;32m~/anaconda3/lib/python3.6/site-packages/sklearn/utils/validation.py\u001b[0m in \u001b[0;36mcheck_array\u001b[0;34m(array, accept_sparse, dtype, order, copy, force_all_finite, ensure_2d, allow_nd, ensure_min_samples, ensure_min_features, warn_on_dtype, estimator)\u001b[0m\n\u001b[1;32m    429\u001b[0m                              \u001b[0;34m\" minimum of %d is required%s.\"\u001b[0m\u001b[0;34m\u001b[0m\u001b[0m\n\u001b[1;32m    430\u001b[0m                              % (n_samples, shape_repr, ensure_min_samples,\n\u001b[0;32m--> 431\u001b[0;31m                                 context))\n\u001b[0m\u001b[1;32m    432\u001b[0m \u001b[0;34m\u001b[0m\u001b[0m\n\u001b[1;32m    433\u001b[0m     \u001b[0;32mif\u001b[0m \u001b[0mensure_min_features\u001b[0m \u001b[0;34m>\u001b[0m \u001b[0;36m0\u001b[0m \u001b[0;32mand\u001b[0m \u001b[0marray\u001b[0m\u001b[0;34m.\u001b[0m\u001b[0mndim\u001b[0m \u001b[0;34m==\u001b[0m \u001b[0;36m2\u001b[0m\u001b[0;34m:\u001b[0m\u001b[0;34m\u001b[0m\u001b[0m\n",
      "\u001b[0;31mValueError\u001b[0m: Found array with 0 sample(s) (shape=(0, 500)) while a minimum of 1 is required."
     ]
    }
   ],
   "source": [
    "results = plsr.predict(testing_set.transpose())\n",
    "results = [i[0] for i in results]"
   ]
  },
  {
   "cell_type": "code",
   "execution_count": 164,
   "metadata": {},
   "outputs": [
    {
     "ename": "NameError",
     "evalue": "name 'results' is not defined",
     "output_type": "error",
     "traceback": [
      "\u001b[0;31m---------------------------------------------------------------------------\u001b[0m",
      "\u001b[0;31mNameError\u001b[0m                                 Traceback (most recent call last)",
      "\u001b[0;32m<ipython-input-164-1fbe3e75bfd4>\u001b[0m in \u001b[0;36m<module>\u001b[0;34m()\u001b[0m\n\u001b[0;32m----> 1\u001b[0;31m \u001b[0mr\u001b[0m\u001b[0;34m,\u001b[0m \u001b[0mp_value\u001b[0m \u001b[0;34m=\u001b[0m \u001b[0mpearsonr\u001b[0m\u001b[0;34m(\u001b[0m\u001b[0mrepeat_length_testing\u001b[0m\u001b[0;34m,\u001b[0m \u001b[0mresults\u001b[0m\u001b[0;34m)\u001b[0m\u001b[0;34m\u001b[0m\u001b[0m\n\u001b[0m\u001b[1;32m      2\u001b[0m \u001b[0mr\u001b[0m\u001b[0;34m,\u001b[0m \u001b[0mp_value\u001b[0m\u001b[0;34m\u001b[0m\u001b[0m\n",
      "\u001b[0;31mNameError\u001b[0m: name 'results' is not defined"
     ]
    }
   ],
   "source": [
    "r, p_value = pearsonr(repeat_length_testing, results)\n",
    "r, p_value"
   ]
  },
  {
   "cell_type": "markdown",
   "metadata": {},
   "source": [
    "## 2.4 Viewing top correlating genes"
   ]
  },
  {
   "cell_type": "markdown",
   "metadata": {},
   "source": [
    "While not strictly necessary, and not depended on anywhere else in the pipeline, this allows us to get additional numerical intuition about our data."
   ]
  },
  {
   "cell_type": "code",
   "execution_count": 165,
   "metadata": {
    "collapsed": true
   },
   "outputs": [],
   "source": [
    "correlations = 3"
   ]
  },
  {
   "cell_type": "code",
   "execution_count": 166,
   "metadata": {
    "collapsed": true
   },
   "outputs": [],
   "source": [
    "top_correlations = order_indicies(repeat_length, probeset_data)[:correlations]"
   ]
  },
  {
   "cell_type": "code",
   "execution_count": 236,
   "metadata": {},
   "outputs": [
    {
     "name": "stdout",
     "output_type": "stream",
     "text": [
      "probeset ID: NFIX_3822182_AAAGCAAGAAAGGATGCAGAACTGC_chr19_+_13205751_13205775 r**2: 0.418624173307 Bonf Corr p: 0.178399237041\n",
      "probeset ID: CAPZB_2399769_GAGATGGCGCTGTGCGGTCAATGAT_chr1_-_19665881_19665905 r**2: 0.365923002985 Bonf Corr p: 0.792209930917\n",
      "probeset ID: CAPZB_2399768_AGAGAACTGAGAGCGAGGTGTGGCA_chr1_-_19665805_19665829 r**2: 0.345349388663 Bonf Corr p: 1.37585052268\n"
     ]
    },
    {
     "data": {
      "image/png": "[encoded data removed]",
      "text/plain": [
       "<matplotlib.figure.Figure at 0x7fbbf98eff98>"
      ]
     },
     "metadata": {},
     "output_type": "display_data"
    },
    {
     "data": {
      "image/png": "[encoded data removed]",
      "text/plain": [
       "<matplotlib.figure.Figure at 0x7fbbfb3b4a58>"
      ]
     },
     "metadata": {},
     "output_type": "display_data"
    },
    {
     "data": {
      "image/png": "[encoded data removed]",
      "text/plain": [
       "<matplotlib.figure.Figure at 0x7fbbf9820668>"
      ]
     },
     "metadata": {},
     "output_type": "display_data"
    }
   ],
   "source": [
    "for i in range(correlations):\n",
    "    f = plt.figure()\n",
    "    columnI = top_correlations[i][1]\n",
    "    print(\"probeset ID:\", probeset_IDs[columnI], \"r**2:\", top_correlations[i][0], \"Bonf Corr p:\", pearsonr(repeat_length, probeset_data[[columnI], :][0])[1] * probeset_data.shape[0])\n",
    "    plt.scatter(repeat_length, probeset_data[[columnI], :])\n",
    "    plt.xlabel(\"repeat length\")\n",
    "    plt.ylabel(\"RMA normalised probeset expression\")"
   ]
  },
  {
   "cell_type": "markdown",
   "metadata": {},
   "source": [
    "## 2.5 Combining defined utility functions into a single `simulation_step` function"
   ]
  },
  {
   "cell_type": "markdown",
   "metadata": {},
   "source": [
    "Finally, we can wrap all of the examples in this chapter into a single function, which will execute one pass of the simulation (steps 1-4)."
   ]
  },
  {
   "cell_type": "code",
   "execution_count": 168,
   "metadata": {
    "collapsed": true
   },
   "outputs": [],
   "source": [
    "def simulation_step(training_size=97, no_probes=500, n_components=10):\n",
    "    \"\"\"Execute a full step of the simulation, and return a tuple consisting of two lists:\n",
    "    predicted repeat lengths, and the ground truth repeat lengths\n",
    "    \"\"\"\n",
    "    training_i, testing_i = choose_training_indicies(probeset_data, training_size)\n",
    "    training_fold, testing_fold = split_data(probeset_data, training_i, testing_i)\n",
    "    repeat_length_training = [repeat_length[i] for i in training_i]\n",
    "    repeat_length_testing = [repeat_length[i] for i in testing_i]\n",
    "    \n",
    "    top_500 = order_indicies(repeat_length_training, training_fold)[:no_probes]\n",
    "    training_set = choose_top_genes(top_500, training_fold)\n",
    "    testing_set = choose_top_genes(top_500, testing_fold)\n",
    "\n",
    "    plsr = PLSRegression(n_components=n_components)\n",
    "    \n",
    "    plsr.fit(training_set.transpose(), cv(repeat_length_training))\n",
    "    \n",
    "    results = plsr.predict(testing_set.transpose())\n",
    "    results = [i[0] for i in results]\n",
    "\n",
    "    return repeat_length_testing, results"
   ]
  },
  {
   "cell_type": "markdown",
   "metadata": {},
   "source": [
    "This is an example of results obtained from a single pass"
   ]
  },
  {
   "cell_type": "code",
   "execution_count": 169,
   "metadata": {
    "collapsed": true
   },
   "outputs": [],
   "source": [
    "a, b = simulation_step(training_size=17, no_probes=500, n_components=10)"
   ]
  },
  {
   "cell_type": "code",
   "execution_count": 170,
   "metadata": {},
   "outputs": [
    {
     "data": {
      "text/plain": [
       "<matplotlib.text.Text at 0x7fbbfabdadd8>"
      ]
     },
     "execution_count": 170,
     "metadata": {},
     "output_type": "execute_result"
    },
    {
     "data": {
      "image/png": "[encoded data removed]",
      "text/plain": [
       "<matplotlib.figure.Figure at 0x7fbbfabc2cc0>"
      ]
     },
     "metadata": {},
     "output_type": "display_data"
    }
   ],
   "source": [
    "plt.scatter(a, b)\n",
    "plt.xlabel(\"ground truth repeat length\")\n",
    "plt.ylabel(\"predicted repeat length\")"
   ]
  },
  {
   "cell_type": "markdown",
   "metadata": {},
   "source": [
    "# 3. Running the simulation 1000 times to produce the scatter plot of predictions vs ground truth"
   ]
  },
  {
   "cell_type": "markdown",
   "metadata": {},
   "source": [
    "Equipped with the tools built in the previous chapter we can now execute the final bits of the analysis: running each simulation step 10 thousand times, while recording predicted and ground truth repeat length at each stage.\n",
    "\n",
    "The authors of the original study carry out this final stage for multiple choice of different parameters. However, they conclude that limiting the analysis to top 500 probesets allows to achieve good predictions."
   ]
  },
  {
   "cell_type": "code",
   "execution_count": 237,
   "metadata": {},
   "outputs": [],
   "source": [
    "real_alleles = []\n",
    "simulated_alleles = []\n",
    "for i in range(10):\n",
    "    real_allele, simulated_allele = simulation_step(training_size=35//2, no_probes=500, n_components=2)\n",
    "    real_alleles += real_allele\n",
    "    simulated_alleles += simulated_allele"
   ]
  },
  {
   "cell_type": "code",
   "execution_count": 238,
   "metadata": {},
   "outputs": [
    {
     "data": {
      "text/plain": [
       "<matplotlib.text.Text at 0x7fbbf98eff28>"
      ]
     },
     "execution_count": 238,
     "metadata": {},
     "output_type": "execute_result"
    },
    {
     "data": {
      "image/png": "[encoded data removed]",
      "text/plain": [
       "<matplotlib.figure.Figure at 0x7fbbf99552b0>"
      ]
     },
     "metadata": {},
     "output_type": "display_data"
    }
   ],
   "source": [
    "plt.scatter(real_alleles, simulated_alleles)\n",
    "r, p_value = pearsonr(real_alleles, simulated_alleles)\n",
    "plt.xlabel(\"ground truth repeat length\")\n",
    "plt.ylabel(\"predicted repeat length\")"
   ]
  },
  {
   "cell_type": "code",
   "execution_count": 239,
   "metadata": {
    "collapsed": true
   },
   "outputs": [],
   "source": [
    "r, p_value = pearsonr(real_alleles, simulated_alleles)"
   ]
  },
  {
   "cell_type": "code",
   "execution_count": 240,
   "metadata": {},
   "outputs": [
    {
     "data": {
      "text/plain": [
       "0.22863015001604128"
      ]
     },
     "execution_count": 240,
     "metadata": {},
     "output_type": "execute_result"
    }
   ],
   "source": [
    "r"
   ]
  },
  {
   "cell_type": "markdown",
   "metadata": {},
   "source": [
    "As we can see, there is a modest correlation between our predictions and the ground truth, consistent with the findings of the original study."
   ]
  },
  {
   "cell_type": "code",
   "execution_count": 241,
   "metadata": {},
   "outputs": [
    {
     "data": {
      "text/plain": [
       "0.05227174549635754"
      ]
     },
     "execution_count": 241,
     "metadata": {},
     "output_type": "execute_result"
    }
   ],
   "source": [
    "r**2"
   ]
  },
  {
   "cell_type": "markdown",
   "metadata": {},
   "source": [
    "## 3.1 Running a simulation to compute the probability that a random predictor would achieve the same $r^2$ or better (estimating the p-value of null hypothesis that our predictor behaves like a random predictor)."
   ]
  },
  {
   "cell_type": "markdown",
   "metadata": {},
   "source": [
    "Finally we have to ask how likely it is that a random predictor would achieve $r^2$ as high or higher. We define a random predictor to be a predictor, which samples its output uniformly from our sample's repeat length, without any knowledge of the mRNA profile."
   ]
  },
  {
   "cell_type": "code",
   "execution_count": 242,
   "metadata": {},
   "outputs": [
    {
     "name": "stdout",
     "output_type": "stream",
     "text": [
      "0.18667\n"
     ]
    }
   ],
   "source": [
    "r2s = []\n",
    "sim = 100000\n",
    "for i in range(sim):\n",
    "    repeat_length_random = repeat_length[:]\n",
    "    random.shuffle(repeat_length_random)\n",
    "    inter_r, p_value = pearsonr(repeat_length, repeat_length_random)\n",
    "    r2s.append(inter_r**2)\n",
    "r2s.sort()\n",
    "print(1 - bisect.bisect_right(r2s, r**2)/float(sim))"
   ]
  },
  {
   "cell_type": "code",
   "execution_count": null,
   "metadata": {
    "collapsed": true
   },
   "outputs": [],
   "source": []
  }
 ],
 "metadata": {
  "kernelspec": {
   "display_name": "Python 3",
   "language": "python",
   "name": "python3"
  },
  "language_info": {
   "codemirror_mode": {
    "name": "ipython",
    "version": 3
   },
   "file_extension": ".py",
   "mimetype": "text/x-python",
   "name": "python",
   "nbconvert_exporter": "python",
   "pygments_lexer": "ipython3",
   "version": "3.6.2"
  }
 },
 "nbformat": 4,
 "nbformat_minor": 2
}
