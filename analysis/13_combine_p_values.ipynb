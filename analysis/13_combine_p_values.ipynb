{
 "cells": [
  {
   "cell_type": "markdown",
   "metadata": {},
   "source": [
    "# Product statistic"
   ]
  },
  {
   "cell_type": "code",
   "execution_count": 6,
   "metadata": {
    "collapsed": true
   },
   "outputs": [],
   "source": [
    "import scipy.special\n",
    "import scipy.stats\n",
    "import math\n",
    "\n",
    "def productPDF(x, n):\n",
    "    return ((-1 * math.log(x)) ** (n - 1)) / math.factorial(n - 1)\n",
    "\n",
    "def productCDF(x, n):\n",
    "    if x < 0 or x > 1:\n",
    "        raise ValueError(\"intermediate p-values must be in range [0, 1]\")\n",
    "    else:\n",
    "        return scipy.special.gammaincc(n, -math.log(x))\n",
    "\n",
    "def product(lista):\n",
    "    result = 1\n",
    "    for elem in lista:\n",
    "        result *= elem\n",
    "    return result\n",
    "\n",
    "def combine_pvalues(pvalues):\n",
    "    return productCDF(product(pvalues), len(pvalues))\n",
    "\n",
    "conservative_p_value_experiment = max(7.139565539443506e-05, 2.9995535959446667e-05, 8.287809014713227e-05, 2.443306755796866e-05)\n",
    "batra_p_value = 1.96E-07\n",
    "\n",
    "affymetrix_probesets = 1.4 * 10**6\n",
    "\n",
    "p_values = [conservative_p_value_experiment, batra_p_value]\n",
    "\n",
    "result_pvalue = combine_pvalues(p_values) * affymetrix_probesets"
   ]
  },
  {
   "cell_type": "code",
   "execution_count": 7,
   "metadata": {},
   "outputs": [
    {
     "name": "stdout",
     "output_type": "stream",
     "text": [
      "0.0005877216097916751 8.287809014713227e-05 1.96e-07\n"
     ]
    }
   ],
   "source": [
    "print(result_pvalue, conservative_p_value_experiment, batra_p_value)"
   ]
  },
  {
   "cell_type": "markdown",
   "metadata": {},
   "source": [
    "# Fisher's p-value combining"
   ]
  },
  {
   "cell_type": "code",
   "execution_count": 9,
   "metadata": {},
   "outputs": [
    {
     "data": {
      "text/plain": [
       "0.0005877216097916751"
      ]
     },
     "execution_count": 9,
     "metadata": {},
     "output_type": "execute_result"
    }
   ],
   "source": [
    "scipy.stats.combine_pvalues(p_values)[1] * affymetrix_probesets"
   ]
  }
 ],
 "metadata": {
  "kernelspec": {
   "display_name": "Python 3 Clinical Applicatoins",
   "language": "python",
   "name": "clinical_applications"
  },
  "language_info": {
   "codemirror_mode": {
    "name": "ipython",
    "version": 3
   },
   "file_extension": ".py",
   "mimetype": "text/x-python",
   "name": "python",
   "nbconvert_exporter": "python",
   "pygments_lexer": "ipython3",
   "version": "3.5.2"
  }
 },
 "nbformat": 4,
 "nbformat_minor": 2
}
