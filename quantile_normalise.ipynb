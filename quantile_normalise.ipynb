{
 "cells": [
  {
   "cell_type": "code",
   "execution_count": 1,
   "metadata": {
    "collapsed": true
   },
   "outputs": [],
   "source": [
    "import os\n",
    "import os.path\n",
    "import numpy\n",
    "import math\n",
    "import time"
   ]
  },
  {
   "cell_type": "code",
   "execution_count": 16,
   "metadata": {},
   "outputs": [],
   "source": [
    "def sortDist(d):\n",
    "    sortedd = [(v, i) for i, v in enumerate(d)]\n",
    "    sortedd.sort()\n",
    "    return sortedd\n",
    "\n",
    "def avgDist(args):\n",
    "    toReturn = []\n",
    "    for tuplas in zip(*args):\n",
    "        toAdd = float(0)\n",
    "        for v, _ in tuplas:\n",
    "            toAdd += v\n",
    "        toAdd /= len(tuplas)\n",
    "        toReturn.append(toAdd)\n",
    "    return toReturn\n",
    "\n",
    "def quantileNormalise(args):\n",
    "    args = [sortDist(d) for d in args]\n",
    "    avgd = avgDist(args)\n",
    "    toReturn = []\n",
    "    for dist in args:\n",
    "        normDist = [(i, a) for a, (v, i) in zip(avgd, dist)]\n",
    "        normDist.sort()\n",
    "        normDist = [j for (i, j) in normDist]\n",
    "        yield(normDist)\n",
    "\n",
    "d1 = [10, 9, 11, 23]\n",
    "d2 = [4, 6, 7, 5]\n",
    "\n",
    "assert(list(quantileNormalise([d1, d2])) == [[7.5, 6.5, 8.5, 15], [6.5, 8.5, 15, 7.5]])"
   ]
  },
  {
   "cell_type": "code",
   "execution_count": 3,
   "metadata": {
    "collapsed": true
   },
   "outputs": [],
   "source": [
    "def load_metadata():\n",
    "    metadata = {}\n",
    "    with open(\"metadata.txt\") as f:\n",
    "        for i, line in enumerate(f):\n",
    "            line = line.strip().split()\n",
    "            if i == 0:\n",
    "                names = line[1:]\n",
    "            else:\n",
    "                values = line[1:]\n",
    "                metadata[line[0]] = {k: v for k, v in zip(names, values)}\n",
    "    return metadata"
   ]
  },
  {
   "cell_type": "code",
   "execution_count": 4,
   "metadata": {
    "collapsed": true
   },
   "outputs": [],
   "source": [
    "metadata = load_metadata()\n",
    "blood_CELs = [metadata[i][\"blood_cel\"] for i in metadata]"
   ]
  },
  {
   "cell_type": "code",
   "execution_count": 5,
   "metadata": {
    "collapsed": true
   },
   "outputs": [],
   "source": [
    "prefix = \"intensities\""
   ]
  },
  {
   "cell_type": "code",
   "execution_count": 6,
   "metadata": {
    "collapsed": true
   },
   "outputs": [],
   "source": [
    "blood_intensities = [os.path.join(prefix, i + \".txt\") for i in blood_CELs]"
   ]
  },
  {
   "cell_type": "code",
   "execution_count": 7,
   "metadata": {
    "collapsed": true
   },
   "outputs": [],
   "source": [
    "def load_intensity_data(paths):\n",
    "    intensities = []\n",
    "    for path in paths:\n",
    "        with open(path) as f:\n",
    "            intensity = numpy.loadtxt(f)\n",
    "            intensities.append(intensity)\n",
    "    return intensities"
   ]
  },
  {
   "cell_type": "code",
   "execution_count": 8,
   "metadata": {
    "collapsed": true
   },
   "outputs": [],
   "source": [
    "data = load_intensity_data(blood_intensities)"
   ]
  },
  {
   "cell_type": "code",
   "execution_count": 9,
   "metadata": {
    "collapsed": true
   },
   "outputs": [],
   "source": [
    "rows, columns = data[0].shape"
   ]
  },
  {
   "cell_type": "code",
   "execution_count": 10,
   "metadata": {
    "collapsed": true
   },
   "outputs": [],
   "source": [
    "data = [i.reshape(rows*columns) for i in data]"
   ]
  },
  {
   "cell_type": "code",
   "execution_count": 11,
   "metadata": {},
   "outputs": [],
   "source": [
    "data = [numpy.vectorize(math.log)(i) for i in data]"
   ]
  },
  {
   "cell_type": "code",
   "execution_count": null,
   "metadata": {
    "collapsed": true
   },
   "outputs": [],
   "source": [
    "xxx = [[i for i in j] for j in data]"
   ]
  },
  {
   "cell_type": "code",
   "execution_count": null,
   "metadata": {
    "collapsed": true
   },
   "outputs": [],
   "source": [
    "xxx[0].sort()"
   ]
  },
  {
   "cell_type": "code",
   "execution_count": null,
   "metadata": {},
   "outputs": [],
   "source": [
    "xxx[0][::-1]"
   ]
  },
  {
   "cell_type": "code",
   "execution_count": null,
   "metadata": {},
   "outputs": [],
   "source": [
    "start = time.time()\n",
    "\n",
    "for result in quantileNormalise(*data):\n",
    "    print(\"hi\")\n",
    "\n",
    "stop = time.time()\n",
    "print(stop - start)"
   ]
  },
  {
   "cell_type": "code",
   "execution_count": null,
   "metadata": {
    "collapsed": true
   },
   "outputs": [],
   "source": [
    "# r, _ = scipy.stats.pearsonr(data[7], qn_data[7])"
   ]
  },
  {
   "cell_type": "code",
   "execution_count": 18,
   "metadata": {},
   "outputs": [
    {
     "name": "stdout",
     "output_type": "stream",
     "text": [
      "         13107215 function calls in 62.599 seconds\n",
      "\n",
      "   Ordered by: standard name\n",
      "\n",
      "   ncalls  tottime  percall  cumtime  percall filename:lineno(function)\n",
      "        2    2.918    1.459   15.505    7.753 <ipython-input-16-de7ae9298548>:1(sortDist)\n",
      "        3   10.352    3.451   58.620   19.540 <ipython-input-16-de7ae9298548>:16(quantileNormalise)\n",
      "        1    7.959    7.959    9.870    9.870 <ipython-input-16-de7ae9298548>:6(avgDist)\n",
      "        1    3.979    3.979   62.599   62.599 <string>:1(<module>)\n",
      "  6553600    0.280    0.000    0.280    0.000 {len}\n",
      "  6553600    0.294    0.000    0.294    0.000 {method 'append' of 'list' objects}\n",
      "        1    0.000    0.000    0.000    0.000 {method 'disable' of '_lsprof.Profiler' objects}\n",
      "        4   33.165    8.291   33.165    8.291 {method 'sort' of 'list' objects}\n",
      "        3    3.653    1.218    3.653    1.218 {zip}\n",
      "\n",
      "\n"
     ]
    }
   ],
   "source": [
    "import cProfile\n",
    "import re\n",
    "cProfile.run('list(quantileNormalise([data[0], data[1]]))')"
   ]
  },
  {
   "cell_type": "code",
   "execution_count": 19,
   "metadata": {},
   "outputs": [
    {
     "name": "stdout",
     "output_type": "stream",
     "text": [
      "         13107213 function calls in 46.228 seconds\n",
      "\n",
      "   Ordered by: standard name\n",
      "\n",
      "   ncalls  tottime  percall  cumtime  percall filename:lineno(function)\n",
      "        2    3.132    1.566   16.335    8.167 <ipython-input-16-de7ae9298548>:1(sortDist)\n",
      "        2    4.997    2.498   42.840   21.420 <ipython-input-16-de7ae9298548>:16(quantileNormalise)\n",
      "        1    8.054    8.054    9.990    9.990 <ipython-input-16-de7ae9298548>:6(avgDist)\n",
      "        1    3.388    3.388   46.228   46.228 <string>:1(<module>)\n",
      "  6553600    0.291    0.000    0.291    0.000 {len}\n",
      "  6553600    0.296    0.000    0.296    0.000 {method 'append' of 'list' objects}\n",
      "        1    0.000    0.000    0.000    0.000 {method 'disable' of '_lsprof.Profiler' objects}\n",
      "        3   23.712    7.904   23.712    7.904 {method 'sort' of 'list' objects}\n",
      "        1    0.000    0.000   42.840   42.840 {next}\n",
      "        2    2.358    1.179    2.358    1.179 {zip}\n",
      "\n",
      "\n"
     ]
    }
   ],
   "source": [
    "import cProfile\n",
    "import re\n",
    "cProfile.run('next(quantileNormalise([data[0], data[1]]))')"
   ]
  }
 ],
 "metadata": {
  "kernelspec": {
   "display_name": "Clinical Applications",
   "language": "python",
   "name": "venv"
  },
  "language_info": {
   "codemirror_mode": {
    "name": "ipython",
    "version": 2
   },
   "file_extension": ".py",
   "mimetype": "text/x-python",
   "name": "python",
   "nbconvert_exporter": "python",
   "pygments_lexer": "ipython2",
   "version": "2.7.12"
  }
 },
 "nbformat": 4,
 "nbformat_minor": 2
}
