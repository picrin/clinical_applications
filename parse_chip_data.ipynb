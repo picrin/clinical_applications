{
 "cells": [
  {
   "cell_type": "code",
   "execution_count": 1,
   "metadata": {
    "collapsed": true
   },
   "outputs": [],
   "source": [
    "import os\n",
    "import os.path\n",
    "import re"
   ]
  },
  {
   "cell_type": "code",
   "execution_count": 2,
   "metadata": {
    "collapsed": true
   },
   "outputs": [],
   "source": [
    "annots = \"annotations\""
   ]
  },
  {
   "cell_type": "code",
   "execution_count": 3,
   "metadata": {
    "collapsed": true
   },
   "outputs": [],
   "source": [
    "target = \"probesets\""
   ]
  },
  {
   "cell_type": "code",
   "execution_count": 4,
   "metadata": {},
   "outputs": [
    {
     "data": {
      "text/plain": [
       "['HuEx-1_0-st-v2.text.cdf',\n",
       " 'gencode.v26lift37.annotation.gtf',\n",
       " 'HuEx-1_0-st-v2.na36.hg19.probeset.csv',\n",
       " 'test.cdf']"
      ]
     },
     "execution_count": 4,
     "metadata": {},
     "output_type": "execute_result"
    }
   ],
   "source": [
    "os.listdir(annots)"
   ]
  },
  {
   "cell_type": "code",
   "execution_count": 5,
   "metadata": {
    "collapsed": true
   },
   "outputs": [],
   "source": [
    "chip_annot = \"HuEx-1_0-st-v2.text.cdf\""
   ]
  },
  {
   "cell_type": "code",
   "execution_count": 6,
   "metadata": {
    "collapsed": true
   },
   "outputs": [],
   "source": [
    "gtf_annot = \"gencode.v26lift37.annotation.gtf\""
   ]
  },
  {
   "cell_type": "code",
   "execution_count": 7,
   "metadata": {
    "collapsed": true
   },
   "outputs": [],
   "source": [
    "probeset_annot = \"HuEx-1_0-st-v2.na36.hg19.probeset.csv\""
   ]
  },
  {
   "cell_type": "markdown",
   "metadata": {},
   "source": [
    "The CDF file uses .ini syntax, which is supported by the `configparser` standard libarary module in python3.\n",
    "\n",
    "Unfortunately, the standard library module cannot efficiently deal with our CDF file, and uses over 16 GB of RAM to efficiently parse it. We hand-bake a parser, and test it for a small input."
   ]
  },
  {
   "cell_type": "code",
   "execution_count": 8,
   "metadata": {
    "collapsed": true
   },
   "outputs": [],
   "source": [
    "import os\n",
    "try:\n",
    "    os.mkdir(target)\n",
    "except FileExistsError:\n",
    "    pass"
   ]
  },
  {
   "cell_type": "code",
   "execution_count": 9,
   "metadata": {
    "collapsed": true
   },
   "outputs": [],
   "source": [
    "def load_cdf(path):\n",
    "    contextDict = {}\n",
    "    with open(path) as f:\n",
    "        context = None\n",
    "        for line in f:\n",
    "            line = line.rstrip()\n",
    "            if line:\n",
    "                c1 = line[0] == \"[\"\n",
    "                c2 = \"Unit\" in line\n",
    "                c3 = \"_Block1]\" in line\n",
    "                checkConds = [c1, c2, c3]\n",
    "                if all(checkConds):\n",
    "                    context = line[len(\"Unit\") + 1: -1 * len(\"_Block1\") - 1]\n",
    "                    if context in contextDict:\n",
    "                        print(line)\n",
    "                        raise ValueError\n",
    "                    else:\n",
    "                        contextDict[context] = {}\n",
    "                elif context is not None:\n",
    "                    eqPos = line.find(\"=\")\n",
    "                    key = line[:eqPos]\n",
    "                    matchedList = re.findall(\"Cell[1-9]+\", key)\n",
    "                    if matchedList:\n",
    "                        value = line[eqPos + 1:].split(\"\\t\")\n",
    "                        contextDict[context][key] = value[:3]\n",
    "            else:\n",
    "                context = None\n",
    "    return contextDict"
   ]
  },
  {
   "cell_type": "markdown",
   "metadata": {},
   "source": [
    "test case"
   ]
  },
  {
   "cell_type": "code",
   "execution_count": 10,
   "metadata": {
    "collapsed": true
   },
   "outputs": [],
   "source": [
    "assert load_cdf(os.path.join(annots, \"test.cdf\")) == {'2315101': {'Cell1': ['986', '1674', 'ACATTGAATTATGGTGTTGGTCCGT'],\n",
    "  'Cell2': ['1092', '677', 'GGTAACAAGTAGAAGACCGGGGACA'],\n",
    "  'Cell3': ['796', '1862', 'GGGACAACAGACGTACATTGAATTA'],\n",
    "  'Cell4': ['917', '193', 'ACAGAGAATCGGGTCTGAAGGGCAC']},\n",
    " '2315102': {'Cell1': ['341', '1677', 'TTCTGCTGCCGGCTGAACCTAGTGT'],\n",
    "  'Cell2': ['144', '2250', 'GTCTCGACGTCTTCTGCTGCCGGCT'],\n",
    "  'Cell3': ['689', '262', 'TCGACGTCTTCTGCTGCCGGCTGAA'],\n",
    "  'Cell4': ['579', '1670', 'ACGTCTTCTGCTGCCGGCTGAACCT']},\n",
    " '2315103': {'Cell1': ['587', '2211', 'AGGTCGACCCAGCTGTCTGTCCCCG'],\n",
    "  'Cell2': ['804', '2550', 'GGAGGTCGACCCAGCTGTCTGTCCC'],\n",
    "  'Cell3': ['267', '2', 'ACGGAGGTCGACCCAGCTGTCTGTC'],\n",
    "  'Cell4': ['1123', '1646', 'TCGACCCAGCTGTCTGTCCCCGACC']}}"
   ]
  },
  {
   "cell_type": "code",
   "execution_count": 11,
   "metadata": {
    "collapsed": true
   },
   "outputs": [],
   "source": [
    "test_case = load_cdf(os.path.join(annots, \"test.cdf\"))"
   ]
  },
  {
   "cell_type": "code",
   "execution_count": 12,
   "metadata": {
    "collapsed": true
   },
   "outputs": [],
   "source": [
    "def dump_probesets(probesets):\n",
    "    with open(os.path.join(target, \"probeset_coord_seq.csv\"), \"w\") as f:\n",
    "        for probeset in probesets:\n",
    "            cells = probesets[probeset]\n",
    "            for cell in cells:\n",
    "                print(probeset, *cells[cell], file=f, sep=\"\\t\")"
   ]
  },
  {
   "cell_type": "code",
   "execution_count": 13,
   "metadata": {
    "collapsed": true
   },
   "outputs": [],
   "source": [
    "probesets = load_cdf(os.path.join(annots, \"HuEx-1_0-st-v2.text.cdf\"))"
   ]
  },
  {
   "cell_type": "code",
   "execution_count": 14,
   "metadata": {
    "collapsed": true
   },
   "outputs": [],
   "source": [
    "dump_probesets(probesets)"
   ]
  }
 ],
 "metadata": {
  "kernelspec": {
   "display_name": "Python 3 Clinical Applicatoins",
   "language": "python",
   "name": "clinical_applications"
  },
  "language_info": {
   "codemirror_mode": {
    "name": "ipython",
    "version": 3
   },
   "file_extension": ".py",
   "mimetype": "text/x-python",
   "name": "python",
   "nbconvert_exporter": "python",
   "pygments_lexer": "ipython3",
   "version": "3.5.2"
  }
 },
 "nbformat": 4,
 "nbformat_minor": 2
}
