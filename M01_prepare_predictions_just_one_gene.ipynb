{
 "cells": [
  {
   "cell_type": "code",
   "execution_count": 25,
   "metadata": {
    "collapsed": true
   },
   "outputs": [],
   "source": [
    "import os\n",
    "import os.path\n",
    "import re\n",
    "import numpy"
   ]
  },
  {
   "cell_type": "code",
   "execution_count": 26,
   "metadata": {},
   "outputs": [
    {
     "name": "stdout",
     "output_type": "stream",
     "text": [
      "LDB3\n",
      "DMD\n"
     ]
    }
   ],
   "source": [
    "nakamori_genes = set()\n",
    "with open(\"annotations/nakamori_genes.txt\") as f:\n",
    "    for line in f:\n",
    "        line = line.rstrip()\n",
    "        if line in nakamori_genes:\n",
    "            print(line)\n",
    "        nakamori_genes.add(line)"
   ]
  },
  {
   "cell_type": "code",
   "execution_count": 33,
   "metadata": {
    "collapsed": true
   },
   "outputs": [],
   "source": [
    "nakamori_genes = set([\"TNNI1\"])"
   ]
  },
  {
   "cell_type": "code",
   "execution_count": 34,
   "metadata": {
    "collapsed": true
   },
   "outputs": [],
   "source": [
    "genecode_genes = set(os.listdir(\"experiment_blood\"))"
   ]
  },
  {
   "cell_type": "code",
   "execution_count": 35,
   "metadata": {},
   "outputs": [
    {
     "data": {
      "text/plain": [
       "1"
      ]
     },
     "execution_count": 35,
     "metadata": {},
     "output_type": "execute_result"
    }
   ],
   "source": [
    "len(nakamori_genes)"
   ]
  },
  {
   "cell_type": "code",
   "execution_count": 36,
   "metadata": {},
   "outputs": [
    {
     "data": {
      "text/plain": [
       "19826"
      ]
     },
     "execution_count": 36,
     "metadata": {},
     "output_type": "execute_result"
    }
   ],
   "source": [
    "len(genecode_genes)"
   ]
  },
  {
   "cell_type": "markdown",
   "metadata": {},
   "source": [
    "# Genes we can't remap"
   ]
  },
  {
   "cell_type": "code",
   "execution_count": 38,
   "metadata": {},
   "outputs": [
    {
     "data": {
      "text/plain": [
       "set()"
      ]
     },
     "execution_count": 38,
     "metadata": {},
     "output_type": "execute_result"
    }
   ],
   "source": [
    "nakamori_genes.difference(nakamori_genes.intersection(genecode_genes))"
   ]
  },
  {
   "cell_type": "markdown",
   "metadata": {},
   "source": [
    "# load metadata"
   ]
  },
  {
   "cell_type": "code",
   "execution_count": 39,
   "metadata": {
    "collapsed": true
   },
   "outputs": [],
   "source": [
    "# copied from quantile_normalise\n",
    "def load_metadata():\n",
    "    metadata = {}\n",
    "    metadata_order = []\n",
    "    with open(\"metadata.txt\") as f:\n",
    "        for i, line in enumerate(f):\n",
    "            line = line.strip().split()\n",
    "            if i == 0:\n",
    "                names = line[1:]\n",
    "            else:\n",
    "                values = line[1:]\n",
    "                patient_id = line[0]\n",
    "                metadata_order.append(patient_id)\n",
    "                metadata[patient_id] = {k: v for k, v in zip(names, values)}\n",
    "    return metadata_order, metadata\n",
    "\n",
    "metadata_order, metadata = load_metadata()\n",
    "blood_IDs = [i for i in metadata_order]\n",
    "blood_CELs = [metadata[i][\"blood_cel\"] for i in blood_IDs]\n",
    "blood_MA = [metadata[i][\"modal_allele\"] for i in blood_IDs]\n",
    "blood_MA = [int(i) for i in blood_MA]\n",
    "blood_PA = [metadata[i][\"progenitor_allele\"] for i in blood_IDs]\n",
    "blood_MIRS = [metadata[i][\"MIRS\"] for i in blood_IDs]\n",
    "\n",
    "\n",
    "muscle_IDs = [i for i in metadata_order if metadata[i][\"muscle_cel\"] != \"refused_biopsy\"]\n",
    "muscle_CELs = [metadata[i][\"muscle_cel\"] for i in muscle_IDs]\n",
    "muscle_MA = [metadata[i][\"modal_allele\"] for i in muscle_IDs]\n",
    "muscle_MA = [int(i) for i in muscle_MA]\n",
    "\n",
    "muscle_PA = [metadata[i][\"progenitor_allele\"] for i in muscle_IDs]\n",
    "muscle_MIRS = [metadata[i][\"MIRS\"] for i in muscle_IDs]"
   ]
  },
  {
   "cell_type": "code",
   "execution_count": 40,
   "metadata": {},
   "outputs": [
    {
     "name": "stdout",
     "output_type": "stream",
     "text": [
      "['111747589', '117440822', '124563003', '129523253', '141772399', '159834720', '204472077', '213653686', '229213757', '230974357', '270148799', '315805040', '321962190', '328687703', '360448352', '377666471', '387939296', '406335477', '420299717', '427374914', '449599671', '473208969', '523950865', '549452228', '551644041', '572448109', '575039926', '597785396', '661252781', '736551759', '819054051', '830225708', '873750289', '881676366', '896445336']\n"
     ]
    }
   ],
   "source": [
    "print(metadata_order)"
   ]
  },
  {
   "cell_type": "code",
   "execution_count": 41,
   "metadata": {
    "collapsed": true
   },
   "outputs": [],
   "source": [
    "import itertools"
   ]
  },
  {
   "cell_type": "code",
   "execution_count": 42,
   "metadata": {
    "collapsed": true
   },
   "outputs": [],
   "source": [
    "def produce_data(blood_IDs, gene_names, experiment):\n",
    "    probe_data = []\n",
    "    probe_IDs = []\n",
    "    for gene in gene_names:\n",
    "        with open(os.path.join(experiment, gene)) as f:\n",
    "            for i, line in enumerate(f):\n",
    "                line = line.rstrip().split()\n",
    "                if i == 0:\n",
    "                    prefix = \"patient_\"\n",
    "                    our_blood_IDs = [elem[len(prefix):] for elem in line if re.match(prefix, elem)]\n",
    "                    assert blood_IDs == our_blood_IDs\n",
    "                    headers = {header: i for i, header in enumerate(line)}\n",
    "                    patient_data = {header[len(prefix):]: i for i, header in enumerate(line) if re.match(prefix, header)}\n",
    "                    def write_signature(line):\n",
    "                        signature = []\n",
    "                        for elem in [\"gene_name\", \"probeset_id\", \"seq5to3plus\", \"chrom\", \"strand\", \"genocode_left\", \"genecode_right\"]:\n",
    "                            signature.append(line[headers[elem]])\n",
    "                        return \"_\".join(signature)\n",
    "                else:\n",
    "                    probe_ID = write_signature(line)\n",
    "                    rv = []\n",
    "                    for patient_id in blood_IDs:\n",
    "                        rv.append(float(line[patient_data[patient_id]]))\n",
    "                    probe_data.append(rv)\n",
    "                    probe_IDs.append(probe_ID)\n",
    "    probe_data = numpy.array(probe_data)\n",
    "    return probe_data, probe_IDs"
   ]
  },
  {
   "cell_type": "code",
   "execution_count": 43,
   "metadata": {
    "collapsed": true
   },
   "outputs": [],
   "source": [
    "blood_data, blood_ids = produce_data(blood_IDs, nakamori_genes.intersection(genecode_genes), \"experiment_blood\")"
   ]
  },
  {
   "cell_type": "code",
   "execution_count": 44,
   "metadata": {
    "collapsed": true
   },
   "outputs": [],
   "source": [
    "muscle_data, muscle_ids = produce_data(muscle_IDs, nakamori_genes.intersection(genecode_genes), \"experiment_muscle\")"
   ]
  },
  {
   "cell_type": "code",
   "execution_count": 45,
   "metadata": {
    "collapsed": true
   },
   "outputs": [],
   "source": [
    "try:\n",
    "    btarget = \"blood_predictions\"\n",
    "    os.mkdir(btarget)\n",
    "except FileExistsError:\n",
    "    pass"
   ]
  },
  {
   "cell_type": "code",
   "execution_count": 46,
   "metadata": {
    "collapsed": true
   },
   "outputs": [],
   "source": [
    "try:\n",
    "    mtarget = \"muscle_predictions\"\n",
    "    os.mkdir(mtarget)\n",
    "except FileExistsError:\n",
    "    pass"
   ]
  },
  {
   "cell_type": "code",
   "execution_count": 47,
   "metadata": {
    "collapsed": true
   },
   "outputs": [],
   "source": [
    "numpy.savetxt(os.path.join(btarget, \"blood_data\"), blood_data)\n",
    "numpy.savetxt(os.path.join(mtarget, \"muscle_data\"), muscle_data)"
   ]
  },
  {
   "cell_type": "code",
   "execution_count": 48,
   "metadata": {
    "collapsed": true
   },
   "outputs": [],
   "source": [
    "import json\n",
    "with open(os.path.join(btarget, \"blood_ids\"), \"w\") as f_out:\n",
    "    json.dump(blood_ids, f_out)\n",
    "\n",
    "with open(os.path.join(btarget, \"blood_rt\"), \"w\") as f_out:\n",
    "    json.dump(blood_MA, f_out)"
   ]
  },
  {
   "cell_type": "code",
   "execution_count": 49,
   "metadata": {
    "collapsed": true
   },
   "outputs": [],
   "source": [
    "with open(os.path.join(mtarget, \"muscle_ids\"), \"w\") as f_out:\n",
    "    json.dump(muscle_ids, f_out)\n",
    "\n",
    "with open(os.path.join(mtarget, \"muscle_rt\"), \"w\") as f_out:\n",
    "    json.dump(muscle_MA, f_out)"
   ]
  }
 ],
 "metadata": {
  "kernelspec": {
   "display_name": "Python 3",
   "language": "python",
   "name": "python3"
  },
  "language_info": {
   "codemirror_mode": {
    "name": "ipython",
    "version": 3
   },
   "file_extension": ".py",
   "mimetype": "text/x-python",
   "name": "python",
   "nbconvert_exporter": "python",
   "pygments_lexer": "ipython3",
   "version": "3.5.2"
  }
 },
 "nbformat": 4,
 "nbformat_minor": 2
}
