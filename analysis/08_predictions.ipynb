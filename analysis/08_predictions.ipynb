{
 "cells": [
  {
   "cell_type": "code",
   "execution_count": 1,
   "metadata": {},
   "outputs": [],
   "source": [
    "from __future__ import print_function\n",
    "import os\n",
    "import re\n",
    "import numpy as np\n",
    "import numpy\n",
    "genecode_genes = set(os.listdir(\"experiment_blood\"))\n",
    "from scipy.stats import pearsonr\n",
    "from sklearn.cross_decomposition import PLSRegression\n",
    "import random\n",
    "import bisect\n",
    "import math\n",
    "import json\n",
    "import sys\n",
    "import sklearn.linear_model\n",
    "import sklearn.gaussian_process\n",
    "import sklearn.ensemble"
   ]
  },
  {
   "cell_type": "code",
   "execution_count": 2,
   "metadata": {},
   "outputs": [],
   "source": [
    "def in_ipynb():\n",
    "    try:\n",
    "        get_ipython()\n",
    "        return True\n",
    "    except NameError:\n",
    "        return False"
   ]
  },
  {
   "cell_type": "code",
   "execution_count": 3,
   "metadata": {},
   "outputs": [],
   "source": [
    "if in_ipynb():\n",
    "    from matplotlib import pyplot as plt"
   ]
  },
  {
   "cell_type": "code",
   "execution_count": 4,
   "metadata": {},
   "outputs": [
    {
     "name": "stdout",
     "output_type": "stream",
     "text": [
      "Please use like this: `predictions.py <tissue> <genes> <simulation_runs> <top_k_genes> <model>`\n",
      "tissue can be any of: blood, muscle.\n",
      "genes can be any of: TNNI1, batra, nakamori, all\n",
      "simulation runs can be 10\n",
      "top_k_genes can be 500\n",
      "PLSR_dimensions can be 2\n"
     ]
    }
   ],
   "source": [
    "print(\"Please use like this: `predictions.py <tissue> <genes> <simulation_runs> <top_k_genes> <model>`\\n\"\\\n",
    "      \"tissue can be any of: blood, muscle.\\n\"\\\n",
    "      \"genes can be any of: TNNI1, batra, nakamori, all\\n\"\\\n",
    "      \"simulation runs can be 10\\n\"\\\n",
    "      \"top_k_genes can be 500\\n\"\\\n",
    "      \"model can be any of: LASSO, LinearRegression, RandomForestRegressor, PLSR\"\n",
    "     )\n",
    "if not in_ipynb():\n",
    "    tissue_arg = sys.argv[1]\n",
    "    print(\"tissue: {}\".format(tissue_arg))\n",
    "    gene_arg = sys.argv[2]\n",
    "    print(\"gene: {}\".format(gene_arg))\n",
    "    simulation_arg = int(sys.argv[3])\n",
    "    print(\"simulation_arg: {}\".format(simulation_arg))\n",
    "    top_genes_arg = int(sys.argv[4])\n",
    "    print(\"top_genes_arg: {}\".format(top_genes_arg))\n",
    "    model_arg = sys.argv[5]\n",
    "    print(\"model_arg: {}\".format(model_arg))"
   ]
  },
  {
   "cell_type": "code",
   "execution_count": 5,
   "metadata": {},
   "outputs": [],
   "source": [
    "def load_genes(filename):\n",
    "    genes = set()\n",
    "    repeated = set()\n",
    "    with open(filename) as f:\n",
    "        for line in f:\n",
    "            line = line.rstrip()\n",
    "            if line in genes:\n",
    "                repeated.add(line)\n",
    "            genes.add(line)\n",
    "    failed = genes.difference(genecode_genes)\n",
    "    if repeated:\n",
    "        pass\n",
    "        #print(\"These genes appear more than once: {}\".format([g for g in repeated]))\n",
    "    if failed:\n",
    "        print(\"Couldn't identify the following genes: {}\".format([g for g in failed]))\n",
    "    return genes.intersection(genecode_genes)"
   ]
  },
  {
   "cell_type": "code",
   "execution_count": 6,
   "metadata": {},
   "outputs": [],
   "source": [
    "nakamori_genes = load_genes(\"nakamori_genes.txt\")"
   ]
  },
  {
   "cell_type": "code",
   "execution_count": 7,
   "metadata": {
    "scrolled": true
   },
   "outputs": [],
   "source": [
    "# Genes from https://www.ncbi.nlm.nih.gov/pmc/articles/PMC4224598/\n",
    "batra_genes = load_genes(\"batra_genes.txt\")"
   ]
  },
  {
   "cell_type": "code",
   "execution_count": 8,
   "metadata": {},
   "outputs": [],
   "source": [
    "class Metadata:\n",
    "    def __init__(self, ids, cels, metadata):\n",
    "        self.IDs = ids\n",
    "        self.CELs = cels\n",
    "        self.modal_allele = [int(metadata[i][\"modal_allele\"]) for i in ids]\n",
    "        self.progenitor_allele = [int(metadata[i][\"progenitor_allele\"]) for i in ids]\n",
    "        self.MIRS = [int(metadata[i][\"MIRS\"]) for i in ids]\n",
    "    def __str__(self):\n",
    "        return \"Metadata={{IDs: {}...,\\n CELs: {}...,\\n modal_allele: {}...,\\n progenitor_allele: {}...,\\n MIRS: {}...}}\".format(self.IDs[:5], self.CELs[:5], self.modal_allele[:5], self.progenitor_allele[:5], self.MIRS[:5])\n",
    "    def __repr__(self):\n",
    "        return self.__str__()\n",
    "\n",
    "def load_metadata():\n",
    "    metadata = {}\n",
    "    metadata_order = []\n",
    "    with open(\"metadata.txt\") as f:\n",
    "        for i, line in enumerate(f):\n",
    "            line = line.strip().split()\n",
    "            if i == 0:\n",
    "                names = line[1:]\n",
    "            else:\n",
    "                values = line[1:]\n",
    "                patient_id = line[0]\n",
    "                metadata_order.append(patient_id)\n",
    "                metadata[patient_id] = {k: v for k, v in zip(names, values)}\n",
    "    blood_IDs = [i for i in metadata_order]\n",
    "    muscle_IDs = [i for i in metadata_order if metadata[i][\"muscle_cel\"] != \"refused_biopsy\"]\n",
    "    blood_CELs = [metadata[i][\"blood_cel\"] for i in blood_IDs]\n",
    "    muscle_CELs = [metadata[i][\"muscle_cel\"] for i in muscle_IDs]\n",
    "        \n",
    "    blood_record = Metadata(blood_IDs, blood_CELs, metadata)\n",
    "    muscle_record = Metadata(muscle_IDs, muscle_CELs, metadata)\n",
    "    return blood_record, muscle_record"
   ]
  },
  {
   "cell_type": "code",
   "execution_count": 9,
   "metadata": {},
   "outputs": [],
   "source": [
    "blood_meta, muscle_meta = load_metadata()"
   ]
  },
  {
   "cell_type": "code",
   "execution_count": 10,
   "metadata": {},
   "outputs": [],
   "source": [
    "def produce_data(meta, gene_names, experiment):\n",
    "    IDs = meta.IDs\n",
    "    probe_data = []\n",
    "    probe_IDs = []\n",
    "    for gene in gene_names:        \n",
    "        with open(os.path.join(experiment, gene)) as f:\n",
    "            for i, line in enumerate(f):\n",
    "                line = line.rstrip().split()\n",
    "                if i == 0:\n",
    "                    prefix = \"patient_\"\n",
    "                    our_IDs = [elem[len(prefix):] for elem in line if re.match(prefix, elem)]\n",
    "                    try:\n",
    "                        assert IDs == our_IDs\n",
    "                    except AssertionError:\n",
    "                        print(gene)\n",
    "                    headers = {header: i for i, header in enumerate(line)}\n",
    "                    patient_data = {header[len(prefix):]: i for i, header in enumerate(line) if re.match(prefix, header)}\n",
    "                    def write_signature(line):\n",
    "                        signature = []\n",
    "                        for elem in [\"gene_name\", \"probeset_id\", \"seq5to3plus\", \"chrom\", \"strand\", \"genocode_left\", \"genecode_right\"]:\n",
    "                            signature.append(line[headers[elem]])\n",
    "                        return \"_\".join(signature)\n",
    "                else:\n",
    "                    probe_ID = write_signature(line)\n",
    "                    rv = []\n",
    "                    for patient_id in IDs:\n",
    "                        rv.append(float(line[patient_data[patient_id]]))\n",
    "                    probe_data.append(rv)\n",
    "                    probe_IDs.append(probe_ID)\n",
    "    probe_data = numpy.array(probe_data)\n",
    "    return probe_data, probe_IDs"
   ]
  },
  {
   "cell_type": "code",
   "execution_count": 11,
   "metadata": {},
   "outputs": [],
   "source": [
    "def choose_top_genes(indicies, data):\n",
    "    \"\"\"\n",
    "    Take `indicies`, which is a list of ordered pairs\n",
    "    `r2, column_index`, and a matrix of probeset data,\n",
    "    `data`, and filter all rows to contain only genes on\n",
    "    the `indicies` list.\n",
    "    \"\"\"\n",
    "    just_indices = [i[1] for i in indicies]\n",
    "    return data[just_indices, :]\n",
    "\n",
    "def order_indicies(allele, data):\n",
    "    \"\"\"\n",
    "    Return a sorted list of correlated genes, from the most to the least\n",
    "    correlated. Each entry in the list is a tuple `r2, gene_index`, where\n",
    "    `r2` denotes the correlation of gene expression and `allele`, and\n",
    "    the index of the gene in the `data` matrix respectively.\n",
    "    \n",
    "    `allele` is the list of repeat lengths, with each repeat length\n",
    "    corresponding to one column in `data`\n",
    "    \"\"\"\n",
    "    r2s = []\n",
    "    for i in range(data.shape[0]):\n",
    "        gene_r, _ = pearsonr(allele, data[i])\n",
    "        # We have to store both the gene and the gene index, to recover the indices after sorting.\n",
    "        r2s.append((gene_r ** 2, i))\n",
    "    r2s.sort()\n",
    "    # This reverses the list, assuring decreasing order.\n",
    "    r2s = r2s[::-1]\n",
    "    return r2s\n",
    "\n",
    "def choose_training_indicies(data, no_training_samples):\n",
    "    \"\"\"Return a partition of column indicies of the `data`\n",
    "    matrix into two sets: `training_indicies, testing_indicies`.\n",
    "    The training set will contain `no_training_samples` biological\n",
    "    samples.\n",
    "    \"\"\"\n",
    "    indices = list(range(data.shape[1]))\n",
    "    random.shuffle(indices)\n",
    "    training_indices = indices[:no_training_samples]\n",
    "    test_indicies = indices[no_training_samples:]\n",
    "    return training_indices, test_indicies\n",
    "\n",
    "def split_data(data, training_indices, test_indices):\n",
    "    \"\"\"Return a partition of data into `training_set, testing_set`\n",
    "    using an existing partition of column incidices into\n",
    "    `training_indicies` and `test_indicies`\n",
    "    \"\"\"\n",
    "    return data[:, training_indices], data[:, test_indices]\n",
    "\n",
    "def cv(lista):\n",
    "    return np.matrix(lista).transpose()\n",
    "def rv(lista):\n",
    "    return np.matrix(lista)"
   ]
  },
  {
   "cell_type": "code",
   "execution_count": 12,
   "metadata": {},
   "outputs": [],
   "source": [
    "def filter_extremes(value, lowermost, uppermost):\n",
    "    \"\"\"If a value is lower or higher than lowermost or uppermost, return lowermost or uppermost. Otherwise, return value.\n",
    "    \"\"\"\n",
    "    if value < lowermost:\n",
    "        return lowermost\n",
    "    if value > uppermost:\n",
    "        return uppermost\n",
    "    return value"
   ]
  },
  {
   "cell_type": "code",
   "execution_count": 13,
   "metadata": {},
   "outputs": [],
   "source": [
    "def simulation_step_PLSR(probeset_data, metadata, training_size, no_probes):\n",
    "    n_components = 2\n",
    "    \"\"\"Execute a full step of the simulation, and return a tuple consisting of two lists:\n",
    "    predicted repeat lengths, and the ground truth repeat lengths\n",
    "    \"\"\"\n",
    "    training_i, testing_i = choose_training_indicies(probeset_data, training_size)\n",
    "    training_fold, testing_fold = split_data(probeset_data, training_i, testing_i)\n",
    "    repeat_length_training = [metadata.modal_allele[i] for i in training_i]\n",
    "    repeat_length_testing = [metadata.modal_allele[i] for i in testing_i]\n",
    "    \n",
    "    top_genes = order_indicies(repeat_length_training, training_fold)[:no_probes]\n",
    "    training_set = choose_top_genes(top_genes, training_fold)\n",
    "    testing_set = choose_top_genes(top_genes, testing_fold)\n",
    "\n",
    "    plsr = PLSRegression(n_components=n_components)\n",
    "    \n",
    "    plsr.fit(training_set.transpose(), cv(repeat_length_training))\n",
    "    \n",
    "    results = plsr.predict(testing_set.transpose())\n",
    "    results = [filter_extremes(i[0], min(repeat_length_training), max(repeat_length_training)) for i in results]\n",
    "\n",
    "    return repeat_length_testing, results"
   ]
  },
  {
   "cell_type": "code",
   "execution_count": 14,
   "metadata": {},
   "outputs": [],
   "source": [
    "def simulation_step_LASSO(probeset_data, metadata, training_size, no_probes):\n",
    "    n_components = 10**(-6)\n",
    "    training_i, testing_i = choose_training_indicies(probeset_data, training_size)\n",
    "    training_fold, testing_fold = split_data(probeset_data, training_i, testing_i)\n",
    "    repeat_length_training = [metadata.modal_allele[i] for i in training_i]\n",
    "    repeat_length_testing = [metadata.modal_allele[i] for i in testing_i]\n",
    "    \n",
    "    top_genes = order_indicies(repeat_length_training, training_fold)[:no_probes]\n",
    "    training_set = choose_top_genes(top_genes, training_fold)\n",
    "    testing_set = choose_top_genes(top_genes, testing_fold)\n",
    "\n",
    "    lasso = sklearn.linear_model.Lasso(alpha=n_components)\n",
    "    \n",
    "    lasso.fit(training_set.transpose(), cv(repeat_length_training))\n",
    "    \n",
    "    results = list(lasso.predict(testing_set.transpose()))\n",
    "    \n",
    "    results = [filter_extremes(i, min(repeat_length_training), max(repeat_length_training)) for i in results]\n",
    "\n",
    "    return repeat_length_testing, results"
   ]
  },
  {
   "cell_type": "code",
   "execution_count": 15,
   "metadata": {},
   "outputs": [],
   "source": [
    "def simulation_step_LinearRegression(probeset_data, metadata, training_size, no_probes):\n",
    "    training_i, testing_i = choose_training_indicies(probeset_data, training_size)\n",
    "    training_fold, testing_fold = split_data(probeset_data, training_i, testing_i)\n",
    "    repeat_length_training = [metadata.modal_allele[i] for i in training_i]\n",
    "    repeat_length_testing = [metadata.modal_allele[i] for i in testing_i]\n",
    "    \n",
    "    top_genes = order_indicies(repeat_length_training, training_fold)[:no_probes]\n",
    "    training_set = choose_top_genes(top_genes, training_fold)\n",
    "    testing_set = choose_top_genes(top_genes, testing_fold)\n",
    "\n",
    "    model = sklearn.linear_model.LinearRegression()\n",
    "    \n",
    "    model.fit(training_set.transpose(), cv(repeat_length_training))\n",
    "    \n",
    "    results = model.predict(testing_set.transpose())\n",
    "    results = [i for i in results.transpose()[0]]\n",
    "    \n",
    "    results = [filter_extremes(i, min(repeat_length_training), max(repeat_length_training)) for i in results]\n",
    "    return repeat_length_testing, results"
   ]
  },
  {
   "cell_type": "code",
   "execution_count": 16,
   "metadata": {},
   "outputs": [],
   "source": [
    "def simulation_step_GaussianProcess(probeset_data, metadata, training_size, no_probes):\n",
    "    training_i, testing_i = choose_training_indicies(probeset_data, training_size)\n",
    "    training_fold, testing_fold = split_data(probeset_data, training_i, testing_i)\n",
    "    repeat_length_training = [metadata.modal_allele[i] for i in training_i]\n",
    "    repeat_length_testing = [metadata.modal_allele[i] for i in testing_i]\n",
    "    \n",
    "    top_genes = order_indicies(repeat_length_training, training_fold)[:no_probes]\n",
    "    training_set = choose_top_genes(top_genes, training_fold)\n",
    "    testing_set = choose_top_genes(top_genes, testing_fold)\n",
    "\n",
    "    model = sklearn.gaussian_process.GaussianProcessRegressor()\n",
    "    \n",
    "    model.fit(training_set.transpose(), cv(repeat_length_training))\n",
    "    \n",
    "    results = model.predict(testing_set.transpose())\n",
    "    results = [i for i in results.transpose()[0]]\n",
    "    \n",
    "    return repeat_length_testing, results"
   ]
  },
  {
   "cell_type": "code",
   "execution_count": 17,
   "metadata": {},
   "outputs": [],
   "source": [
    "def simulation_step_RandomForestRegressor(probeset_data, metadata, training_size, no_probes):\n",
    "    training_i, testing_i = choose_training_indicies(probeset_data, training_size)\n",
    "    training_fold, testing_fold = split_data(probeset_data, training_i, testing_i)\n",
    "    repeat_length_training = [metadata.modal_allele[i] for i in training_i]\n",
    "    repeat_length_testing = [metadata.modal_allele[i] for i in testing_i]\n",
    "    \n",
    "    top_genes = order_indicies(repeat_length_training, training_fold)[:no_probes]\n",
    "    training_set = choose_top_genes(top_genes, training_fold)\n",
    "    testing_set = choose_top_genes(top_genes, testing_fold)\n",
    "\n",
    "    model = sklearn.ensemble.RandomForestRegressor()\n",
    "    \n",
    "    model.fit(training_set.transpose(), repeat_length_training)\n",
    "    \n",
    "    results = list(model.predict(testing_set.transpose()))\n",
    "    \n",
    "    return repeat_length_testing, results"
   ]
  },
  {
   "cell_type": "code",
   "execution_count": 18,
   "metadata": {},
   "outputs": [],
   "source": [
    "assert filter_extremes(0, 10, 20) == 10\n",
    "assert filter_extremes(15, 10, 20) == 15\n",
    "assert filter_extremes(25, 10, 20) == 20"
   ]
  },
  {
   "cell_type": "code",
   "execution_count": 19,
   "metadata": {},
   "outputs": [],
   "source": [
    "metadata = {\"muscle\": muscle_meta, \"blood\": blood_meta}"
   ]
  },
  {
   "cell_type": "code",
   "execution_count": 20,
   "metadata": {
    "scrolled": true
   },
   "outputs": [
    {
     "data": {
      "text/plain": [
       "{'muscle': Metadata={IDs: ['111747589', '117440822', '124563003', '129523253', '159834720']...,\n",
       "  CELs: ['111747589_M.CEL', '117440822_M.CEL', '124563003_M.CEL', '129523253_M.CEL', '159834720_MR.cel']...,\n",
       "  modal_allele: [872, 297, 593, 408, 1035]...,\n",
       "  progenitor_allele: [600, 227, 301, 211, 695]...,\n",
       "  MIRS: [4, 2, 4, 4, 4]...},\n",
       " 'blood': Metadata={IDs: ['111747589', '117440822', '124563003', '129523253', '141772399']...,\n",
       "  CELs: ['111747589_B.CEL', '117440822_B.CEL', '124563003_B.CEL', '129523253_B.CEL', '141772399_B.CEL']...,\n",
       "  modal_allele: [872, 297, 593, 408, 717]...,\n",
       "  progenitor_allele: [600, 227, 301, 211, 320]...,\n",
       "  MIRS: [4, 2, 4, 4, 2]...}}"
      ]
     },
     "execution_count": 20,
     "metadata": {},
     "output_type": "execute_result"
    }
   ],
   "source": [
    "metadata"
   ]
  },
  {
   "cell_type": "code",
   "execution_count": 21,
   "metadata": {},
   "outputs": [],
   "source": [
    "def load_data(name, genes, muscle_or_blood):\n",
    "    meta = metadata[muscle_or_blood]\n",
    "    path = \"experiment_\" + muscle_or_blood\n",
    "    d, a = produce_data(meta, genes, path)\n",
    "    data[muscle_or_blood][name] = d\n",
    "    annot[muscle_or_blood][name] = a"
   ]
  },
  {
   "cell_type": "code",
   "execution_count": 22,
   "metadata": {},
   "outputs": [],
   "source": [
    "gene_sets = {\"nakamori\": nakamori_genes, \"batra\": batra_genes, \"TNNI1\": [\"TNNI1\"], \"all\": genecode_genes}"
   ]
  },
  {
   "cell_type": "code",
   "execution_count": 23,
   "metadata": {},
   "outputs": [],
   "source": [
    "data = {\"muscle\": {}, \"blood\": {}}\n",
    "annot = {\"muscle\": {}, \"blood\": {}}"
   ]
  },
  {
   "cell_type": "code",
   "execution_count": 24,
   "metadata": {},
   "outputs": [],
   "source": [
    "for name, genes in gene_sets.items():\n",
    "    for tissue in [\"blood\", \"muscle\"]:\n",
    "        load_data(name, genes, tissue)"
   ]
  },
  {
   "cell_type": "code",
   "execution_count": 25,
   "metadata": {},
   "outputs": [],
   "source": [
    "training_size = int(len(metadata[\"muscle\"].modal_allele)*0.7)"
   ]
  },
  {
   "cell_type": "code",
   "execution_count": 26,
   "metadata": {},
   "outputs": [],
   "source": [
    "testing_size = len(metadata[\"muscle\"].modal_allele) - training_size"
   ]
  },
  {
   "cell_type": "code",
   "execution_count": 27,
   "metadata": {},
   "outputs": [],
   "source": [
    "def simulation(simulation_step, data, metadata, runs, no_probes):\n",
    "    sample_no, patient_no = data.shape\n",
    "    real_alleles = []\n",
    "    simulated_alleles = []\n",
    "    for i in range(runs):\n",
    "        real_allele, simulated_allele = simulation_step(data, metadata, int(patient_no*0.7), no_probes)\n",
    "        real_alleles += real_allele\n",
    "        simulated_alleles += simulated_allele\n",
    "    return real_alleles, simulated_alleles"
   ]
  },
  {
   "cell_type": "code",
   "execution_count": 28,
   "metadata": {},
   "outputs": [],
   "source": [
    "def obtain_simulation(simulation, *args, **kwargs):\n",
    "    real_alleles, simulated_alleles = simulation(*args, **kwargs)\n",
    "    def save_at(path):\n",
    "        with open(path, \"w\") as f:\n",
    "            json.dump({\"real_alleles\": real_alleles,\n",
    "                       \"predicted_alleles\": simulated_alleles,\n",
    "                      }, f)\n",
    "    return save_at"
   ]
  },
  {
   "cell_type": "code",
   "execution_count": 29,
   "metadata": {},
   "outputs": [],
   "source": [
    "def analyse_simulation(path, r2_to_p):\n",
    "    with open(path, \"r\") as f:\n",
    "        result = json.load(f)\n",
    "    real_alleles = result[\"real_alleles\"]\n",
    "    simulated_alleles = result[\"predicted_alleles\"]\n",
    "    r, _ = pearsonr(real_alleles, simulated_alleles)\n",
    "    r_squared = r**2\n",
    "    p_value = r2_to_p(r_squared)\n",
    "    return real_alleles, simulated_alleles, r_squared, p_value, "
   ]
  },
  {
   "cell_type": "code",
   "execution_count": 30,
   "metadata": {},
   "outputs": [],
   "source": [
    "if in_ipynb():\n",
    "    %matplotlib inline"
   ]
  },
  {
   "cell_type": "code",
   "execution_count": 31,
   "metadata": {},
   "outputs": [],
   "source": [
    "def simulated_r2(metadata, times):\n",
    "    r2s = []\n",
    "    for i in range(times):\n",
    "        repeat_length_random = metadata.modal_allele[:]\n",
    "        random.shuffle(repeat_length_random)\n",
    "        inter_r, _ = pearsonr(metadata.modal_allele, repeat_length_random)\n",
    "        r2s.append(inter_r**2)\n",
    "    r2s.sort()\n",
    "    def check_value(r_squared):\n",
    "        p_value = 1 - bisect.bisect_right(r2s, r_squared)/float(times)\n",
    "        return p_value\n",
    "    return check_value"
   ]
  },
  {
   "cell_type": "code",
   "execution_count": 32,
   "metadata": {},
   "outputs": [],
   "source": [
    "base_path = \"simulation_results\"\n",
    "try:\n",
    "    os.mkdir(base_path)\n",
    "except OSError:\n",
    "    pass"
   ]
  },
  {
   "cell_type": "code",
   "execution_count": 33,
   "metadata": {},
   "outputs": [],
   "source": [
    "def example_workflow(name, tissue, simulation_step, simulation_runs, select_top_k_genes):\n",
    "    path = os.path.join(base_path, \"{}_{}_{}_{}_{}\".format(name, tissue, simulation_runs, select_top_k_genes, simulation_step.__name__))\n",
    "    obtain_simulation(simulation, simulation_step, data[tissue][name], metadata[tissue], simulation_runs, select_top_k_genes)(path)\n",
    "    print(path)"
   ]
  },
  {
   "cell_type": "code",
   "execution_count": 34,
   "metadata": {},
   "outputs": [],
   "source": [
    "#simulation_step_LASSO(data[\"muscle\"][\"TNNI1\"], metadata[\"muscle\"], training_size, 500, 10**(-6))\n",
    "#simulation_step_LinearRegression(data[\"muscle\"][\"TNNI1\"], metadata[\"muscle\"], training_size, 500, None)\n",
    "#simulation_step_RandomForestRegressor(data[\"muscle\"][\"nakamori\"], metadata[\"muscle\"], training_size, 500, None)"
   ]
  },
  {
   "cell_type": "code",
   "execution_count": 35,
   "metadata": {},
   "outputs": [],
   "source": [
    "models = {\"LASSO\": simulation_step_LASSO, \"LinearRegression\": simulation_step_LinearRegression, \"RandomForestRegressor\": simulation_step_RandomForestRegressor, \"PLSR\": simulation_step_PLSR}"
   ]
  },
  {
   "cell_type": "code",
   "execution_count": 36,
   "metadata": {},
   "outputs": [
    {
     "name": "stdout",
     "output_type": "stream",
     "text": [
      "simulation_results/TNNI1_muscle_10_500_simulation_step_PLSR\n"
     ]
    }
   ],
   "source": [
    "if not in_ipynb():\n",
    "    # For example\n",
    "    # nohup python3 08_predictions.py muscle TNNI1 10 500 PLSR &\n",
    "    example_workflow(name=gene_arg, tissue=tissue_arg, simulation_step=models[model_arg], simulation_runs=simulation_arg, select_top_k_genes=top_genes_arg)\n",
    "else:\n",
    "    example_workflow(name=\"TNNI1\", tissue=\"muscle\", simulation_step=simulation_step_PLSR, simulation_runs=10, select_top_k_genes=500)"
   ]
  },
  {
   "cell_type": "code",
   "execution_count": null,
   "metadata": {},
   "outputs": [],
   "source": []
  }
 ],
 "metadata": {
  "kernelspec": {
   "display_name": "Python 3",
   "language": "python",
   "name": "python3"
  },
  "language_info": {
   "codemirror_mode": {
    "name": "ipython",
    "version": 3
   },
   "file_extension": ".py",
   "mimetype": "text/x-python",
   "name": "python",
   "nbconvert_exporter": "python",
   "pygments_lexer": "ipython3",
   "version": "3.6.8"
  }
 },
 "nbformat": 4,
 "nbformat_minor": 2
}
