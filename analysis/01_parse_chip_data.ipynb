{
 "cells": [
  {
   "cell_type": "code",
   "execution_count": 1,
   "metadata": {},
   "outputs": [],
   "source": [
    "import os\n",
    "import os.path\n",
    "import re\n",
    "import boto3"
   ]
  },
  {
   "cell_type": "code",
   "execution_count": 2,
   "metadata": {},
   "outputs": [],
   "source": [
    "def download_files_from_s3(bucket, prefix):\n",
    "    s3 = boto3.client('s3')\n",
    "    list_CELs = s3.list_objects(Bucket=bucket, Prefix=prefix)['Contents']\n",
    "    for key in list_CELs:\n",
    "        filename = key[\"Key\"]\n",
    "        file_exists = os.path.isfile(filename)\n",
    "        if file_exists:\n",
    "            print(\"file {filename} exists locally\".format(filename=filename))\n",
    "        else:\n",
    "            print(\"downloading {filename}\".format(filename=filename))\n",
    "            s3.download_file(Bucket='dm1-biomarkers', Key=filename, Filename=filename)"
   ]
  },
  {
   "cell_type": "code",
   "execution_count": 3,
   "metadata": {},
   "outputs": [],
   "source": [
    "data = \"CEL\"\n",
    "annots = \"annotations\"\n",
    "target = \"probesets\"\n",
    "bucket = \"dm1-biomarkers\"\n",
    "if data not in os.listdir(\".\"):\n",
    "    os.mkdir(data)\n",
    "if annots not in os.listdir(\".\"):\n",
    "    os.mkdir(annots)"
   ]
  },
  {
   "cell_type": "code",
   "execution_count": 4,
   "metadata": {
    "scrolled": true
   },
   "outputs": [
    {
     "name": "stdout",
     "output_type": "stream",
     "text": [
      "file CEL/111747589_B.CEL exists locally\n",
      "file CEL/111747589_M.CEL exists locally\n",
      "file CEL/111747589_MR.cel exists locally\n",
      "file CEL/117440822_B.CEL exists locally\n",
      "file CEL/117440822_M.CEL exists locally\n",
      "file CEL/117440822_MR.cel exists locally\n",
      "file CEL/124563003_B.CEL exists locally\n",
      "file CEL/124563003_M.CEL exists locally\n",
      "file CEL/129523253_B.CEL exists locally\n",
      "file CEL/129523253_M.CEL exists locally\n",
      "file CEL/141772399_B.CEL exists locally\n",
      "file CEL/159834720_B.CEL exists locally\n",
      "file CEL/159834720_M.CEL exists locally\n",
      "file CEL/159834720_MR.cel exists locally\n",
      "file CEL/204472077_B.CEL exists locally\n",
      "file CEL/204472077_M.CEL exists locally\n",
      "file CEL/213653686_B.CEL exists locally\n",
      "file CEL/229213757_B.CEL exists locally\n",
      "file CEL/230974357_B.CEL exists locally\n",
      "file CEL/230974357_M.CEL exists locally\n",
      "file CEL/230974357_MR.cel exists locally\n",
      "file CEL/270148799_B.CEL exists locally\n",
      "file CEL/270148799_M.CEL exists locally\n",
      "file CEL/315805040_B.CEL exists locally\n",
      "file CEL/315805040_M.CEL exists locally\n",
      "file CEL/321962190_B.CEL exists locally\n",
      "file CEL/321962190_M.CEL exists locally\n",
      "file CEL/328687703_B.CEL exists locally\n",
      "file CEL/328687703_M.CEL exists locally\n",
      "file CEL/360448352_B.CEL exists locally\n",
      "file CEL/360448352_M.CEL exists locally\n",
      "file CEL/360448352_MR.cel exists locally\n",
      "file CEL/377666471_B.CEL exists locally\n",
      "file CEL/377666471_M.CEL exists locally\n",
      "file CEL/377666471_MR.cel exists locally\n",
      "file CEL/387939296_B.CEL exists locally\n",
      "file CEL/387939296_M.CEL exists locally\n",
      "file CEL/387939296_MR.cel exists locally\n",
      "file CEL/406335477_B.CEL exists locally\n",
      "file CEL/406335477_M.CEL exists locally\n",
      "file CEL/419550533_M.CEL exists locally\n",
      "file CEL/419550533_MR.cel exists locally\n",
      "file CEL/420299717_B.CEL exists locally\n",
      "file CEL/420299717_M.CEL exists locally\n",
      "file CEL/427374914_B.CEL exists locally\n",
      "file CEL/427374914_M.CEL exists locally\n",
      "file CEL/449599671_B.CEL exists locally\n",
      "file CEL/449599671_M.CEL exists locally\n",
      "file CEL/473208969_B.CEL exists locally\n",
      "file CEL/473208969_M.CEL exists locally\n",
      "file CEL/523950865_B.CEL exists locally\n",
      "file CEL/549452228_B.CEL exists locally\n",
      "file CEL/549452228_M.CEL exists locally\n",
      "file CEL/551644041_B.CEL exists locally\n",
      "file CEL/572448109_B.CEL exists locally\n",
      "file CEL/572448109_M.CEL exists locally\n",
      "file CEL/572448109_MR.cel exists locally\n",
      "file CEL/575039926_B.CEL exists locally\n",
      "file CEL/575039926_M.CEL exists locally\n",
      "file CEL/597785396_B.CEL exists locally\n",
      "file CEL/597785396_M.CEL exists locally\n",
      "file CEL/597785396_MR.cel exists locally\n",
      "file CEL/661252781_B.CEL exists locally\n",
      "file CEL/661252781_M.CEL exists locally\n",
      "file CEL/736551759_B.CEL exists locally\n",
      "file CEL/819054051_B.CEL exists locally\n",
      "file CEL/819054051_M.CEL exists locally\n",
      "file CEL/830225708_B.CEL exists locally\n",
      "file CEL/830225708_M.CEL exists locally\n",
      "file CEL/873750289_B.CEL exists locally\n",
      "file CEL/873750289_M.CEL exists locally\n",
      "file CEL/881676366_B.CEL exists locally\n",
      "file CEL/881676366_M.CEL exists locally\n",
      "file CEL/881676366_MR.cel exists locally\n",
      "file CEL/896445336_B.CEL exists locally\n",
      "file CEL/896445336_M.CEL exists locally\n"
     ]
    }
   ],
   "source": [
    "download_files_from_s3(bucket, data)"
   ]
  },
  {
   "cell_type": "code",
   "execution_count": 5,
   "metadata": {},
   "outputs": [
    {
     "name": "stdout",
     "output_type": "stream",
     "text": [
      "file annotations/GRCh37.primary_assembly.genome.fa exists locally\n",
      "file annotations/HuEx-1_0-st-v2.na36.hg19.probeset.csv exists locally\n",
      "file annotations/HuEx-1_0-st-v2.text.cdf exists locally\n",
      "file annotations/gencode.v26lift37.annotation.gtf exists locally\n",
      "file annotations/test.cdf exists locally\n"
     ]
    }
   ],
   "source": [
    "download_files_from_s3(bucket, annots)"
   ]
  },
  {
   "cell_type": "code",
   "execution_count": 6,
   "metadata": {},
   "outputs": [],
   "source": [
    "chip_annot = \"HuEx-1_0-st-v2.text.cdf\""
   ]
  },
  {
   "cell_type": "code",
   "execution_count": 7,
   "metadata": {},
   "outputs": [],
   "source": [
    "gtf_annot = \"gencode.v26lift37.annotation.gtf\""
   ]
  },
  {
   "cell_type": "code",
   "execution_count": 8,
   "metadata": {},
   "outputs": [],
   "source": [
    "probeset_annot = \"HuEx-1_0-st-v2.na36.hg19.probeset.csv\""
   ]
  },
  {
   "cell_type": "markdown",
   "metadata": {},
   "source": [
    "The CDF file uses .ini syntax, which is supported by the `configparser` standard libarary module in python3.\n",
    "\n",
    "Unfortunately, the standard library module cannot efficiently deal with our CDF file, and uses over 16 GB of RAM to efficiently parse it. We hand-bake a parser, and test it for a small input."
   ]
  },
  {
   "cell_type": "code",
   "execution_count": 9,
   "metadata": {},
   "outputs": [],
   "source": [
    "import os\n",
    "try:\n",
    "    os.mkdir(target)\n",
    "except FileExistsError:\n",
    "    pass"
   ]
  },
  {
   "cell_type": "code",
   "execution_count": 10,
   "metadata": {},
   "outputs": [],
   "source": [
    "def load_cdf(path):\n",
    "    contextDict = {}\n",
    "    with open(path) as f:\n",
    "        context = None\n",
    "        for line in f:\n",
    "            line = line.rstrip()\n",
    "            if line:\n",
    "                c1 = line[0] == \"[\"\n",
    "                c2 = \"Unit\" in line\n",
    "                c3 = \"_Block1]\" in line\n",
    "                checkConds = [c1, c2, c3]\n",
    "                if all(checkConds):\n",
    "                    context = line[len(\"Unit\") + 1: -1 * len(\"_Block1\") - 1]\n",
    "                    if context in contextDict:\n",
    "                        print(line)\n",
    "                        raise ValueError\n",
    "                    else:\n",
    "                        contextDict[context] = {}\n",
    "                elif context is not None:\n",
    "                    eqPos = line.find(\"=\")\n",
    "                    key = line[:eqPos]\n",
    "                    matchedList = re.findall(\"Cell[1-9]+\", key)\n",
    "                    if matchedList:\n",
    "                        value = line[eqPos + 1:].split(\"\\t\")\n",
    "                        contextDict[context][key] = value[:3]\n",
    "            else:\n",
    "                context = None\n",
    "    return contextDict"
   ]
  },
  {
   "cell_type": "markdown",
   "metadata": {},
   "source": [
    "test case"
   ]
  },
  {
   "cell_type": "code",
   "execution_count": 11,
   "metadata": {},
   "outputs": [],
   "source": [
    "assert load_cdf(os.path.join(annots, \"test.cdf\")) == {'2315101': {'Cell1': ['986', '1674', 'ACATTGAATTATGGTGTTGGTCCGT'],\n",
    "  'Cell2': ['1092', '677', 'GGTAACAAGTAGAAGACCGGGGACA'],\n",
    "  'Cell3': ['796', '1862', 'GGGACAACAGACGTACATTGAATTA'],\n",
    "  'Cell4': ['917', '193', 'ACAGAGAATCGGGTCTGAAGGGCAC']},\n",
    " '2315102': {'Cell1': ['341', '1677', 'TTCTGCTGCCGGCTGAACCTAGTGT'],\n",
    "  'Cell2': ['144', '2250', 'GTCTCGACGTCTTCTGCTGCCGGCT'],\n",
    "  'Cell3': ['689', '262', 'TCGACGTCTTCTGCTGCCGGCTGAA'],\n",
    "  'Cell4': ['579', '1670', 'ACGTCTTCTGCTGCCGGCTGAACCT']},\n",
    " '2315103': {'Cell1': ['587', '2211', 'AGGTCGACCCAGCTGTCTGTCCCCG'],\n",
    "  'Cell2': ['804', '2550', 'GGAGGTCGACCCAGCTGTCTGTCCC'],\n",
    "  'Cell3': ['267', '2', 'ACGGAGGTCGACCCAGCTGTCTGTC'],\n",
    "  'Cell4': ['1123', '1646', 'TCGACCCAGCTGTCTGTCCCCGACC']}}"
   ]
  },
  {
   "cell_type": "code",
   "execution_count": 12,
   "metadata": {},
   "outputs": [],
   "source": [
    "test_case = load_cdf(os.path.join(annots, \"test.cdf\"))"
   ]
  },
  {
   "cell_type": "code",
   "execution_count": 13,
   "metadata": {},
   "outputs": [],
   "source": [
    "def dump_probesets(probesets):\n",
    "    with open(os.path.join(target, \"probeset_coord_seq.csv\"), \"w\") as f:\n",
    "        for probeset in probesets:\n",
    "            cells = probesets[probeset]\n",
    "            for cell in cells:\n",
    "                print(probeset, *cells[cell], file=f, sep=\"\\t\")"
   ]
  },
  {
   "cell_type": "code",
   "execution_count": 17,
   "metadata": {},
   "outputs": [],
   "source": [
    "probesets = load_cdf(os.path.join(annots, \"HuEx-1_0-st-v2.text.cdf\"))"
   ]
  },
  {
   "cell_type": "code",
   "execution_count": 18,
   "metadata": {},
   "outputs": [],
   "source": [
    "dump_probesets(probesets)"
   ]
  },
  {
   "cell_type": "code",
   "execution_count": 19,
   "metadata": {},
   "outputs": [],
   "source": [
    "del probesets"
   ]
  }
 ],
 "metadata": {
  "kernelspec": {
   "display_name": "Python 3",
   "language": "python",
   "name": "python3"
  },
  "language_info": {
   "codemirror_mode": {
    "name": "ipython",
    "version": 3
   },
   "file_extension": ".py",
   "mimetype": "text/x-python",
   "name": "python",
   "nbconvert_exporter": "python",
   "pygments_lexer": "ipython3",
   "version": "3.6.7"
  }
 },
 "nbformat": 4,
 "nbformat_minor": 2
}
