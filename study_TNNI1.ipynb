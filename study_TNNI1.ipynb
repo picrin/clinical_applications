{
 "cells": [
  {
   "cell_type": "markdown",
   "metadata": {},
   "source": [
    "# A more detailed analysis of TNNI1 (and other genes included in the study)"
   ]
  },
  {
   "cell_type": "markdown",
   "metadata": {},
   "source": [
    "Ralf suggested that we produce a little bit more insight into the gene which gives us the strongest signal in the dataset, specifically TNNI1 (and other genes, e.g. RYR1). Usual precautions with multiplicity, [aka look-elsewhere effect](https://en.wikipedia.org/wiki/Look-elsewhere_effect), apply. Specifically, the TNNI1 gene was chosen after we had seen the data – it was selected from DM1-APA, which is a list of ~40 genes as identified by Charles Thornton's group in their DM1 alternative polyadenylation paper (Batra et al.)."
   ]
  },
  {
   "cell_type": "markdown",
   "metadata": {},
   "source": [
    "# GTF annotation and probe filtering"
   ]
  },
  {
   "cell_type": "markdown",
   "metadata": {},
   "source": [
    "I feel I should start by describing the structure of the annotation file as obtained from GENECODE. The exact file I'm referring to is \"gencode.v26lift37.annotation.gtf\", but the description will hold of other GENECODE files with the gtf extension."
   ]
  },
  {
   "cell_type": "markdown",
   "metadata": {},
   "source": [
    "This is a small snippet of the gtf file, looking at a subset of TNNI1 annotations"
   ]
  },
  {
   "cell_type": "markdown",
   "metadata": {},
   "source": [
    "```\n",
    "chr1    HAVANA  gene    201372896       201398994       .       -       .       gene_id \"ENSG00000159173.18_2\"; gene_type \"protein_coding\"; gene_name \"TNNI1\"; level 2; havana_gene \"OTTHUMG00000035736.6_2\"; remap_status \"full_contig\"; remap_num_mappings 1; remap_target_status \"overlap\";\n",
    "chr1    ENSEMBL transcript      201372896       201390874       .       -       .       gene_id \"ENSG00000159173.18_2\"; transcript_id \"ENST00000622580.4_1\"; gene_type \"protein_coding\"; gene_name \"TNNI1\"; transcript_type \"protein_coding\"; transcript_name \"TNNI1-201\"; level 3; protein_id \"ENSP00000477578.1\"; transcript_support_level 1; tag \"basic\"; tag \"appris_alternative_1\"; havana_gene \"OTTHUMG00000035736.6_2\"; remap_num_mappings 1; remap_status \"full_contig\"; remap_target_status \"new\";\n",
    "chr1    ENSEMBL exon    201390801       201390874       .       -       .       gene_id \"ENSG00000159173.18_2\"; transcript_id \"ENST00000622580.4_1\"; gene_type \"protein_coding\"; gene_name \"TNNI1\"; transcript_type \"protein_coding\"; transcript_name \"TNNI1-201\"; exon_number 1; exon_id \"ENSE00001632535.1_1\"; level 3; protein_id \"ENSP00000477578.1\"; transcript_support_level 1; tag \"basic\"; tag \"appris_alternative_1\"; havana_gene \"OTTHUMG00000035736.6_2\"; remap_original_location \"chr1:-:201421673-201421746\"; remap_status \"full_contig\";\n",
    "chr1    ENSEMBL exon    201386911       201386940       .       -       .       gene_id \"ENSG00000159173.18_2\"; transcript_id \"ENST00000622580.4_1\"; gene_type \"protein_coding\"; gene_name \"TNNI1\"; transcript_type \"protein_coding\"; transcript_name \"TNNI1-201\"; exon_number 2; exon_id \"ENSE00001350131.1_1\"; level 3; protein_id \"ENSP00000477578.1\"; transcript_support_level 1; tag \"basic\"; tag \"appris_alternative_1\"; havana_gene \"OTTHUMG00000035736.6_2\"; remap_original_location \"chr1:-:201417783-201417812\"; remap_status \"full_contig\";\n",
    "chr1    ENSEMBL CDS     201386911       201386921       .       -       0       gene_id \"ENSG00000159173.18_2\"; transcript_id \"ENST00000622580.4_1\"; gene_type \"protein_coding\"; gene_name \"TNNI1\"; transcript_type \"protein_coding\"; transcript_name \"TNNI1-201\"; exon_number 2; exon_id \"ENSE00001350131.1\"; level 3; protein_id \"ENSP00000477578.1\"; transcript_support_level 1; tag \"basic\"; tag \"appris_alternative_1\"; havana_gene \"OTTHUMG00000035736.6_2\"; remap_original_location \"chr1:-:201417783-201417793\"; remap_status \"full_contig\";\n",
    "```"
   ]
  },
  {
   "cell_type": "markdown",
   "metadata": {},
   "source": [
    "As you can see, the annotation data is strongly denormalised, with a lot of information repeated across the lines. The first line corresponds to the entire gene, most importantly which chromosome it's located on, which consortium identified it, where it starts and where it ends (in reference to GRch37), which strand it's on (reverse), etc.\n",
    "\n",
    "The next line contains information about the first transcript. This is followed by the information about all exons belonging to the transcript, one line per exon. Then the second transcript follows, etc.\n",
    "\n",
    "I'd like to focus on three pieces of information present in the file. Firstly the annotation type, which is located the third column in the GTF file. We can already see the following possibilites:\n",
    "\n",
    "1. gene\n",
    "2. transcript\n",
    "3. exon\n",
    "4. CDS\n",
    "\n",
    "We're actually going to generate a list of all possible annotations, across the entire GENECODE, using a short python script below"
   ]
  },
  {
   "cell_type": "code",
   "execution_count": 1,
   "metadata": {},
   "outputs": [],
   "source": [
    "genecode_file = \"annotations/gencode.v26lift37.annotation.gtf\""
   ]
  },
  {
   "cell_type": "code",
   "execution_count": 2,
   "metadata": {},
   "outputs": [],
   "source": [
    "possible_annotation_types = set()\n",
    "with open(genecode_file) as geneList:\n",
    "    for i, line in enumerate(geneList):\n",
    "        if line and line[0] == \"#\":\n",
    "            continue\n",
    "\n",
    "        line = line.rstrip().split(\"\\t\")\n",
    "        chromo, source, typ, left, right, _, strand, _, meta = line\n",
    "        possible_annotation_types.add(typ)"
   ]
  },
  {
   "cell_type": "code",
   "execution_count": 3,
   "metadata": {},
   "outputs": [
    {
     "data": {
      "text/plain": [
       "{'CDS',\n",
       " 'Selenocysteine',\n",
       " 'UTR',\n",
       " 'exon',\n",
       " 'gene',\n",
       " 'start_codon',\n",
       " 'stop_codon',\n",
       " 'transcript'}"
      ]
     },
     "execution_count": 3,
     "metadata": {},
     "output_type": "execute_result"
    }
   ],
   "source": [
    "possible_annotation_types"
   ]
  },
  {
   "cell_type": "markdown",
   "metadata": {},
   "source": [
    "The other two bits of information are \"gene_type\" and \"transcript_type\". These are both included in the last column of the gtf file. If we restrict our attention to annotation types \"CDS\" (Coding sequence) and \"UTR\", the following are all possible combinations of annotation type, ranscript type and gene type."
   ]
  },
  {
   "cell_type": "code",
   "execution_count": 4,
   "metadata": {},
   "outputs": [],
   "source": [
    "import re\n",
    "\n",
    "def unquote(s):\n",
    "    if len(s) >= 2 and s[0] == '\"' and s[-1] == '\"':\n",
    "        return s[1:-1]\n",
    "    return s\n",
    "\n",
    "feature_types = set()\n",
    "with open(genecode_file) as geneList:\n",
    "    for i, line in enumerate(geneList):\n",
    "        if line and line[0] == \"#\":\n",
    "            continue\n",
    "\n",
    "        line = line.rstrip().split(\"\\t\")\n",
    "        chromo, source, typ, left, right, _, strand, _, meta = line\n",
    "        left = int(left)\n",
    "        right = int(right)\n",
    "        meta = re.split(\";[ ]?\", meta)\n",
    "\n",
    "        processed_meta = {}\n",
    "        for m in meta[:-1]:\n",
    "            k, v = m.split()\n",
    "            processed_meta[k] = unquote(v)\n",
    "\n",
    "        transcript_type =  processed_meta.get(\"transcript_type\", \"\")\n",
    "        gene_type = processed_meta.get(\"gene_type\", \"\")\n",
    "\n",
    "        protein_coding = transcript_type == \"protein_coding\" or gene_type == \"protein_coding\"\n",
    "        is_coding_or_UTR = typ in [\"CDS\", \"UTR\"]\n",
    "        if is_coding_or_UTR:\n",
    "            feature_types.add((typ, transcript_type, gene_type))"
   ]
  },
  {
   "cell_type": "code",
   "execution_count": 5,
   "metadata": {},
   "outputs": [
    {
     "data": {
      "text/plain": [
       "{('CDS', 'IG_C_gene', 'IG_C_gene'),\n",
       " ('CDS', 'IG_D_gene', 'IG_D_gene'),\n",
       " ('CDS', 'IG_J_gene', 'IG_J_gene'),\n",
       " ('CDS', 'IG_V_gene', 'IG_V_gene'),\n",
       " ('CDS', 'TR_C_gene', 'TR_C_gene'),\n",
       " ('CDS', 'TR_D_gene', 'TR_D_gene'),\n",
       " ('CDS', 'TR_J_gene', 'TR_J_gene'),\n",
       " ('CDS', 'TR_V_gene', 'TR_V_gene'),\n",
       " ('CDS', 'non_stop_decay', 'protein_coding'),\n",
       " ('CDS', 'nonsense_mediated_decay', 'polymorphic_pseudogene'),\n",
       " ('CDS', 'nonsense_mediated_decay', 'protein_coding'),\n",
       " ('CDS', 'polymorphic_pseudogene', 'polymorphic_pseudogene'),\n",
       " ('CDS', 'protein_coding', 'IG_C_gene'),\n",
       " ('CDS', 'protein_coding', 'IG_V_gene'),\n",
       " ('CDS', 'protein_coding', 'TR_V_gene'),\n",
       " ('CDS', 'protein_coding', 'polymorphic_pseudogene'),\n",
       " ('CDS', 'protein_coding', 'protein_coding'),\n",
       " ('UTR', 'IG_C_gene', 'IG_C_gene'),\n",
       " ('UTR', 'IG_D_gene', 'IG_D_gene'),\n",
       " ('UTR', 'IG_J_gene', 'IG_J_gene'),\n",
       " ('UTR', 'IG_V_gene', 'IG_V_gene'),\n",
       " ('UTR', 'TR_C_gene', 'TR_C_gene'),\n",
       " ('UTR', 'TR_V_gene', 'TR_V_gene'),\n",
       " ('UTR', 'non_stop_decay', 'protein_coding'),\n",
       " ('UTR', 'nonsense_mediated_decay', 'polymorphic_pseudogene'),\n",
       " ('UTR', 'nonsense_mediated_decay', 'protein_coding'),\n",
       " ('UTR', 'polymorphic_pseudogene', 'polymorphic_pseudogene'),\n",
       " ('UTR', 'protein_coding', 'IG_C_gene'),\n",
       " ('UTR', 'protein_coding', 'IG_V_gene'),\n",
       " ('UTR', 'protein_coding', 'polymorphic_pseudogene'),\n",
       " ('UTR', 'protein_coding', 'protein_coding')}"
      ]
     },
     "execution_count": 5,
     "metadata": {},
     "output_type": "execute_result"
    }
   ],
   "source": [
    "feature_types"
   ]
  },
  {
   "cell_type": "markdown",
   "metadata": {},
   "source": [
    "In the pipeline that was used to filter the microarray data in the paper we only select Affymetrix probes which are fully contained (coordinate-wise) in annotations of type \"CDS\" or \"UTR\", where gene_type is \"protein_coding\" and transcript_type is \"protein_coding\", i.e. only probes which have to the following combination of annotation/transcript/gene types"
   ]
  },
  {
   "cell_type": "code",
   "execution_count": 6,
   "metadata": {},
   "outputs": [
    {
     "data": {
      "text/plain": [
       "{('CDS', 'protein_coding', 'protein_coding'),\n",
       " ('UTR', 'protein_coding', 'protein_coding')}"
      ]
     },
     "execution_count": 6,
     "metadata": {},
     "output_type": "execute_result"
    }
   ],
   "source": [
    "{('CDS', 'protein_coding', 'protein_coding'), ('UTR', 'protein_coding', 'protein_coding')}"
   ]
  },
  {
   "cell_type": "markdown",
   "metadata": {},
   "source": [
    "The reason we do this is because we want to select only the probes with the highest possibility of carrying biological signal, e.g. probes which target protein coding regions. We found default Affymetrix annotation overly inclusive, and additional noise added in form of *probes which might be interesting* signficantly dilutes much stronger signal that comes from the *high quality* probes, as filtered using the process outlined above."
   ]
  },
  {
   "cell_type": "markdown",
   "metadata": {},
   "source": [
    "# Linear models on TNNI1"
   ]
  },
  {
   "cell_type": "markdown",
   "metadata": {},
   "source": [
    "One of the capabilities of the pipeline presented in the paper is producing a file for each GENECODE gene, which has the following format (e.g. looking at TNNI1)"
   ]
  },
  {
   "cell_type": "markdown",
   "metadata": {},
   "source": [
    "```\n",
    "gene_name\tprobeset_id\tseq5to3plus\tchrom\tstrand\tgenocode_left\tgenecode_right\tx\ty\tpatient_111747589\tpatient_117440822\tpatient_124563003\tpatient_129523253\tpatient_159834720\tpatient_230974357\tpatient_270148799\tpatient_315805040\tpatient_321962190\tpatient_328687703\tpatient_360448352\tpatient_377666471\tpatient_387939296\tpatient_420299717\tpatient_427374914\tpatient_449599671\tpatient_473208969\tpatient_549452228\tpatient_572448109\tpatient_575039926\tpatient_597785396\tpatient_661252781\tpatient_819054051\tpatient_830225708\tpatient_873750289\tpatient_881676366\tpatient_896445336\t\n",
    "TNNI1\t2450824\tTGAATGAGGTGATAAGACCCACGCC\tchr1\t-\t201373522\t201373546\t340\t565\t7.524998198670614\t7.632704288131665\t6.757062096264637\t5.703956103742427\t4.361966127309749\t4.527444685792158\t7.145013000084781\t6.430570146610593\t6.873504457278666\t7.016365847790489\t7.283509915374051\t7.344535463786038\t8.037950403202343\t7.649219836426274\t5.388395179112687\t6.931524833091131\t6.587620600277559\t6.608513593208346\t6.891438087635299\t7.121122667465483\t7.719781758957822\t7.314552994462941\t7.714998485542919\t7.861962859429527\t7.303624313595454\t4.075387632576693\t4.968325915906333\t\n",
    "TNNI1\t2450824\tCATAAGGGCTTCAAAAGTATGTGCC\tchr1\t-\t201373048\t201373072\t900\t1871\t6.6185908255772015\t6.79555423937187\t5.815317191213048\t4.695882946498068\t4.004387526966276\t3.7602185964870363\t5.953493104847751\t5.931645924875645\t5.976002044039466\t6.420422338023729\t6.286376712728965\t6.3811264552461004\t6.826553257053195\t6.604847373960939\t4.9779339571112144\t6.197822192537814\t5.6918008036463466\t5.8732416987804905\t5.814399566527766\t6.594884482044835\t6.750887178283762\t6.508009352829585\t6.727771458730715\t6.9512571601389235\t6.69770587816795\t3.6803057270761124\t4.316667671655048\n",
    "```"
   ]
  },
  {
   "cell_type": "markdown",
   "metadata": {},
   "source": [
    "The first column is the gene_name, followed by important information about each probe, such as the probe sequence (a 25-mer, always in relation to the plus strand, from 5' to 3'), which coordinates the probe maps in the genome, where physically the probe maps on the chip, etc. This is followed by (quantile) normalised and logged expression values from the microarray chip, corresponding to patient IDs."
   ]
  },
  {
   "cell_type": "markdown",
   "metadata": {},
   "source": [
    "We can load this data into python to enable subsequent analysis with linear models. This is what we need to do to make it work:\n",
    "1. Load patient's metadata, i.e. repeat length, MIRS, etc.\n",
    "2. Load the two lists of genes identified in Charles Thornton's group: DM1-AS (Nakamori et al.) and DM1-AP (Batra et al).\n",
    "3. Load the probe data corresponding to these genes.\n",
    "4. Combine all of the above data in a single, easy to use data structure."
   ]
  },
  {
   "cell_type": "markdown",
   "metadata": {},
   "source": [
    "Let's first load some helper functions"
   ]
  },
  {
   "cell_type": "code",
   "execution_count": 166,
   "metadata": {},
   "outputs": [],
   "source": [
    "import os\n",
    "import numpy\n",
    "genecode_genes = set(os.listdir(\"experiment_blood\"))"
   ]
  },
  {
   "cell_type": "code",
   "execution_count": 167,
   "metadata": {},
   "outputs": [],
   "source": [
    "# copied from predictions.ipynb\n",
    "class Metadata:\n",
    "    def __init__(self, ids, cels, metadata):\n",
    "        self.IDs = ids\n",
    "        self.CELs = cels\n",
    "        self.modal_allele = [int(metadata[i][\"modal_allele\"]) for i in ids]\n",
    "        self.progenitor_allele = [int(metadata[i][\"progenitor_allele\"]) for i in ids]\n",
    "        self.MIRS = [int(metadata[i][\"MIRS\"]) for i in ids]\n",
    "    def __str__(self):\n",
    "        return \"Metadata={{IDs: {}...,\\n CELs: {}...,\\n modal_allele: {}...,\\n progenitor_allele: {}...,\\n MIRS: {}...}}\".format(self.IDs[:5], self.CELs[:5], self.modal_allele[:5], self.progenitor_allele[:5], self.MIRS[:5])\n",
    "    def __repr__(self):\n",
    "        return self.__str__()\n",
    "\n",
    "def load_metadata():\n",
    "    metadata = {}\n",
    "    metadata_order = []\n",
    "    with open(\"metadata.txt\") as f:\n",
    "        for i, line in enumerate(f):\n",
    "            line = line.strip().split()\n",
    "            if i == 0:\n",
    "                names = line[1:]\n",
    "            else:\n",
    "                values = line[1:]\n",
    "                patient_id = line[0]\n",
    "                metadata_order.append(patient_id)\n",
    "                metadata[patient_id] = {k: v for k, v in zip(names, values)}\n",
    "    blood_IDs = [i for i in metadata_order]\n",
    "    muscle_IDs = [i for i in metadata_order if metadata[i][\"muscle_cel\"] != \"refused_biopsy\"]\n",
    "    blood_CELs = [metadata[i][\"blood_cel\"] for i in blood_IDs]\n",
    "    muscle_CELs = [metadata[i][\"muscle_cel\"] for i in muscle_IDs]\n",
    "        \n",
    "    blood_record = Metadata(blood_IDs, blood_CELs, metadata)\n",
    "    muscle_record = Metadata(muscle_IDs, muscle_CELs, metadata)\n",
    "    return blood_record, muscle_record"
   ]
  },
  {
   "cell_type": "code",
   "execution_count": 168,
   "metadata": {},
   "outputs": [],
   "source": [
    "# copied from predictions.ipynb\n",
    "def load_genes(filename):\n",
    "    genes = set()\n",
    "    repeated = set()\n",
    "    with open(filename) as f:\n",
    "        for line in f:\n",
    "            line = line.rstrip()\n",
    "            if line in genes:\n",
    "                repeated.add(line)\n",
    "            genes.add(line)\n",
    "    failed = genes.difference(genecode_genes)\n",
    "    if repeated:\n",
    "        print(\"These genes appear more than once: {}\".format([g for g in repeated]))\n",
    "    if failed:\n",
    "        print(\"Couldn't identify the following genes: {}\".format([g for g in failed]))\n",
    "    return genes.intersection(genecode_genes)"
   ]
  },
  {
   "cell_type": "code",
   "execution_count": 169,
   "metadata": {},
   "outputs": [],
   "source": [
    "# copied from predictions.ipynb\n",
    "def produce_data(meta, gene_names, experiment):\n",
    "    IDs = meta.IDs\n",
    "    probe_data = []\n",
    "    probe_IDs = []\n",
    "    for gene in gene_names:        \n",
    "        with open(os.path.join(experiment, gene)) as f:\n",
    "            for i, line in enumerate(f):\n",
    "                line = line.rstrip().split()\n",
    "                if i == 0:\n",
    "                    prefix = \"patient_\"\n",
    "                    our_IDs = [elem[len(prefix):] for elem in line if re.match(prefix, elem)]\n",
    "                    try:\n",
    "                        assert IDs == our_IDs\n",
    "                    except AssertionError:\n",
    "                        print(gene)\n",
    "                    headers = {header: i for i, header in enumerate(line)}\n",
    "                    patient_data = {header[len(prefix):]: i for i, header in enumerate(line) if re.match(prefix, header)}\n",
    "                    def write_signature(line):\n",
    "                        signature = []\n",
    "                        for elem in [\"gene_name\", \"probeset_id\", \"seq5to3plus\", \"chrom\", \"strand\", \"genocode_left\", \"genecode_right\"]:\n",
    "                            signature.append(line[headers[elem]])\n",
    "                        return signature\n",
    "                else:\n",
    "                    probe_ID = write_signature(line)\n",
    "                    rv = []\n",
    "                    for patient_id in IDs:\n",
    "                        rv.append(float(line[patient_data[patient_id]]))\n",
    "                    probe_data.append(rv)\n",
    "                    probe_IDs.append(probe_ID)\n",
    "    probe_data = numpy.array(probe_data)\n",
    "    return probe_data, probe_IDs"
   ]
  },
  {
   "cell_type": "markdown",
   "metadata": {},
   "source": [
    "After importing these helper functions, we can now we can load the metadata"
   ]
  },
  {
   "cell_type": "code",
   "execution_count": 170,
   "metadata": {},
   "outputs": [],
   "source": [
    "metadata = load_metadata()"
   ]
  },
  {
   "cell_type": "code",
   "execution_count": 171,
   "metadata": {},
   "outputs": [
    {
     "data": {
      "text/plain": [
       "(Metadata={IDs: ['111747589', '117440822', '124563003', '129523253', '141772399']...,\n",
       "  CELs: ['111747589_B.CEL', '117440822_B.CEL', '124563003_B.CEL', '129523253_B.CEL', '141772399_B.CEL']...,\n",
       "  modal_allele: [872, 297, 593, 408, 717]...,\n",
       "  progenitor_allele: [600, 227, 301, 211, 320]...,\n",
       "  MIRS: [4, 2, 4, 4, 2]...},\n",
       " Metadata={IDs: ['111747589', '117440822', '124563003', '129523253', '159834720']...,\n",
       "  CELs: ['111747589_M.CEL', '117440822_M.CEL', '124563003_M.CEL', '129523253_M.CEL', '159834720_MR.cel']...,\n",
       "  modal_allele: [872, 297, 593, 408, 1035]...,\n",
       "  progenitor_allele: [600, 227, 301, 211, 695]...,\n",
       "  MIRS: [4, 2, 4, 4, 4]...})"
      ]
     },
     "execution_count": 171,
     "metadata": {},
     "output_type": "execute_result"
    }
   ],
   "source": [
    "metadata"
   ]
  },
  {
   "cell_type": "markdown",
   "metadata": {},
   "source": [
    "It's muscle metadata that we're interested in"
   ]
  },
  {
   "cell_type": "code",
   "execution_count": 172,
   "metadata": {},
   "outputs": [],
   "source": [
    "muscle_metadata = metadata[1]"
   ]
  },
  {
   "cell_type": "code",
   "execution_count": 173,
   "metadata": {},
   "outputs": [
    {
     "data": {
      "text/plain": [
       "Metadata={IDs: ['111747589', '117440822', '124563003', '129523253', '159834720']...,\n",
       " CELs: ['111747589_M.CEL', '117440822_M.CEL', '124563003_M.CEL', '129523253_M.CEL', '159834720_MR.cel']...,\n",
       " modal_allele: [872, 297, 593, 408, 1035]...,\n",
       " progenitor_allele: [600, 227, 301, 211, 695]...,\n",
       " MIRS: [4, 2, 4, 4, 4]...}"
      ]
     },
     "execution_count": 173,
     "metadata": {},
     "output_type": "execute_result"
    }
   ],
   "source": [
    "muscle_metadata"
   ]
  },
  {
   "cell_type": "markdown",
   "metadata": {},
   "source": [
    "And we can load both lists of genes"
   ]
  },
  {
   "cell_type": "code",
   "execution_count": 174,
   "metadata": {},
   "outputs": [
    {
     "name": "stdout",
     "output_type": "stream",
     "text": [
      "These genes appear more than once: ['LDB3', 'DMD', 'PHKA1']\n"
     ]
    }
   ],
   "source": [
    "nakamori = load_genes(\"nakamori_genes.txt\")"
   ]
  },
  {
   "cell_type": "code",
   "execution_count": 175,
   "metadata": {},
   "outputs": [
    {
     "name": "stdout",
     "output_type": "stream",
     "text": [
      "{'ANK2', 'ALPK3', 'DTNA', 'VPS39', 'PHKA1', 'MBNL2', 'VEGFA', 'RYR1', 'UBE2D3', 'CAPZB', 'IMPDH2', 'TTN', 'FHOD1', 'MLF1', 'COPZ2', 'NFIX', 'INSR', 'BIN1', 'CAPN3', 'CAMK2B', 'DMD', 'ATP2A2', 'USP25', 'MBNL1', 'PDLIM3', 'NRAP', 'LDB3', 'ARFGAP2', 'TXNL4A', 'ATP2A1', 'ABLIM2', 'TBC1D15', 'GFPT1', 'KIF13A', 'CACNA1S', 'CLCN1', 'OPA1', 'SOS1'}\n"
     ]
    }
   ],
   "source": [
    "print(nakamori)"
   ]
  },
  {
   "cell_type": "code",
   "execution_count": 176,
   "metadata": {},
   "outputs": [
    {
     "name": "stdout",
     "output_type": "stream",
     "text": [
      "These genes appear more than once: ['LDB3', 'SNX1', 'SMIM3', 'TPM3', 'CEBPA', 'NDUFB10', 'TNNI1', 'CHRNA1', 'PDLIM5', 'IDH3A', 'MEF2B', 'ASPH', 'TPM2', 'TPM1', 'TTYH3', 'PCM1', 'DNAJB6']\n"
     ]
    }
   ],
   "source": [
    "batra = load_genes(\"batra_genes.txt\")"
   ]
  },
  {
   "cell_type": "code",
   "execution_count": 177,
   "metadata": {},
   "outputs": [
    {
     "name": "stdout",
     "output_type": "stream",
     "text": [
      "{'SNX1', 'ATP5E', 'DAPK2', 'ABCA1', 'MBNL2', 'AMHR2', 'MGP', 'NDUFB10', 'PFKFB2', 'TMEM38B', 'PDLIM2', 'DST', 'TJP2', 'KDELR1', 'PCM1', 'SLC25A36', 'SPATS2L', 'DVL3', 'SMIM3', 'RTN2', 'PCBD2', 'ARHGEF7', 'MDN1', 'ALG3', 'NUP43', 'CIRBP', 'CEBPA', 'COPS4', 'PEBP4', 'BRSK2', 'GPS1', 'KRBA1', 'U2SURP', 'LMNA', 'FASTK', 'TPM2', 'OSBPL1A', 'PLIN2', 'SPTB', 'MORC3', 'SETD3', 'CDC42', 'EZR', 'MYH6', 'SPEG', 'BRWD1', 'KCNK7', 'TNNI1', 'CELF1', 'PDLIM5', 'RIN1', 'IDH3A', 'AP1G1', 'MEF2B', 'ILF3', 'MEF2D', 'TTYH3', 'PCMT1', 'KIF1B', 'DNAJB6', 'LDB3', 'CACNA1G', 'HDAC11', 'MEF2C', 'TGFBI', 'TBL2', 'NR2F1', 'CACNB1', 'CHRNA1', 'DES', 'LAMP2', 'MTCH1', 'AGL', 'ASPH', 'CLDND1', 'TPM3', 'TPM1', 'PIK3C2B', 'RAB24', 'SAMD4A'}\n"
     ]
    }
   ],
   "source": [
    "print(batra)"
   ]
  },
  {
   "cell_type": "markdown",
   "metadata": {},
   "source": [
    "And (quantile normalised and logged) expression levels"
   ]
  },
  {
   "cell_type": "code",
   "execution_count": 178,
   "metadata": {},
   "outputs": [],
   "source": [
    "expression, probe_data = produce_data(metadata[1], [\"TNNI1\"], \"experiment_muscle\")"
   ]
  },
  {
   "cell_type": "code",
   "execution_count": 179,
   "metadata": {},
   "outputs": [
    {
     "data": {
      "text/plain": [
       "array([[7.5249982 , 7.63270429, 6.7570621 , ..., 7.30362431, 4.07538763,\n",
       "        4.96832592],\n",
       "       [6.61859083, 6.79555424, 5.81531719, ..., 6.69770588, 3.68030573,\n",
       "        4.31666767],\n",
       "       [7.11576526, 7.47369801, 6.50871331, ..., 7.08512177, 4.8287062 ,\n",
       "        5.47282844],\n",
       "       ...,\n",
       "       [6.31846032, 5.64445534, 6.27299961, ..., 5.48287922, 3.98250503,\n",
       "        4.89285742],\n",
       "       [6.37941085, 5.96674352, 6.56266215, ..., 5.68082759, 5.5058914 ,\n",
       "        5.72326538],\n",
       "       [6.67036122, 5.93323466, 6.62628665, ..., 5.85159698, 4.05114774,\n",
       "        4.49419051]])"
      ]
     },
     "execution_count": 179,
     "metadata": {},
     "output_type": "execute_result"
    }
   ],
   "source": [
    "expression"
   ]
  },
  {
   "cell_type": "markdown",
   "metadata": {},
   "source": [
    "The first number represents rows and corresponds to the total number of probes present in the dataset. The second number represents columns and that corresponds to the total number of patients present in the dataset."
   ]
  },
  {
   "cell_type": "code",
   "execution_count": 180,
   "metadata": {},
   "outputs": [
    {
     "data": {
      "text/plain": [
       "(60, 27)"
      ]
     },
     "execution_count": 180,
     "metadata": {},
     "output_type": "execute_result"
    }
   ],
   "source": [
    "expression.shape"
   ]
  },
  {
   "cell_type": "markdown",
   "metadata": {},
   "source": [
    "We also have the variable `probe_data`, which tells us important information about the probes, e.g.:\n",
    "    1. TNNI1 – gene name\n",
    "    2. 2450824 – probeset ID\n",
    "    3. TGAATGAGGTGATAAGACCCACGCC – probe sequence\n",
    "    4. chr1 – sequence ID\n",
    "    4. - – strand\n",
    "    5. 201373522, 201373546 – 5', 3' coordinates on the plus strand"
   ]
  },
  {
   "cell_type": "code",
   "execution_count": 181,
   "metadata": {},
   "outputs": [
    {
     "data": {
      "text/plain": [
       "[['TNNI1',\n",
       "  '2450824',\n",
       "  'TGAATGAGGTGATAAGACCCACGCC',\n",
       "  'chr1',\n",
       "  '-',\n",
       "  '201373522',\n",
       "  '201373546'],\n",
       " ['TNNI1',\n",
       "  '2450824',\n",
       "  'CATAAGGGCTTCAAAAGTATGTGCC',\n",
       "  'chr1',\n",
       "  '-',\n",
       "  '201373048',\n",
       "  '201373072'],\n",
       " ['TNNI1',\n",
       "  '2450824',\n",
       "  'CAGCTGGCTCGAGGTCACATCCTGA',\n",
       "  'chr1',\n",
       "  '-',\n",
       "  '201373418',\n",
       "  '201373442']]"
      ]
     },
     "execution_count": 181,
     "metadata": {},
     "output_type": "execute_result"
    }
   ],
   "source": [
    "probe_data[0:3]"
   ]
  },
  {
   "cell_type": "markdown",
   "metadata": {},
   "source": [
    "And finally our independent variable – the repeat length"
   ]
  },
  {
   "cell_type": "code",
   "execution_count": 182,
   "metadata": {},
   "outputs": [
    {
     "name": "stdout",
     "output_type": "stream",
     "text": [
      "[872, 297, 593, 408, 1035, 993, 740, 1111, 290, 654, 11, 261, 12, 186, 1261, 1000, 345, 604, 12, 83, 12, 999, 561, 77, 240, 866, 697]\n"
     ]
    }
   ],
   "source": [
    "print(muscle_metadata.modal_allele)"
   ]
  },
  {
   "cell_type": "markdown",
   "metadata": {},
   "source": [
    "We can now produce a simple linear regression for each probe against all `modal_allele` lengths. However, it would be very difficult to look at 60 plots at once and gain any useful insight in this way. There's a better visualisation method, but let's worry about it later."
   ]
  },
  {
   "cell_type": "markdown",
   "metadata": {},
   "source": [
    "Here's what a single probeset would look like when visualised in this way"
   ]
  },
  {
   "cell_type": "code",
   "execution_count": 195,
   "metadata": {},
   "outputs": [
    {
     "data": {
      "text/plain": [
       "[['TNNI1',\n",
       "  '2450829',\n",
       "  'GTGCCTTAGTCCGTGCATCCGTGCA',\n",
       "  'chr1',\n",
       "  '-',\n",
       "  '201379335',\n",
       "  '201379359'],\n",
       " ['TNNI1',\n",
       "  '2450829',\n",
       "  'TGCATCCCAGGTGATGTAGACGCTG',\n",
       "  'chr1',\n",
       "  '-',\n",
       "  '201379147',\n",
       "  '201379171'],\n",
       " ['TNNI1',\n",
       "  '2450829',\n",
       "  'CCCAGGAGAGCCGACTCAAATCAGT',\n",
       "  'chr1',\n",
       "  '-',\n",
       "  '201379303',\n",
       "  '201379327'],\n",
       " ['TNNI1',\n",
       "  '2450829',\n",
       "  'CATGCCCAAGTATCATGGTGCTGGA',\n",
       "  'chr1',\n",
       "  '-',\n",
       "  '201379266',\n",
       "  '201379290']]"
      ]
     },
     "execution_count": 195,
     "metadata": {},
     "output_type": "execute_result"
    }
   ],
   "source": [
    "probeset_id = \"2450829\"\n",
    "[elem for elem in probe_data if elem[1] == probeset_id]"
   ]
  },
  {
   "cell_type": "markdown",
   "metadata": {},
   "source": [
    "We select the data corresponding to the probeset from the expression matrix"
   ]
  },
  {
   "cell_type": "code",
   "execution_count": 196,
   "metadata": {},
   "outputs": [],
   "source": [
    "expression_indices = [i for i, elem in enumerate(probe_data) if elem[1] == probeset_id]"
   ]
  },
  {
   "cell_type": "code",
   "execution_count": 197,
   "metadata": {},
   "outputs": [
    {
     "data": {
      "text/plain": [
       "[48, 49, 50, 51]"
      ]
     },
     "execution_count": 197,
     "metadata": {},
     "output_type": "execute_result"
    }
   ],
   "source": [
    "expression_indices"
   ]
  },
  {
   "cell_type": "code",
   "execution_count": 203,
   "metadata": {},
   "outputs": [],
   "source": [
    "data_to_plot = expression[expression_indices,:]"
   ]
  },
  {
   "cell_type": "code",
   "execution_count": 204,
   "metadata": {},
   "outputs": [
    {
     "data": {
      "text/plain": [
       "array([[6.57308804, 7.36298423, 6.39836317, 5.30978258, 5.04523425,\n",
       "        4.97705895, 6.46669225, 5.8746014 , 6.14555934, 6.62941109,\n",
       "        7.22992028, 6.9704662 , 7.59874399, 7.2519373 , 4.98525499,\n",
       "        6.07472231, 6.31672836, 5.8032875 , 6.50353846, 7.22194721,\n",
       "        7.06038771, 6.54994586, 7.13754983, 7.39422532, 7.40784557,\n",
       "        4.8310453 , 5.00847113],\n",
       "       [5.75280881, 6.31861188, 5.85888554, 4.62477174, 4.31412686,\n",
       "        4.29240147, 6.03475538, 4.84047904, 5.37033307, 6.16730599,\n",
       "        6.49945297, 5.9541898 , 6.79370818, 6.41248875, 4.5547972 ,\n",
       "        5.33488611, 5.87647453, 5.67712924, 5.62184582, 6.28244381,\n",
       "        6.54969981, 6.18142688, 6.53053693, 6.67940798, 6.64872729,\n",
       "        4.31370357, 4.8426154 ],\n",
       "       [5.97080311, 6.63753327, 6.17443496, 5.23265502, 4.68672383,\n",
       "        4.61520703, 5.81612371, 5.16214638, 5.58258338, 5.90362015,\n",
       "        6.49204263, 6.32946375, 6.41227987, 6.53633342, 5.01070119,\n",
       "        5.47006483, 5.84520198, 5.22458042, 5.78881945, 6.42027837,\n",
       "        6.26573153, 6.07163754, 6.36768792, 6.36471284, 6.603561  ,\n",
       "        5.04201805, 5.08793759],\n",
       "       [6.50012179, 7.02495593, 6.25744679, 4.78902463, 4.17752344,\n",
       "        3.94634106, 6.24834273, 5.10831795, 5.64381637, 6.07596435,\n",
       "        7.01959895, 6.53682923, 7.03964744, 6.70151505, 4.58734797,\n",
       "        5.31248243, 5.82980609, 5.74877481, 6.05741994, 6.75172506,\n",
       "        6.80507361, 6.6015966 , 6.64707531, 6.80376863, 7.15156827,\n",
       "        4.42347723, 4.56584003]])"
      ]
     },
     "execution_count": 204,
     "metadata": {},
     "output_type": "execute_result"
    }
   ],
   "source": [
    "data_to_plot"
   ]
  },
  {
   "cell_type": "markdown",
   "metadata": {},
   "source": [
    "And finally we can produce the desired plots. Each plot corresponds to one probe. There are four probes in the probeset – and therefore four plots. On the x axis we have the modal allele (see the line of code, which reads `x = muscle_metadata.modal_allele`). On the y axis we have expression levels of the relevant probes."
   ]
  },
  {
   "cell_type": "code",
   "execution_count": 205,
   "metadata": {},
   "outputs": [
    {
     "data": {
      "image/png": "[encoded data removed]",
      "text/plain": [
       "<Figure size 432x288 with 1 Axes>"
      ]
     },
     "metadata": {},
     "output_type": "display_data"
    },
    {
     "data": {
      "image/png": "[encoded data removed]",
      "text/plain": [
       "<Figure size 432x288 with 1 Axes>"
      ]
     },
     "metadata": {},
     "output_type": "display_data"
    },
    {
     "data": {
      "image/png": "[encoded data removed]",
      "text/plain": [
       "<Figure size 432x288 with 1 Axes>"
      ]
     },
     "metadata": {},
     "output_type": "display_data"
    },
    {
     "data": {
      "image/png": "[encoded data removed]",
      "text/plain": [
       "<Figure size 432x288 with 1 Axes>"
      ]
     },
     "metadata": {},
     "output_type": "display_data"
    }
   ],
   "source": [
    "import matplotlib.pyplot as plt\n",
    "%matplotlib inline\n",
    "\n",
    "for i in range(len(expression_indices)):\n",
    "    plt.figure()\n",
    "    x = muscle_metadata.modal_allele\n",
    "    y = data_to_plot[i]\n",
    "    plt.scatter(x, y, marker=\",\")\n",
    "    plt.plot(numpy.unique(x), numpy.poly1d(numpy.polyfit(x, y, 1))(numpy.unique(x)), linewidth=4, color=\"r\")\n",
    "    plt.xlabel(\"Measured allele length\")\n",
    "    plt.ylabel(\"Expression level of a probe belonging to probeset with id {}\".format(probeset_id))"
   ]
  },
  {
   "cell_type": "markdown",
   "metadata": {},
   "source": [
    "# Better plots of TNNI1 (\"butterfly plots\")"
   ]
  },
  {
   "cell_type": "markdown",
   "metadata": {},
   "source": [
    "As explained earlier it is actually very difficult to digest in the order of 50–500 plots per gene (and tens of thousands of plots per gene set!) and I don't think it's very helpful in generating human understanding. What we can do however, is generate p-values for each of these plots, log them, sign them (multiply each logged p-value by the absolute value of the corresponding slope) and plot these against the genomic coordinates of the probeset (unfortunately we don't get genomic coordinates of individual probes from Affymetrix; it's something we could potentially get from re-doing their alignment, but it's a minor problem, not really worth the effort to spend fixing). I call these plots \"butterfly plots\", because I draw symmetric signed p-value cut-offs (and Bonferroni corrected p-value cut-offs) on both sides of the x axis."
   ]
  },
  {
   "cell_type": "markdown",
   "metadata": {},
   "source": [
    "Let's import an interactive plotting library"
   ]
  },
  {
   "cell_type": "code",
   "execution_count": 206,
   "metadata": {},
   "outputs": [
    {
     "data": {
      "text/html": [
       "<script>requirejs.config({paths: { 'plotly': ['https://cdn.plot.ly/plotly-latest.min']},});if(!window.Plotly) {{require(['plotly'],function(plotly) {window.Plotly=plotly;});}}</script>"
      ],
      "text/vnd.plotly.v1+html": [
       "<script>requirejs.config({paths: { 'plotly': ['https://cdn.plot.ly/plotly-latest.min']},});if(!window.Plotly) {{require(['plotly'],function(plotly) {window.Plotly=plotly;});}}</script>"
      ]
     },
     "metadata": {},
     "output_type": "display_data"
    }
   ],
   "source": [
    "import plotly.offline as off\n",
    "off.init_notebook_mode(connected=True)\n",
    "import plotly.graph_objs as go"
   ]
  },
  {
   "cell_type": "markdown",
   "metadata": {},
   "source": [
    "We have to slightly restructure our probeset data to be able to meaningfully group our probes by probeset."
   ]
  },
  {
   "cell_type": "code",
   "execution_count": 207,
   "metadata": {},
   "outputs": [
    {
     "data": {
      "text/plain": [
       "array([[7.5249982 , 7.63270429, 6.7570621 , ..., 7.30362431, 4.07538763,\n",
       "        4.96832592],\n",
       "       [6.61859083, 6.79555424, 5.81531719, ..., 6.69770588, 3.68030573,\n",
       "        4.31666767],\n",
       "       [7.11576526, 7.47369801, 6.50871331, ..., 7.08512177, 4.8287062 ,\n",
       "        5.47282844],\n",
       "       ...,\n",
       "       [6.31846032, 5.64445534, 6.27299961, ..., 5.48287922, 3.98250503,\n",
       "        4.89285742],\n",
       "       [6.37941085, 5.96674352, 6.56266215, ..., 5.68082759, 5.5058914 ,\n",
       "        5.72326538],\n",
       "       [6.67036122, 5.93323466, 6.62628665, ..., 5.85159698, 4.05114774,\n",
       "        4.49419051]])"
      ]
     },
     "execution_count": 207,
     "metadata": {},
     "output_type": "execute_result"
    }
   ],
   "source": [
    "expression"
   ]
  },
  {
   "cell_type": "code",
   "execution_count": 208,
   "metadata": {},
   "outputs": [
    {
     "data": {
      "text/plain": [
       "['TNNI1',\n",
       " '2450824',\n",
       " 'TGAATGAGGTGATAAGACCCACGCC',\n",
       " 'chr1',\n",
       " '-',\n",
       " '201373522',\n",
       " '201373546']"
      ]
     },
     "execution_count": 208,
     "metadata": {},
     "output_type": "execute_result"
    }
   ],
   "source": [
    "probe_data[0]"
   ]
  },
  {
   "cell_type": "code",
   "execution_count": 209,
   "metadata": {},
   "outputs": [],
   "source": [
    "probesets = {}\n",
    "for i, (_, probeset_id, _, _, _, left, _) in enumerate(probe_data):\n",
    "    expression_values = probesets.setdefault(probeset_id, [left, []])\n",
    "    expression_values[1].append(expression[i,:])"
   ]
  },
  {
   "cell_type": "markdown",
   "metadata": {},
   "source": [
    "Let's prepare the butterfly plot here. The most important line is the line containing `-math.log(pvalue, 10) * (s/abs(s))`. I'd like to explain what's happening in that line in a bit more detail.\n",
    "\n",
    "1. `pvalue` is the two-tailed p-value of the null hypothesis that the slope of a simple linear regression of the (normalised) expression at a particular probe being studied, regressed against the modal allele length of all the patients being studied is equal to 0.\n",
    "2. `s` is the slope, which can be negative or positive depending on the type of correlation we're observing here.\n",
    "\n",
    "`s/abs(s)` is simply the sign of the slope, $+1$ if the slope was positive, $-1$ if the slope was negative.\n",
    "\n",
    "We log the pvalue with `math.log(pvalue, 10)` and then multiply it by the value of the slope. Because p-values are, by definition, between 0 and 1, their logs are negative. That's counter-intuitive, and we fix that by negating the whole expression. Finally we multiply it by the sign of the slope. In the end we get a plot, where dots above the x axis describes over-expressed exons, and the dots below the x axis describe under-expressed exons."
   ]
  },
  {
   "cell_type": "markdown",
   "metadata": {},
   "source": [
    "Finally, the two lines above the x axis are representing cut-offs for overxpression, the lower line representing the cut-off of 0.05 (which, by chance, should be exceeded by about 5% of probes in every single gene), and the higher line representing Bonferroni corrected 0.05 cut-off, with the correction taking into account the total number of probes in the gene (by chance, 5% of genes will have at least a single probe above that line).\n",
    "\n",
    "The lines below the x axis are similar for underexpressed exons."
   ]
  },
  {
   "cell_type": "code",
   "execution_count": 210,
   "metadata": {},
   "outputs": [],
   "source": [
    "import scipy\n",
    "import scipy.stats\n",
    "import math\n",
    "\n",
    "MAL = muscle_metadata.modal_allele\n",
    "\n",
    "def name_to_plot(probesets, gene_name):\n",
    "    \n",
    "    slope_pvalue_intensity_position = []\n",
    "    for probeset_id, probeset_data in probesets.items():\n",
    "        left = probeset_data[0]\n",
    "        probeset_expression = probeset_data[1]\n",
    "        for probeset in probeset_expression:\n",
    "            slope, intercept, r_value, p_value, std_err = scipy.stats.linregress(MAL, probeset)\n",
    "            slope_pvalue_intensity_position.append([slope, p_value, sum(probeset)/len(probeset), left, probeset_id])\n",
    "\n",
    "    zipped_properties = list(zip(*slope_pvalue_intensity_position))\n",
    "    slope, intensity, pvalues, position, probeset_belongs = zipped_properties[0], zipped_properties[2], zipped_properties[1], zipped_properties[3], zipped_properties[4]\n",
    "    signed_pvalues = [-math.log(pvalue, 10) * (s/abs(s)) for pvalue, s in zip(pvalues, slope)]\n",
    "    \n",
    "    data = [dict(\n",
    "      type = 'scatter',\n",
    "      x = position,\n",
    "      y = signed_pvalues,\n",
    "      mode = 'markers',\n",
    "      transforms = [dict(\n",
    "        type = 'groupby',\n",
    "        groups = probeset_belongs\n",
    "      )]\n",
    "    ),\n",
    "    go.Scatter(\n",
    "      x = position,\n",
    "      y = [-math.log(0.05, 10)] * len(position),\n",
    "      mode = 'lines',\n",
    "      name = 'up @ 0.05',\n",
    "    ),\n",
    "    go.Scatter(\n",
    "      x = position,\n",
    "      y = [-math.log(0.05/len(position), 10)] * len(position),\n",
    "      mode = 'lines',\n",
    "      name = 'up @ Bonferroni 0.05'\n",
    "    ),\n",
    "    go.Scatter(\n",
    "      x = position,\n",
    "      y = [math.log(0.05, 10)] * len(position),\n",
    "      mode = 'lines',\n",
    "      name = 'down @ 0.05'\n",
    "    ),\n",
    "    go.Scatter(\n",
    "      x = position,\n",
    "      y = [math.log(0.05/len(position), 10)] * len(position),\n",
    "      mode = 'lines',\n",
    "      name = 'down @ Bonferroni 0.05'\n",
    "    )]\n",
    "\n",
    "    #off.iplot({'data': data}, validate=False)\n",
    "    off.iplot({'data': data, 'layout': dict(title = gene_name)}, validate=False)"
   ]
  },
  {
   "cell_type": "code",
   "execution_count": 211,
   "metadata": {},
   "outputs": [
    {
     "data": {
      "application/vnd.plotly.v1+json": {
       "data": [
        {
         "mode": "markers",
         "transforms": [
          {
           "groups": [
            "2450831",
            "2450831",
            "2450831",
            "2450831",
            "2450834",
            "2450834",
            "2450834",
            "2450834",
            "2450830",
            "2450830",
            "2450830",
            "2450830",
            "2450838",
            "2450838",
            "2450838",
            "2450838",
            "2450829",
            "2450829",
            "2450829",
            "2450829",
            "2450839",
            "2450839",
            "2450839",
            "2450839",
            "2450832",
            "2450832",
            "2450832",
            "2450832",
            "2450828",
            "2450828",
            "2450828",
            "2450828",
            "2450840",
            "2450840",
            "2450840",
            "2450840",
            "2450826",
            "2450826",
            "2450826",
            "2450826",
            "2450836",
            "2450836",
            "2450836",
            "2450836",
            "2450824",
            "2450824",
            "2450824",
            "2450824",
            "2450833",
            "2450833",
            "2450833",
            "2450833",
            "2450825",
            "2450825",
            "2450825",
            "2450825",
            "2450827",
            "2450827",
            "2450827",
            "2450827"
           ],
           "type": "groupby"
          }
         ],
         "type": "scatter",
         "x": [
          "201380608",
          "201380608",
          "201380608",
          "201380608",
          "201384348",
          "201384348",
          "201384348",
          "201384348",
          "201379465",
          "201379465",
          "201379465",
          "201379465",
          "201396335",
          "201396335",
          "201396335",
          "201396335",
          "201379335",
          "201379335",
          "201379335",
          "201379335",
          "201398190",
          "201398190",
          "201398190",
          "201398190",
          "201382188",
          "201382188",
          "201382188",
          "201382188",
          "201378311",
          "201378311",
          "201378311",
          "201378311",
          "201398886",
          "201398886",
          "201398886",
          "201398886",
          "201377376",
          "201377376",
          "201377376",
          "201377376",
          "201390828",
          "201390828",
          "201390828",
          "201390828",
          "201373522",
          "201373522",
          "201373522",
          "201373522",
          "201383658",
          "201383658",
          "201383658",
          "201383658",
          "201375254",
          "201375254",
          "201375254",
          "201375254",
          "201378167",
          "201378167",
          "201378167",
          "201378167"
         ],
         "y": [
          -1.6646512116528904,
          -1.6230414212889424,
          -1.8885903814509677,
          -1.8823032332144167,
          -1.7672719475703662,
          -2.1884965244652514,
          -1.76121935556034,
          -1.8532898310216226,
          -1.7861603634727083,
          -1.6101014042474917,
          -1.7541272697746095,
          -1.7809564637821458,
          -0.5936056530793736,
          -0.4263324367768832,
          -0.1977246111014161,
          -0.3354589306816695,
          -4.612022004174114,
          -4.1463282153335035,
          -4.5229433736948215,
          -4.081560265418805,
          -0.8765203568341801,
          -1.2386369249317803,
          -0.8687753815334777,
          -0.10451174569865963,
          -1.5640035824109706,
          -1.6387996730107501,
          -1.7463887849303992,
          -1.6233806735848446,
          -1.8240845805219141,
          -1.9109335995407162,
          -1.7694532438894979,
          -1.8683997229438345,
          -1.6093565442801538,
          -0.35117859272854784,
          -1.5819210284512182,
          -1.0959681518223452,
          -1.7664676824450813,
          -3.183558992137542,
          -1.0004008710202552,
          -2.616745899944766,
          -1.6746848927429692,
          -1.6967026805425567,
          -1.51069007004898,
          -1.923995799249987,
          -2.9219597520643528,
          -2.3519478538171095,
          -3.7657608538633607,
          -2.423125049002306,
          -1.9818762617073005,
          -1.991246887472591,
          -2.0094190175520854,
          -1.613032544164964,
          -2.692428437458705,
          -2.759502741242622,
          -3.5185123327021386,
          -2.8009127495276327,
          -1.3847669168794876,
          -1.6183418863424048,
          -1.8713555027010729,
          -1.954607039380089
         ]
        },
        {
         "mode": "lines",
         "name": "up @ 0.05",
         "type": "scatter",
         "x": [
          "201380608",
          "201380608",
          "201380608",
          "201380608",
          "201384348",
          "201384348",
          "201384348",
          "201384348",
          "201379465",
          "201379465",
          "201379465",
          "201379465",
          "201396335",
          "201396335",
          "201396335",
          "201396335",
          "201379335",
          "201379335",
          "201379335",
          "201379335",
          "201398190",
          "201398190",
          "201398190",
          "201398190",
          "201382188",
          "201382188",
          "201382188",
          "201382188",
          "201378311",
          "201378311",
          "201378311",
          "201378311",
          "201398886",
          "201398886",
          "201398886",
          "201398886",
          "201377376",
          "201377376",
          "201377376",
          "201377376",
          "201390828",
          "201390828",
          "201390828",
          "201390828",
          "201373522",
          "201373522",
          "201373522",
          "201373522",
          "201383658",
          "201383658",
          "201383658",
          "201383658",
          "201375254",
          "201375254",
          "201375254",
          "201375254",
          "201378167",
          "201378167",
          "201378167",
          "201378167"
         ],
         "y": [
          1.301029995663981,
          1.301029995663981,
          1.301029995663981,
          1.301029995663981,
          1.301029995663981,
          1.301029995663981,
          1.301029995663981,
          1.301029995663981,
          1.301029995663981,
          1.301029995663981,
          1.301029995663981,
          1.301029995663981,
          1.301029995663981,
          1.301029995663981,
          1.301029995663981,
          1.301029995663981,
          1.301029995663981,
          1.301029995663981,
          1.301029995663981,
          1.301029995663981,
          1.301029995663981,
          1.301029995663981,
          1.301029995663981,
          1.301029995663981,
          1.301029995663981,
          1.301029995663981,
          1.301029995663981,
          1.301029995663981,
          1.301029995663981,
          1.301029995663981,
          1.301029995663981,
          1.301029995663981,
          1.301029995663981,
          1.301029995663981,
          1.301029995663981,
          1.301029995663981,
          1.301029995663981,
          1.301029995663981,
          1.301029995663981,
          1.301029995663981,
          1.301029995663981,
          1.301029995663981,
          1.301029995663981,
          1.301029995663981,
          1.301029995663981,
          1.301029995663981,
          1.301029995663981,
          1.301029995663981,
          1.301029995663981,
          1.301029995663981,
          1.301029995663981,
          1.301029995663981,
          1.301029995663981,
          1.301029995663981,
          1.301029995663981,
          1.301029995663981,
          1.301029995663981,
          1.301029995663981,
          1.301029995663981,
          1.301029995663981
         ]
        },
        {
         "mode": "lines",
         "name": "up @ Bonferroni 0.05",
         "type": "scatter",
         "x": [
          "201380608",
          "201380608",
          "201380608",
          "201380608",
          "201384348",
          "201384348",
          "201384348",
          "201384348",
          "201379465",
          "201379465",
          "201379465",
          "201379465",
          "201396335",
          "201396335",
          "201396335",
          "201396335",
          "201379335",
          "201379335",
          "201379335",
          "201379335",
          "201398190",
          "201398190",
          "201398190",
          "201398190",
          "201382188",
          "201382188",
          "201382188",
          "201382188",
          "201378311",
          "201378311",
          "201378311",
          "201378311",
          "201398886",
          "201398886",
          "201398886",
          "201398886",
          "201377376",
          "201377376",
          "201377376",
          "201377376",
          "201390828",
          "201390828",
          "201390828",
          "201390828",
          "201373522",
          "201373522",
          "201373522",
          "201373522",
          "201383658",
          "201383658",
          "201383658",
          "201383658",
          "201375254",
          "201375254",
          "201375254",
          "201375254",
          "201378167",
          "201378167",
          "201378167",
          "201378167"
         ],
         "y": [
          3.0791812460476247,
          3.0791812460476247,
          3.0791812460476247,
          3.0791812460476247,
          3.0791812460476247,
          3.0791812460476247,
          3.0791812460476247,
          3.0791812460476247,
          3.0791812460476247,
          3.0791812460476247,
          3.0791812460476247,
          3.0791812460476247,
          3.0791812460476247,
          3.0791812460476247,
          3.0791812460476247,
          3.0791812460476247,
          3.0791812460476247,
          3.0791812460476247,
          3.0791812460476247,
          3.0791812460476247,
          3.0791812460476247,
          3.0791812460476247,
          3.0791812460476247,
          3.0791812460476247,
          3.0791812460476247,
          3.0791812460476247,
          3.0791812460476247,
          3.0791812460476247,
          3.0791812460476247,
          3.0791812460476247,
          3.0791812460476247,
          3.0791812460476247,
          3.0791812460476247,
          3.0791812460476247,
          3.0791812460476247,
          3.0791812460476247,
          3.0791812460476247,
          3.0791812460476247,
          3.0791812460476247,
          3.0791812460476247,
          3.0791812460476247,
          3.0791812460476247,
          3.0791812460476247,
          3.0791812460476247,
          3.0791812460476247,
          3.0791812460476247,
          3.0791812460476247,
          3.0791812460476247,
          3.0791812460476247,
          3.0791812460476247,
          3.0791812460476247,
          3.0791812460476247,
          3.0791812460476247,
          3.0791812460476247,
          3.0791812460476247,
          3.0791812460476247,
          3.0791812460476247,
          3.0791812460476247,
          3.0791812460476247,
          3.0791812460476247
         ]
        },
        {
         "mode": "lines",
         "name": "down @ 0.05",
         "type": "scatter",
         "x": [
          "201380608",
          "201380608",
          "201380608",
          "201380608",
          "201384348",
          "201384348",
          "201384348",
          "201384348",
          "201379465",
          "201379465",
          "201379465",
          "201379465",
          "201396335",
          "201396335",
          "201396335",
          "201396335",
          "201379335",
          "201379335",
          "201379335",
          "201379335",
          "201398190",
          "201398190",
          "201398190",
          "201398190",
          "201382188",
          "201382188",
          "201382188",
          "201382188",
          "201378311",
          "201378311",
          "201378311",
          "201378311",
          "201398886",
          "201398886",
          "201398886",
          "201398886",
          "201377376",
          "201377376",
          "201377376",
          "201377376",
          "201390828",
          "201390828",
          "201390828",
          "201390828",
          "201373522",
          "201373522",
          "201373522",
          "201373522",
          "201383658",
          "201383658",
          "201383658",
          "201383658",
          "201375254",
          "201375254",
          "201375254",
          "201375254",
          "201378167",
          "201378167",
          "201378167",
          "201378167"
         ],
         "y": [
          -1.301029995663981,
          -1.301029995663981,
          -1.301029995663981,
          -1.301029995663981,
          -1.301029995663981,
          -1.301029995663981,
          -1.301029995663981,
          -1.301029995663981,
          -1.301029995663981,
          -1.301029995663981,
          -1.301029995663981,
          -1.301029995663981,
          -1.301029995663981,
          -1.301029995663981,
          -1.301029995663981,
          -1.301029995663981,
          -1.301029995663981,
          -1.301029995663981,
          -1.301029995663981,
          -1.301029995663981,
          -1.301029995663981,
          -1.301029995663981,
          -1.301029995663981,
          -1.301029995663981,
          -1.301029995663981,
          -1.301029995663981,
          -1.301029995663981,
          -1.301029995663981,
          -1.301029995663981,
          -1.301029995663981,
          -1.301029995663981,
          -1.301029995663981,
          -1.301029995663981,
          -1.301029995663981,
          -1.301029995663981,
          -1.301029995663981,
          -1.301029995663981,
          -1.301029995663981,
          -1.301029995663981,
          -1.301029995663981,
          -1.301029995663981,
          -1.301029995663981,
          -1.301029995663981,
          -1.301029995663981,
          -1.301029995663981,
          -1.301029995663981,
          -1.301029995663981,
          -1.301029995663981,
          -1.301029995663981,
          -1.301029995663981,
          -1.301029995663981,
          -1.301029995663981,
          -1.301029995663981,
          -1.301029995663981,
          -1.301029995663981,
          -1.301029995663981,
          -1.301029995663981,
          -1.301029995663981,
          -1.301029995663981,
          -1.301029995663981
         ]
        },
        {
         "mode": "lines",
         "name": "down @ Bonferroni 0.05",
         "type": "scatter",
         "x": [
          "201380608",
          "201380608",
          "201380608",
          "201380608",
          "201384348",
          "201384348",
          "201384348",
          "201384348",
          "201379465",
          "201379465",
          "201379465",
          "201379465",
          "201396335",
          "201396335",
          "201396335",
          "201396335",
          "201379335",
          "201379335",
          "201379335",
          "201379335",
          "201398190",
          "201398190",
          "201398190",
          "201398190",
          "201382188",
          "201382188",
          "201382188",
          "201382188",
          "201378311",
          "201378311",
          "201378311",
          "201378311",
          "201398886",
          "201398886",
          "201398886",
          "201398886",
          "201377376",
          "201377376",
          "201377376",
          "201377376",
          "201390828",
          "201390828",
          "201390828",
          "201390828",
          "201373522",
          "201373522",
          "201373522",
          "201373522",
          "201383658",
          "201383658",
          "201383658",
          "201383658",
          "201375254",
          "201375254",
          "201375254",
          "201375254",
          "201378167",
          "201378167",
          "201378167",
          "201378167"
         ],
         "y": [
          -3.0791812460476247,
          -3.0791812460476247,
          -3.0791812460476247,
          -3.0791812460476247,
          -3.0791812460476247,
          -3.0791812460476247,
          -3.0791812460476247,
          -3.0791812460476247,
          -3.0791812460476247,
          -3.0791812460476247,
          -3.0791812460476247,
          -3.0791812460476247,
          -3.0791812460476247,
          -3.0791812460476247,
          -3.0791812460476247,
          -3.0791812460476247,
          -3.0791812460476247,
          -3.0791812460476247,
          -3.0791812460476247,
          -3.0791812460476247,
          -3.0791812460476247,
          -3.0791812460476247,
          -3.0791812460476247,
          -3.0791812460476247,
          -3.0791812460476247,
          -3.0791812460476247,
          -3.0791812460476247,
          -3.0791812460476247,
          -3.0791812460476247,
          -3.0791812460476247,
          -3.0791812460476247,
          -3.0791812460476247,
          -3.0791812460476247,
          -3.0791812460476247,
          -3.0791812460476247,
          -3.0791812460476247,
          -3.0791812460476247,
          -3.0791812460476247,
          -3.0791812460476247,
          -3.0791812460476247,
          -3.0791812460476247,
          -3.0791812460476247,
          -3.0791812460476247,
          -3.0791812460476247,
          -3.0791812460476247,
          -3.0791812460476247,
          -3.0791812460476247,
          -3.0791812460476247,
          -3.0791812460476247,
          -3.0791812460476247,
          -3.0791812460476247,
          -3.0791812460476247,
          -3.0791812460476247,
          -3.0791812460476247,
          -3.0791812460476247,
          -3.0791812460476247,
          -3.0791812460476247,
          -3.0791812460476247,
          -3.0791812460476247,
          -3.0791812460476247
         ]
        }
       ],
       "layout": {
        "title": "TNNI1"
       }
      },
      "text/html": [
       "<div id=\"a3d52f96-a06d-4179-b2f5-d964a905fd5e\" style=\"height: 525px; width: 100%;\" class=\"plotly-graph-div\"></div><script type=\"text/javascript\">require([\"plotly\"], function(Plotly) { window.PLOTLYENV=window.PLOTLYENV || {};window.PLOTLYENV.BASE_URL=\"https://plot.ly\";Plotly.newPlot(\"a3d52f96-a06d-4179-b2f5-d964a905fd5e\", [{\"y\": [-1.6646512116528904, -1.6230414212889424, -1.8885903814509677, -1.8823032332144167, -1.7672719475703662, -2.1884965244652514, -1.76121935556034, -1.8532898310216226, -1.7861603634727083, -1.6101014042474917, -1.7541272697746095, -1.7809564637821458, -0.5936056530793736, -0.4263324367768832, -0.1977246111014161, -0.3354589306816695, -4.612022004174114, -4.1463282153335035, -4.5229433736948215, -4.081560265418805, -0.8765203568341801, -1.2386369249317803, -0.8687753815334777, -0.10451174569865963, -1.5640035824109706, -1.6387996730107501, -1.7463887849303992, -1.6233806735848446, -1.8240845805219141, -1.9109335995407162, -1.7694532438894979, -1.8683997229438345, -1.6093565442801538, -0.35117859272854784, -1.5819210284512182, -1.0959681518223452, -1.7664676824450813, -3.183558992137542, -1.0004008710202552, -2.616745899944766, -1.6746848927429692, -1.6967026805425567, -1.51069007004898, -1.923995799249987, -2.9219597520643528, -2.3519478538171095, -3.7657608538633607, -2.423125049002306, -1.9818762617073005, -1.991246887472591, -2.0094190175520854, -1.613032544164964, -2.692428437458705, -2.759502741242622, -3.5185123327021386, -2.8009127495276327, -1.3847669168794876, -1.6183418863424048, -1.8713555027010729, -1.954607039380089], \"transforms\": [{\"type\": \"groupby\", \"groups\": [\"2450831\", \"2450831\", \"2450831\", \"2450831\", \"2450834\", \"2450834\", \"2450834\", \"2450834\", \"2450830\", \"2450830\", \"2450830\", \"2450830\", \"2450838\", \"2450838\", \"2450838\", \"2450838\", \"2450829\", \"2450829\", \"2450829\", \"2450829\", \"2450839\", \"2450839\", \"2450839\", \"2450839\", \"2450832\", \"2450832\", \"2450832\", \"2450832\", \"2450828\", \"2450828\", \"2450828\", \"2450828\", \"2450840\", \"2450840\", \"2450840\", \"2450840\", \"2450826\", \"2450826\", \"2450826\", \"2450826\", \"2450836\", \"2450836\", \"2450836\", \"2450836\", \"2450824\", \"2450824\", \"2450824\", \"2450824\", \"2450833\", \"2450833\", \"2450833\", \"2450833\", \"2450825\", \"2450825\", \"2450825\", \"2450825\", \"2450827\", \"2450827\", \"2450827\", \"2450827\"]}], \"type\": \"scatter\", \"mode\": \"markers\", \"x\": [\"201380608\", \"201380608\", \"201380608\", \"201380608\", \"201384348\", \"201384348\", \"201384348\", \"201384348\", \"201379465\", \"201379465\", \"201379465\", \"201379465\", \"201396335\", \"201396335\", \"201396335\", \"201396335\", \"201379335\", \"201379335\", \"201379335\", \"201379335\", \"201398190\", \"201398190\", \"201398190\", \"201398190\", \"201382188\", \"201382188\", \"201382188\", \"201382188\", \"201378311\", \"201378311\", \"201378311\", \"201378311\", \"201398886\", \"201398886\", \"201398886\", \"201398886\", \"201377376\", \"201377376\", \"201377376\", \"201377376\", \"201390828\", \"201390828\", \"201390828\", \"201390828\", \"201373522\", \"201373522\", \"201373522\", \"201373522\", \"201383658\", \"201383658\", \"201383658\", \"201383658\", \"201375254\", \"201375254\", \"201375254\", \"201375254\", \"201378167\", \"201378167\", \"201378167\", \"201378167\"]}, {\"y\": [1.301029995663981, 1.301029995663981, 1.301029995663981, 1.301029995663981, 1.301029995663981, 1.301029995663981, 1.301029995663981, 1.301029995663981, 1.301029995663981, 1.301029995663981, 1.301029995663981, 1.301029995663981, 1.301029995663981, 1.301029995663981, 1.301029995663981, 1.301029995663981, 1.301029995663981, 1.301029995663981, 1.301029995663981, 1.301029995663981, 1.301029995663981, 1.301029995663981, 1.301029995663981, 1.301029995663981, 1.301029995663981, 1.301029995663981, 1.301029995663981, 1.301029995663981, 1.301029995663981, 1.301029995663981, 1.301029995663981, 1.301029995663981, 1.301029995663981, 1.301029995663981, 1.301029995663981, 1.301029995663981, 1.301029995663981, 1.301029995663981, 1.301029995663981, 1.301029995663981, 1.301029995663981, 1.301029995663981, 1.301029995663981, 1.301029995663981, 1.301029995663981, 1.301029995663981, 1.301029995663981, 1.301029995663981, 1.301029995663981, 1.301029995663981, 1.301029995663981, 1.301029995663981, 1.301029995663981, 1.301029995663981, 1.301029995663981, 1.301029995663981, 1.301029995663981, 1.301029995663981, 1.301029995663981, 1.301029995663981], \"name\": \"up @ 0.05\", \"type\": \"scatter\", \"mode\": \"lines\", \"x\": [\"201380608\", \"201380608\", \"201380608\", \"201380608\", \"201384348\", \"201384348\", \"201384348\", \"201384348\", \"201379465\", \"201379465\", \"201379465\", \"201379465\", \"201396335\", \"201396335\", \"201396335\", \"201396335\", \"201379335\", \"201379335\", \"201379335\", \"201379335\", \"201398190\", \"201398190\", \"201398190\", \"201398190\", \"201382188\", \"201382188\", \"201382188\", \"201382188\", \"201378311\", \"201378311\", \"201378311\", \"201378311\", \"201398886\", \"201398886\", \"201398886\", \"201398886\", \"201377376\", \"201377376\", \"201377376\", \"201377376\", \"201390828\", \"201390828\", \"201390828\", \"201390828\", \"201373522\", \"201373522\", \"201373522\", \"201373522\", \"201383658\", \"201383658\", \"201383658\", \"201383658\", \"201375254\", \"201375254\", \"201375254\", \"201375254\", \"201378167\", \"201378167\", \"201378167\", \"201378167\"]}, {\"y\": [3.0791812460476247, 3.0791812460476247, 3.0791812460476247, 3.0791812460476247, 3.0791812460476247, 3.0791812460476247, 3.0791812460476247, 3.0791812460476247, 3.0791812460476247, 3.0791812460476247, 3.0791812460476247, 3.0791812460476247, 3.0791812460476247, 3.0791812460476247, 3.0791812460476247, 3.0791812460476247, 3.0791812460476247, 3.0791812460476247, 3.0791812460476247, 3.0791812460476247, 3.0791812460476247, 3.0791812460476247, 3.0791812460476247, 3.0791812460476247, 3.0791812460476247, 3.0791812460476247, 3.0791812460476247, 3.0791812460476247, 3.0791812460476247, 3.0791812460476247, 3.0791812460476247, 3.0791812460476247, 3.0791812460476247, 3.0791812460476247, 3.0791812460476247, 3.0791812460476247, 3.0791812460476247, 3.0791812460476247, 3.0791812460476247, 3.0791812460476247, 3.0791812460476247, 3.0791812460476247, 3.0791812460476247, 3.0791812460476247, 3.0791812460476247, 3.0791812460476247, 3.0791812460476247, 3.0791812460476247, 3.0791812460476247, 3.0791812460476247, 3.0791812460476247, 3.0791812460476247, 3.0791812460476247, 3.0791812460476247, 3.0791812460476247, 3.0791812460476247, 3.0791812460476247, 3.0791812460476247, 3.0791812460476247, 3.0791812460476247], \"name\": \"up @ Bonferroni 0.05\", \"type\": \"scatter\", \"mode\": \"lines\", \"x\": [\"201380608\", \"201380608\", \"201380608\", \"201380608\", \"201384348\", \"201384348\", \"201384348\", \"201384348\", \"201379465\", \"201379465\", \"201379465\", \"201379465\", \"201396335\", \"201396335\", \"201396335\", \"201396335\", \"201379335\", \"201379335\", \"201379335\", \"201379335\", \"201398190\", \"201398190\", \"201398190\", \"201398190\", \"201382188\", \"201382188\", \"201382188\", \"201382188\", \"201378311\", \"201378311\", \"201378311\", \"201378311\", \"201398886\", \"201398886\", \"201398886\", \"201398886\", \"201377376\", \"201377376\", \"201377376\", \"201377376\", \"201390828\", \"201390828\", \"201390828\", \"201390828\", \"201373522\", \"201373522\", \"201373522\", \"201373522\", \"201383658\", \"201383658\", \"201383658\", \"201383658\", \"201375254\", \"201375254\", \"201375254\", \"201375254\", \"201378167\", \"201378167\", \"201378167\", \"201378167\"]}, {\"y\": [-1.301029995663981, -1.301029995663981, -1.301029995663981, -1.301029995663981, -1.301029995663981, -1.301029995663981, -1.301029995663981, -1.301029995663981, -1.301029995663981, -1.301029995663981, -1.301029995663981, -1.301029995663981, -1.301029995663981, -1.301029995663981, -1.301029995663981, -1.301029995663981, -1.301029995663981, -1.301029995663981, -1.301029995663981, -1.301029995663981, -1.301029995663981, -1.301029995663981, -1.301029995663981, -1.301029995663981, -1.301029995663981, -1.301029995663981, -1.301029995663981, -1.301029995663981, -1.301029995663981, -1.301029995663981, -1.301029995663981, -1.301029995663981, -1.301029995663981, -1.301029995663981, -1.301029995663981, -1.301029995663981, -1.301029995663981, -1.301029995663981, -1.301029995663981, -1.301029995663981, -1.301029995663981, -1.301029995663981, -1.301029995663981, -1.301029995663981, -1.301029995663981, -1.301029995663981, -1.301029995663981, -1.301029995663981, -1.301029995663981, -1.301029995663981, -1.301029995663981, -1.301029995663981, -1.301029995663981, -1.301029995663981, -1.301029995663981, -1.301029995663981, -1.301029995663981, -1.301029995663981, -1.301029995663981, -1.301029995663981], \"name\": \"down @ 0.05\", \"type\": \"scatter\", \"mode\": \"lines\", \"x\": [\"201380608\", \"201380608\", \"201380608\", \"201380608\", \"201384348\", \"201384348\", \"201384348\", \"201384348\", \"201379465\", \"201379465\", \"201379465\", \"201379465\", \"201396335\", \"201396335\", \"201396335\", \"201396335\", \"201379335\", \"201379335\", \"201379335\", \"201379335\", \"201398190\", \"201398190\", \"201398190\", \"201398190\", \"201382188\", \"201382188\", \"201382188\", \"201382188\", \"201378311\", \"201378311\", \"201378311\", \"201378311\", \"201398886\", \"201398886\", \"201398886\", \"201398886\", \"201377376\", \"201377376\", \"201377376\", \"201377376\", \"201390828\", \"201390828\", \"201390828\", \"201390828\", \"201373522\", \"201373522\", \"201373522\", \"201373522\", \"201383658\", \"201383658\", \"201383658\", \"201383658\", \"201375254\", \"201375254\", \"201375254\", \"201375254\", \"201378167\", \"201378167\", \"201378167\", \"201378167\"]}, {\"y\": [-3.0791812460476247, -3.0791812460476247, -3.0791812460476247, -3.0791812460476247, -3.0791812460476247, -3.0791812460476247, -3.0791812460476247, -3.0791812460476247, -3.0791812460476247, -3.0791812460476247, -3.0791812460476247, -3.0791812460476247, -3.0791812460476247, -3.0791812460476247, -3.0791812460476247, -3.0791812460476247, -3.0791812460476247, -3.0791812460476247, -3.0791812460476247, -3.0791812460476247, -3.0791812460476247, -3.0791812460476247, -3.0791812460476247, -3.0791812460476247, -3.0791812460476247, -3.0791812460476247, -3.0791812460476247, -3.0791812460476247, -3.0791812460476247, -3.0791812460476247, -3.0791812460476247, -3.0791812460476247, -3.0791812460476247, -3.0791812460476247, -3.0791812460476247, -3.0791812460476247, -3.0791812460476247, -3.0791812460476247, -3.0791812460476247, -3.0791812460476247, -3.0791812460476247, -3.0791812460476247, -3.0791812460476247, -3.0791812460476247, -3.0791812460476247, -3.0791812460476247, -3.0791812460476247, -3.0791812460476247, -3.0791812460476247, -3.0791812460476247, -3.0791812460476247, -3.0791812460476247, -3.0791812460476247, -3.0791812460476247, -3.0791812460476247, -3.0791812460476247, -3.0791812460476247, -3.0791812460476247, -3.0791812460476247, -3.0791812460476247], \"name\": \"down @ Bonferroni 0.05\", \"type\": \"scatter\", \"mode\": \"lines\", \"x\": [\"201380608\", \"201380608\", \"201380608\", \"201380608\", \"201384348\", \"201384348\", \"201384348\", \"201384348\", \"201379465\", \"201379465\", \"201379465\", \"201379465\", \"201396335\", \"201396335\", \"201396335\", \"201396335\", \"201379335\", \"201379335\", \"201379335\", \"201379335\", \"201398190\", \"201398190\", \"201398190\", \"201398190\", \"201382188\", \"201382188\", \"201382188\", \"201382188\", \"201378311\", \"201378311\", \"201378311\", \"201378311\", \"201398886\", \"201398886\", \"201398886\", \"201398886\", \"201377376\", \"201377376\", \"201377376\", \"201377376\", \"201390828\", \"201390828\", \"201390828\", \"201390828\", \"201373522\", \"201373522\", \"201373522\", \"201373522\", \"201383658\", \"201383658\", \"201383658\", \"201383658\", \"201375254\", \"201375254\", \"201375254\", \"201375254\", \"201378167\", \"201378167\", \"201378167\", \"201378167\"]}], {\"title\": \"TNNI1\"}, {\"showLink\": true, \"linkText\": \"Export to plot.ly\"})});</script>"
      ],
      "text/vnd.plotly.v1+html": [
       "<div id=\"a3d52f96-a06d-4179-b2f5-d964a905fd5e\" style=\"height: 525px; width: 100%;\" class=\"plotly-graph-div\"></div><script type=\"text/javascript\">require([\"plotly\"], function(Plotly) { window.PLOTLYENV=window.PLOTLYENV || {};window.PLOTLYENV.BASE_URL=\"https://plot.ly\";Plotly.newPlot(\"a3d52f96-a06d-4179-b2f5-d964a905fd5e\", [{\"y\": [-1.6646512116528904, -1.6230414212889424, -1.8885903814509677, -1.8823032332144167, -1.7672719475703662, -2.1884965244652514, -1.76121935556034, -1.8532898310216226, -1.7861603634727083, -1.6101014042474917, -1.7541272697746095, -1.7809564637821458, -0.5936056530793736, -0.4263324367768832, -0.1977246111014161, -0.3354589306816695, -4.612022004174114, -4.1463282153335035, -4.5229433736948215, -4.081560265418805, -0.8765203568341801, -1.2386369249317803, -0.8687753815334777, -0.10451174569865963, -1.5640035824109706, -1.6387996730107501, -1.7463887849303992, -1.6233806735848446, -1.8240845805219141, -1.9109335995407162, -1.7694532438894979, -1.8683997229438345, -1.6093565442801538, -0.35117859272854784, -1.5819210284512182, -1.0959681518223452, -1.7664676824450813, -3.183558992137542, -1.0004008710202552, -2.616745899944766, -1.6746848927429692, -1.6967026805425567, -1.51069007004898, -1.923995799249987, -2.9219597520643528, -2.3519478538171095, -3.7657608538633607, -2.423125049002306, -1.9818762617073005, -1.991246887472591, -2.0094190175520854, -1.613032544164964, -2.692428437458705, -2.759502741242622, -3.5185123327021386, -2.8009127495276327, -1.3847669168794876, -1.6183418863424048, -1.8713555027010729, -1.954607039380089], \"transforms\": [{\"type\": \"groupby\", \"groups\": [\"2450831\", \"2450831\", \"2450831\", \"2450831\", \"2450834\", \"2450834\", \"2450834\", \"2450834\", \"2450830\", \"2450830\", \"2450830\", \"2450830\", \"2450838\", \"2450838\", \"2450838\", \"2450838\", \"2450829\", \"2450829\", \"2450829\", \"2450829\", \"2450839\", \"2450839\", \"2450839\", \"2450839\", \"2450832\", \"2450832\", \"2450832\", \"2450832\", \"2450828\", \"2450828\", \"2450828\", \"2450828\", \"2450840\", \"2450840\", \"2450840\", \"2450840\", \"2450826\", \"2450826\", \"2450826\", \"2450826\", \"2450836\", \"2450836\", \"2450836\", \"2450836\", \"2450824\", \"2450824\", \"2450824\", \"2450824\", \"2450833\", \"2450833\", \"2450833\", \"2450833\", \"2450825\", \"2450825\", \"2450825\", \"2450825\", \"2450827\", \"2450827\", \"2450827\", \"2450827\"]}], \"type\": \"scatter\", \"mode\": \"markers\", \"x\": [\"201380608\", \"201380608\", \"201380608\", \"201380608\", \"201384348\", \"201384348\", \"201384348\", \"201384348\", \"201379465\", \"201379465\", \"201379465\", \"201379465\", \"201396335\", \"201396335\", \"201396335\", \"201396335\", \"201379335\", \"201379335\", \"201379335\", \"201379335\", \"201398190\", \"201398190\", \"201398190\", \"201398190\", \"201382188\", \"201382188\", \"201382188\", \"201382188\", \"201378311\", \"201378311\", \"201378311\", \"201378311\", \"201398886\", \"201398886\", \"201398886\", \"201398886\", \"201377376\", \"201377376\", \"201377376\", \"201377376\", \"201390828\", \"201390828\", \"201390828\", \"201390828\", \"201373522\", \"201373522\", \"201373522\", \"201373522\", \"201383658\", \"201383658\", \"201383658\", \"201383658\", \"201375254\", \"201375254\", \"201375254\", \"201375254\", \"201378167\", \"201378167\", \"201378167\", \"201378167\"]}, {\"y\": [1.301029995663981, 1.301029995663981, 1.301029995663981, 1.301029995663981, 1.301029995663981, 1.301029995663981, 1.301029995663981, 1.301029995663981, 1.301029995663981, 1.301029995663981, 1.301029995663981, 1.301029995663981, 1.301029995663981, 1.301029995663981, 1.301029995663981, 1.301029995663981, 1.301029995663981, 1.301029995663981, 1.301029995663981, 1.301029995663981, 1.301029995663981, 1.301029995663981, 1.301029995663981, 1.301029995663981, 1.301029995663981, 1.301029995663981, 1.301029995663981, 1.301029995663981, 1.301029995663981, 1.301029995663981, 1.301029995663981, 1.301029995663981, 1.301029995663981, 1.301029995663981, 1.301029995663981, 1.301029995663981, 1.301029995663981, 1.301029995663981, 1.301029995663981, 1.301029995663981, 1.301029995663981, 1.301029995663981, 1.301029995663981, 1.301029995663981, 1.301029995663981, 1.301029995663981, 1.301029995663981, 1.301029995663981, 1.301029995663981, 1.301029995663981, 1.301029995663981, 1.301029995663981, 1.301029995663981, 1.301029995663981, 1.301029995663981, 1.301029995663981, 1.301029995663981, 1.301029995663981, 1.301029995663981, 1.301029995663981], \"name\": \"up @ 0.05\", \"type\": \"scatter\", \"mode\": \"lines\", \"x\": [\"201380608\", \"201380608\", \"201380608\", \"201380608\", \"201384348\", \"201384348\", \"201384348\", \"201384348\", \"201379465\", \"201379465\", \"201379465\", \"201379465\", \"201396335\", \"201396335\", \"201396335\", \"201396335\", \"201379335\", \"201379335\", \"201379335\", \"201379335\", \"201398190\", \"201398190\", \"201398190\", \"201398190\", \"201382188\", \"201382188\", \"201382188\", \"201382188\", \"201378311\", \"201378311\", \"201378311\", \"201378311\", \"201398886\", \"201398886\", \"201398886\", \"201398886\", \"201377376\", \"201377376\", \"201377376\", \"201377376\", \"201390828\", \"201390828\", \"201390828\", \"201390828\", \"201373522\", \"201373522\", \"201373522\", \"201373522\", \"201383658\", \"201383658\", \"201383658\", \"201383658\", \"201375254\", \"201375254\", \"201375254\", \"201375254\", \"201378167\", \"201378167\", \"201378167\", \"201378167\"]}, {\"y\": [3.0791812460476247, 3.0791812460476247, 3.0791812460476247, 3.0791812460476247, 3.0791812460476247, 3.0791812460476247, 3.0791812460476247, 3.0791812460476247, 3.0791812460476247, 3.0791812460476247, 3.0791812460476247, 3.0791812460476247, 3.0791812460476247, 3.0791812460476247, 3.0791812460476247, 3.0791812460476247, 3.0791812460476247, 3.0791812460476247, 3.0791812460476247, 3.0791812460476247, 3.0791812460476247, 3.0791812460476247, 3.0791812460476247, 3.0791812460476247, 3.0791812460476247, 3.0791812460476247, 3.0791812460476247, 3.0791812460476247, 3.0791812460476247, 3.0791812460476247, 3.0791812460476247, 3.0791812460476247, 3.0791812460476247, 3.0791812460476247, 3.0791812460476247, 3.0791812460476247, 3.0791812460476247, 3.0791812460476247, 3.0791812460476247, 3.0791812460476247, 3.0791812460476247, 3.0791812460476247, 3.0791812460476247, 3.0791812460476247, 3.0791812460476247, 3.0791812460476247, 3.0791812460476247, 3.0791812460476247, 3.0791812460476247, 3.0791812460476247, 3.0791812460476247, 3.0791812460476247, 3.0791812460476247, 3.0791812460476247, 3.0791812460476247, 3.0791812460476247, 3.0791812460476247, 3.0791812460476247, 3.0791812460476247, 3.0791812460476247], \"name\": \"up @ Bonferroni 0.05\", \"type\": \"scatter\", \"mode\": \"lines\", \"x\": [\"201380608\", \"201380608\", \"201380608\", \"201380608\", \"201384348\", \"201384348\", \"201384348\", \"201384348\", \"201379465\", \"201379465\", \"201379465\", \"201379465\", \"201396335\", \"201396335\", \"201396335\", \"201396335\", \"201379335\", \"201379335\", \"201379335\", \"201379335\", \"201398190\", \"201398190\", \"201398190\", \"201398190\", \"201382188\", \"201382188\", \"201382188\", \"201382188\", \"201378311\", \"201378311\", \"201378311\", \"201378311\", \"201398886\", \"201398886\", \"201398886\", \"201398886\", \"201377376\", \"201377376\", \"201377376\", \"201377376\", \"201390828\", \"201390828\", \"201390828\", \"201390828\", \"201373522\", \"201373522\", \"201373522\", \"201373522\", \"201383658\", \"201383658\", \"201383658\", \"201383658\", \"201375254\", \"201375254\", \"201375254\", \"201375254\", \"201378167\", \"201378167\", \"201378167\", \"201378167\"]}, {\"y\": [-1.301029995663981, -1.301029995663981, -1.301029995663981, -1.301029995663981, -1.301029995663981, -1.301029995663981, -1.301029995663981, -1.301029995663981, -1.301029995663981, -1.301029995663981, -1.301029995663981, -1.301029995663981, -1.301029995663981, -1.301029995663981, -1.301029995663981, -1.301029995663981, -1.301029995663981, -1.301029995663981, -1.301029995663981, -1.301029995663981, -1.301029995663981, -1.301029995663981, -1.301029995663981, -1.301029995663981, -1.301029995663981, -1.301029995663981, -1.301029995663981, -1.301029995663981, -1.301029995663981, -1.301029995663981, -1.301029995663981, -1.301029995663981, -1.301029995663981, -1.301029995663981, -1.301029995663981, -1.301029995663981, -1.301029995663981, -1.301029995663981, -1.301029995663981, -1.301029995663981, -1.301029995663981, -1.301029995663981, -1.301029995663981, -1.301029995663981, -1.301029995663981, -1.301029995663981, -1.301029995663981, -1.301029995663981, -1.301029995663981, -1.301029995663981, -1.301029995663981, -1.301029995663981, -1.301029995663981, -1.301029995663981, -1.301029995663981, -1.301029995663981, -1.301029995663981, -1.301029995663981, -1.301029995663981, -1.301029995663981], \"name\": \"down @ 0.05\", \"type\": \"scatter\", \"mode\": \"lines\", \"x\": [\"201380608\", \"201380608\", \"201380608\", \"201380608\", \"201384348\", \"201384348\", \"201384348\", \"201384348\", \"201379465\", \"201379465\", \"201379465\", \"201379465\", \"201396335\", \"201396335\", \"201396335\", \"201396335\", \"201379335\", \"201379335\", \"201379335\", \"201379335\", \"201398190\", \"201398190\", \"201398190\", \"201398190\", \"201382188\", \"201382188\", \"201382188\", \"201382188\", \"201378311\", \"201378311\", \"201378311\", \"201378311\", \"201398886\", \"201398886\", \"201398886\", \"201398886\", \"201377376\", \"201377376\", \"201377376\", \"201377376\", \"201390828\", \"201390828\", \"201390828\", \"201390828\", \"201373522\", \"201373522\", \"201373522\", \"201373522\", \"201383658\", \"201383658\", \"201383658\", \"201383658\", \"201375254\", \"201375254\", \"201375254\", \"201375254\", \"201378167\", \"201378167\", \"201378167\", \"201378167\"]}, {\"y\": [-3.0791812460476247, -3.0791812460476247, -3.0791812460476247, -3.0791812460476247, -3.0791812460476247, -3.0791812460476247, -3.0791812460476247, -3.0791812460476247, -3.0791812460476247, -3.0791812460476247, -3.0791812460476247, -3.0791812460476247, -3.0791812460476247, -3.0791812460476247, -3.0791812460476247, -3.0791812460476247, -3.0791812460476247, -3.0791812460476247, -3.0791812460476247, -3.0791812460476247, -3.0791812460476247, -3.0791812460476247, -3.0791812460476247, -3.0791812460476247, -3.0791812460476247, -3.0791812460476247, -3.0791812460476247, -3.0791812460476247, -3.0791812460476247, -3.0791812460476247, -3.0791812460476247, -3.0791812460476247, -3.0791812460476247, -3.0791812460476247, -3.0791812460476247, -3.0791812460476247, -3.0791812460476247, -3.0791812460476247, -3.0791812460476247, -3.0791812460476247, -3.0791812460476247, -3.0791812460476247, -3.0791812460476247, -3.0791812460476247, -3.0791812460476247, -3.0791812460476247, -3.0791812460476247, -3.0791812460476247, -3.0791812460476247, -3.0791812460476247, -3.0791812460476247, -3.0791812460476247, -3.0791812460476247, -3.0791812460476247, -3.0791812460476247, -3.0791812460476247, -3.0791812460476247, -3.0791812460476247, -3.0791812460476247, -3.0791812460476247], \"name\": \"down @ Bonferroni 0.05\", \"type\": \"scatter\", \"mode\": \"lines\", \"x\": [\"201380608\", \"201380608\", \"201380608\", \"201380608\", \"201384348\", \"201384348\", \"201384348\", \"201384348\", \"201379465\", \"201379465\", \"201379465\", \"201379465\", \"201396335\", \"201396335\", \"201396335\", \"201396335\", \"201379335\", \"201379335\", \"201379335\", \"201379335\", \"201398190\", \"201398190\", \"201398190\", \"201398190\", \"201382188\", \"201382188\", \"201382188\", \"201382188\", \"201378311\", \"201378311\", \"201378311\", \"201378311\", \"201398886\", \"201398886\", \"201398886\", \"201398886\", \"201377376\", \"201377376\", \"201377376\", \"201377376\", \"201390828\", \"201390828\", \"201390828\", \"201390828\", \"201373522\", \"201373522\", \"201373522\", \"201373522\", \"201383658\", \"201383658\", \"201383658\", \"201383658\", \"201375254\", \"201375254\", \"201375254\", \"201375254\", \"201378167\", \"201378167\", \"201378167\", \"201378167\"]}], {\"title\": \"TNNI1\"}, {\"showLink\": true, \"linkText\": \"Export to plot.ly\"})});</script>"
      ]
     },
     "metadata": {},
     "output_type": "display_data"
    }
   ],
   "source": [
    "name_to_plot(probesets, \"TNNI1\")"
   ]
  },
  {
   "cell_type": "markdown",
   "metadata": {},
   "source": [
    "As you can see, probeset 245089 comes as most strongly underexpressed in our DM1 dataset. We can actually visualise it in ensemble. We can search for \"245089\" in ensemble at it returns an Affymetrix oligo probe. There's a little bit of configuration that has to be done to make this work nicely with ensemble, specifically one has to turn on Affy HuEx 1 st v2 oligo probe (with labels!). This is the sort of view I can get in ensemble"
   ]
  },
  {
   "cell_type": "markdown",
   "metadata": {},
   "source": [
    "![title](ensemble_TNNI1.png)"
   ]
  },
  {
   "cell_type": "markdown",
   "metadata": {},
   "source": [
    "The biological interpretation of this data would be that the transcript TNNI1-203 is less prevalent in muscle biopsies of people with more advanced DM1."
   ]
  },
  {
   "cell_type": "markdown",
   "metadata": {},
   "source": [
    "# Other plots"
   ]
  },
  {
   "cell_type": "markdown",
   "metadata": {},
   "source": [
    "TBC"
   ]
  },
  {
   "cell_type": "code",
   "execution_count": null,
   "metadata": {},
   "outputs": [],
   "source": []
  }
 ],
 "metadata": {
  "kernelspec": {
   "display_name": "Python 3",
   "language": "python",
   "name": "python3"
  },
  "language_info": {
   "codemirror_mode": {
    "name": "ipython",
    "version": 3
   },
   "file_extension": ".py",
   "mimetype": "text/x-python",
   "name": "python",
   "nbconvert_exporter": "python",
   "pygments_lexer": "ipython3",
   "version": "3.5.2"
  }
 },
 "nbformat": 4,
 "nbformat_minor": 2
}
